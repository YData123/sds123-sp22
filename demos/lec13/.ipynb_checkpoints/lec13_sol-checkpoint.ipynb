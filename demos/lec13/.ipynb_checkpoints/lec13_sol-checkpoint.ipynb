{
 "cells": [
  {
   "cell_type": "code",
   "execution_count": 2,
   "metadata": {},
   "outputs": [],
   "source": [
    "from datascience import *\n",
    "import numpy as np\n",
    "\n",
    "%matplotlib inline\n",
    "import matplotlib.pyplot as plots\n",
    "plots.style.use('fivethirtyeight')"
   ]
  },
  {
   "cell_type": "markdown",
   "metadata": {},
   "source": [
    "## Review: Comparisons"
   ]
  },
  {
   "cell_type": "code",
   "execution_count": null,
   "metadata": {},
   "outputs": [],
   "source": [
    "# testing basic equality\n",
    "3 == 3"
   ]
  },
  {
   "cell_type": "code",
   "execution_count": null,
   "metadata": {},
   "outputs": [],
   "source": [
    "# using the \"and\" and \"or\" operators to link Boolean statements\n",
    "x = 3\n",
    "y = 7\n",
    "\n",
    "x <= 3 and y >= 7"
   ]
  },
  {
   "cell_type": "code",
   "execution_count": null,
   "metadata": {},
   "outputs": [],
   "source": [
    "# We can also compare strings\n",
    "\"my string\" == \"my string\""
   ]
  },
  {
   "cell_type": "code",
   "execution_count": null,
   "metadata": {},
   "outputs": [],
   "source": [
    "\"cat\" < \"catastrophe\""
   ]
  },
  {
   "cell_type": "markdown",
   "metadata": {},
   "source": [
    "## Comparisons with arrays\n",
    "\n",
    "We can do comparisons across arrays as well. "
   ]
  },
  {
   "cell_type": "code",
   "execution_count": null,
   "metadata": {},
   "outputs": [],
   "source": [
    "pets = make_array('cat', 'dog', 'cat', 'cat', 'dog', 'rabbit')\n",
    "pets"
   ]
  },
  {
   "cell_type": "code",
   "execution_count": null,
   "metadata": {},
   "outputs": [],
   "source": [
    "# find all the dogs\n",
    "pets == 'dog'"
   ]
  },
  {
   "cell_type": "code",
   "execution_count": null,
   "metadata": {},
   "outputs": [],
   "source": [
    "# True's are treated as one's and False's are treated as 0's \n",
    "True == 1"
   ]
  },
  {
   "cell_type": "code",
   "execution_count": null,
   "metadata": {},
   "outputs": [],
   "source": [
    "# Since True's are treated as one's and False's are treated as 0's we can sum Boolean arrays\n",
    "# 0 + 1 + 0 + 0 + 1 + 0\n",
    "sum(make_array(False, True, False, False, True, False))"
   ]
  },
  {
   "cell_type": "code",
   "execution_count": null,
   "metadata": {},
   "outputs": [],
   "source": [
    "# counting how many dogs there are by summing the number of Trues\n",
    "sum(pets == 'dog')"
   ]
  },
  {
   "cell_type": "code",
   "execution_count": null,
   "metadata": {},
   "outputs": [],
   "source": [
    "# we can alternatively use the np.count_nonzero() function to count Trues\n",
    "np.count_nonzero(pets == 'dog')"
   ]
  },
  {
   "cell_type": "code",
   "execution_count": null,
   "metadata": {},
   "outputs": [],
   "source": [
    "# we can use great than comparisons with arrays of strings as well\n",
    "pets > 'cat'"
   ]
  },
  {
   "cell_type": "code",
   "execution_count": null,
   "metadata": {},
   "outputs": [],
   "source": [
    "sum(pets > 'cat')"
   ]
  },
  {
   "cell_type": "code",
   "execution_count": null,
   "metadata": {},
   "outputs": [],
   "source": [
    "# create some data\n",
    "terms = Table().with_column('Semester', np.arange(1, 9))\n",
    "terms"
   ]
  },
  {
   "cell_type": "code",
   "execution_count": null,
   "metadata": {},
   "outputs": [],
   "source": [
    "# selecting rows with a predicate\n",
    "terms.where(\"Semester\", are.above(6))"
   ]
  },
  {
   "cell_type": "code",
   "execution_count": null,
   "metadata": {},
   "outputs": [],
   "source": [
    "# selecting rows which a Boolean list\n",
    "terms.where([False, False, False, False, False, False, True, True])"
   ]
  },
  {
   "cell_type": "markdown",
   "metadata": {},
   "source": [
    "## Conditional Statements "
   ]
  },
  {
   "cell_type": "code",
   "execution_count": 4,
   "metadata": {},
   "outputs": [],
   "source": [
    "def year_from_semesters(x):\n",
    "    if x <= 0:\n",
    "        return 'Not a valid input'\n",
    "    elif x <= 2:\n",
    "        return 'First Year'\n",
    "    elif x <= 4:\n",
    "        return 'Sophomore'\n",
    "    elif x <= 6:\n",
    "        return 'Junior'\n",
    "    elif x <= 8:\n",
    "        return 'Senior'\n",
    "    else:\n",
    "        return \"NA\""
   ]
  },
  {
   "cell_type": "code",
   "execution_count": null,
   "metadata": {},
   "outputs": [],
   "source": [
    "year_from_semesters(-15.6)"
   ]
  },
  {
   "cell_type": "code",
   "execution_count": null,
   "metadata": {},
   "outputs": [],
   "source": [
    "year_from_semesters(5)"
   ]
  },
  {
   "cell_type": "code",
   "execution_count": null,
   "metadata": {},
   "outputs": [],
   "source": [
    "year_from_semesters(9001)"
   ]
  },
  {
   "cell_type": "code",
   "execution_count": 8,
   "metadata": {},
   "outputs": [
    {
     "data": {
      "text/plain": [
       "array(['First Year', 'First Year', 'Sophomore', 'Sophomore', 'Junior',\n",
       "       'Junior', 'Senior', 'Senior'], dtype='<U10')"
      ]
     },
     "execution_count": 8,
     "metadata": {},
     "output_type": "execute_result"
    }
   ],
   "source": [
    "# appying our function to our terms table\n",
    "year_name = terms.apply(year_from_semesters, \"Semester\")\n",
    "year_name"
   ]
  },
  {
   "cell_type": "code",
   "execution_count": 9,
   "metadata": {},
   "outputs": [
    {
     "data": {
      "text/html": [
       "<table border=\"1\" class=\"dataframe\">\n",
       "    <thead>\n",
       "        <tr>\n",
       "            <th>Semester</th> <th>Year name</th>\n",
       "        </tr>\n",
       "    </thead>\n",
       "    <tbody>\n",
       "        <tr>\n",
       "            <td>1       </td> <td>First Year</td>\n",
       "        </tr>\n",
       "        <tr>\n",
       "            <td>2       </td> <td>First Year</td>\n",
       "        </tr>\n",
       "        <tr>\n",
       "            <td>3       </td> <td>Sophomore </td>\n",
       "        </tr>\n",
       "        <tr>\n",
       "            <td>4       </td> <td>Sophomore </td>\n",
       "        </tr>\n",
       "        <tr>\n",
       "            <td>5       </td> <td>Junior    </td>\n",
       "        </tr>\n",
       "        <tr>\n",
       "            <td>6       </td> <td>Junior    </td>\n",
       "        </tr>\n",
       "        <tr>\n",
       "            <td>7       </td> <td>Senior    </td>\n",
       "        </tr>\n",
       "        <tr>\n",
       "            <td>8       </td> <td>Senior    </td>\n",
       "        </tr>\n",
       "    </tbody>\n",
       "</table>"
      ],
      "text/plain": [
       "Semester | Year name\n",
       "1        | First Year\n",
       "2        | First Year\n",
       "3        | Sophomore\n",
       "4        | Sophomore\n",
       "5        | Junior\n",
       "6        | Junior\n",
       "7        | Senior\n",
       "8        | Senior"
      ]
     },
     "execution_count": 9,
     "metadata": {},
     "output_type": "execute_result"
    }
   ],
   "source": [
    "terms.with_column(\"Year name\", year_name)"
   ]
  },
  {
   "cell_type": "markdown",
   "metadata": {},
   "source": [
    "## Appending Arrays ##"
   ]
  },
  {
   "cell_type": "code",
   "execution_count": 15,
   "metadata": {},
   "outputs": [],
   "source": [
    "# create two arrays\n",
    "first = np.arange(1, 6)\n",
    "second = np.arange(6, 11)"
   ]
  },
  {
   "cell_type": "code",
   "execution_count": 16,
   "metadata": {},
   "outputs": [
    {
     "data": {
      "text/plain": [
       "array([1, 2, 3, 4, 5])"
      ]
     },
     "execution_count": 16,
     "metadata": {},
     "output_type": "execute_result"
    }
   ],
   "source": [
    "first"
   ]
  },
  {
   "cell_type": "code",
   "execution_count": 17,
   "metadata": {},
   "outputs": [
    {
     "data": {
      "text/plain": [
       "array([ 1,  2,  3,  4,  5, 30])"
      ]
     },
     "execution_count": 17,
     "metadata": {},
     "output_type": "execute_result"
    }
   ],
   "source": [
    "# add a number to an array\n",
    "np.append(first, 30)"
   ]
  },
  {
   "cell_type": "code",
   "execution_count": 18,
   "metadata": {},
   "outputs": [
    {
     "data": {
      "text/plain": [
       "array([ 1,  2,  3,  4,  5,  6,  7,  8,  9, 10])"
      ]
     },
     "execution_count": 18,
     "metadata": {},
     "output_type": "execute_result"
    }
   ],
   "source": [
    "# combine two arrays\n",
    "np.append(first, second)"
   ]
  },
  {
   "cell_type": "code",
   "execution_count": 19,
   "metadata": {},
   "outputs": [
    {
     "data": {
      "text/plain": [
       "array([1, 2, 3, 4, 5])"
      ]
     },
     "execution_count": 19,
     "metadata": {},
     "output_type": "execute_result"
    }
   ],
   "source": [
    "# original array unmodified\n",
    "first"
   ]
  },
  {
   "cell_type": "code",
   "execution_count": 20,
   "metadata": {},
   "outputs": [
    {
     "data": {
      "text/plain": [
       "array([ 1,  2,  3,  4,  5,  6,  7,  8,  9, 10])"
      ]
     },
     "execution_count": 20,
     "metadata": {},
     "output_type": "execute_result"
    }
   ],
   "source": [
    "first_second = np.append(first, second)\n",
    "first_second"
   ]
  },
  {
   "cell_type": "markdown",
   "metadata": {},
   "source": [
    "## Random Selection ##"
   ]
  },
  {
   "cell_type": "code",
   "execution_count": 21,
   "metadata": {},
   "outputs": [
    {
     "data": {
      "text/plain": [
       "array(['treatment', 'control'], dtype='<U9')"
      ]
     },
     "execution_count": 21,
     "metadata": {},
     "output_type": "execute_result"
    }
   ],
   "source": [
    "# create values to randomly select from\n",
    "two_groups = make_array('treatment', 'control')\n",
    "two_groups"
   ]
  },
  {
   "cell_type": "code",
   "execution_count": 22,
   "metadata": {
    "scrolled": true
   },
   "outputs": [
    {
     "data": {
      "text/plain": [
       "'control'"
      ]
     },
     "execution_count": 22,
     "metadata": {},
     "output_type": "execute_result"
    }
   ],
   "source": [
    "# randomly select an item\n",
    "np.random.choice(two_groups)"
   ]
  },
  {
   "cell_type": "code",
   "execution_count": 23,
   "metadata": {},
   "outputs": [
    {
     "data": {
      "text/plain": [
       "'treatment'"
      ]
     },
     "execution_count": 23,
     "metadata": {},
     "output_type": "execute_result"
    }
   ],
   "source": [
    "np.random.choice(two_groups)"
   ]
  },
  {
   "cell_type": "code",
   "execution_count": 24,
   "metadata": {},
   "outputs": [
    {
     "data": {
      "text/plain": [
       "array(['treatment', 'control', 'treatment', 'control', 'control',\n",
       "       'treatment', 'control', 'treatment', 'treatment', 'control'],\n",
       "      dtype='<U9')"
      ]
     },
     "execution_count": 24,
     "metadata": {},
     "output_type": "execute_result"
    }
   ],
   "source": [
    "# randomly select 10 items\n",
    "np.random.choice(two_groups, 10)"
   ]
  },
  {
   "cell_type": "code",
   "execution_count": 25,
   "metadata": {},
   "outputs": [
    {
     "data": {
      "text/plain": [
       "50"
      ]
     },
     "execution_count": 25,
     "metadata": {},
     "output_type": "execute_result"
    }
   ],
   "source": [
    "# randomly select 100 items and see how many are in the treatment group\n",
    "sum(np.random.choice(two_groups, 100) == 'treatment')"
   ]
  },
  {
   "cell_type": "code",
   "execution_count": 26,
   "metadata": {},
   "outputs": [
    {
     "data": {
      "text/plain": [
       "45"
      ]
     },
     "execution_count": 26,
     "metadata": {},
     "output_type": "execute_result"
    }
   ],
   "source": [
    "sum(np.random.choice(two_groups, 100) == 'control')"
   ]
  },
  {
   "cell_type": "code",
   "execution_count": 27,
   "metadata": {},
   "outputs": [],
   "source": [
    "# save randomly chosen items to an array\n",
    "outcomes = np.random.choice(two_groups, 10)"
   ]
  },
  {
   "cell_type": "code",
   "execution_count": 28,
   "metadata": {},
   "outputs": [
    {
     "data": {
      "text/plain": [
       "array(['treatment', 'control', 'control', 'treatment', 'treatment',\n",
       "       'treatment', 'control', 'control', 'control', 'treatment'],\n",
       "      dtype='<U9')"
      ]
     },
     "execution_count": 28,
     "metadata": {},
     "output_type": "execute_result"
    }
   ],
   "source": [
    "outcomes"
   ]
  },
  {
   "cell_type": "code",
   "execution_count": 29,
   "metadata": {},
   "outputs": [
    {
     "data": {
      "text/plain": [
       "5"
      ]
     },
     "execution_count": 29,
     "metadata": {},
     "output_type": "execute_result"
    }
   ],
   "source": [
    "sum(outcomes == 'treatment')"
   ]
  },
  {
   "cell_type": "code",
   "execution_count": 30,
   "metadata": {},
   "outputs": [
    {
     "data": {
      "text/plain": [
       "5"
      ]
     },
     "execution_count": 30,
     "metadata": {},
     "output_type": "execute_result"
    }
   ],
   "source": [
    "sum(outcomes == 'control')"
   ]
  },
  {
   "cell_type": "markdown",
   "metadata": {},
   "source": [
    "### A simple experiment \n",
    "\n",
    "Let's simulate flipping 100 coins and counting how many heads we get. "
   ]
  },
  {
   "cell_type": "code",
   "execution_count": 5,
   "metadata": {},
   "outputs": [],
   "source": [
    "# simulating coin flipping \n",
    "coin = ['heads', 'tails']"
   ]
  },
  {
   "cell_type": "code",
   "execution_count": 32,
   "metadata": {},
   "outputs": [
    {
     "data": {
      "text/plain": [
       "'heads'"
      ]
     },
     "execution_count": 32,
     "metadata": {},
     "output_type": "execute_result"
    }
   ],
   "source": [
    "np.random.choice(coin)"
   ]
  },
  {
   "cell_type": "code",
   "execution_count": 33,
   "metadata": {},
   "outputs": [
    {
     "data": {
      "text/plain": [
       "array(['heads', 'heads', 'tails', 'heads', 'tails', 'heads', 'heads',\n",
       "       'tails', 'heads', 'tails', 'tails', 'tails', 'tails', 'tails',\n",
       "       'heads', 'heads', 'tails', 'heads', 'tails', 'heads', 'tails',\n",
       "       'heads', 'tails', 'tails', 'tails', 'tails', 'heads', 'heads',\n",
       "       'tails', 'heads', 'tails', 'heads', 'tails', 'tails', 'heads',\n",
       "       'heads', 'heads', 'heads', 'heads', 'tails', 'tails', 'heads',\n",
       "       'tails', 'heads', 'heads', 'tails', 'heads', 'tails', 'heads',\n",
       "       'heads', 'tails', 'tails', 'tails', 'tails', 'tails', 'heads',\n",
       "       'heads', 'tails', 'heads', 'heads', 'heads', 'tails', 'heads',\n",
       "       'tails', 'tails', 'heads', 'tails', 'heads', 'tails', 'tails',\n",
       "       'heads', 'tails', 'heads', 'tails', 'tails', 'heads', 'tails',\n",
       "       'heads', 'tails', 'tails', 'tails', 'tails', 'tails', 'heads',\n",
       "       'tails', 'tails', 'heads', 'tails', 'tails', 'heads', 'heads',\n",
       "       'tails', 'heads', 'heads', 'tails', 'tails', 'tails', 'tails',\n",
       "       'heads', 'heads'], dtype='<U5')"
      ]
     },
     "execution_count": 33,
     "metadata": {},
     "output_type": "execute_result"
    }
   ],
   "source": [
    "# flip a coin 100 times\n",
    "tosses = np.random.choice(coin, 100)\n",
    "tosses"
   ]
  },
  {
   "cell_type": "code",
   "execution_count": 34,
   "metadata": {},
   "outputs": [
    {
     "data": {
      "text/plain": [
       "46"
      ]
     },
     "execution_count": 34,
     "metadata": {},
     "output_type": "execute_result"
    }
   ],
   "source": [
    "# count how many heads we get\n",
    "sum(tosses == 'heads')"
   ]
  },
  {
   "cell_type": "code",
   "execution_count": 3,
   "metadata": {},
   "outputs": [
    {
     "data": {
      "text/plain": [
       "array([], dtype=float64)"
      ]
     },
     "execution_count": 3,
     "metadata": {},
     "output_type": "execute_result"
    }
   ],
   "source": [
    "# let's simulate repeatedly tossing 100 coins and counting how many heads we get\n",
    "\n",
    "# start with an empty array\n",
    "outcomes = make_array()\n",
    "outcomes"
   ]
  },
  {
   "cell_type": "code",
   "execution_count": 6,
   "metadata": {},
   "outputs": [
    {
     "data": {
      "text/plain": [
       "array([50.])"
      ]
     },
     "execution_count": 6,
     "metadata": {},
     "output_type": "execute_result"
    }
   ],
   "source": [
    "# flip 100 coins, count how many heads we get, and add the total to our array\n",
    "np.append(outcomes, sum(np.random.choice(coin, 100) == 'heads'))"
   ]
  },
  {
   "cell_type": "code",
   "execution_count": 38,
   "metadata": {},
   "outputs": [
    {
     "data": {
      "text/plain": [
       "array([], dtype=float64)"
      ]
     },
     "execution_count": 38,
     "metadata": {},
     "output_type": "execute_result"
    }
   ],
   "source": [
    "outcomes"
   ]
  },
  {
   "cell_type": "code",
   "execution_count": 10,
   "metadata": {},
   "outputs": [
    {
     "data": {
      "text/plain": [
       "array([44., 48., 58., 40.])"
      ]
     },
     "execution_count": 10,
     "metadata": {},
     "output_type": "execute_result"
    }
   ],
   "source": [
    "# we need to assign it back to the array to store the results\n",
    "outcomes = np.append(outcomes, sum(np.random.choice(coin, 100) == 'heads'))\n",
    "outcomes"
   ]
  },
  {
   "cell_type": "markdown",
   "metadata": {},
   "source": [
    "## `For` Statements\n",
    "\n",
    "For loops are useful when we need to repeat a process many times. \n",
    "\n",
    "To better understand how for loops work, it is can be useful to \"unroll\" the loop to see which happens on each iteration of the loop. \n"
   ]
  },
  {
   "cell_type": "code",
   "execution_count": 11,
   "metadata": {},
   "outputs": [
    {
     "name": "stdout",
     "output_type": "stream",
     "text": [
      "0\n",
      "1\n",
      "4\n",
      "9\n"
     ]
    }
   ],
   "source": [
    "for i in np.arange(4):\n",
    "    print(i**2)\n"
   ]
  },
  {
   "cell_type": "code",
   "execution_count": null,
   "metadata": {},
   "outputs": [],
   "source": [
    "# This is the loop \"unrolled\"\n",
    "print(0**2)\n",
    "print(1**2)\n",
    "print(2**2)\n",
    "print(3**2)\n"
   ]
  },
  {
   "cell_type": "code",
   "execution_count": 42,
   "metadata": {},
   "outputs": [],
   "source": [
    "# let's repeatedly flip 100 coins \n",
    "outcomes = make_array()\n",
    "\n",
    "for i in np.arange(10000):    # start with 7\n",
    "    outcomes = np.append(outcomes, sum(np.random.choice(coin, 100) == 'heads'))"
   ]
  },
  {
   "cell_type": "code",
   "execution_count": 43,
   "metadata": {},
   "outputs": [
    {
     "data": {
      "image/png": "[encoded data removed]",
      "text/plain": [
       "<Figure size 432x288 with 1 Axes>"
      ]
     },
     "metadata": {},
     "output_type": "display_data"
    }
   ],
   "source": [
    "# we can visualize how often we get a particular number of heads out of 100 flips\n",
    "Table().with_column(\n",
    "    'Heads in 100 Tosses', outcomes\n",
    ").hist(bins = np.arange(25.5, 75.5))"
   ]
  },
  {
   "cell_type": "markdown",
   "metadata": {},
   "source": [
    "Now you get to try.  Instead of tossing a coin 100 times, suppose you roll TWO 6-sided dice and consider the sum of their outcomes.  \n",
    "What is the estimated **probability** that the sum is less than or equal to 5?  Use 10,000 runs of your experiment to estimate this.\n",
    "Hints:  \n",
    "1.  You will need to define the possible outcomes of 1,...,6\n",
    "2.  Then use the possible outcomes with np.random.choice twice - one for each roll."
   ]
  },
  {
   "cell_type": "code",
   "execution_count": null,
   "metadata": {},
   "outputs": [],
   "source": [
    "\n",
    "\n",
    "\n",
    "\n",
    "\n",
    "\n",
    "\n",
    "\n",
    "\n",
    "\n",
    "\n"
   ]
  },
  {
   "cell_type": "code",
   "execution_count": 44,
   "metadata": {},
   "outputs": [
    {
     "data": {
      "text/plain": [
       "array([1, 2, 3, 4, 5, 6])"
      ]
     },
     "execution_count": 44,
     "metadata": {},
     "output_type": "execute_result"
    }
   ],
   "source": [
    "#Outcomes\n",
    "roll = np.arange(1,7)\n",
    "roll\n"
   ]
  },
  {
   "cell_type": "code",
   "execution_count": 45,
   "metadata": {},
   "outputs": [
    {
     "data": {
      "text/plain": [
       "array([2, 6])"
      ]
     },
     "execution_count": 45,
     "metadata": {},
     "output_type": "execute_result"
    }
   ],
   "source": [
    "#Two rolls\n",
    "np.random.choice(roll,2)"
   ]
  },
  {
   "cell_type": "code",
   "execution_count": 46,
   "metadata": {},
   "outputs": [
    {
     "data": {
      "text/plain": [
       "7"
      ]
     },
     "execution_count": 46,
     "metadata": {},
     "output_type": "execute_result"
    }
   ],
   "source": [
    "#Sum of two rolls\n",
    "sum(np.random.choice(roll,2))"
   ]
  },
  {
   "cell_type": "code",
   "execution_count": 47,
   "metadata": {},
   "outputs": [
    {
     "data": {
      "text/plain": [
       "0.2803"
      ]
     },
     "execution_count": 47,
     "metadata": {},
     "output_type": "execute_result"
    }
   ],
   "source": [
    "#Setup iterations\n",
    "outcomes = make_array()\n",
    "\n",
    "for i in np.arange(10000):\n",
    "    total = sum(np.random.choice(roll,2))\n",
    "    outcomes = np.append(outcomes, total <= 5)\n",
    "    \n",
    "outcomes_average = sum(outcomes)/len(outcomes)\n",
    "outcomes_average\n"
   ]
  },
  {
   "cell_type": "code",
   "execution_count": 48,
   "metadata": {},
   "outputs": [
    {
     "data": {
      "text/plain": [
       "0.2819"
      ]
     },
     "execution_count": 48,
     "metadata": {},
     "output_type": "execute_result"
    }
   ],
   "source": [
    "#Another option\n",
    "roll1 = np.random.choice(roll,10000)\n",
    "roll2 = np.random.choice(roll,10000)\n",
    "total = roll1+roll2\n",
    "outcomes_under_five = total <= 5\n",
    "sum(outcomes_under_five)/len(total)\n",
    "\n"
   ]
  }
 ],
 "metadata": {
  "anaconda-cloud": {},
  "kernelspec": {
   "display_name": "Python 3",
   "language": "python",
   "name": "python3"
  },
  "language_info": {
   "codemirror_mode": {
    "name": "ipython",
    "version": 3
   },
   "file_extension": ".py",
   "mimetype": "text/x-python",
   "name": "python",
   "nbconvert_exporter": "python",
   "pygments_lexer": "ipython3",
   "version": "3.7.3"
  }
 },
 "nbformat": 4,
 "nbformat_minor": 1
}
