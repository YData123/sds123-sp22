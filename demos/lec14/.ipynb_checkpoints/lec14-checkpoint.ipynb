{
 "cells": [
  {
   "cell_type": "code",
   "execution_count": null,
   "metadata": {},
   "outputs": [],
   "source": [
    "from datascience import *\n",
    "import numpy as np\n",
    "\n",
    "%matplotlib inline\n",
    "import matplotlib.pyplot as plots\n",
    "plots.style.use('fivethirtyeight')"
   ]
  },
  {
   "cell_type": "markdown",
   "metadata": {},
   "source": [
    "## For statements and experiments"
   ]
  },
  {
   "cell_type": "code",
   "execution_count": null,
   "metadata": {},
   "outputs": [],
   "source": [
    "cookies = make_array('chocolate chip', 'oatmeal raisin', 'peanut butter')\n",
    "cookies"
   ]
  },
  {
   "cell_type": "code",
   "execution_count": null,
   "metadata": {},
   "outputs": [],
   "source": [
    "for cookie in cookies:\n",
    "    feelings = cookie + ' cookies are delicious!'\n",
    "    print(feelings)"
   ]
  },
  {
   "cell_type": "code",
   "execution_count": null,
   "metadata": {},
   "outputs": [],
   "source": [
    "cookie = cookies.item(0)\n",
    "feelings = cookie + ' cookies are delicious!'\n",
    "print(feelings)"
   ]
  },
  {
   "cell_type": "code",
   "execution_count": null,
   "metadata": {},
   "outputs": [],
   "source": [
    "cookie = cookies.item(1)\n",
    "feelings = cookie + ' cookies are delicious!'\n",
    "print(feelings)"
   ]
  },
  {
   "cell_type": "code",
   "execution_count": null,
   "metadata": {},
   "outputs": [],
   "source": [
    "cookie = cookies.item(2)\n",
    "feelings = cookie + ' cookies are delicious!'\n",
    "print(feelings)"
   ]
  },
  {
   "cell_type": "code",
   "execution_count": null,
   "metadata": {},
   "outputs": [],
   "source": [
    "for cookie in cookies:\n",
    "    if cookie == \"oatmeal raisin\":\n",
    "        feelings = cookie + ' cookies are not delicious!'\n",
    "        print(feelings)\n",
    "    else:\n",
    "        feelings = cookie + ' cookies are delicious!'\n",
    "        print(feelings)"
   ]
  },
  {
   "cell_type": "code",
   "execution_count": null,
   "metadata": {},
   "outputs": [],
   "source": [
    "coin = ['heads', 'tails']"
   ]
  },
  {
   "cell_type": "code",
   "execution_count": null,
   "metadata": {},
   "outputs": [],
   "source": [
    "np.random.choice(coin, 6)"
   ]
  },
  {
   "cell_type": "code",
   "execution_count": null,
   "metadata": {},
   "outputs": [],
   "source": [
    "tosses = np.random.choice(coin, 6)\n",
    "tosses"
   ]
  },
  {
   "cell_type": "code",
   "execution_count": null,
   "metadata": {},
   "outputs": [],
   "source": [
    "sum(tosses == 'heads')"
   ]
  },
  {
   "cell_type": "code",
   "execution_count": null,
   "metadata": {},
   "outputs": [],
   "source": [
    "outcomes = make_array()"
   ]
  },
  {
   "cell_type": "code",
   "execution_count": null,
   "metadata": {},
   "outputs": [],
   "source": [
    "tosses = np.random.choice(coin, 100)\n",
    "outcomes = np.append(outcomes, sum(tosses == 'heads'))\n",
    "outcomes"
   ]
  },
  {
   "cell_type": "code",
   "execution_count": null,
   "metadata": {},
   "outputs": [],
   "source": [
    "outcomes = make_array()\n",
    "for i in np.arange(10000):\n",
    "    tosses = np.random.choice(coin, 100)\n",
    "    outcomes = np.append(outcomes, sum(tosses == 'heads'))\n",
    "    "
   ]
  },
  {
   "cell_type": "code",
   "execution_count": null,
   "metadata": {},
   "outputs": [],
   "source": [
    "outcomes"
   ]
  },
  {
   "cell_type": "code",
   "execution_count": null,
   "metadata": {},
   "outputs": [],
   "source": [
    "outcome_table = Table().with_column(\n",
    "    'Number of heads in 100 tosses',\n",
    "    outcomes\n",
    ")\n",
    "outcome_table.hist(bins=np.arange(25.5, 75.5))"
   ]
  },
  {
   "cell_type": "markdown",
   "metadata": {},
   "source": [
    "## Monty Hall Problem ##"
   ]
  },
  {
   "cell_type": "markdown",
   "metadata": {},
   "source": [
    "From old TV game show from the 1960s called \"Let's Make a Deal\"\n",
    "\n",
    "Contestant is presented three closed doors\n",
    "\n",
    "Behind one door is a fancy car, and goats are behind the other two doors (The contestant does not know which door has the car)\n",
    "\n",
    "Steps of the game:\n",
    "1.  Contestant makes an initial choice of door, but the door stays closed\n",
    "\n",
    "2.  One of the other doors with a goat behind it is opened\n",
    "\n",
    "3.  There are two closed doors remaining (one being the contestant's initial).  The contestant now gets to choose which of the two doors to open.\n",
    "\n",
    "What should the contestant do?  Which door to open if she wants the car?  Stick with her initial choice, or switch to the other door?\n"
   ]
  },
  {
   "cell_type": "code",
   "execution_count": null,
   "metadata": {},
   "outputs": [],
   "source": [
    "hidden_behind_doors = ['first goat', 'second goat', 'car']\n",
    "hidden_behind_doors"
   ]
  },
  {
   "cell_type": "code",
   "execution_count": null,
   "metadata": {},
   "outputs": [],
   "source": [
    "goats = ['first goat', 'second goat']\n",
    "goats"
   ]
  },
  {
   "cell_type": "code",
   "execution_count": null,
   "metadata": {},
   "outputs": [],
   "source": [
    "def other_goat(goat):\n",
    "    if goat == 'first goat':\n",
    "        return 'second goat'\n",
    "    elif goat == 'second goat':\n",
    "        return 'first goat'"
   ]
  },
  {
   "cell_type": "code",
   "execution_count": null,
   "metadata": {},
   "outputs": [],
   "source": [
    "other_goat('first goat')"
   ]
  },
  {
   "cell_type": "code",
   "execution_count": null,
   "metadata": {},
   "outputs": [],
   "source": [
    "other_goat('second goat')"
   ]
  },
  {
   "cell_type": "code",
   "execution_count": null,
   "metadata": {},
   "outputs": [],
   "source": [
    "other_goat('apple')"
   ]
  },
  {
   "cell_type": "code",
   "execution_count": null,
   "metadata": {},
   "outputs": [],
   "source": [
    "def play_monty_hall():\n",
    "    \"\"\"\n",
    "    Returns a list of 3 items:\n",
    "    [contestant's first guess, what Monty reveals, what's behind other door]\n",
    "    \"\"\"\n",
    "    first_guess = np.random.choice(hidden_behind_doors)\n",
    "    \n",
    "    if first_guess == 'first goat':\n",
    "        return [first_guess, 'second goat', 'car']\n",
    "    \n",
    "    elif first_guess == 'second goat':\n",
    "        return [first_guess, 'first goat', 'car']\n",
    "    \n",
    "    elif first_guess == 'car':\n",
    "        reveal = np.random.choice(goats)\n",
    "        return ['car', reveal, other_goat(reveal)]\n"
   ]
  },
  {
   "cell_type": "code",
   "execution_count": null,
   "metadata": {},
   "outputs": [],
   "source": [
    "play_monty_hall()"
   ]
  },
  {
   "cell_type": "code",
   "execution_count": null,
   "metadata": {},
   "outputs": [],
   "source": [
    "results = Table(['Guess', 'Revealed', 'Remaining'])\n",
    "results"
   ]
  },
  {
   "cell_type": "code",
   "execution_count": null,
   "metadata": {
    "scrolled": true
   },
   "outputs": [],
   "source": [
    "results.append(play_monty_hall())"
   ]
  },
  {
   "cell_type": "code",
   "execution_count": null,
   "metadata": {},
   "outputs": [],
   "source": [
    "results"
   ]
  },
  {
   "cell_type": "code",
   "execution_count": null,
   "metadata": {},
   "outputs": [],
   "source": [
    "trials = Table(['Guess', 'Revealed', 'Remaining'])\n",
    "\n",
    "for i in np.arange(10000):\n",
    "    trials.append(play_monty_hall())"
   ]
  },
  {
   "cell_type": "code",
   "execution_count": null,
   "metadata": {},
   "outputs": [],
   "source": [
    "trials"
   ]
  },
  {
   "cell_type": "code",
   "execution_count": null,
   "metadata": {},
   "outputs": [],
   "source": [
    "# Initial guesses are approximately evenly distributed\n",
    "results_g = trials.group('Guess')\n",
    "results_g"
   ]
  },
  {
   "cell_type": "code",
   "execution_count": null,
   "metadata": {},
   "outputs": [],
   "source": [
    "# Switching after the reveal as car approximately 2/3 of the time\n",
    "results_r = trials.group('Remaining')\n",
    "results_r"
   ]
  },
  {
   "cell_type": "code",
   "execution_count": null,
   "metadata": {},
   "outputs": [],
   "source": [
    "both = results_g.join(\"Guess\", results_r, \"Remaining\").relabel(\"Guess\", \"Item\")\n",
    "both.relabel(\"count\", \"Original Guess\").relabel(\"count_2\", \"Remaining Door\")"
   ]
  },
  {
   "cell_type": "code",
   "execution_count": null,
   "metadata": {},
   "outputs": [],
   "source": [
    "both.barh(\"Item\")"
   ]
  },
  {
   "cell_type": "markdown",
   "metadata": {},
   "source": [
    "## Probability:  At Least One Head"
   ]
  },
  {
   "cell_type": "code",
   "execution_count": null,
   "metadata": {},
   "outputs": [],
   "source": [
    "toss = np.arange(1, 51, 1)\n",
    "results = Table().with_columns(\n",
    "    \"Toss\", toss,\n",
    "    \"Chance of at least one Head\", 1 - (1/2)**toss)\n",
    "results"
   ]
  },
  {
   "cell_type": "code",
   "execution_count": null,
   "metadata": {},
   "outputs": [],
   "source": [
    "results.scatter(\"Toss\")"
   ]
  },
  {
   "cell_type": "code",
   "execution_count": null,
   "metadata": {},
   "outputs": [],
   "source": []
  }
 ],
 "metadata": {
  "anaconda-cloud": {},
  "kernelspec": {
   "display_name": "Python 3",
   "language": "python",
   "name": "python3"
  },
  "language_info": {
   "codemirror_mode": {
    "name": "ipython",
    "version": 3
   },
   "file_extension": ".py",
   "mimetype": "text/x-python",
   "name": "python",
   "nbconvert_exporter": "python",
   "pygments_lexer": "ipython3",
   "version": "3.7.3"
  }
 },
 "nbformat": 4,
 "nbformat_minor": 1
}
