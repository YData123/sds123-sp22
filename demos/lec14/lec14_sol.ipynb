{
 "cells": [
  {
   "cell_type": "code",
   "execution_count": null,
   "metadata": {},
   "outputs": [],
   "source": [
    "from datascience import *\n",
    "import numpy as np\n",
    "\n",
    "%matplotlib inline\n",
    "import matplotlib.pyplot as plots\n",
    "plots.style.use('fivethirtyeight')"
   ]
  },
  {
   "cell_type": "markdown",
   "metadata": {},
   "source": [
    "## For statements and experiments"
   ]
  },
  {
   "cell_type": "code",
   "execution_count": null,
   "metadata": {},
   "outputs": [],
   "source": [
    "# let's make some cookies\n",
    "cookies = make_array('chocolate chip', 'oatmeal raisin', 'peanut butter')\n",
    "cookies"
   ]
  },
  {
   "cell_type": "code",
   "execution_count": null,
   "metadata": {},
   "outputs": [],
   "source": [
    "# let's express our feelings about cookies\n",
    "for cookie in cookies:\n",
    "    feelings = cookie + ' cookies are delicious!'\n",
    "    print(feelings)"
   ]
  },
  {
   "cell_type": "code",
   "execution_count": null,
   "metadata": {},
   "outputs": [],
   "source": [
    "# unrolling the loop - first time through\n",
    "cookie = cookies.item(0)\n",
    "feelings = cookie + ' cookies are delicious!'\n",
    "print(feelings)"
   ]
  },
  {
   "cell_type": "code",
   "execution_count": null,
   "metadata": {},
   "outputs": [],
   "source": [
    "# unrolling the loop - second time through\n",
    "cookie = cookies.item(1)\n",
    "feelings = cookie + ' cookies are delicious!'\n",
    "print(feelings)"
   ]
  },
  {
   "cell_type": "code",
   "execution_count": null,
   "metadata": {},
   "outputs": [],
   "source": [
    "# unrolling the loop - third time through\n",
    "cookie = cookies.item(2)\n",
    "feelings = cookie + ' cookies are delicious!'\n",
    "print(feelings)"
   ]
  },
  {
   "cell_type": "code",
   "execution_count": null,
   "metadata": {},
   "outputs": [],
   "source": [
    "# we can add conditional statements inside loops too\n",
    "for cookie in cookies:\n",
    "    if cookie == \"oatmeal raisin\":\n",
    "        feelings = cookie + ' cookies are not delicious!'\n",
    "        print(feelings)\n",
    "    else:\n",
    "        feelings = cookie + ' cookies are delicious!'\n",
    "        print(feelings)"
   ]
  },
  {
   "cell_type": "markdown",
   "metadata": {},
   "source": [
    "### Coin flipping example\n",
    "\n",
    "Suppose you want to assess whether a particular coin is a \"fair\" coin (i.e., there is a 50% chance it will land heads). Suppose you flip the coin 100 times and get 70 heads. Is the convincing evidence that the coin isn't fair? \n",
    "\n",
    "Let's run some simulations to see..."
   ]
  },
  {
   "cell_type": "code",
   "execution_count": null,
   "metadata": {},
   "outputs": [],
   "source": [
    "# create our list of coins\n",
    "coin = ['heads', 'tails']"
   ]
  },
  {
   "cell_type": "code",
   "execution_count": null,
   "metadata": {},
   "outputs": [],
   "source": [
    "# let's flip a coin 6 times\n",
    "np.random.choice(coin, 6)"
   ]
  },
  {
   "cell_type": "code",
   "execution_count": null,
   "metadata": {},
   "outputs": [],
   "source": [
    "# let's save the results of the 6 flips\n",
    "tosses = np.random.choice(coin, 6)\n",
    "tosses"
   ]
  },
  {
   "cell_type": "code",
   "execution_count": null,
   "metadata": {},
   "outputs": [],
   "source": [
    "# and count how many heads we have gotten\n",
    "sum(tosses == 'heads')"
   ]
  },
  {
   "cell_type": "code",
   "execution_count": null,
   "metadata": {},
   "outputs": [],
   "source": [
    "# let's flip a coint 100 times, and accumulate how many heads we get\n",
    "outcomes = make_array()"
   ]
  },
  {
   "cell_type": "code",
   "execution_count": null,
   "metadata": {},
   "outputs": [],
   "source": [
    "# counting how many heads we get in one simulation of 100 flips\n",
    "tosses = np.random.choice(coin, 100)\n",
    "outcomes = np.append(outcomes, sum(tosses == 'heads'))\n",
    "outcomes"
   ]
  },
  {
   "cell_type": "code",
   "execution_count": null,
   "metadata": {},
   "outputs": [],
   "source": [
    "# counting how many heads we get in many simulations of 100 flips\n",
    "outcomes = make_array()\n",
    "for i in np.arange(10000):\n",
    "    tosses = np.random.choice(coin, 100)\n",
    "    outcomes = np.append(outcomes, sum(tosses == 'heads'))"
   ]
  },
  {
   "cell_type": "code",
   "execution_count": null,
   "metadata": {},
   "outputs": [],
   "source": [
    "outcomes"
   ]
  },
  {
   "cell_type": "code",
   "execution_count": null,
   "metadata": {},
   "outputs": [],
   "source": [
    "# let's visualize how frequently we get different numbers of heads\n",
    "outcome_table = Table().with_column(\n",
    "    'Number of heads in 100 tosses',\n",
    "    outcomes\n",
    ")\n",
    "outcome_table.hist(bins=np.arange(25.5, 75.5))"
   ]
  },
  {
   "cell_type": "markdown",
   "metadata": {},
   "source": [
    "## Monty Hall Problem ##"
   ]
  },
  {
   "cell_type": "markdown",
   "metadata": {},
   "source": [
    "From old TV game show from the 1960s called \"Let's Make a Deal\"\n",
    "\n",
    "Contestant is presented three closed doors\n",
    "\n",
    "Behind one door is a fancy car, and goats are behind the other two doors (The contestant does not know which door has the car)\n",
    "\n",
    "Steps of the game:\n",
    "1.  Contestant makes an initial choice of door, but the door stays closed\n",
    "\n",
    "2.  One of the other doors with a goat behind it is opened\n",
    "\n",
    "3.  There are two closed doors remaining (one being the contestant's initial).  The contestant now gets to choose which of the two doors to open.\n",
    "\n",
    "What should the contestant do?  \n",
    "- Stick with her initial choice, or \n",
    "- Switch to the other door?\n"
   ]
  },
  {
   "cell_type": "code",
   "execution_count": null,
   "metadata": {},
   "outputs": [],
   "source": [
    "# without loss of generality, let's assume this is what is hidden behind the doors\n",
    "hidden_behind_doors = ['first goat', 'second goat', 'car']\n",
    "hidden_behind_doors"
   ]
  },
  {
   "cell_type": "code",
   "execution_count": null,
   "metadata": {},
   "outputs": [],
   "source": [
    "# let's make a list containing our two goats\n",
    "goats = ['first goat', 'second goat']\n",
    "goats"
   ]
  },
  {
   "cell_type": "code",
   "execution_count": null,
   "metadata": {},
   "outputs": [],
   "source": [
    "# a useful helper function that returns the other goat \n",
    "#  e.g., if the contestant choices one of the goats, the other goat will be shown by Monty\n",
    "def other_goat(goat):\n",
    "    if goat == 'first goat':\n",
    "        return 'second goat'\n",
    "    elif goat == 'second goat':\n",
    "        return 'first goat'"
   ]
  },
  {
   "cell_type": "code",
   "execution_count": null,
   "metadata": {},
   "outputs": [],
   "source": [
    "# example of the other_goat function in action\n",
    "other_goat('first goat')"
   ]
  },
  {
   "cell_type": "code",
   "execution_count": null,
   "metadata": {},
   "outputs": [],
   "source": [
    "# example of the other_goat function in action\n",
    "other_goat('second goat')"
   ]
  },
  {
   "cell_type": "code",
   "execution_count": null,
   "metadata": {},
   "outputs": [],
   "source": [
    "other_goat('apple')"
   ]
  },
  {
   "cell_type": "code",
   "execution_count": null,
   "metadata": {},
   "outputs": [],
   "source": [
    "# note: this is slightly different than how the textbook does it as here we are returning a table of results after each game. \n",
    "\n",
    "def play_monty_hall():\n",
    "    \"\"\"\n",
    "    Returns a Table of 3 items:\n",
    "    [contestant's first guess, what Monty reveals, what's behind other door]\n",
    "    \"\"\"\n",
    "    \n",
    "    # randomly simulate a contestant's choice \n",
    "    first_guess = np.random.choice(hidden_behind_doors)\n",
    "    \n",
    "    # if the contestant's choice is the first goat, Monty will reveal the 2nd goat, and the car is behind the remaining door\n",
    "    if first_guess == 'first goat':\n",
    "        guess_revealed_remaining = [first_guess, 'second goat', 'car']\n",
    "    \n",
    "    # if the contestant's choice is the second goat, Monty will reveal the 1st goat, and the car is behind the remaining door\n",
    "    elif first_guess == 'second goat':\n",
    "        guess_revealed_remaining = [first_guess, 'first goat', 'car']\n",
    "    \n",
    "    # if the contestant's choice is the car, Monty will pick a random goat, and the other goat is behind the remaining door\n",
    "    elif first_guess == 'car':\n",
    "        reveal = np.random.choice(goats)\n",
    "        guess_revealed_remaining = ['car', reveal, other_goat(reveal)]\n",
    "    \n",
    "    # return a Table that has the initial guess, the choice Monty revealed, and what is behind the remaining (other) door\n",
    "    guess_table = Table(['Guess', 'Revealed', 'Remaining'])\n",
    "    return guess_table.append(guess_revealed_remaining)\n",
    "    "
   ]
  },
  {
   "cell_type": "code",
   "execution_count": null,
   "metadata": {},
   "outputs": [],
   "source": [
    "# let's play a game\n",
    "play_monty_hall()"
   ]
  },
  {
   "cell_type": "code",
   "execution_count": null,
   "metadata": {},
   "outputs": [],
   "source": [
    "# An empty table with the correct results columns\n",
    "results = Table(['Guess', 'Revealed', 'Remaining'])\n",
    "results"
   ]
  },
  {
   "cell_type": "code",
   "execution_count": null,
   "metadata": {
    "scrolled": true
   },
   "outputs": [],
   "source": [
    "# append the results of the current game on to the results table\n",
    "results.append(play_monty_hall())"
   ]
  },
  {
   "cell_type": "code",
   "execution_count": null,
   "metadata": {},
   "outputs": [],
   "source": [
    "# note: tb.append() updates the original table \n",
    "results"
   ]
  },
  {
   "cell_type": "code",
   "execution_count": null,
   "metadata": {},
   "outputs": [],
   "source": [
    "# Let's play the game 10,000 times!\n",
    "games = Table(['Guess', 'Revealed', 'Remaining'])\n",
    "for i in np.arange(10000):\n",
    "    games.append(play_monty_hall())"
   ]
  },
  {
   "cell_type": "code",
   "execution_count": null,
   "metadata": {},
   "outputs": [],
   "source": [
    "games"
   ]
  },
  {
   "cell_type": "code",
   "execution_count": null,
   "metadata": {},
   "outputs": [],
   "source": [
    "# Initial guesses probability of getting a car is...\n",
    "results_g = games.group('Guess')\n",
    "results_g"
   ]
  },
  {
   "cell_type": "code",
   "execution_count": null,
   "metadata": {},
   "outputs": [],
   "source": [
    "# Switching after probability of getting a car is...\n",
    "results_r = games.group('Remaining')\n",
    "results_r"
   ]
  },
  {
   "cell_type": "code",
   "execution_count": null,
   "metadata": {},
   "outputs": [],
   "source": [
    "# let's visually compare the keep original guess vs. switch probabilities of getting a car...\n",
    "both = results_g.join(\"Guess\", results_r, \"Remaining\").relabel(\"Guess\", \"Item\")\n",
    "both.relabel(\"count\", \"Original Guess\").relabel(\"count_2\", \"Remaining Door\")"
   ]
  },
  {
   "cell_type": "code",
   "execution_count": null,
   "metadata": {},
   "outputs": [],
   "source": [
    "both.barh(\"Item\")"
   ]
  },
  {
   "cell_type": "markdown",
   "metadata": {},
   "source": [
    "## Probability\n",
    "\n",
    "Let's calculate the probability of getting at least one head out of *k* coin flips, where *k* goes from 1 to 50."
   ]
  },
  {
   "cell_type": "code",
   "execution_count": null,
   "metadata": {},
   "outputs": [],
   "source": [
    "toss = np.arange(1, 51, 1)\n",
    "results = Table().with_columns(\n",
    "    \"Toss\", toss,\n",
    "    \"Chance of at least one Head\", 1 - (1/2)**toss)\n",
    "results"
   ]
  },
  {
   "cell_type": "code",
   "execution_count": null,
   "metadata": {},
   "outputs": [],
   "source": [
    "# let's visualize the results with a scatter plot\n",
    "results.scatter(\"Toss\")"
   ]
  }
 ],
 "metadata": {
  "anaconda-cloud": {},
  "kernelspec": {
   "display_name": "Python 3",
   "language": "python",
   "name": "python3"
  },
  "language_info": {
   "codemirror_mode": {
    "name": "ipython",
    "version": 3
   },
   "file_extension": ".py",
   "mimetype": "text/x-python",
   "name": "python",
   "nbconvert_exporter": "python",
   "pygments_lexer": "ipython3",
   "version": "3.7.3"
  }
 },
 "nbformat": 4,
 "nbformat_minor": 1
}
