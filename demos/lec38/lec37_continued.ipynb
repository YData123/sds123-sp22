{
 "cells": [
  {
   "cell_type": "code",
   "execution_count": 1,
   "metadata": {},
   "outputs": [],
   "source": [
    "from datascience import *\n",
    "import numpy as np\n",
    "import matplotlib\n",
    "from mpl_toolkits.mplot3d import Axes3D\n",
    "%matplotlib inline\n",
    "import matplotlib.pyplot as plots\n",
    "plots.style.use('fivethirtyeight')"
   ]
  },
  {
   "cell_type": "markdown",
   "metadata": {},
   "source": [
    "### Multiple regression\n",
    "\n",
    "We'll illustrate multiple linear regression using a toy \"Zillow competition\" problem, using a data set of house sales in Ames, Iowa. This example parallels \n",
    "the treatment in [Chapter 17.6](https://www.inferentialthinking.com/chapters/17/6/Multiple_Regression.html) of the book.\n"
   ]
  },
  {
   "cell_type": "code",
   "execution_count": 2,
   "metadata": {},
   "outputs": [
    {
     "data": {
      "text/html": [
       "<table border=\"1\" class=\"dataframe\">\n",
       "    <thead>\n",
       "        <tr>\n",
       "            <th>SalePrice</th> <th>1st Flr SF</th> <th>2nd Flr SF</th> <th>Total Bsmt SF</th> <th>Garage Area</th> <th>Wood Deck SF</th> <th>Open Porch SF</th> <th>Lot Area</th> <th>Year Built</th> <th>Yr Sold</th>\n",
       "        </tr>\n",
       "    </thead>\n",
       "    <tbody>\n",
       "        <tr>\n",
       "            <td>35000    </td> <td>498       </td> <td>0         </td> <td>498          </td> <td>216        </td> <td>0           </td> <td>0            </td> <td>8088    </td> <td>1922      </td> <td>2006   </td>\n",
       "        </tr>\n",
       "        <tr>\n",
       "            <td>39300    </td> <td>334       </td> <td>0         </td> <td>0            </td> <td>0          </td> <td>0           </td> <td>0            </td> <td>5000    </td> <td>1946      </td> <td>2007   </td>\n",
       "        </tr>\n",
       "        <tr>\n",
       "            <td>40000    </td> <td>649       </td> <td>668       </td> <td>649          </td> <td>250        </td> <td>0           </td> <td>54           </td> <td>8500    </td> <td>1920      </td> <td>2008   </td>\n",
       "        </tr>\n",
       "        <tr>\n",
       "            <td>45000    </td> <td>612       </td> <td>0         </td> <td>0            </td> <td>308        </td> <td>0           </td> <td>0            </td> <td>5925    </td> <td>1940      </td> <td>2009   </td>\n",
       "        </tr>\n",
       "        <tr>\n",
       "            <td>52000    </td> <td>729       </td> <td>0         </td> <td>270          </td> <td>0          </td> <td>0           </td> <td>0            </td> <td>4130    </td> <td>1935      </td> <td>2008   </td>\n",
       "        </tr>\n",
       "        <tr>\n",
       "            <td>52500    </td> <td>693       </td> <td>0         </td> <td>693          </td> <td>0          </td> <td>0           </td> <td>20           </td> <td>4118    </td> <td>1941      </td> <td>2006   </td>\n",
       "        </tr>\n",
       "        <tr>\n",
       "            <td>55000    </td> <td>723       </td> <td>363       </td> <td>723          </td> <td>400        </td> <td>0           </td> <td>24           </td> <td>11340   </td> <td>1920      </td> <td>2008   </td>\n",
       "        </tr>\n",
       "        <tr>\n",
       "            <td>55000    </td> <td>796       </td> <td>0         </td> <td>796          </td> <td>0          </td> <td>0           </td> <td>0            </td> <td>3636    </td> <td>1922      </td> <td>2008   </td>\n",
       "        </tr>\n",
       "        <tr>\n",
       "            <td>57625    </td> <td>810       </td> <td>0         </td> <td>0            </td> <td>280        </td> <td>119         </td> <td>24           </td> <td>21780   </td> <td>1910      </td> <td>2009   </td>\n",
       "        </tr>\n",
       "        <tr>\n",
       "            <td>58500    </td> <td>864       </td> <td>0         </td> <td>864          </td> <td>200        </td> <td>0           </td> <td>0            </td> <td>8212    </td> <td>1914      </td> <td>2010   </td>\n",
       "        </tr>\n",
       "    </tbody>\n",
       "</table>\n",
       "<p>... (1992 rows omitted)</p>"
      ],
      "text/plain": [
       "SalePrice | 1st Flr SF | 2nd Flr SF | Total Bsmt SF | Garage Area | Wood Deck SF | Open Porch SF | Lot Area | Year Built | Yr Sold\n",
       "35000     | 498        | 0          | 498           | 216         | 0            | 0             | 8088     | 1922       | 2006\n",
       "39300     | 334        | 0          | 0             | 0           | 0            | 0             | 5000     | 1946       | 2007\n",
       "40000     | 649        | 668        | 649           | 250         | 0            | 54            | 8500     | 1920       | 2008\n",
       "45000     | 612        | 0          | 0             | 308         | 0            | 0             | 5925     | 1940       | 2009\n",
       "52000     | 729        | 0          | 270           | 0           | 0            | 0             | 4130     | 1935       | 2008\n",
       "52500     | 693        | 0          | 693           | 0           | 0            | 20            | 4118     | 1941       | 2006\n",
       "55000     | 723        | 363        | 723           | 400         | 0            | 24            | 11340    | 1920       | 2008\n",
       "55000     | 796        | 0          | 796           | 0           | 0            | 0             | 3636     | 1922       | 2008\n",
       "57625     | 810        | 0          | 0             | 280         | 119          | 24            | 21780    | 1910       | 2009\n",
       "58500     | 864        | 0          | 864           | 200         | 0            | 0             | 8212     | 1914       | 2010\n",
       "... (1992 rows omitted)"
      ]
     },
     "execution_count": 2,
     "metadata": {},
     "output_type": "execute_result"
    }
   ],
   "source": [
    "# Let's just get data from 1 Family houses and a subset of the columns\n",
    "all_sales = Table.read_table('house.csv')\n",
    "sales = all_sales.where('Bldg Type', '1Fam').where('Sale Condition', 'Normal').select(\n",
    "    'SalePrice', '1st Flr SF', '2nd Flr SF', \n",
    "    'Total Bsmt SF', 'Garage Area', \n",
    "    'Wood Deck SF', 'Open Porch SF', 'Lot Area', \n",
    "    'Year Built', 'Yr Sold')\n",
    "sales.sort('SalePrice')"
   ]
  },
  {
   "cell_type": "code",
   "execution_count": 3,
   "metadata": {
    "scrolled": true
   },
   "outputs": [
    {
     "data": {
      "image/png": "[encoded data removed]",
      "text/plain": [
       "<Figure size 432x288 with 1 Axes>"
      ]
     },
     "metadata": {},
     "output_type": "display_data"
    }
   ],
   "source": [
    "# View a histogram of the sale prices\n",
    "sales.hist('SalePrice', bins=32, unit='$')"
   ]
  },
  {
   "cell_type": "code",
   "execution_count": 4,
   "metadata": {},
   "outputs": [
    {
     "data": {
      "image/png": "[encoded data removed]",
      "text/plain": [
       "<Figure size 360x360 with 1 Axes>"
      ]
     },
     "metadata": {},
     "output_type": "display_data"
    }
   ],
   "source": [
    "# View a scatter plot looking at the first floor square footage and price\n",
    "sales.scatter('1st Flr SF', 'SalePrice')"
   ]
  },
  {
   "cell_type": "code",
   "execution_count": 5,
   "metadata": {},
   "outputs": [],
   "source": [
    "# Defining our function to get the correlation\n",
    "def standardize(x):\n",
    "    return (x-np.mean(x))/np.std(x)\n",
    "\n",
    "def correlation(t, col1, col2):\n",
    "    x = standardize(t.column(col1))\n",
    "    y = standardize(t.column(col2))\n",
    "    return np.mean(x*y)\n"
   ]
  },
  {
   "cell_type": "code",
   "execution_count": 6,
   "metadata": {
    "scrolled": true
   },
   "outputs": [
    {
     "data": {
      "text/plain": [
       "0.6424662541030225"
      ]
     },
     "execution_count": 6,
     "metadata": {},
     "output_type": "execute_result"
    }
   ],
   "source": [
    "# Look at the correlation between sales price and first floor square footage\n",
    "correlation(sales, 'SalePrice', '1st Flr SF')"
   ]
  },
  {
   "cell_type": "code",
   "execution_count": 7,
   "metadata": {},
   "outputs": [
    {
     "data": {
      "text/html": [
       "<table border=\"1\" class=\"dataframe\">\n",
       "    <thead>\n",
       "        <tr>\n",
       "            <th>Attribute</th> <th>Correlation with Sale Price</th>\n",
       "        </tr>\n",
       "    </thead>\n",
       "    <tbody>\n",
       "        <tr>\n",
       "            <td>SalePrice    </td> <td>1                          </td>\n",
       "        </tr>\n",
       "        <tr>\n",
       "            <td>1st Flr SF   </td> <td>0.642466                   </td>\n",
       "        </tr>\n",
       "        <tr>\n",
       "            <td>2nd Flr SF   </td> <td>0.357522                   </td>\n",
       "        </tr>\n",
       "        <tr>\n",
       "            <td>Total Bsmt SF</td> <td>0.652979                   </td>\n",
       "        </tr>\n",
       "        <tr>\n",
       "            <td>Garage Area  </td> <td>0.638594                   </td>\n",
       "        </tr>\n",
       "        <tr>\n",
       "            <td>Wood Deck SF </td> <td>0.352699                   </td>\n",
       "        </tr>\n",
       "        <tr>\n",
       "            <td>Open Porch SF</td> <td>0.336909                   </td>\n",
       "        </tr>\n",
       "        <tr>\n",
       "            <td>Lot Area     </td> <td>0.290823                   </td>\n",
       "        </tr>\n",
       "        <tr>\n",
       "            <td>Year Built   </td> <td>0.565165                   </td>\n",
       "        </tr>\n",
       "        <tr>\n",
       "            <td>Yr Sold      </td> <td>0.0259486                  </td>\n",
       "        </tr>\n",
       "    </tbody>\n",
       "</table>"
      ],
      "text/plain": [
       "Attribute     | Correlation with Sale Price\n",
       "SalePrice     | 1\n",
       "1st Flr SF    | 0.642466\n",
       "2nd Flr SF    | 0.357522\n",
       "Total Bsmt SF | 0.652979\n",
       "Garage Area   | 0.638594\n",
       "Wood Deck SF  | 0.352699\n",
       "Open Porch SF | 0.336909\n",
       "Lot Area      | 0.290823\n",
       "Year Built    | 0.565165\n",
       "Yr Sold       | 0.0259486"
      ]
     },
     "execution_count": 7,
     "metadata": {},
     "output_type": "execute_result"
    }
   ],
   "source": [
    "# Get the correlation between all our variables and price\n",
    "r = make_array()\n",
    "for label in sales.labels:\n",
    "    r = np.append(r, correlation(sales, label, 'SalePrice'))\n",
    "\n",
    "corr_table = Table().with_columns('Attribute', sales.labels, 'Correlation with Sale Price', r)\n",
    "corr_table\n"
   ]
  },
  {
   "cell_type": "code",
   "execution_count": 8,
   "metadata": {},
   "outputs": [
    {
     "data": {
      "text/html": [
       "<table border=\"1\" class=\"dataframe\">\n",
       "    <thead>\n",
       "        <tr>\n",
       "            <th>SalePrice</th> <th>1st Flr SF</th> <th>2nd Flr SF</th> <th>Total Bsmt SF</th> <th>Garage Area</th> <th>Wood Deck SF</th> <th>Open Porch SF</th> <th>Lot Area</th> <th>Year Built</th> <th>Yr Sold</th> <th>one</th>\n",
       "        </tr>\n",
       "    </thead>\n",
       "    <tbody>\n",
       "        <tr>\n",
       "            <td>215000   </td> <td>1656      </td> <td>0         </td> <td>1080         </td> <td>528        </td> <td>210         </td> <td>62           </td> <td>31770   </td> <td>1960      </td> <td>2010   </td> <td>1   </td>\n",
       "        </tr>\n",
       "        <tr>\n",
       "            <td>105000   </td> <td>896       </td> <td>0         </td> <td>882          </td> <td>730        </td> <td>140         </td> <td>0            </td> <td>11622   </td> <td>1961      </td> <td>2010   </td> <td>1   </td>\n",
       "        </tr>\n",
       "        <tr>\n",
       "            <td>172000   </td> <td>1329      </td> <td>0         </td> <td>1329         </td> <td>312        </td> <td>393         </td> <td>36           </td> <td>14267   </td> <td>1958      </td> <td>2010   </td> <td>1   </td>\n",
       "        </tr>\n",
       "        <tr>\n",
       "            <td>244000   </td> <td>2110      </td> <td>0         </td> <td>2110         </td> <td>522        </td> <td>0           </td> <td>0            </td> <td>11160   </td> <td>1968      </td> <td>2010   </td> <td>1   </td>\n",
       "        </tr>\n",
       "        <tr>\n",
       "            <td>189900   </td> <td>928       </td> <td>701       </td> <td>928          </td> <td>482        </td> <td>212         </td> <td>34           </td> <td>13830   </td> <td>1997      </td> <td>2010   </td> <td>1   </td>\n",
       "        </tr>\n",
       "        <tr>\n",
       "            <td>195500   </td> <td>926       </td> <td>678       </td> <td>926          </td> <td>470        </td> <td>360         </td> <td>36           </td> <td>9978    </td> <td>1998      </td> <td>2010   </td> <td>1   </td>\n",
       "        </tr>\n",
       "        <tr>\n",
       "            <td>189000   </td> <td>1028      </td> <td>776       </td> <td>994          </td> <td>442        </td> <td>140         </td> <td>60           </td> <td>7500    </td> <td>1999      </td> <td>2010   </td> <td>1   </td>\n",
       "        </tr>\n",
       "        <tr>\n",
       "            <td>175900   </td> <td>763       </td> <td>892       </td> <td>763          </td> <td>440        </td> <td>157         </td> <td>84           </td> <td>10000   </td> <td>1993      </td> <td>2010   </td> <td>1   </td>\n",
       "        </tr>\n",
       "        <tr>\n",
       "            <td>185000   </td> <td>1187      </td> <td>0         </td> <td>1168         </td> <td>420        </td> <td>483         </td> <td>21           </td> <td>7980    </td> <td>1992      </td> <td>2010   </td> <td>1   </td>\n",
       "        </tr>\n",
       "        <tr>\n",
       "            <td>180400   </td> <td>789       </td> <td>676       </td> <td>789          </td> <td>393        </td> <td>0           </td> <td>75           </td> <td>8402    </td> <td>1998      </td> <td>2010   </td> <td>1   </td>\n",
       "        </tr>\n",
       "    </tbody>\n",
       "</table>\n",
       "<p>... (1992 rows omitted)</p>"
      ],
      "text/plain": [
       "SalePrice | 1st Flr SF | 2nd Flr SF | Total Bsmt SF | Garage Area | Wood Deck SF | Open Porch SF | Lot Area | Year Built | Yr Sold | one\n",
       "215000    | 1656       | 0          | 1080          | 528         | 210          | 62            | 31770    | 1960       | 2010    | 1\n",
       "105000    | 896        | 0          | 882           | 730         | 140          | 0             | 11622    | 1961       | 2010    | 1\n",
       "172000    | 1329       | 0          | 1329          | 312         | 393          | 36            | 14267    | 1958       | 2010    | 1\n",
       "244000    | 2110       | 0          | 2110          | 522         | 0            | 0             | 11160    | 1968       | 2010    | 1\n",
       "189900    | 928        | 701        | 928           | 482         | 212          | 34            | 13830    | 1997       | 2010    | 1\n",
       "195500    | 926        | 678        | 926           | 470         | 360          | 36            | 9978     | 1998       | 2010    | 1\n",
       "189000    | 1028       | 776        | 994           | 442         | 140          | 60            | 7500     | 1999       | 2010    | 1\n",
       "175900    | 763        | 892        | 763           | 440         | 157          | 84            | 10000    | 1993       | 2010    | 1\n",
       "185000    | 1187       | 0          | 1168          | 420         | 483          | 21            | 7980     | 1992       | 2010    | 1\n",
       "180400    | 789        | 676        | 789           | 393         | 0            | 75            | 8402     | 1998       | 2010    | 1\n",
       "... (1992 rows omitted)"
      ]
     },
     "execution_count": 8,
     "metadata": {},
     "output_type": "execute_result"
    }
   ],
   "source": [
    "# Add a column of all ones to the data\n",
    "# This will enable us to have an intercept in our regression model\n",
    "sales = sales.with_column('one', np.ones(sales.num_rows))\n",
    "sales\n"
   ]
  },
  {
   "cell_type": "code",
   "execution_count": 9,
   "metadata": {},
   "outputs": [
    {
     "data": {
      "text/plain": [
       "(1001, 1001)"
      ]
     },
     "execution_count": 9,
     "metadata": {},
     "output_type": "execute_result"
    }
   ],
   "source": [
    "# Create training and test splits of our data using the tb.split() method\n",
    "train, test = sales.split(1001)\n",
    "train.num_rows, test.num_rows"
   ]
  },
  {
   "cell_type": "code",
   "execution_count": 10,
   "metadata": {},
   "outputs": [],
   "source": [
    "# Create a function that takes a row and predicts the price based on a vector of coefficents called \"slopes\"\n",
    "def predict(slopes, row):\n",
    "    return sum(slopes * np.array(tuple(row)))\n",
    "    "
   ]
  },
  {
   "cell_type": "code",
   "execution_count": 11,
   "metadata": {},
   "outputs": [
    {
     "name": "stdout",
     "output_type": "stream",
     "text": [
      "Predicting sale price for:\n",
      " Row(1st Flr SF=1872, 2nd Flr SF=0, Total Bsmt SF=1845.0, Garage Area=604.0, Wood Deck SF=197, Open Porch SF=39, Lot Area=10400, Year Built=1988, Yr Sold=2006, one=1.0)\n",
      "\n",
      "Using slopes\n",
      ": [ 9.76231482  9.67422848 10.921628   10.62908058 11.08826668 10.97005804\n",
      " 11.43295163 10.97456835  8.82859287  9.03841028]\n",
      "\n",
      "Result: 205896.97702752572\n"
     ]
    }
   ],
   "source": [
    "# Use row 0 as an example to make predictions on\n",
    "example_row = test.drop('SalePrice').row(0)\n",
    "print('Predicting sale price for:\\n', example_row)\n",
    "\n",
    "# Create random slopes (this should lead to poor predictions)\n",
    "example_slopes = np.random.normal(10, 1, len(example_row))\n",
    "print('\\nUsing slopes\\n:', example_slopes)\n",
    "\n",
    "# The resulting predicted price based on the random slopes\n",
    "print('\\nResult:', predict(example_slopes, example_row))"
   ]
  },
  {
   "cell_type": "code",
   "execution_count": 12,
   "metadata": {},
   "outputs": [
    {
     "name": "stdout",
     "output_type": "stream",
     "text": [
      "241500\n",
      "205896.97702752572\n"
     ]
    }
   ],
   "source": [
    "# Comparing the actual price \n",
    "print(test.column('SalePrice').item(0))\n",
    "\n",
    "# To the predicted price\n",
    "print(predict(example_slopes, example_row))\n"
   ]
  },
  {
   "cell_type": "code",
   "execution_count": 13,
   "metadata": {},
   "outputs": [],
   "source": [
    "# create a function that returns the RMSE for given slopes, features and actual prices\n",
    "def rmse(slopes, attributes, prices):\n",
    "    errors = make_array()\n",
    "    for i in np.arange(len(prices)):\n",
    "        predicted = predict(slopes, attributes.row(i))\n",
    "        actual = prices.item(i)\n",
    "        errors = np.append(errors, (predicted - actual) ** 2)\n",
    "    return np.mean(errors) ** 0.5 "
   ]
  },
  {
   "cell_type": "code",
   "execution_count": 16,
   "metadata": {},
   "outputs": [],
   "source": [
    "# Create training features and training labels\n",
    "train_prices = train.column(0)    # training labels\n",
    "train_attributes = train.drop(0)  # training features\n",
    "\n",
    "# Write a function to get the RMSE for the training data for given array of slopes\n",
    "def rmse_train(slopes):\n",
    "    return rmse(slopes, train_attributes, train_prices)\n",
    "\n",
    "\n",
    "# Get the RMSE for our randomly generated slopes\n",
    "rmse_train(example_slopes)\n"
   ]
  },
  {
   "cell_type": "code",
   "execution_count": 17,
   "metadata": {},
   "outputs": [],
   "source": [
    "# Get the \"best slopes\" by miniming the RMSE\n",
    "\n"
   ]
  },
  {
   "cell_type": "code",
   "execution_count": 18,
   "metadata": {},
   "outputs": [],
   "source": [
    "# Show the best slopes found and the RMSE found on the training data\n",
    "\n",
    "\n",
    "# Can you write out the regression equation? \n",
    "\n"
   ]
  },
  {
   "cell_type": "code",
   "execution_count": 19,
   "metadata": {},
   "outputs": [],
   "source": [
    "# Let's now evaluate the RMSE on the test data\n",
    "\n",
    "\n",
    "\n"
   ]
  },
  {
   "cell_type": "code",
   "execution_count": null,
   "metadata": {},
   "outputs": [],
   "source": []
  },
  {
   "cell_type": "markdown",
   "metadata": {},
   "source": [
    "## Please review the rest of the solutions on your own"
   ]
  },
  {
   "cell_type": "code",
   "execution_count": null,
   "metadata": {},
   "outputs": [],
   "source": []
  },
  {
   "cell_type": "code",
   "execution_count": 21,
   "metadata": {
    "scrolled": true
   },
   "outputs": [],
   "source": [
    "# A function that produces predicted values using the \"best slopes\" found by minimizing the RMSE\n",
    "# We will use this function to make \n",
    "def fit(row):\n",
    "    ...\n",
    "\n",
    "\n"
   ]
  },
  {
   "cell_type": "code",
   "execution_count": null,
   "metadata": {},
   "outputs": [],
   "source": [
    "# Add the predicted values to the test set, and visualize how close the predictions are\n",
    "\n",
    "\n"
   ]
  },
  {
   "cell_type": "code",
   "execution_count": null,
   "metadata": {
    "scrolled": true
   },
   "outputs": [],
   "source": [
    "# Create a residual plot to see if there are patterns in the data that are unexplained\n",
    "\n"
   ]
  },
  {
   "cell_type": "code",
   "execution_count": null,
   "metadata": {
    "scrolled": true
   },
   "outputs": [],
   "source": [
    "# Let's try to use nearest neighbor regression rather than a linear classifier...\n",
    "\n",
    "\n"
   ]
  },
  {
   "cell_type": "code",
   "execution_count": null,
   "metadata": {},
   "outputs": [],
   "source": [
    "# Create the functions we need for our nearest neighbor classifier...\n",
    "\n",
    "def distance(pt1, pt2):\n",
    "    \"\"\"The distance between two points, represented as arrays.\"\"\"\n",
    "    return np.sqrt(sum((pt1 - pt2) ** 2))\n",
    "\n",
    "def row_distance(row1, row2):\n",
    "    \"\"\"The distance between two rows of a table.\"\"\"\n",
    "    return distance(np.array(row1), np.array(row2))\n",
    "\n",
    "def distances(training, example, output):\n",
    "    \"\"\"Compute the distance from example for each row in training.\"\"\"\n",
    "    dists = []\n",
    "    attributes = training.drop(output)\n",
    "    for row in attributes.rows:\n",
    "        dists.append(row_distance(row, example))\n",
    "    return training.with_column('Distance', dists)\n",
    "\n",
    "def closest(training, example, k, output):\n",
    "    \"\"\"Return a table of the k closest neighbors to example.\"\"\"\n",
    "    return distances(training, example, output).sort('Distance').take(np.arange(k))\n"
   ]
  },
  {
   "cell_type": "code",
   "execution_count": null,
   "metadata": {},
   "outputs": [],
   "source": [
    "# Let's get the 5 closest houses to the home in the first row of the test set\n",
    "\n",
    "\n"
   ]
  },
  {
   "cell_type": "code",
   "execution_count": null,
   "metadata": {},
   "outputs": [],
   "source": [
    "# Let's create a prediction function that returns the average house value of the most similar houses\n",
    "def predict_nn(example):\n",
    "    \"\"\"Return the majority class among the k nearest neighbors.\"\"\"\n",
    "\n",
    "    \n"
   ]
  },
  {
   "cell_type": "code",
   "execution_count": null,
   "metadata": {},
   "outputs": [],
   "source": [
    "# Print the actual and predicted home price\n",
    "\n"
   ]
  },
  {
   "cell_type": "code",
   "execution_count": null,
   "metadata": {},
   "outputs": [],
   "source": [
    "# Let's calculate the RMSE on the test set for the kNN classifier\n",
    "\n",
    "\n",
    "\n",
    "# Which is better, linear regression of kNN? \n",
    "\n",
    "\n"
   ]
  },
  {
   "cell_type": "code",
   "execution_count": null,
   "metadata": {},
   "outputs": [],
   "source": [
    "# Let's look at the pattern of residuals again\n",
    "\n"
   ]
  }
 ],
 "metadata": {
  "kernelspec": {
   "display_name": "Python 3",
   "language": "python",
   "name": "python3"
  },
  "language_info": {
   "codemirror_mode": {
    "name": "ipython",
    "version": 3
   },
   "file_extension": ".py",
   "mimetype": "text/x-python",
   "name": "python",
   "nbconvert_exporter": "python",
   "pygments_lexer": "ipython3",
   "version": "3.7.3"
  }
 },
 "nbformat": 4,
 "nbformat_minor": 2
}
