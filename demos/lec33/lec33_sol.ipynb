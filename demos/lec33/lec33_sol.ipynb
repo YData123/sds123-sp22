{
 "cells": [
  {
   "cell_type": "code",
   "execution_count": null,
   "metadata": {},
   "outputs": [],
   "source": [
    "from datascience import *\n",
    "import numpy as np\n",
    "import matplotlib\n",
    "%matplotlib inline\n",
    "import matplotlib.pyplot as plots\n",
    "plots.style.use('fivethirtyeight')"
   ]
  },
  {
   "cell_type": "markdown",
   "metadata": {},
   "source": [
    "## Lecture 33"
   ]
  },
  {
   "cell_type": "code",
   "execution_count": null,
   "metadata": {},
   "outputs": [],
   "source": [
    "def standard_units(arr):\n",
    "    return (arr - np.average(arr))/np.std(arr)\n",
    "\n",
    "def correlation(t, x, y):\n",
    "    x_standard = standard_units(t.column(x))\n",
    "    y_standard = standard_units(t.column(y))\n",
    "    return np.average(x_standard * y_standard)\n",
    "\n",
    "def slope(t, x, y):\n",
    "    r = correlation(t, x, y)\n",
    "    y_sd = np.std(t.column(y))\n",
    "    x_sd = np.std(t.column(x))\n",
    "    return r * y_sd / x_sd\n",
    "\n",
    "def intercept(t, x, y):\n",
    "    x_mean = np.mean(t.column(x))\n",
    "    y_mean = np.mean(t.column(y))\n",
    "    return y_mean - slope(t, x, y)*x_mean\n",
    "\n",
    "def get_fitted_values(t, x, y):\n",
    "    \"\"\"Return an array of the regression estimates at all the x values\"\"\"\n",
    "    a = slope(t, x, y)\n",
    "    b = intercept(t, x, y)\n",
    "    return a*t.column(x) + b\n",
    "\n",
    "def get_residuals(t, x, y):\n",
    "    predictions = get_fitted_values(t, x, y)\n",
    "    return t.column(y) - predictions"
   ]
  },
  {
   "cell_type": "markdown",
   "metadata": {},
   "source": [
    "## Root Mean Square Error"
   ]
  },
  {
   "cell_type": "code",
   "execution_count": null,
   "metadata": {},
   "outputs": [],
   "source": [
    "# load demographic data \n",
    "demographics = Table.read_table('district_demographics2016.csv')\n",
    "demographics = demographics.select('College%', 'Median Income')\n",
    "demographics.show(5)"
   ]
  },
  {
   "cell_type": "code",
   "execution_count": null,
   "metadata": {},
   "outputs": [],
   "source": [
    "# Calculate the root mean squared error (RMSE) for the actual residuals\n",
    "RMSE = np.mean(get_residuals(demographics, \"College%\", \"Median Income\") ** 2) ** 0.5\n",
    "RMSE"
   ]
  },
  {
   "cell_type": "code",
   "execution_count": null,
   "metadata": {},
   "outputs": [],
   "source": [
    "# function to calculate the RMSE for any splot and intercept for the demographic data\n",
    "def demographics_rmse(any_slope, any_intercept):\n",
    "    x = demographics.column('College%')\n",
    "    y = demographics.column('Median Income')\n",
    "    estimate = any_slope*x + any_intercept\n",
    "    return (np.mean((y - estimate) ** 2)) ** 0.5"
   ]
  },
  {
   "cell_type": "code",
   "execution_count": null,
   "metadata": {},
   "outputs": [],
   "source": [
    "# show the demographic plot and the RMSE for an arbitrary slope and intercept\n",
    "\n",
    "example_slope = 1500          #  -1000     500\n",
    "example_intercept = 2000      #  75000     20000\n",
    "\n",
    "demographics_rmse(example_slope, example_intercept)"
   ]
  },
  {
   "cell_type": "markdown",
   "metadata": {},
   "source": [
    "## Numerical Optimization"
   ]
  },
  {
   "cell_type": "code",
   "execution_count": null,
   "metadata": {},
   "outputs": [],
   "source": [
    "# An arbitrary function \n",
    "def f(x):\n",
    "    return ((x-2)**2) + 3\n",
    "\n",
    "# plot the function\n",
    "x = np.arange(1, 3, 0.1)\n",
    "y = f(x)\n",
    "Table().with_columns('x', x, 'y', y).plot('x')"
   ]
  },
  {
   "cell_type": "code",
   "execution_count": null,
   "metadata": {},
   "outputs": [],
   "source": [
    "# find the minimum value of the function \n",
    "minimize(f)"
   ]
  },
  {
   "cell_type": "code",
   "execution_count": null,
   "metadata": {},
   "outputs": [],
   "source": [
    "# RMSE for arbitrary slope and intercept\n",
    "demographics_rmse(1500, 20000)"
   ]
  },
  {
   "cell_type": "code",
   "execution_count": null,
   "metadata": {},
   "outputs": [],
   "source": [
    "# Minimize the demographic RMSE\n",
    "minimize(demographics_rmse)"
   ]
  },
  {
   "cell_type": "markdown",
   "metadata": {},
   "source": [
    "What is the regression equation for predicting a county's median income based on the percentage of the population that went to college? \n",
    "\n",
    "Answer:\n",
    "\n",
    "$$\n",
    "\\hat{y} ~ = ~ 1270.7 \\cdot x ~ + ~ 20802.6\n",
    "$$\n"
   ]
  },
  {
   "cell_type": "markdown",
   "metadata": {},
   "source": [
    "## Regression diagnostic plots"
   ]
  },
  {
   "cell_type": "code",
   "execution_count": null,
   "metadata": {},
   "outputs": [],
   "source": [
    "galton = Table.read_table('galton.csv')\n",
    "\n",
    "heights = Table().with_columns(\n",
    "    'MidParent', galton.column('midparentHeight'),\n",
    "    'Child', galton.column('childHeight')\n",
    "    )"
   ]
  },
  {
   "cell_type": "code",
   "execution_count": null,
   "metadata": {},
   "outputs": [],
   "source": [
    "# A function that creates two plots: \n",
    "# 1) A scatter plot of the data and the fitted values\n",
    "# 2) A plot of the residuals as a function of the fitted values\n",
    "def plot_residuals(t, x, y):\n",
    "    tbl = t.with_columns(\n",
    "        'Predicted', get_fitted_values(t, x, y),\n",
    "        'Residual', get_residuals(t, x, y)\n",
    "    )\n",
    "    tbl.select(x, y, 'Predicted').scatter(0)\n",
    "    tbl.scatter(x, 'Residual')"
   ]
  },
  {
   "cell_type": "code",
   "execution_count": null,
   "metadata": {},
   "outputs": [],
   "source": [
    "# Let's apply the function to the Galton data\n",
    "plot_residuals(heights, 'MidParent', 'Child')"
   ]
  },
  {
   "cell_type": "markdown",
   "metadata": {},
   "source": [
    "### US women heights and average weights"
   ]
  },
  {
   "cell_type": "code",
   "execution_count": null,
   "metadata": {},
   "outputs": [],
   "source": [
    "# Height and average weight of US women\n",
    "us_women = Table.read_table('us_women.csv')\n",
    "us_women.show(5)"
   ]
  },
  {
   "cell_type": "code",
   "execution_count": null,
   "metadata": {},
   "outputs": [],
   "source": [
    "# correlation of height and weight\n",
    "correlation(us_women, 'height', 'ave weight')"
   ]
  },
  {
   "cell_type": "code",
   "execution_count": null,
   "metadata": {},
   "outputs": [],
   "source": [
    "# create the residual plots\n",
    "plot_residuals(us_women, 'height', 'ave weight')"
   ]
  },
  {
   "cell_type": "markdown",
   "metadata": {},
   "source": [
    "## Polynomial regression"
   ]
  },
  {
   "cell_type": "markdown",
   "metadata": {},
   "source": [
    "**Quadratic Function**\n",
    "\n",
    "$$\n",
    "f(x) ~=~ ax^2 + bx + c\n",
    "$$\n",
    "for constants $a$, $b$, and $c$."
   ]
  },
  {
   "cell_type": "code",
   "execution_count": null,
   "metadata": {},
   "outputs": [],
   "source": [
    "# A function that returns the RMSE for a quadratic fit to the us women data\n",
    "def us_women_quadratic_rmse(a, b, c):\n",
    "    x = us_women.column('height')\n",
    "    y = us_women.column('ave weight')\n",
    "    estimate = a*(x**2) + b*x + c\n",
    "    return np.mean((y - estimate) ** 2) ** 0.5"
   ]
  },
  {
   "cell_type": "code",
   "execution_count": null,
   "metadata": {},
   "outputs": [],
   "source": [
    "# get the quadratic fit coefficients\n",
    "best_quad = minimize(us_women_quadratic_rmse)\n",
    "best_quad"
   ]
  },
  {
   "cell_type": "markdown",
   "metadata": {},
   "source": [
    "Can you fill in the coefficients in the prediction equation? \n",
    "\n",
    "$$\n",
    "f(x) ~=~ ax^2 + bx + c\n",
    "$$"
   ]
  },
  {
   "cell_type": "code",
   "execution_count": null,
   "metadata": {},
   "outputs": [],
   "source": [
    "# What is the predicted average weight for someone who is 65 inches?\n",
    "best_quad.item(0) * 65**2   +   best_quad.item(1) * 65   +    best_quad.item(2)\n"
   ]
  },
  {
   "cell_type": "code",
   "execution_count": null,
   "metadata": {},
   "outputs": [],
   "source": [
    "# create the fitted values for quadratic\n",
    "heights = us_women.column('height')\n",
    "fitted_values = best_quad.item(0)*(heights**2) + best_quad.item(1)*heights + best_quad.item(2)\n",
    "fitted_values"
   ]
  },
  {
   "cell_type": "code",
   "execution_count": null,
   "metadata": {},
   "outputs": [],
   "source": [
    "# plot the fitted values for the quadratic predictions\n",
    "us_women.with_columns(\"predicted weight\", fitted_values).scatter(\"height\")"
   ]
  },
  {
   "cell_type": "code",
   "execution_count": null,
   "metadata": {},
   "outputs": [],
   "source": [
    "# calculate the residuals\n",
    "residuals = us_women.column('ave weight') - fitted_values\n",
    "residuals"
   ]
  },
  {
   "cell_type": "code",
   "execution_count": null,
   "metadata": {},
   "outputs": [],
   "source": [
    "# plot the residuals\n",
    "Table().with_columns(\"height\", us_women.column('height'),\n",
    "                     \"residuals\", residuals\n",
    ").scatter(\"height\")"
   ]
  },
  {
   "cell_type": "code",
   "execution_count": null,
   "metadata": {},
   "outputs": [],
   "source": [
    "# Are higher order terms needed???\n",
    "# Try a degree 5 polynomial at home!\n",
    "\n",
    "def us_women_5_rmse(a, b, c, d, e, f):\n",
    "    x = us_women.column('height')\n",
    "    y = us_women.column('ave weight')\n",
    "    estimate = a*(x**5) + b*(x)**4  + c*(x)**3 + d*(x)**2  + e*x + f\n",
    "    return np.mean((y - estimate) ** 2) ** 0.5\n",
    "\n",
    "best_order_5 = minimize(us_women_5_rmse)\n",
    "\n",
    "fitted_values5 = best_order_5.item(0)*(heights**5) + best_order_5.item(1)*(heights**4) + best_order_5.item(2)*(heights**3) +  best_order_5.item(3)*(heights**2) + + best_order_5.item(4) * heights + best_order_5.item(5)\n",
    "\n",
    "us_women.with_columns(\"predicted weight\", fitted_values5).scatter(\"height\")"
   ]
  },
  {
   "cell_type": "code",
   "execution_count": null,
   "metadata": {},
   "outputs": [],
   "source": [
    "residuals = us_women.column('ave weight') - fitted_values5\n",
    "residuals\n",
    "\n",
    "Table().with_columns(\"height\", us_women.column('height'),\n",
    "                     \"residuals\", residuals\n",
    ").scatter(\"height\")"
   ]
  },
  {
   "cell_type": "markdown",
   "metadata": {},
   "source": [
    "## Regression and correlation relationships"
   ]
  },
  {
   "cell_type": "markdown",
   "metadata": {},
   "source": [
    "No matter what the shape of the scatter plot, the SD of the fitted values is a fraction of the SD of the observed values of $y$. When the least squares regression line is used, the fraction is |r|.\n",
    "\n",
    "$$\n",
    "\\frac{\\mbox{SD of fitted values}}{\\mbox{SD of }y} ~=~ |r| ~~~~~~~~~~ \\mbox{That is,} ~~ \\mbox{SD of fitted values} = |r|\\cdot \\mbox{SD of }y\n",
    "$$"
   ]
  },
  {
   "cell_type": "code",
   "execution_count": null,
   "metadata": {
    "scrolled": false
   },
   "outputs": [],
   "source": [
    "# load data on fruits\n",
    "fruit = Table.read_table('fruit_baskets.csv')\n",
    "fruit.show(3)"
   ]
  },
  {
   "cell_type": "code",
   "execution_count": null,
   "metadata": {
    "scrolled": true
   },
   "outputs": [],
   "source": [
    "# create a scatter plot visualizing the weight of fruits as a function fo the number of clementines\n",
    "fruit.scatter('Clementines', 'Weight')"
   ]
  },
  {
   "cell_type": "markdown",
   "metadata": {},
   "source": [
    "Let's show that:\n",
    "\n",
    "$$\n",
    "\\frac{\\mbox{SD of fitted values}}{\\mbox{SD of }y} ~=~ |r|\n",
    "$$"
   ]
  },
  {
   "cell_type": "code",
   "execution_count": null,
   "metadata": {},
   "outputs": [],
   "source": [
    "# Get the standard deviation of our y variable (Weight)\n",
    "sd_y = np.std(fruit.column(\"Weight\"))\n",
    "sd_y"
   ]
  },
  {
   "cell_type": "code",
   "execution_count": null,
   "metadata": {},
   "outputs": [],
   "source": [
    "# Get the standard deviation of the fitted values (from predicting weight from the number of clementines)\n",
    "sd_fitted = np.std(get_fitted_values(fruit, 'Clementines', 'Weight'))\n",
    "sd_fitted"
   ]
  },
  {
   "cell_type": "code",
   "execution_count": null,
   "metadata": {},
   "outputs": [],
   "source": [
    "# calculate standard deviation of the residuals over the total standard deviation of weights\n",
    "sd_fitted/sd_y"
   ]
  },
  {
   "cell_type": "code",
   "execution_count": null,
   "metadata": {},
   "outputs": [],
   "source": [
    "# Note this matches the correlation value\n",
    "corr_val = correlation(fruit, 'Clementines', 'Weight')\n",
    "corr_val"
   ]
  },
  {
   "cell_type": "markdown",
   "metadata": {},
   "source": [
    "Let's show that:\n",
    "\n",
    "$$\n",
    "(\\text{SD y})^2 ~ = ~ (\\text{residuals})^2 ~ + ~ (\\text{SD fitted values})^2\n",
    "$$"
   ]
  },
  {
   "cell_type": "code",
   "execution_count": null,
   "metadata": {},
   "outputs": [],
   "source": [
    "# Get the standard deviation of the residuals (from predicting weight from the number of clementines)\n",
    "sd_residuals = np.std(get_residuals(fruit, 'Clementines', 'Weight'))\n",
    "sd_residuals"
   ]
  },
  {
   "cell_type": "code",
   "execution_count": null,
   "metadata": {},
   "outputs": [],
   "source": [
    "# Let's calculate the variance of the fitted values \n",
    "sd_fitted**2 + sd_residuals**2"
   ]
  },
  {
   "cell_type": "code",
   "execution_count": null,
   "metadata": {},
   "outputs": [],
   "source": [
    "# Let's calculate the variance of y\n",
    "sd_y**2"
   ]
  },
  {
   "cell_type": "markdown",
   "metadata": {},
   "source": [
    "## Regression Model \n",
    "\n",
    "Let's examine the relationship between:\n",
    "\n",
    "- True regression line that captures the linear relationship between two variables (green line)\n",
    "- A random sample of n points that come from the underlying linear relationship plus random noise off the regression line\n",
    "- A line fit to the sample of points that approximates the true regression line (i.e., the \"line best fit\" shown in blue)\n",
    "\n",
    "To do this we will use the function `draw_and_compare` defined below that takes three arguments:\n",
    "\n",
    "1. The true slope of a linear relationship between our variables\n",
    "2. The true y-intercept of a linear relationship between our variables\n",
    "3. A sample size (n) of random points that will be used to calculate the \"line of best fit\"\n",
    "\n"
   ]
  },
  {
   "cell_type": "code",
   "execution_count": null,
   "metadata": {},
   "outputs": [],
   "source": [
    "def draw_and_compare(true_slope, true_int, sample_size):\n",
    "    \n",
    "    x = np.random.normal(50, 5, sample_size)\n",
    "    xlims = np.array([np.min(x), np.max(x)])\n",
    "    errors = np.random.normal(0, 6, sample_size)\n",
    "    y = (true_slope * x + true_int) + errors\n",
    "    sample = Table().with_columns('x', x, 'y', y)\n",
    "\n",
    "    sample.scatter('x', 'y')\n",
    "    plots.plot(xlims, true_slope*xlims + true_int, lw=2, color='green')\n",
    "    plots.title('True Line, and Points Created')\n",
    "\n",
    "    sample.scatter('x', 'y')\n",
    "    plots.title('What We Get to See')\n",
    "\n",
    "    sample.scatter('x', 'y', fit_line=True)\n",
    "    plots.title('Regression Line: Estimate of True Line')\n",
    "\n",
    "    sample.scatter('x', 'y', fit_line=True)\n",
    "    plots.plot(xlims, true_slope*xlims + true_int, lw=2, color='green')\n",
    "    plots.title(\"Regression Line and True Line\")"
   ]
  },
  {
   "cell_type": "code",
   "execution_count": null,
   "metadata": {},
   "outputs": [],
   "source": [
    "# have a true slope of 2, an true intercept of -5 and draw 10 random points\n",
    "draw_and_compare(2, -5, 10)"
   ]
  },
  {
   "cell_type": "code",
   "execution_count": null,
   "metadata": {},
   "outputs": [],
   "source": [
    "# have a true slope of 2, an true intercept of -5 and draw 100 random points\n",
    "draw_and_compare(2, -5, 100)"
   ]
  },
  {
   "cell_type": "markdown",
   "metadata": {},
   "source": [
    "## Bootstrap slopes, intercepts and regression lines"
   ]
  },
  {
   "cell_type": "code",
   "execution_count": null,
   "metadata": {},
   "outputs": [],
   "source": [
    "# take a random sample (with replacement) from our original fruit sample and fit a regression line\n",
    "fruit_sample = fruit.sample()\n",
    "fruit_sample.scatter('Clementines', 'Weight', fit_line = True)"
   ]
  },
  {
   "cell_type": "code",
   "execution_count": null,
   "metadata": {},
   "outputs": [],
   "source": [
    "# create a bootstrap distribution for the slope and intercept\n",
    "bootstrap_slopes = make_array()\n",
    "bootstrap_intercepts = make_array()\n",
    "\n",
    "for i in np.arange(1000):\n",
    "    \n",
    "    fruit_sample = fruit.sample()\n",
    "    bootstrap_slopes = np.append(bootstrap_slopes, slope(fruit_sample, 'Clementines', 'Weight'))\n",
    "    bootstrap_intercepts = np.append(bootstrap_intercepts, intercept(fruit_sample, 'Clementines', 'Weight'))\n"
   ]
  },
  {
   "cell_type": "code",
   "execution_count": null,
   "metadata": {},
   "outputs": [],
   "source": [
    "# visualize all the bootstrap lines\n",
    "xlims = make_array(14, 28)\n",
    "\n",
    "for i in np.arange(len(bootstrap_slopes)):\n",
    "    plots.plot(xlims, bootstrap_slopes[i] * xlims + bootstrap_intercepts[i], lw=1, color = \"blue\", alpha = 1);\n",
    "    plots.xlabel(\"Clementines\")\n",
    "    plots.xlabel(\"Weight\")"
   ]
  },
  {
   "cell_type": "code",
   "execution_count": null,
   "metadata": {},
   "outputs": [],
   "source": [
    "# create a 95% confidence interval for the regression slope\n",
    "bootstrap_CI = make_array(percentile(2.5, bootstrap_slopes), percentile(97.5, bootstrap_slopes))\n",
    "bootstrap_CI"
   ]
  },
  {
   "cell_type": "code",
   "execution_count": null,
   "metadata": {},
   "outputs": [],
   "source": [
    "# visualize the bootstrap distribution\n",
    "Table().with_column(\"Bootstrap slopes\", bootstrap_slopes).hist(\"Bootstrap slopes\")\n",
    "plots.plot(bootstrap_CI, [0, 0], color='gold', lw=18);\n",
    "\n",
    "# Question:\n",
    "#  Is a slope of 0 plausible?  \n",
    "#  i.e, no linear association between the number of Clementines and Weight?\n"
   ]
  },
  {
   "cell_type": "markdown",
   "metadata": {},
   "source": [
    "### Question: could you run a hypothesis test assessing whether the regression slope is 0? "
   ]
  },
  {
   "cell_type": "code",
   "execution_count": null,
   "metadata": {},
   "outputs": [],
   "source": [
    "# create a null distribution \n",
    "\n",
    "null_fruit_slopes = make_array()\n",
    "\n",
    "for i in np.arange(1000):\n",
    "    fruit_shuff = fruit.with_column('Weight', fruit.sample(with_replacement = False).column(\"Weight\"))\n",
    "    null_fruit_slopes =  np.append(null_fruit_slopes, slope(fruit_shuff, 'Clementines', 'Weight'))\n",
    "\n"
   ]
  },
  {
   "cell_type": "code",
   "execution_count": null,
   "metadata": {},
   "outputs": [],
   "source": [
    "Table().with_column(\"Null slopes\", null_fruit_slopes).hist(\"Null slopes\", bins = np.arange(-.1, .1, .01))\n",
    "real_slope = slope(fruit, 'Clementines', 'Weight')\n",
    "real_slope"
   ]
  }
 ],
 "metadata": {
  "anaconda-cloud": {},
  "kernelspec": {
   "display_name": "Python 3",
   "language": "python",
   "name": "python3"
  },
  "language_info": {
   "codemirror_mode": {
    "name": "ipython",
    "version": 3
   },
   "file_extension": ".py",
   "mimetype": "text/x-python",
   "name": "python",
   "nbconvert_exporter": "python",
   "pygments_lexer": "ipython3",
   "version": "3.7.3"
  }
 },
 "nbformat": 4,
 "nbformat_minor": 1
}
