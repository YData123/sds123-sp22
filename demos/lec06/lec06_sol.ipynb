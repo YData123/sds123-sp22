{
 "cells": [
  {
   "cell_type": "markdown",
   "metadata": {},
   "source": [
    "# Lecture 6"
   ]
  },
  {
   "cell_type": "code",
   "execution_count": null,
   "metadata": {},
   "outputs": [],
   "source": [
    "from datascience import *\n",
    "import numpy as np\n",
    "\n",
    "%matplotlib inline\n",
    "import matplotlib.pyplot as plots\n",
    "plots.style.use('fivethirtyeight')"
   ]
  },
  {
   "attachments": {},
   "cell_type": "markdown",
   "metadata": {},
   "source": [
    "## Review and continuation Table operations ##\n",
    "\n",
    "Last class we discussed the following table methods which return new Tables as output:\n",
    "\n",
    "1. `tb.select(label)`: constructs a new table with just the specified columns\n",
    "2. `tb.drop(label)`: constructs a new table in which the specified columns are omitted\n",
    "3. `tb.sort(label)`: constructs a new table with rows sorted by the specified column\n",
    "4. `tb.where(label, condition)`: constructs a new table with just the rows that match the condition\n",
    "\n",
    "There are a number of properties we can extract from a Table including:\n",
    "- `num_rows`: returns the number of rows in a Table\n",
    "- `num_columns`: returns the number columns in a Table\n",
    "\n",
    "There are also a number of additional methods for Tables including:\n",
    "- `relabel('column_name', 'new_name')`: returns a table where the column name `'column_name'` is now called `'new_name'`\n",
    "- `take(row_numbers)`:  returns a Table with the selected row numbers\n"
   ]
  },
  {
   "cell_type": "code",
   "execution_count": null,
   "metadata": {},
   "outputs": [],
   "source": [
    "# Load the ice cream data. Each row represents one ice cream cone.\n",
    "cones = Table.read_table('cones.csv')\n",
    "cones\n"
   ]
  },
  {
   "cell_type": "code",
   "execution_count": null,
   "metadata": {},
   "outputs": [],
   "source": [
    "# select only the chocolate cones using the `where` method as we did last class\n",
    "cones.where('Flavor', 'chocolate')\n"
   ]
  },
  {
   "cell_type": "code",
   "execution_count": null,
   "metadata": {},
   "outputs": [],
   "source": [
    "# print the number of rows and columns\n",
    "print(cones.num_rows)\n",
    "print(cones.num_columns)\n"
   ]
  },
  {
   "cell_type": "code",
   "execution_count": null,
   "metadata": {},
   "outputs": [],
   "source": [
    "# relabel a column\n",
    "cones.relabel(\"Flavor\", \"Taste\")"
   ]
  },
  {
   "cell_type": "code",
   "execution_count": null,
   "metadata": {},
   "outputs": [],
   "source": [
    "# extract a row\n",
    "cones.take(0)"
   ]
  },
  {
   "cell_type": "markdown",
   "metadata": {},
   "source": [
    "## Columns of Tables are Arrays ##\n",
    "\n",
    "We can extract columns from a `Table` as either:\n",
    "\n",
    "- A new `Table` with fewer columns using `tb.select()`\n",
    "- An `ndarray` using `tb.column()` \n"
   ]
  },
  {
   "cell_type": "code",
   "execution_count": null,
   "metadata": {},
   "outputs": [],
   "source": [
    "cones.select('Price')  # still a table"
   ]
  },
  {
   "cell_type": "code",
   "execution_count": null,
   "metadata": {},
   "outputs": [],
   "source": [
    "type(cones.select('Price'))"
   ]
  },
  {
   "cell_type": "code",
   "execution_count": null,
   "metadata": {},
   "outputs": [],
   "source": [
    "cones.column('Price') # an array"
   ]
  },
  {
   "cell_type": "code",
   "execution_count": null,
   "metadata": {},
   "outputs": [],
   "source": [
    "type(cones.column('Price'))"
   ]
  },
  {
   "cell_type": "markdown",
   "metadata": {},
   "source": [
    "## Lists\n",
    "\n",
    "Lists are one of the most widely used data structions in Python. They like like ndarrays but they can hold heterogeneous types of data. \n",
    "\n",
    "- We construction lists using square brackets [], where the elements in the list are separated by commas.\n",
    "- We can access the third items in a list called `my_list` using `my_list[2]`.\n"
   ]
  },
  {
   "cell_type": "code",
   "execution_count": null,
   "metadata": {},
   "outputs": [],
   "source": [
    "my_list = [3.0, 21, \"unicorn\", \"pocket_lint\"]\n",
    "\n",
    "my_list"
   ]
  },
  {
   "cell_type": "markdown",
   "metadata": {},
   "source": [
    "## Constructing Tables\n",
    "\n",
    "We have created tables by loading data from comma separated value files (.csv files). We can also create Tables from scratch by using:\n",
    " - `Table()`: constucts an empty Table\n",
    " - `tb.with_columns(\"Name\", array)` adds columns to a Table\n",
    " - `tb.with_row(\"Name\", list)` adds a row to a Table\n",
    "\n",
    "\n",
    "Let's try creating a table that says how many blocks away different streets are from our classroom (now that we are back in person!).\n"
   ]
  },
  {
   "cell_type": "code",
   "execution_count": null,
   "metadata": {},
   "outputs": [],
   "source": [
    "streets = make_array('College', 'Temple', 'Church', 'Orange')\n",
    "streets"
   ]
  },
  {
   "cell_type": "code",
   "execution_count": null,
   "metadata": {},
   "outputs": [],
   "source": [
    "eastside = Table().with_columns(\n",
    "    'Street', streets,\n",
    "    'Blocks from Campus', np.arange(4)\n",
    ")\n",
    "eastside"
   ]
  },
  {
   "cell_type": "code",
   "execution_count": null,
   "metadata": {},
   "outputs": [],
   "source": [
    "type(eastside.row(0))"
   ]
  },
  {
   "cell_type": "code",
   "execution_count": null,
   "metadata": {},
   "outputs": [],
   "source": [
    "eastside = eastside.with_row(['State', 4])\n",
    "eastside"
   ]
  },
  {
   "cell_type": "code",
   "execution_count": null,
   "metadata": {},
   "outputs": [],
   "source": [
    "eastside = eastside.with_column('One-Way', ['No', 'Yes', 'Yes', 'No', 'No'])\n",
    "eastside"
   ]
  },
  {
   "cell_type": "code",
   "execution_count": null,
   "metadata": {},
   "outputs": [],
   "source": [
    "eastside.column('One-Way')"
   ]
  },
  {
   "cell_type": "markdown",
   "metadata": {},
   "source": [
    "## Example: Census data ##\n",
    "\n",
    "The US government conducts a census every 10 years. We can examine the census data to see interesting patterns in the population of people in the United States.\n"
   ]
  },
  {
   "cell_type": "code",
   "execution_count": null,
   "metadata": {},
   "outputs": [],
   "source": [
    "# As of August 2021, this census file is online here: \n",
    "data = 'http://www2.census.gov/programs-surveys/popest/technical-documentation/file-layouts/2010-2019/nc-est2019-agesex-res.csv'\n",
    "\n",
    "# A local copy can be accessed here in case census.gov moves the file:\n",
    "# data = path_data + 'nc-est2019-agesex-res.csv'\n",
    "\n",
    "full = Table.read_table(data)\n",
    "full"
   ]
  },
  {
   "cell_type": "code",
   "execution_count": null,
   "metadata": {},
   "outputs": [],
   "source": [
    "# get a reduced set of columns that we want to analyze further\n",
    "partial = full.select('SEX', 'AGE', 'POPESTIMATE2014', 'POPESTIMATE2019')\n",
    "partial"
   ]
  },
  {
   "cell_type": "code",
   "execution_count": null,
   "metadata": {},
   "outputs": [],
   "source": [
    "# rename the columns to make them easier to work with\n",
    "simple = partial.relabeled('POPESTIMATE2014', '2014').relabeled('POPESTIMATE2019', '2019')\n",
    "simple"
   ]
  },
  {
   "cell_type": "code",
   "execution_count": null,
   "metadata": {},
   "outputs": [],
   "source": [
    "# let's examine the data a little more\n",
    "simple.sort('AGE', descending=True)"
   ]
  },
  {
   "cell_type": "code",
   "execution_count": null,
   "metadata": {},
   "outputs": [],
   "source": [
    "# let's remove the totals (value of 999 in the AGE column)\n",
    "no_999 = simple.where('AGE', are.below(999))\n",
    "no_999.sort(\"AGE\", descending=True)"
   ]
  },
  {
   "cell_type": "code",
   "execution_count": null,
   "metadata": {},
   "outputs": [],
   "source": [
    "# let's split the data into male, female and everyone\n",
    "everyone = no_999.where('SEX', 0).drop('SEX')\n",
    "males = no_999.where('SEX', 1).drop('SEX')\n",
    "females = no_999.where('SEX', 2).drop('SEX')"
   ]
  },
  {
   "cell_type": "code",
   "execution_count": null,
   "metadata": {},
   "outputs": [],
   "source": [
    "females"
   ]
  },
  {
   "cell_type": "code",
   "execution_count": null,
   "metadata": {},
   "outputs": [],
   "source": [
    "# let's see which ages have the most people\n",
    "females.sort('2019', descending=True)"
   ]
  },
  {
   "cell_type": "code",
   "execution_count": null,
   "metadata": {},
   "outputs": [],
   "source": [
    "males.sort('2019', descending=True)"
   ]
  },
  {
   "cell_type": "code",
   "execution_count": null,
   "metadata": {},
   "outputs": [],
   "source": [
    "# let's create a Table with age males and females \n",
    "pop_2019 = Table().with_columns(\n",
    "    'Age', males.column('AGE'),\n",
    "    'Males', males.column('2019'),\n",
    "    'Females', females.column('2019')\n",
    ")"
   ]
  },
  {
   "cell_type": "code",
   "execution_count": null,
   "metadata": {},
   "outputs": [],
   "source": [
    "pop_2019"
   ]
  },
  {
   "cell_type": "code",
   "execution_count": null,
   "metadata": {},
   "outputs": [],
   "source": [
    "# let's add a precent female column to our Table\n",
    "percent_females = 100 * pop_2019.column('Females')/(pop_2019.column('Males') + pop_2019.column('Females'))\n",
    "counts_and_percents = pop_2019.with_column('Percent Female', percent_females)"
   ]
  },
  {
   "cell_type": "code",
   "execution_count": null,
   "metadata": {},
   "outputs": [],
   "source": [
    "counts_and_percents"
   ]
  },
  {
   "cell_type": "markdown",
   "metadata": {},
   "source": [
    "## Line Graphs ##\n",
    "\n",
    "A useful way to visualize data as a function of time is a line plot. We can do this using the `tb.plot('x_col_name', 'y_col_name')` method.\n"
   ]
  },
  {
   "cell_type": "code",
   "execution_count": null,
   "metadata": {},
   "outputs": [],
   "source": [
    "counts_and_percents.plot('Age', 'Percent Female')"
   ]
  },
  {
   "cell_type": "code",
   "execution_count": null,
   "metadata": {},
   "outputs": [],
   "source": [
    "pop_2019"
   ]
  },
  {
   "cell_type": "code",
   "execution_count": null,
   "metadata": {},
   "outputs": [],
   "source": [
    "pop_2019.plot('Age')"
   ]
  },
  {
   "cell_type": "code",
   "execution_count": null,
   "metadata": {},
   "outputs": [],
   "source": [
    "everyone = everyone.with_column(\n",
    "    'Change', everyone.column('2019') - everyone.column('2014')\n",
    ")"
   ]
  },
  {
   "cell_type": "code",
   "execution_count": null,
   "metadata": {},
   "outputs": [],
   "source": [
    "everyone.sort('Change', descending=True)"
   ]
  },
  {
   "cell_type": "code",
   "execution_count": null,
   "metadata": {},
   "outputs": [],
   "source": [
    "pop_growth = everyone.with_column(\n",
    "    'Percent change', everyone.column('Change')/everyone.column('2014'))\n",
    "\n",
    "pop_growth = pop_growth.set_format('Percent change', PercentFormatter)\n",
    "\n",
    "pop_growth.sort('Percent change', descending=True)\n"
   ]
  },
  {
   "cell_type": "code",
   "execution_count": null,
   "metadata": {},
   "outputs": [],
   "source": [
    "# plot percent change - any ideas why larger increases around age 72 and late 90's? \n",
    "pop_growth.plot(\"AGE\", \"Percent change\")\n",
    "\n",
    "# actually plot as percentage rather than proportion\n",
    "# pop_growth.with_column(\"Percent change\", pop_growth.column(\"Percent change\") * 100).plot(\"AGE\", \"Percent change\")"
   ]
  },
  {
   "cell_type": "code",
   "execution_count": null,
   "metadata": {},
   "outputs": [],
   "source": [
    "age_to_examine = 72\n",
    "print(2014 - age_to_examine)  # people who were 72 in 2014 were born in which year? \n",
    "print(2019 - age_to_examine)  # people who were 72 in 2019 were born in which year?  "
   ]
  }
 ],
 "metadata": {
  "anaconda-cloud": {},
  "kernelspec": {
   "display_name": "Python 3",
   "language": "python",
   "name": "python3"
  },
  "language_info": {
   "codemirror_mode": {
    "name": "ipython",
    "version": 3
   },
   "file_extension": ".py",
   "mimetype": "text/x-python",
   "name": "python",
   "nbconvert_exporter": "python",
   "pygments_lexer": "ipython3",
   "version": "3.7.3"
  }
 },
 "nbformat": 4,
 "nbformat_minor": 1
}
