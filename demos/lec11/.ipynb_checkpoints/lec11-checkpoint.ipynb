{
 "cells": [
  {
   "cell_type": "code",
   "execution_count": null,
   "metadata": {},
   "outputs": [],
   "source": [
    "from datascience import *\n",
    "import numpy as np\n",
    "\n",
    "%matplotlib inline\n",
    "import matplotlib.pyplot as plots\n",
    "plots.style.use('fivethirtyeight')"
   ]
  },
  {
   "cell_type": "markdown",
   "metadata": {},
   "source": [
    "## Pivot Tables ##"
   ]
  },
  {
   "cell_type": "code",
   "execution_count": null,
   "metadata": {},
   "outputs": [],
   "source": [
    "all_cones = Table.read_table('cones.csv')\n",
    "all_cones"
   ]
  },
  {
   "cell_type": "code",
   "execution_count": null,
   "metadata": {},
   "outputs": [],
   "source": [
    "all_cones.group(['Flavor', 'Color'])"
   ]
  },
  {
   "cell_type": "code",
   "execution_count": null,
   "metadata": {},
   "outputs": [],
   "source": [
    "all_cones.pivot('Flavor', 'Color')"
   ]
  },
  {
   "cell_type": "code",
   "execution_count": null,
   "metadata": {},
   "outputs": [],
   "source": [
    "all_cones.pivot('Color', 'Flavor')"
   ]
  },
  {
   "cell_type": "code",
   "execution_count": null,
   "metadata": {},
   "outputs": [],
   "source": [
    "all_cones.pivot('Flavor', 'Color', values='Price', collect=np.average)"
   ]
  },
  {
   "cell_type": "code",
   "execution_count": null,
   "metadata": {},
   "outputs": [],
   "source": [
    "all_cones.pivot('Flavor', 'Color', values='Price', collect=list)"
   ]
  },
  {
   "cell_type": "code",
   "execution_count": null,
   "metadata": {},
   "outputs": [],
   "source": [
    "all_cones.pivot('Color', 'Flavor', values='Price', collect=list)"
   ]
  },
  {
   "cell_type": "markdown",
   "metadata": {},
   "source": [
    "## Pivot Examples ##"
   ]
  },
  {
   "cell_type": "code",
   "execution_count": null,
   "metadata": {},
   "outputs": [],
   "source": [
    "# love_at_first_sight = Does love at first sight exist?\n",
    "# number = Pick a number between 0 and 9.\n",
    "# studying = During a typical week, how many hours do you spend studying?\n",
    "# snow_white = Which of the Seven Dwarfs from Snow White are you most like?\n",
    "# ...and so on\n",
    "survey = Table.read_table('survey11.csv')"
   ]
  },
  {
   "cell_type": "code",
   "execution_count": null,
   "metadata": {},
   "outputs": [],
   "source": [
    "survey.show(3)"
   ]
  },
  {
   "cell_type": "code",
   "execution_count": null,
   "metadata": {},
   "outputs": [],
   "source": [
    "survey.pivot('love_at_first_sight', 'year')"
   ]
  },
  {
   "cell_type": "code",
   "execution_count": null,
   "metadata": {},
   "outputs": [],
   "source": [
    "survey.pivot('love_at_first_sight', 'super_power', values=\"number\", collect=np.mean)"
   ]
  },
  {
   "cell_type": "code",
   "execution_count": null,
   "metadata": {},
   "outputs": [],
   "source": [
    " "
   ]
  },
  {
   "cell_type": "code",
   "execution_count": null,
   "metadata": {},
   "outputs": [],
   "source": [
    "nba = Table.read_table('nba_salaries.csv').relabeled(\"'15-'16 SALARY\", 'SALARY')\n",
    "nba"
   ]
  },
  {
   "cell_type": "code",
   "execution_count": null,
   "metadata": {},
   "outputs": [],
   "source": [
    "# For each team, average salary paid for each position\n",
    "nba.pivot('POSITION', 'TEAM', values='SALARY', collect=np.average)"
   ]
  },
  {
   "cell_type": "code",
   "execution_count": null,
   "metadata": {},
   "outputs": [],
   "source": [
    "nba.where('POSITION', 'PF').where('TEAM', 'Detroit Pistons')"
   ]
  },
  {
   "cell_type": "code",
   "execution_count": null,
   "metadata": {},
   "outputs": [],
   "source": [
    "nba.where('POSITION', 'C').where('TEAM', 'Atlanta Hawks').select('SALARY')"
   ]
  },
  {
   "cell_type": "markdown",
   "metadata": {},
   "source": [
    "## Challenge Question\n",
    "Which NBA teams spent the most on their “starters” in 2015-2016?"
   ]
  },
  {
   "cell_type": "code",
   "execution_count": null,
   "metadata": {},
   "outputs": [],
   "source": [
    "nba\n",
    "\n",
    "# If we assume the \"starter\" is the player paid the most in each position, \n",
    "# we can use \"collect = max\"\n",
    "starters = nba.pivot('POSITION', 'TEAM', values='SALARY', collect=max)\n",
    "\n",
    "# Now we need to find the total paid for the starters\n",
    "totals = starters.drop(\"TEAM\").apply(sum)\n",
    "\n",
    "# Add \"totals\" to our \"nba_starters_salaries\" table and sort by total\n",
    "starters.with_column(\"TOTAL\", totals).sort(\"TOTAL\", descending=True)"
   ]
  },
  {
   "cell_type": "code",
   "execution_count": null,
   "metadata": {},
   "outputs": [],
   "source": [
    "# For each team, amount paid to \"starter\" (player earning the most) in each position\n",
    "starters = nba.pivot('POSITION', 'TEAM', values='SALARY', collect=max)\n",
    "starters"
   ]
  },
  {
   "cell_type": "code",
   "execution_count": null,
   "metadata": {},
   "outputs": [],
   "source": [
    "# Sort teams by total amount paid to starters\n",
    "totals = starters.drop('TEAM').apply(sum)"
   ]
  },
  {
   "cell_type": "code",
   "execution_count": null,
   "metadata": {},
   "outputs": [],
   "source": [
    "starters.with_column('TOTAL', totals).sort('TOTAL', descending=True)"
   ]
  },
  {
   "cell_type": "markdown",
   "metadata": {},
   "source": [
    "## Join Examples"
   ]
  },
  {
   "cell_type": "code",
   "execution_count": null,
   "metadata": {},
   "outputs": [],
   "source": [
    "# Make table 1\n",
    "drinks = Table(['Drink', 'Cafe', 'Price']).with_rows([\n",
    "    ['Milk Tea', \"Willoughby's\", 4],\n",
    "    ['Espresso', 'Blue State Coffee',  2],\n",
    "    ['Latte',    'Blue State Coffee',  3],\n",
    "    ['Espresso', 'Koffee?',   2]\n",
    "])\n",
    "drinks"
   ]
  },
  {
   "cell_type": "code",
   "execution_count": null,
   "metadata": {},
   "outputs": [],
   "source": [
    "# Make table 2\n",
    "discounts = Table().with_columns(\n",
    "    'Coupon % off', make_array(25, 50, 5),\n",
    "    'Location', make_array(\"Willoughby's\", 'Blue State Coffee', \"Willoughby's\")\n",
    ")\n",
    "discounts"
   ]
  },
  {
   "cell_type": "code",
   "execution_count": null,
   "metadata": {},
   "outputs": [],
   "source": [
    "combined = drinks.join('Cafe', discounts, 'Location')\n",
    "combined"
   ]
  },
  {
   "cell_type": "code",
   "execution_count": null,
   "metadata": {},
   "outputs": [],
   "source": [
    "discounted_prices = combined.column('Price') * (1 - combined.column('Coupon % off')/ 100)\n",
    "combined.with_column('Discounted', discounted_prices)"
   ]
  },
  {
   "cell_type": "code",
   "execution_count": null,
   "metadata": {},
   "outputs": [],
   "source": [
    "drinks"
   ]
  },
  {
   "cell_type": "code",
   "execution_count": null,
   "metadata": {},
   "outputs": [],
   "source": [
    "# Join table with itself\n",
    "two = drinks.join('Cafe', drinks)\n",
    "two"
   ]
  },
  {
   "cell_type": "code",
   "execution_count": null,
   "metadata": {},
   "outputs": [],
   "source": [
    "two.with_column('Total', two.column('Price') + two.column('Price_2'))"
   ]
  },
  {
   "cell_type": "markdown",
   "metadata": {},
   "source": [
    "#### Join Examples: Tennis"
   ]
  },
  {
   "cell_type": "markdown",
   "metadata": {},
   "source": [
    "There was recently discussion about whether women tennis players get penalized more than men, for coaching violations.  Let's look at some data."
   ]
  },
  {
   "cell_type": "code",
   "execution_count": null,
   "metadata": {},
   "outputs": [],
   "source": [
    "# Data on number of code violations at tennis Grand Slam tournaments, 1998-2018\n",
    "men_violations = Table.read_table('tennis_men_penalties.csv')\n",
    "women_violations = Table.read_table('tennis_women_penalties.csv')"
   ]
  },
  {
   "cell_type": "code",
   "execution_count": null,
   "metadata": {},
   "outputs": [],
   "source": [
    "men_violations"
   ]
  },
  {
   "cell_type": "code",
   "execution_count": null,
   "metadata": {},
   "outputs": [],
   "source": [
    "women_violations"
   ]
  },
  {
   "cell_type": "code",
   "execution_count": null,
   "metadata": {},
   "outputs": [],
   "source": [
    "combined = men_violations.join('Violation', women_violations)\n",
    "combined"
   ]
  },
  {
   "cell_type": "code",
   "execution_count": null,
   "metadata": {},
   "outputs": [],
   "source": [
    "combined.barh('Violation')"
   ]
  },
  {
   "cell_type": "code",
   "execution_count": null,
   "metadata": {},
   "outputs": [],
   "source": [
    "men_sets = 460\n",
    "women_sets = 283\n",
    "normalized = combined.with_columns(\n",
    "    'Rate (Men)', combined.column('Count (Men)') / men_sets,\n",
    "    'Rate (Women)', combined.column('Count (Women)') / women_sets\n",
    ")\n",
    "normalized.drop('Count (Men)', 'Count (Women)').barh('Violation')"
   ]
  },
  {
   "cell_type": "markdown",
   "metadata": {},
   "source": [
    "## Bikes"
   ]
  },
  {
   "cell_type": "code",
   "execution_count": null,
   "metadata": {},
   "outputs": [],
   "source": [
    "###-----Bike rentals in Bay Area from 9/2014-8/2015\n",
    "# Trip ID = ID for the rental\n",
    "# Duration = duration of rental (seconds)\n",
    "# Start date = start date of rental\n",
    "# Start Station = Name of the Start Station \n",
    "# Start Terminal = code for Start Terminal\n",
    "# End Date = end date of rental\n",
    "# End Station = Name of the End Station \n",
    "# End Terminal = code for End Terminal\n",
    "# Bike # = A serial number for the bike\n",
    "# Subscriber Type = \"Customer\" or \"Subscriber\"\n",
    "# Zip code \n",
    "\n",
    "trips = Table.read_table('trip.csv')\n",
    "trips"
   ]
  },
  {
   "cell_type": "code",
   "execution_count": null,
   "metadata": {},
   "outputs": [],
   "source": [
    "# Trips < 1800 seconds (30 min) are free!\n",
    "commute = trips.where('Duration', are.below(1800))\n",
    "commute.hist('Duration')"
   ]
  },
  {
   "cell_type": "code",
   "execution_count": null,
   "metadata": {},
   "outputs": [],
   "source": [
    "commute.hist('Duration', bins=60, unit='second')"
   ]
  },
  {
   "cell_type": "code",
   "execution_count": null,
   "metadata": {},
   "outputs": [],
   "source": [
    "# Most trips between the 250 and 550 range\n",
    "# Rough estimate of percent between 250 and 550  minutes\n",
    "(550-250) * 0.15"
   ]
  },
  {
   "cell_type": "code",
   "execution_count": null,
   "metadata": {},
   "outputs": [],
   "source": [
    "# Smaller/more bins, but general shape of the distributions stays the same\n",
    "commute.hist('Duration', bins=np.arange(1801), unit='second')"
   ]
  },
  {
   "cell_type": "code",
   "execution_count": null,
   "metadata": {},
   "outputs": [],
   "source": [
    "# What is the most frequently used start station?\n",
    "starts = commute.group('Start Station').sort('count', descending=True)\n",
    "starts"
   ]
  },
  {
   "cell_type": "markdown",
   "metadata": {},
   "source": [
    "San Francisco Caltrain Station on Townsend and 4th - place where people who take the train into the city can grab a bike to get to work, etc."
   ]
  },
  {
   "cell_type": "code",
   "execution_count": null,
   "metadata": {},
   "outputs": [],
   "source": [
    "# Pivot can be used to investigate between which stations people are traveling\n",
    "commute.pivot('Start Station', 'End Station')"
   ]
  },
  {
   "cell_type": "markdown",
   "metadata": {},
   "source": [
    "## Shortest trips"
   ]
  },
  {
   "cell_type": "code",
   "execution_count": null,
   "metadata": {},
   "outputs": [],
   "source": [
    "# Look at durations between start and end stations\n",
    "duration = trips.select('Start Station', 'End Station', 'Duration')\n",
    "duration"
   ]
  },
  {
   "cell_type": "code",
   "execution_count": null,
   "metadata": {},
   "outputs": [],
   "source": [
    "# Use the group method and find the minimum duration\n",
    "# One trip started and ended at 2nd at Folsom\n",
    "shortest = duration.group(['Start Station', 'End Station'], min)\n",
    "shortest"
   ]
  },
  {
   "cell_type": "code",
   "execution_count": null,
   "metadata": {},
   "outputs": [],
   "source": [
    "# Civic Center Bart (7th at Market) is a popular location\n",
    "# We can investigate where people are headed from there, along with the shortest trip duration\n",
    "from_cc = shortest.where('Start Station', are.containing('Civic Center BART')).sort('Duration min')\n",
    "from_cc"
   ]
  },
  {
   "cell_type": "markdown",
   "metadata": {},
   "source": [
    "## Maps"
   ]
  },
  {
   "cell_type": "code",
   "execution_count": null,
   "metadata": {},
   "outputs": [],
   "source": [
    "# Locations of each bike station\n",
    "stations = Table.read_table('station.csv').relabel(\"name\",\"labels\")\n",
    "stations"
   ]
  },
  {
   "cell_type": "code",
   "execution_count": null,
   "metadata": {
    "scrolled": true
   },
   "outputs": [],
   "source": [
    "# Draw map where stations are located\n",
    "Marker.map_table(stations.select('lat', 'long', 'labels'))"
   ]
  },
  {
   "cell_type": "code",
   "execution_count": null,
   "metadata": {},
   "outputs": [],
   "source": [
    "sf = stations.where('landmark', 'San Francisco')\n",
    "Circle.map_table(sf.select('lat', 'long', 'labels'), color='green', radius=50)"
   ]
  },
  {
   "cell_type": "code",
   "execution_count": null,
   "metadata": {},
   "outputs": [],
   "source": [
    "# Color the markers according to the landmark\n",
    "colors = stations.group('landmark').with_column(\n",
    "    'colors', make_array('blue', 'red', 'green', 'orange', 'purple'))\n",
    "colors"
   ]
  },
  {
   "cell_type": "code",
   "execution_count": null,
   "metadata": {},
   "outputs": [],
   "source": [
    "stations.join('landmark', colors)"
   ]
  },
  {
   "cell_type": "code",
   "execution_count": null,
   "metadata": {},
   "outputs": [],
   "source": [
    "colored = stations.join('landmark', colors).select('lat', 'long', 'labels', 'colors')\n",
    "Marker.map_table(colored)"
   ]
  },
  {
   "cell_type": "code",
   "execution_count": null,
   "metadata": {},
   "outputs": [],
   "source": [
    "# Recall the counts per Start Station\n",
    "starts"
   ]
  },
  {
   "cell_type": "code",
   "execution_count": null,
   "metadata": {},
   "outputs": [],
   "source": [
    "station_starts = stations.join('labels', starts, 'Start Station')\n",
    "station_starts"
   ]
  },
  {
   "cell_type": "code",
   "execution_count": null,
   "metadata": {},
   "outputs": [],
   "source": [
    "Circle.map_table(station_starts.select('lat', 'long', 'labels').with_columns(\n",
    "    'colors', 'blue',\n",
    "    'areas', station_starts.column('count')\n",
    "))"
   ]
  },
  {
   "cell_type": "code",
   "execution_count": null,
   "metadata": {},
   "outputs": [],
   "source": []
  },
  {
   "cell_type": "code",
   "execution_count": null,
   "metadata": {},
   "outputs": [],
   "source": []
  }
 ],
 "metadata": {
  "kernelspec": {
   "display_name": "Python 3",
   "language": "python",
   "name": "python3"
  },
  "language_info": {
   "codemirror_mode": {
    "name": "ipython",
    "version": 3
   },
   "file_extension": ".py",
   "mimetype": "text/x-python",
   "name": "python",
   "nbconvert_exporter": "python",
   "pygments_lexer": "ipython3",
   "version": "3.7.3"
  }
 },
 "nbformat": 4,
 "nbformat_minor": 2
}
