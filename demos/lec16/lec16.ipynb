{
 "cells": [
  {
   "cell_type": "code",
   "execution_count": null,
   "metadata": {},
   "outputs": [],
   "source": [
    "from datascience import *\n",
    "import numpy as np\n",
    "\n",
    "%matplotlib inline\n",
    "import matplotlib.pyplot as plots\n",
    "plots.style.use('fivethirtyeight')"
   ]
  },
  {
   "cell_type": "markdown",
   "metadata": {},
   "source": [
    "## Review: Probability and empirical distributions ##\n",
    "\n",
    "Let's look at the probability distribution for rolling a fair six-sided die and how the empirical distribution is a good approximation when the sample size gets large. \n"
   ]
  },
  {
   "cell_type": "code",
   "execution_count": null,
   "metadata": {},
   "outputs": [],
   "source": [
    "# Options for a six-side die\n",
    "die = Table().with_column('Face', np.arange(1, 7))\n",
    "die"
   ]
  },
  {
   "cell_type": "code",
   "execution_count": null,
   "metadata": {},
   "outputs": [],
   "source": [
    "# Setup bins for the die options (middle of bin are integers)\n",
    "roll_bins = np.arange(0.5, 6.6, 1)\n",
    "\n",
    "# Theoretical distribution (equal chance for each outcome)\n",
    "die.hist(bins = roll_bins)"
   ]
  },
  {
   "cell_type": "code",
   "execution_count": null,
   "metadata": {},
   "outputs": [],
   "source": [
    "# Empirical distribution based on on different samples sizes\n",
    "# With larger sample sizes, our empirical distribution becomes closer to the probability (population) distribution\n",
    "sample_size = 10  # 100, 1000\n",
    "die.sample(sample_size).hist(bins = roll_bins)"
   ]
  },
  {
   "cell_type": "markdown",
   "metadata": {},
   "source": [
    "## Sampling from the population of United flight delays\n",
    "\n",
    "Let's suppose our population is United Airlines domestic flights departing from San Francisco in the summer of 2015; i.e., United Airlines flights departing from San Francisco from 6/1/15 to 8/9/15.  We can plot the distribution of this population as a histogram. \n",
    "\n",
    "If we take large enough samples from this population, the histogram of these samples (empirical distributions) will resemble the population of all flight delays. \n"
   ]
  },
  {
   "cell_type": "code",
   "execution_count": null,
   "metadata": {},
   "outputs": [],
   "source": [
    "# United Airlines domestic flights departing from San Francisco in the summer of 2015\n",
    "united = Table.read_table('united_summer2015.csv')\n",
    "united = united.with_column('Row', np.arange(united.num_rows)).move_to_start('Row')\n",
    "\n",
    "# Let's get back to the United flight delay data. Recall the column headers:\n",
    "united.show(5)"
   ]
  },
  {
   "cell_type": "code",
   "execution_count": null,
   "metadata": {},
   "outputs": [],
   "source": [
    "# Plot a histogram of the delays. Since we are viewing the delays in the data set as a population, \n",
    "# this is the probability distribution of the delays \n",
    "\n",
    "# (side note: we will be the data using bins at: np.arange(-20, 201, 10)\n",
    "# This binning scheme does not display about 0.8% of the data with extreme delays, \n",
    "# but makes it easier to see the majority of \"shape\" of the probability distribution)\n",
    "\n",
    "united.hist('Delay', bins = np.arange(-20, 201, 10))"
   ]
  },
  {
   "cell_type": "code",
   "execution_count": null,
   "metadata": {},
   "outputs": [],
   "source": [
    "# Another empirical distribution with a sample size of 100\n",
    "united.sample(100).hist('Delay', bins = np.arange(-20, 201, 10))"
   ]
  },
  {
   "cell_type": "markdown",
   "metadata": {},
   "source": [
    "## Empirical sampling distributions via simulating statistics ##\n",
    "\n",
    "Let's view some empirical sampling distributions of the median statistic for the San Francisco flight delays data."
   ]
  },
  {
   "cell_type": "code",
   "execution_count": null,
   "metadata": {},
   "outputs": [],
   "source": [
    "# Considering united as a population\n",
    "# The population median delay is:\n"
   ]
  },
  {
   "cell_type": "code",
   "execution_count": null,
   "metadata": {},
   "outputs": [],
   "source": [
    "# Percentage of data less than or equal to the median\n"
   ]
  },
  {
   "cell_type": "code",
   "execution_count": null,
   "metadata": {},
   "outputs": [],
   "source": [
    "# What if we take a random sample of size 30 - what's the estimated median?\n"
   ]
  },
  {
   "cell_type": "code",
   "execution_count": null,
   "metadata": {},
   "outputs": [],
   "source": [
    "# Simulate the empirical distribution of the median (statistic) using a sample size of 30\n",
    "# We generate 10000 samples of size 30 (there will be 10000 estimates of the median)\n",
    "# This cell takes a few seconds to run\n",
    "\n",
    "\n",
    "\n"
   ]
  },
  {
   "cell_type": "code",
   "execution_count": null,
   "metadata": {},
   "outputs": [],
   "source": [
    "# Display the empirical distribution of the median as a histogram\n"
   ]
  },
  {
   "cell_type": "markdown",
   "metadata": {},
   "source": [
    "## Swain vs. Alabama ##"
   ]
  },
  {
   "cell_type": "code",
   "execution_count": null,
   "metadata": {},
   "outputs": [],
   "source": [
    "# Create the proportions that match the underlying population\n",
    "\n"
   ]
  },
  {
   "cell_type": "code",
   "execution_count": null,
   "metadata": {},
   "outputs": [],
   "source": [
    "# Take a sample of 100 potential jurors and get the proportions from the sample\n"
   ]
  },
  {
   "cell_type": "code",
   "execution_count": null,
   "metadata": {},
   "outputs": [],
   "source": [
    "# Statistic: number of Black men among random sample of 100 men from eligible population\n"
   ]
  },
  {
   "cell_type": "code",
   "execution_count": null,
   "metadata": {},
   "outputs": [],
   "source": [
    "# Simulation: randomly drawing many samples of size 100\n",
    "\n",
    "\n",
    "\n",
    "\n"
   ]
  },
  {
   "cell_type": "code",
   "execution_count": null,
   "metadata": {},
   "outputs": [],
   "source": []
  },
  {
   "cell_type": "code",
   "execution_count": null,
   "metadata": {},
   "outputs": [],
   "source": [
    "# Visualization the distribution of statistics\n",
    "\n",
    "\n",
    "\n"
   ]
  },
  {
   "cell_type": "markdown",
   "metadata": {},
   "source": [
    "## Mendel and Pea Flowers ##"
   ]
  },
  {
   "cell_type": "code",
   "execution_count": null,
   "metadata": {},
   "outputs": [],
   "source": [
    "# Create the proportions that match the underlying population of pea colors\n",
    "\n"
   ]
  },
  {
   "cell_type": "code",
   "execution_count": null,
   "metadata": {},
   "outputs": [],
   "source": [
    "# Draw a sample of 929 plants and calculate proportions of colors\n"
   ]
  },
  {
   "cell_type": "code",
   "execution_count": null,
   "metadata": {},
   "outputs": [],
   "source": [
    "# Statistic: distance between sample percent (of purple plants) and 75\n",
    "\n"
   ]
  },
  {
   "cell_type": "code",
   "execution_count": null,
   "metadata": {},
   "outputs": [],
   "source": [
    "# Simulation: randomly drawing many samples of size 929\n",
    "\n",
    "\n",
    "\n",
    "\n"
   ]
  },
  {
   "cell_type": "code",
   "execution_count": null,
   "metadata": {},
   "outputs": [],
   "source": []
  },
  {
   "cell_type": "code",
   "execution_count": null,
   "metadata": {},
   "outputs": [],
   "source": [
    "# Exam the difference between observed and expected proportions\n",
    "\n"
   ]
  },
  {
   "cell_type": "code",
   "execution_count": null,
   "metadata": {},
   "outputs": [],
   "source": [
    "# Compare observed data to the proportions generated by the model\n",
    "\n"
   ]
  },
  {
   "cell_type": "code",
   "execution_count": null,
   "metadata": {},
   "outputs": [],
   "source": []
  }
 ],
 "metadata": {
  "anaconda-cloud": {},
  "kernelspec": {
   "display_name": "Python 3",
   "language": "python",
   "name": "python3"
  },
  "language_info": {
   "codemirror_mode": {
    "name": "ipython",
    "version": 3
   },
   "file_extension": ".py",
   "mimetype": "text/x-python",
   "name": "python",
   "nbconvert_exporter": "python",
   "pygments_lexer": "ipython3",
   "version": "3.7.3"
  }
 },
 "nbformat": 4,
 "nbformat_minor": 1
}
