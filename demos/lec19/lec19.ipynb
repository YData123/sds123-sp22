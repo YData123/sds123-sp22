{
 "cells": [
  {
   "cell_type": "code",
   "execution_count": 1,
   "metadata": {},
   "outputs": [],
   "source": [
    "from datascience import *\n",
    "import numpy as np\n",
    "\n",
    "%matplotlib inline\n",
    "import matplotlib.pyplot as plots\n",
    "plots.style.use('fivethirtyeight')"
   ]
  },
  {
   "cell_type": "markdown",
   "metadata": {},
   "source": [
    "## Lecture 19 ##"
   ]
  },
  {
   "cell_type": "markdown",
   "metadata": {},
   "source": [
    "## Birth weights"
   ]
  },
  {
   "cell_type": "code",
   "execution_count": 2,
   "metadata": {},
   "outputs": [
    {
     "data": {
      "text/html": [
       "<table border=\"1\" class=\"dataframe\">\n",
       "    <thead>\n",
       "        <tr>\n",
       "            <th>Birth Weight</th> <th>Gestational Days</th> <th>Maternal Age</th> <th>Maternal Height</th> <th>Maternal Pregnancy Weight</th> <th>Maternal Smoker</th>\n",
       "        </tr>\n",
       "    </thead>\n",
       "    <tbody>\n",
       "        <tr>\n",
       "            <td>120         </td> <td>284             </td> <td>27          </td> <td>62             </td> <td>100                      </td> <td>False          </td>\n",
       "        </tr>\n",
       "        <tr>\n",
       "            <td>113         </td> <td>282             </td> <td>33          </td> <td>64             </td> <td>135                      </td> <td>False          </td>\n",
       "        </tr>\n",
       "        <tr>\n",
       "            <td>128         </td> <td>279             </td> <td>28          </td> <td>64             </td> <td>115                      </td> <td>True           </td>\n",
       "        </tr>\n",
       "        <tr>\n",
       "            <td>108         </td> <td>282             </td> <td>23          </td> <td>67             </td> <td>125                      </td> <td>True           </td>\n",
       "        </tr>\n",
       "        <tr>\n",
       "            <td>136         </td> <td>286             </td> <td>25          </td> <td>62             </td> <td>93                       </td> <td>False          </td>\n",
       "        </tr>\n",
       "        <tr>\n",
       "            <td>138         </td> <td>244             </td> <td>33          </td> <td>62             </td> <td>178                      </td> <td>False          </td>\n",
       "        </tr>\n",
       "        <tr>\n",
       "            <td>132         </td> <td>245             </td> <td>23          </td> <td>65             </td> <td>140                      </td> <td>False          </td>\n",
       "        </tr>\n",
       "        <tr>\n",
       "            <td>120         </td> <td>289             </td> <td>25          </td> <td>62             </td> <td>125                      </td> <td>False          </td>\n",
       "        </tr>\n",
       "        <tr>\n",
       "            <td>143         </td> <td>299             </td> <td>30          </td> <td>66             </td> <td>136                      </td> <td>True           </td>\n",
       "        </tr>\n",
       "        <tr>\n",
       "            <td>140         </td> <td>351             </td> <td>27          </td> <td>68             </td> <td>120                      </td> <td>False          </td>\n",
       "        </tr>\n",
       "    </tbody>\n",
       "</table>\n",
       "<p>... (1164 rows omitted)</p>"
      ],
      "text/plain": [
       "Birth Weight | Gestational Days | Maternal Age | Maternal Height | Maternal Pregnancy Weight | Maternal Smoker\n",
       "120          | 284              | 27           | 62              | 100                       | False\n",
       "113          | 282              | 33           | 64              | 135                       | False\n",
       "128          | 279              | 28           | 64              | 115                       | True\n",
       "108          | 282              | 23           | 67              | 125                       | True\n",
       "136          | 286              | 25           | 62              | 93                        | False\n",
       "138          | 244              | 33           | 62              | 178                       | False\n",
       "132          | 245              | 23           | 65              | 140                       | False\n",
       "120          | 289              | 25           | 62              | 125                       | False\n",
       "143          | 299              | 30           | 66              | 136                       | True\n",
       "140          | 351              | 27           | 68              | 120                       | False\n",
       "... (1164 rows omitted)"
      ]
     },
     "execution_count": 2,
     "metadata": {},
     "output_type": "execute_result"
    }
   ],
   "source": [
    "#Birth weight in ounces; Maternal Pregnancy weight in pounds\n",
    "baby = Table.read_table('baby.csv')\n",
    "baby"
   ]
  },
  {
   "cell_type": "code",
   "execution_count": 3,
   "metadata": {},
   "outputs": [
    {
     "data": {
      "text/html": [
       "<table border=\"1\" class=\"dataframe\">\n",
       "    <thead>\n",
       "        <tr>\n",
       "            <th>Birth Weight</th> <th>Maternal Smoker</th>\n",
       "        </tr>\n",
       "    </thead>\n",
       "    <tbody>\n",
       "        <tr>\n",
       "            <td>120         </td> <td>False          </td>\n",
       "        </tr>\n",
       "        <tr>\n",
       "            <td>113         </td> <td>False          </td>\n",
       "        </tr>\n",
       "        <tr>\n",
       "            <td>128         </td> <td>True           </td>\n",
       "        </tr>\n",
       "        <tr>\n",
       "            <td>108         </td> <td>True           </td>\n",
       "        </tr>\n",
       "        <tr>\n",
       "            <td>136         </td> <td>False          </td>\n",
       "        </tr>\n",
       "        <tr>\n",
       "            <td>138         </td> <td>False          </td>\n",
       "        </tr>\n",
       "        <tr>\n",
       "            <td>132         </td> <td>False          </td>\n",
       "        </tr>\n",
       "        <tr>\n",
       "            <td>120         </td> <td>False          </td>\n",
       "        </tr>\n",
       "        <tr>\n",
       "            <td>143         </td> <td>True           </td>\n",
       "        </tr>\n",
       "        <tr>\n",
       "            <td>140         </td> <td>False          </td>\n",
       "        </tr>\n",
       "    </tbody>\n",
       "</table>\n",
       "<p>... (1164 rows omitted)</p>"
      ],
      "text/plain": [
       "Birth Weight | Maternal Smoker\n",
       "120          | False\n",
       "113          | False\n",
       "128          | True\n",
       "108          | True\n",
       "136          | False\n",
       "138          | False\n",
       "132          | False\n",
       "120          | False\n",
       "143          | True\n",
       "140          | False\n",
       "... (1164 rows omitted)"
      ]
     },
     "execution_count": 3,
     "metadata": {},
     "output_type": "execute_result"
    }
   ],
   "source": [
    "smoking_and_birthweight = baby.select('Birth Weight', 'Maternal Smoker')\n",
    "smoking_and_birthweight"
   ]
  },
  {
   "cell_type": "code",
   "execution_count": 4,
   "metadata": {},
   "outputs": [
    {
     "data": {
      "text/html": [
       "<table border=\"1\" class=\"dataframe\">\n",
       "    <thead>\n",
       "        <tr>\n",
       "            <th>Maternal Smoker</th> <th>count</th>\n",
       "        </tr>\n",
       "    </thead>\n",
       "    <tbody>\n",
       "        <tr>\n",
       "            <td>False          </td> <td>715  </td>\n",
       "        </tr>\n",
       "        <tr>\n",
       "            <td>True           </td> <td>459  </td>\n",
       "        </tr>\n",
       "    </tbody>\n",
       "</table>"
      ],
      "text/plain": [
       "Maternal Smoker | count\n",
       "False           | 715\n",
       "True            | 459"
      ]
     },
     "execution_count": 4,
     "metadata": {},
     "output_type": "execute_result"
    }
   ],
   "source": [
    "smoking_and_birthweight.group('Maternal Smoker')"
   ]
  },
  {
   "cell_type": "code",
   "execution_count": 5,
   "metadata": {},
   "outputs": [
    {
     "data": {
      "image/png": "[encoded data removed]",
      "text/plain": [
       "<Figure size 432x288 with 1 Axes>"
      ]
     },
     "metadata": {},
     "output_type": "display_data"
    }
   ],
   "source": [
    "smoking_and_birthweight.hist('Birth Weight')"
   ]
  },
  {
   "cell_type": "code",
   "execution_count": 6,
   "metadata": {},
   "outputs": [
    {
     "data": {
      "image/png": "[encoded data removed]",
      "text/plain": [
       "<Figure size 432x288 with 1 Axes>"
      ]
     },
     "metadata": {},
     "output_type": "display_data"
    }
   ],
   "source": [
    "smoking_and_birthweight.hist('Birth Weight', group='Maternal Smoker')"
   ]
  },
  {
   "cell_type": "code",
   "execution_count": 7,
   "metadata": {},
   "outputs": [
    {
     "data": {
      "text/html": [
       "<table border=\"1\" class=\"dataframe\">\n",
       "    <thead>\n",
       "        <tr>\n",
       "            <th>Maternal Smoker</th> <th>Birth Weight average</th>\n",
       "        </tr>\n",
       "    </thead>\n",
       "    <tbody>\n",
       "        <tr>\n",
       "            <td>False          </td> <td>123.085             </td>\n",
       "        </tr>\n",
       "        <tr>\n",
       "            <td>True           </td> <td>113.819             </td>\n",
       "        </tr>\n",
       "    </tbody>\n",
       "</table>"
      ],
      "text/plain": [
       "Maternal Smoker | Birth Weight average\n",
       "False           | 123.085\n",
       "True            | 113.819"
      ]
     },
     "execution_count": 7,
     "metadata": {},
     "output_type": "execute_result"
    }
   ],
   "source": [
    "observed_means = smoking_and_birthweight.group('Maternal Smoker', np.average)\n",
    "observed_means"
   ]
  },
  {
   "cell_type": "code",
   "execution_count": 8,
   "metadata": {},
   "outputs": [
    {
     "data": {
      "text/plain": [
       "9.266142572024918"
      ]
     },
     "execution_count": 8,
     "metadata": {},
     "output_type": "execute_result"
    }
   ],
   "source": [
    "observed_diff = observed_means.column(1).item(0) - observed_means.column(1).item(1)\n",
    "observed_diff"
   ]
  },
  {
   "cell_type": "code",
   "execution_count": 9,
   "metadata": {},
   "outputs": [],
   "source": [
    "def diff_between_group_means(tbl):\n",
    "    means = tbl.group('Maternal Smoker', np.average)\n",
    "    return means.column(1).item(0) - means.column(1).item(1)"
   ]
  },
  {
   "cell_type": "code",
   "execution_count": 10,
   "metadata": {},
   "outputs": [],
   "source": [
    "# PLAN:\n",
    "\n",
    "# Shuffle birth weights\n",
    "\n",
    "# Assign some to group A and some to group B\n",
    "\n",
    "# Find difference between averages of the two groups (statistic)\n",
    "\n",
    "# Repeat"
   ]
  },
  {
   "cell_type": "code",
   "execution_count": 11,
   "metadata": {},
   "outputs": [
    {
     "data": {
      "text/html": [
       "<table border=\"1\" class=\"dataframe\">\n",
       "    <thead>\n",
       "        <tr>\n",
       "            <th>Birth Weight</th>\n",
       "        </tr>\n",
       "    </thead>\n",
       "    <tbody>\n",
       "        <tr>\n",
       "            <td>120         </td>\n",
       "        </tr>\n",
       "        <tr>\n",
       "            <td>113         </td>\n",
       "        </tr>\n",
       "        <tr>\n",
       "            <td>128         </td>\n",
       "        </tr>\n",
       "        <tr>\n",
       "            <td>108         </td>\n",
       "        </tr>\n",
       "        <tr>\n",
       "            <td>136         </td>\n",
       "        </tr>\n",
       "        <tr>\n",
       "            <td>138         </td>\n",
       "        </tr>\n",
       "        <tr>\n",
       "            <td>132         </td>\n",
       "        </tr>\n",
       "        <tr>\n",
       "            <td>120         </td>\n",
       "        </tr>\n",
       "        <tr>\n",
       "            <td>143         </td>\n",
       "        </tr>\n",
       "        <tr>\n",
       "            <td>140         </td>\n",
       "        </tr>\n",
       "    </tbody>\n",
       "</table>\n",
       "<p>... (1164 rows omitted)</p>"
      ],
      "text/plain": [
       "Birth Weight\n",
       "120\n",
       "113\n",
       "128\n",
       "108\n",
       "136\n",
       "138\n",
       "132\n",
       "120\n",
       "143\n",
       "140\n",
       "... (1164 rows omitted)"
      ]
     },
     "execution_count": 11,
     "metadata": {},
     "output_type": "execute_result"
    }
   ],
   "source": [
    "weights = smoking_and_birthweight.select('Birth Weight')\n",
    "weights"
   ]
  },
  {
   "cell_type": "code",
   "execution_count": 12,
   "metadata": {},
   "outputs": [
    {
     "data": {
      "text/html": [
       "<table border=\"1\" class=\"dataframe\">\n",
       "    <thead>\n",
       "        <tr>\n",
       "            <th>Maternal Smoker</th>\n",
       "        </tr>\n",
       "    </thead>\n",
       "    <tbody>\n",
       "        <tr>\n",
       "            <td>False          </td>\n",
       "        </tr>\n",
       "        <tr>\n",
       "            <td>False          </td>\n",
       "        </tr>\n",
       "        <tr>\n",
       "            <td>True           </td>\n",
       "        </tr>\n",
       "        <tr>\n",
       "            <td>True           </td>\n",
       "        </tr>\n",
       "        <tr>\n",
       "            <td>False          </td>\n",
       "        </tr>\n",
       "        <tr>\n",
       "            <td>False          </td>\n",
       "        </tr>\n",
       "        <tr>\n",
       "            <td>False          </td>\n",
       "        </tr>\n",
       "        <tr>\n",
       "            <td>False          </td>\n",
       "        </tr>\n",
       "        <tr>\n",
       "            <td>True           </td>\n",
       "        </tr>\n",
       "        <tr>\n",
       "            <td>False          </td>\n",
       "        </tr>\n",
       "    </tbody>\n",
       "</table>\n",
       "<p>... (1164 rows omitted)</p>"
      ],
      "text/plain": [
       "Maternal Smoker\n",
       "False\n",
       "False\n",
       "True\n",
       "True\n",
       "False\n",
       "False\n",
       "False\n",
       "False\n",
       "True\n",
       "False\n",
       "... (1164 rows omitted)"
      ]
     },
     "execution_count": 12,
     "metadata": {},
     "output_type": "execute_result"
    }
   ],
   "source": [
    "smoking = smoking_and_birthweight.select('Maternal Smoker')\n",
    "smoking"
   ]
  },
  {
   "cell_type": "code",
   "execution_count": 13,
   "metadata": {},
   "outputs": [
    {
     "data": {
      "text/plain": [
       "array([145, 104, 121, ..., 128, 130, 119])"
      ]
     },
     "execution_count": 13,
     "metadata": {},
     "output_type": "execute_result"
    }
   ],
   "source": [
    "# Shuffle birth weights\n",
    "shuffled_weights = weights.sample(with_replacement=False).column(0)\n",
    "shuffled_weights"
   ]
  },
  {
   "cell_type": "code",
   "execution_count": 14,
   "metadata": {},
   "outputs": [
    {
     "data": {
      "text/html": [
       "<table border=\"1\" class=\"dataframe\">\n",
       "    <thead>\n",
       "        <tr>\n",
       "            <th>Maternal Smoker</th> <th>Shuffled weights</th>\n",
       "        </tr>\n",
       "    </thead>\n",
       "    <tbody>\n",
       "        <tr>\n",
       "            <td>False          </td> <td>145             </td>\n",
       "        </tr>\n",
       "        <tr>\n",
       "            <td>False          </td> <td>104             </td>\n",
       "        </tr>\n",
       "        <tr>\n",
       "            <td>True           </td> <td>121             </td>\n",
       "        </tr>\n",
       "        <tr>\n",
       "            <td>True           </td> <td>148             </td>\n",
       "        </tr>\n",
       "        <tr>\n",
       "            <td>False          </td> <td>89              </td>\n",
       "        </tr>\n",
       "        <tr>\n",
       "            <td>False          </td> <td>144             </td>\n",
       "        </tr>\n",
       "        <tr>\n",
       "            <td>False          </td> <td>97              </td>\n",
       "        </tr>\n",
       "        <tr>\n",
       "            <td>False          </td> <td>139             </td>\n",
       "        </tr>\n",
       "        <tr>\n",
       "            <td>True           </td> <td>121             </td>\n",
       "        </tr>\n",
       "        <tr>\n",
       "            <td>False          </td> <td>112             </td>\n",
       "        </tr>\n",
       "    </tbody>\n",
       "</table>\n",
       "<p>... (1164 rows omitted)</p>"
      ],
      "text/plain": [
       "Maternal Smoker | Shuffled weights\n",
       "False           | 145\n",
       "False           | 104\n",
       "True            | 121\n",
       "True            | 148\n",
       "False           | 89\n",
       "False           | 144\n",
       "False           | 97\n",
       "False           | 139\n",
       "True            | 121\n",
       "False           | 112\n",
       "... (1164 rows omitted)"
      ]
     },
     "execution_count": 14,
     "metadata": {},
     "output_type": "execute_result"
    }
   ],
   "source": [
    "# Assign some to group A and some to group B\n",
    "shuffled = smoking.with_column('Shuffled weights', shuffled_weights)\n",
    "shuffled"
   ]
  },
  {
   "cell_type": "code",
   "execution_count": 15,
   "metadata": {},
   "outputs": [
    {
     "data": {
      "text/plain": [
       "-0.07405883876471364"
      ]
     },
     "execution_count": 15,
     "metadata": {},
     "output_type": "execute_result"
    }
   ],
   "source": [
    "# Find difference between averages of the two groups (statistic)\n",
    "diff = diff_between_group_means(shuffled)\n",
    "diff"
   ]
  },
  {
   "cell_type": "code",
   "execution_count": 16,
   "metadata": {},
   "outputs": [
    {
     "data": {
      "text/plain": [
       "array([-3.36512942,  1.76107074, -1.59081311, ...,  1.43911818,\n",
       "       -0.35666164, -0.7072322 ])"
      ]
     },
     "execution_count": 16,
     "metadata": {},
     "output_type": "execute_result"
    }
   ],
   "source": [
    "# Repeat\n",
    "diffs = make_array()\n",
    "for i in np.arange(2000):\n",
    "    shuffled_weights = weights.sample(with_replacement=False).column(0)\n",
    "    shuffled = smoking.with_column('Shuffled weights', shuffled_weights)\n",
    "    means = shuffled.group('Maternal Smoker', np.average)\n",
    "    diff = means.column(1).item(0) - means.column(1).item(1)\n",
    "    diffs = np.append(diffs, diff)\n",
    "\n",
    "diffs"
   ]
  },
  {
   "cell_type": "code",
   "execution_count": 17,
   "metadata": {},
   "outputs": [
    {
     "data": {
      "image/png": "[encoded data removed]",
      "text/plain": [
       "<Figure size 432x288 with 1 Axes>"
      ]
     },
     "metadata": {},
     "output_type": "display_data"
    }
   ],
   "source": [
    "Table().with_column('Difference between group means', diffs).hist()"
   ]
  },
  {
   "cell_type": "code",
   "execution_count": 18,
   "metadata": {},
   "outputs": [
    {
     "data": {
      "text/plain": [
       "9.266142572024918"
      ]
     },
     "execution_count": 18,
     "metadata": {},
     "output_type": "execute_result"
    }
   ],
   "source": [
    "observed_diff"
   ]
  },
  {
   "cell_type": "markdown",
   "metadata": {},
   "source": [
    "## Deflategate ##"
   ]
  },
  {
   "cell_type": "code",
   "execution_count": 19,
   "metadata": {},
   "outputs": [
    {
     "data": {
      "text/html": [
       "<table border=\"1\" class=\"dataframe\">\n",
       "    <thead>\n",
       "        <tr>\n",
       "            <th>Team</th> <th>Blakeman</th> <th>Prioleau</th>\n",
       "        </tr>\n",
       "    </thead>\n",
       "    <tbody>\n",
       "        <tr>\n",
       "            <td>Patriots</td> <td>11.5    </td> <td>11.8    </td>\n",
       "        </tr>\n",
       "        <tr>\n",
       "            <td>Patriots</td> <td>10.85   </td> <td>11.2    </td>\n",
       "        </tr>\n",
       "        <tr>\n",
       "            <td>Patriots</td> <td>11.15   </td> <td>11.5    </td>\n",
       "        </tr>\n",
       "        <tr>\n",
       "            <td>Patriots</td> <td>10.7    </td> <td>11      </td>\n",
       "        </tr>\n",
       "        <tr>\n",
       "            <td>Patriots</td> <td>11.1    </td> <td>11.45   </td>\n",
       "        </tr>\n",
       "        <tr>\n",
       "            <td>Patriots</td> <td>11.6    </td> <td>11.95   </td>\n",
       "        </tr>\n",
       "        <tr>\n",
       "            <td>Patriots</td> <td>11.85   </td> <td>12.3    </td>\n",
       "        </tr>\n",
       "        <tr>\n",
       "            <td>Patriots</td> <td>11.1    </td> <td>11.55   </td>\n",
       "        </tr>\n",
       "        <tr>\n",
       "            <td>Patriots</td> <td>10.95   </td> <td>11.35   </td>\n",
       "        </tr>\n",
       "        <tr>\n",
       "            <td>Patriots</td> <td>10.5    </td> <td>10.9    </td>\n",
       "        </tr>\n",
       "        <tr>\n",
       "            <td>Patriots</td> <td>10.9    </td> <td>11.35   </td>\n",
       "        </tr>\n",
       "        <tr>\n",
       "            <td>Colts   </td> <td>12.7    </td> <td>12.35   </td>\n",
       "        </tr>\n",
       "        <tr>\n",
       "            <td>Colts   </td> <td>12.75   </td> <td>12.3    </td>\n",
       "        </tr>\n",
       "        <tr>\n",
       "            <td>Colts   </td> <td>12.5    </td> <td>12.95   </td>\n",
       "        </tr>\n",
       "        <tr>\n",
       "            <td>Colts   </td> <td>12.55   </td> <td>12.15   </td>\n",
       "        </tr>\n",
       "    </tbody>\n",
       "</table>"
      ],
      "text/plain": [
       "<IPython.core.display.HTML object>"
      ]
     },
     "metadata": {},
     "output_type": "display_data"
    }
   ],
   "source": [
    "# Pressure measured in \"pounds per square inch\" (psi)\n",
    "# Two officials (Blakeman and Prioleau) measured pressure \n",
    "# of balls at half-time\n",
    "# Most of Colts balls were not measured\n",
    "football = Table.read_table('deflategate.csv')\n",
    "football.show()"
   ]
  },
  {
   "cell_type": "code",
   "execution_count": 20,
   "metadata": {},
   "outputs": [
    {
     "data": {
      "text/html": [
       "<table border=\"1\" class=\"dataframe\">\n",
       "    <thead>\n",
       "        <tr>\n",
       "            <th>Team</th> <th>Combined</th>\n",
       "        </tr>\n",
       "    </thead>\n",
       "    <tbody>\n",
       "        <tr>\n",
       "            <td>Patriots</td> <td>11.65   </td>\n",
       "        </tr>\n",
       "        <tr>\n",
       "            <td>Patriots</td> <td>11.025  </td>\n",
       "        </tr>\n",
       "        <tr>\n",
       "            <td>Patriots</td> <td>11.325  </td>\n",
       "        </tr>\n",
       "        <tr>\n",
       "            <td>Patriots</td> <td>10.85   </td>\n",
       "        </tr>\n",
       "        <tr>\n",
       "            <td>Patriots</td> <td>11.275  </td>\n",
       "        </tr>\n",
       "        <tr>\n",
       "            <td>Patriots</td> <td>11.775  </td>\n",
       "        </tr>\n",
       "        <tr>\n",
       "            <td>Patriots</td> <td>12.075  </td>\n",
       "        </tr>\n",
       "        <tr>\n",
       "            <td>Patriots</td> <td>11.325  </td>\n",
       "        </tr>\n",
       "        <tr>\n",
       "            <td>Patriots</td> <td>11.15   </td>\n",
       "        </tr>\n",
       "        <tr>\n",
       "            <td>Patriots</td> <td>10.7    </td>\n",
       "        </tr>\n",
       "        <tr>\n",
       "            <td>Patriots</td> <td>11.125  </td>\n",
       "        </tr>\n",
       "        <tr>\n",
       "            <td>Colts   </td> <td>12.525  </td>\n",
       "        </tr>\n",
       "        <tr>\n",
       "            <td>Colts   </td> <td>12.525  </td>\n",
       "        </tr>\n",
       "        <tr>\n",
       "            <td>Colts   </td> <td>12.725  </td>\n",
       "        </tr>\n",
       "        <tr>\n",
       "            <td>Colts   </td> <td>12.35   </td>\n",
       "        </tr>\n",
       "    </tbody>\n",
       "</table>"
      ],
      "text/plain": [
       "<IPython.core.display.HTML object>"
      ]
     },
     "metadata": {},
     "output_type": "display_data"
    }
   ],
   "source": [
    "#Take average of two measurements\n",
    "football = football.select('Team').with_column(\n",
    "    'Combined', (football.column('Blakeman')+football.column('Prioleau'))/2\n",
    "    )\n",
    "football.show()"
   ]
  },
  {
   "cell_type": "code",
   "execution_count": 21,
   "metadata": {},
   "outputs": [
    {
     "data": {
      "text/plain": [
       "array([1., 1., 1., 1., 1.])"
      ]
     },
     "execution_count": 21,
     "metadata": {},
     "output_type": "execute_result"
    }
   ],
   "source": [
    "np.ones(5)"
   ]
  },
  {
   "cell_type": "code",
   "execution_count": 22,
   "metadata": {},
   "outputs": [
    {
     "data": {
      "text/plain": [
       "array([12.5, 12.5, 12.5, 12.5, 12.5, 12.5, 12.5, 12.5, 12.5, 12.5, 12.5,\n",
       "       13. , 13. , 13. , 13. ])"
      ]
     },
     "execution_count": 22,
     "metadata": {},
     "output_type": "execute_result"
    }
   ],
   "source": [
    "#Before the start of AFC game, ball pressures were measured\n",
    "#NFL rule:  ball pressure between 12.5 and 13.5 psi\n",
    "#Patriots' balls were all about 12.5 psi\n",
    "#Colts' balls were about 13.0 psi\n",
    "start = np.append(12.5 * np.ones(11), 13 * np.ones(4))\n",
    "start"
   ]
  },
  {
   "cell_type": "code",
   "execution_count": 23,
   "metadata": {},
   "outputs": [
    {
     "data": {
      "text/plain": [
       "array([0.85 , 1.475, 1.175, 1.65 , 1.225, 0.725, 0.425, 1.175, 1.35 ,\n",
       "       1.8  , 1.375, 0.475, 0.475, 0.275, 0.65 ])"
      ]
     },
     "execution_count": 23,
     "metadata": {},
     "output_type": "execute_result"
    }
   ],
   "source": [
    "# Some deflation is normal during game; investigate the pressure drop\n",
    "drop_values = start - football.column('Combined')\n",
    "drop_values"
   ]
  },
  {
   "cell_type": "code",
   "execution_count": 24,
   "metadata": {},
   "outputs": [
    {
     "data": {
      "text/html": [
       "<table border=\"1\" class=\"dataframe\">\n",
       "    <thead>\n",
       "        <tr>\n",
       "            <th>Team</th> <th>Drop</th>\n",
       "        </tr>\n",
       "    </thead>\n",
       "    <tbody>\n",
       "        <tr>\n",
       "            <td>Patriots</td> <td>0.85 </td>\n",
       "        </tr>\n",
       "        <tr>\n",
       "            <td>Patriots</td> <td>1.475</td>\n",
       "        </tr>\n",
       "        <tr>\n",
       "            <td>Patriots</td> <td>1.175</td>\n",
       "        </tr>\n",
       "        <tr>\n",
       "            <td>Patriots</td> <td>1.65 </td>\n",
       "        </tr>\n",
       "        <tr>\n",
       "            <td>Patriots</td> <td>1.225</td>\n",
       "        </tr>\n",
       "        <tr>\n",
       "            <td>Patriots</td> <td>0.725</td>\n",
       "        </tr>\n",
       "        <tr>\n",
       "            <td>Patriots</td> <td>0.425</td>\n",
       "        </tr>\n",
       "        <tr>\n",
       "            <td>Patriots</td> <td>1.175</td>\n",
       "        </tr>\n",
       "        <tr>\n",
       "            <td>Patriots</td> <td>1.35 </td>\n",
       "        </tr>\n",
       "        <tr>\n",
       "            <td>Patriots</td> <td>1.8  </td>\n",
       "        </tr>\n",
       "        <tr>\n",
       "            <td>Patriots</td> <td>1.375</td>\n",
       "        </tr>\n",
       "        <tr>\n",
       "            <td>Colts   </td> <td>0.475</td>\n",
       "        </tr>\n",
       "        <tr>\n",
       "            <td>Colts   </td> <td>0.475</td>\n",
       "        </tr>\n",
       "        <tr>\n",
       "            <td>Colts   </td> <td>0.275</td>\n",
       "        </tr>\n",
       "        <tr>\n",
       "            <td>Colts   </td> <td>0.65 </td>\n",
       "        </tr>\n",
       "    </tbody>\n",
       "</table>"
      ],
      "text/plain": [
       "<IPython.core.display.HTML object>"
      ]
     },
     "metadata": {},
     "output_type": "display_data"
    }
   ],
   "source": [
    "football = football.drop('Combined').with_column('Drop', drop_values)\n",
    "football.show()"
   ]
  },
  {
   "cell_type": "code",
   "execution_count": 25,
   "metadata": {},
   "outputs": [
    {
     "data": {
      "text/html": [
       "<table border=\"1\" class=\"dataframe\">\n",
       "    <thead>\n",
       "        <tr>\n",
       "            <th>Team</th> <th>Drop average</th>\n",
       "        </tr>\n",
       "    </thead>\n",
       "    <tbody>\n",
       "        <tr>\n",
       "            <td>Colts   </td> <td>0.46875     </td>\n",
       "        </tr>\n",
       "        <tr>\n",
       "            <td>Patriots</td> <td>1.20227     </td>\n",
       "        </tr>\n",
       "    </tbody>\n",
       "</table>"
      ],
      "text/plain": [
       "Team     | Drop average\n",
       "Colts    | 0.46875\n",
       "Patriots | 1.20227"
      ]
     },
     "execution_count": 25,
     "metadata": {},
     "output_type": "execute_result"
    }
   ],
   "source": [
    "means_tbl = football.group('Team', np.average)\n",
    "means_tbl"
   ]
  },
  {
   "cell_type": "code",
   "execution_count": 26,
   "metadata": {},
   "outputs": [
    {
     "data": {
      "text/plain": [
       "0.733522727272728"
      ]
     },
     "execution_count": 26,
     "metadata": {},
     "output_type": "execute_result"
    }
   ],
   "source": [
    "drop_avgs = means_tbl.column('Drop average')\n",
    "observed_difference = drop_avgs.item(1) - drop_avgs.item(0)\n",
    "observed_difference\n",
    "#Large values imply larger drop for Patriots"
   ]
  },
  {
   "cell_type": "code",
   "execution_count": 27,
   "metadata": {},
   "outputs": [],
   "source": [
    "# Do the 11 Patriot balls look like a random sample of the 15 balls?\n",
    "# Could this difference be due to chance?"
   ]
  },
  {
   "cell_type": "code",
   "execution_count": 28,
   "metadata": {},
   "outputs": [
    {
     "data": {
      "text/html": [
       "<table border=\"1\" class=\"dataframe\">\n",
       "    <thead>\n",
       "        <tr>\n",
       "            <th>Team</th>\n",
       "        </tr>\n",
       "    </thead>\n",
       "    <tbody>\n",
       "        <tr>\n",
       "            <td>Patriots</td>\n",
       "        </tr>\n",
       "        <tr>\n",
       "            <td>Patriots</td>\n",
       "        </tr>\n",
       "        <tr>\n",
       "            <td>Patriots</td>\n",
       "        </tr>\n",
       "        <tr>\n",
       "            <td>Patriots</td>\n",
       "        </tr>\n",
       "        <tr>\n",
       "            <td>Patriots</td>\n",
       "        </tr>\n",
       "        <tr>\n",
       "            <td>Patriots</td>\n",
       "        </tr>\n",
       "        <tr>\n",
       "            <td>Patriots</td>\n",
       "        </tr>\n",
       "        <tr>\n",
       "            <td>Patriots</td>\n",
       "        </tr>\n",
       "        <tr>\n",
       "            <td>Patriots</td>\n",
       "        </tr>\n",
       "        <tr>\n",
       "            <td>Patriots</td>\n",
       "        </tr>\n",
       "    </tbody>\n",
       "</table>\n",
       "<p>... (5 rows omitted)</p>"
      ],
      "text/plain": [
       "Team\n",
       "Patriots\n",
       "Patriots\n",
       "Patriots\n",
       "Patriots\n",
       "Patriots\n",
       "Patriots\n",
       "Patriots\n",
       "Patriots\n",
       "Patriots\n",
       "Patriots\n",
       "... (5 rows omitted)"
      ]
     },
     "execution_count": 28,
     "metadata": {},
     "output_type": "execute_result"
    }
   ],
   "source": [
    "group_labels = football.select('Team')\n",
    "drops = football.select('Drop')\n",
    "group_labels"
   ]
  },
  {
   "cell_type": "code",
   "execution_count": 29,
   "metadata": {},
   "outputs": [],
   "source": [
    "differences = make_array()\n",
    "\n",
    "for i in np.arange(20000):\n",
    "    shuffled_drops = drops.sample(with_replacement = False).column('Drop')\n",
    "    shuffled_tbl = group_labels.with_column('Shuffled Drop', shuffled_drops)\n",
    "    means_tbl = shuffled_tbl.group('Team', np.average)\n",
    "    drop_avgs = means_tbl.column('Shuffled Drop average')\n",
    "    new_diff = drop_avgs.item(1) - drop_avgs.item(0)\n",
    "    differences = np.append(differences, new_diff)"
   ]
  },
  {
   "cell_type": "code",
   "execution_count": 30,
   "metadata": {},
   "outputs": [
    {
     "data": {
      "image/png": "[encoded data removed]",
      "text/plain": [
       "<Figure size 432x288 with 1 Axes>"
      ]
     },
     "metadata": {},
     "output_type": "display_data"
    }
   ],
   "source": [
    "Table().with_column('Difference Between Means', differences).hist()\n",
    "plots.scatter(observed_difference, 0, color='red', s=40);"
   ]
  },
  {
   "cell_type": "code",
   "execution_count": 31,
   "metadata": {},
   "outputs": [
    {
     "data": {
      "text/plain": [
       "0.00235"
      ]
     },
     "execution_count": 31,
     "metadata": {},
     "output_type": "execute_result"
    }
   ],
   "source": [
    "np.count_nonzero(differences >= observed_difference) / 20000"
   ]
  },
  {
   "cell_type": "code",
   "execution_count": 32,
   "metadata": {},
   "outputs": [
    {
     "data": {
      "text/html": [
       "<table border=\"1\" class=\"dataframe\">\n",
       "    <thead>\n",
       "        <tr>\n",
       "            <th>Team</th> <th>Shuffled Drop</th>\n",
       "        </tr>\n",
       "    </thead>\n",
       "    <tbody>\n",
       "        <tr>\n",
       "            <td>Patriots</td> <td>1.35         </td>\n",
       "        </tr>\n",
       "        <tr>\n",
       "            <td>Patriots</td> <td>1.375        </td>\n",
       "        </tr>\n",
       "        <tr>\n",
       "            <td>Patriots</td> <td>0.85         </td>\n",
       "        </tr>\n",
       "        <tr>\n",
       "            <td>Patriots</td> <td>0.475        </td>\n",
       "        </tr>\n",
       "        <tr>\n",
       "            <td>Patriots</td> <td>0.275        </td>\n",
       "        </tr>\n",
       "        <tr>\n",
       "            <td>Patriots</td> <td>1.175        </td>\n",
       "        </tr>\n",
       "        <tr>\n",
       "            <td>Patriots</td> <td>1.65         </td>\n",
       "        </tr>\n",
       "        <tr>\n",
       "            <td>Patriots</td> <td>1.175        </td>\n",
       "        </tr>\n",
       "        <tr>\n",
       "            <td>Patriots</td> <td>1.475        </td>\n",
       "        </tr>\n",
       "        <tr>\n",
       "            <td>Patriots</td> <td>1.8          </td>\n",
       "        </tr>\n",
       "        <tr>\n",
       "            <td>Patriots</td> <td>0.475        </td>\n",
       "        </tr>\n",
       "        <tr>\n",
       "            <td>Colts   </td> <td>0.425        </td>\n",
       "        </tr>\n",
       "        <tr>\n",
       "            <td>Colts   </td> <td>0.65         </td>\n",
       "        </tr>\n",
       "        <tr>\n",
       "            <td>Colts   </td> <td>0.725        </td>\n",
       "        </tr>\n",
       "        <tr>\n",
       "            <td>Colts   </td> <td>1.225        </td>\n",
       "        </tr>\n",
       "    </tbody>\n",
       "</table>"
      ],
      "text/plain": [
       "<IPython.core.display.HTML object>"
      ]
     },
     "metadata": {},
     "output_type": "display_data"
    }
   ],
   "source": [
    "shuffled_tbl.show()"
   ]
  }
 ],
 "metadata": {
  "kernelspec": {
   "display_name": "Python 3",
   "language": "python",
   "name": "python3"
  },
  "language_info": {
   "codemirror_mode": {
    "name": "ipython",
    "version": 3
   },
   "file_extension": ".py",
   "mimetype": "text/x-python",
   "name": "python",
   "nbconvert_exporter": "python",
   "pygments_lexer": "ipython3",
   "version": "3.7.3"
  }
 },
 "nbformat": 4,
 "nbformat_minor": 1
}
