{
 "cells": [
  {
   "cell_type": "code",
   "execution_count": null,
   "metadata": {},
   "outputs": [],
   "source": [
    "import matplotlib\n",
    "from datascience import *\n",
    "%matplotlib inline\n",
    "import matplotlib.pyplot as plots\n",
    "import numpy as np\n",
    "from scipy.stats import norm\n",
    "plots.style.use('fivethirtyeight')"
   ]
  },
  {
   "cell_type": "markdown",
   "metadata": {},
   "source": [
    "# Lecture 28"
   ]
  },
  {
   "cell_type": "markdown",
   "metadata": {},
   "source": [
    "## Central Limit Theorem and Simulating Sample Mean ##"
   ]
  },
  {
   "cell_type": "code",
   "execution_count": null,
   "metadata": {},
   "outputs": [],
   "source": [
    "# get the data set of flight delays\n",
    "united = Table.read_table('united_summer2015.csv')\n",
    "united"
   ]
  },
  {
   "cell_type": "code",
   "execution_count": null,
   "metadata": {},
   "outputs": [],
   "source": [
    "# calculate the mean (mu) and sd (sigma) of the delays in the population\n",
    "\n",
    "delays = united.column('Delay')\n",
    "mean_delay = np.mean(delays)\n",
    "sd_delay = np.std(delays)\n",
    "\n",
    "# display mu and sigma\n",
    "mean_delay, sd_delay\n"
   ]
  },
  {
   "cell_type": "code",
   "execution_count": null,
   "metadata": {},
   "outputs": [],
   "source": [
    "# visualize the data (which is not normal!)\n",
    "united.hist('Delay', bins = np.arange(-20, 300, 10))\n",
    "plots.plot([mean_delay, mean_delay], [0, .042], color = \"red\", lw = 2);"
   ]
  },
  {
   "cell_type": "code",
   "execution_count": null,
   "metadata": {},
   "outputs": [],
   "source": [
    "# Take random sample from population of size sample_size \n",
    "# Repeat to get empirical distribution of sample average\n",
    "\n",
    "sample_size = 400\n",
    "\n",
    "means_400 = make_array()\n",
    "\n",
    "for i in np.arange(10000):\n",
    "    sampled_flights = united.sample(sample_size)\n",
    "    sample_mean = np.mean(sampled_flights.column('Delay'))\n",
    "    means_400 = np.append(means_400, sample_mean)"
   ]
  },
  {
   "cell_type": "code",
   "execution_count": null,
   "metadata": {
    "scrolled": true
   },
   "outputs": [],
   "source": [
    "# visualize the distribution of sample means\n",
    "Table().with_columns('Sample Mean', means_400).hist(bins = 20)\n",
    "plots.plot([np.mean(means_400), np.mean(means_400)], [0, .22], color = \"red\", lw = 2);\n",
    "\n",
    "plots.title('Sample Size ' + str(sample_size))\n",
    "plots.xlabel('Sample Average')\n"
   ]
  },
  {
   "cell_type": "code",
   "execution_count": null,
   "metadata": {},
   "outputs": [],
   "source": [
    "# Compare population mean to the mean of the sampling distribution\n",
    "mean_delay, np.mean(means_400)"
   ]
  },
  {
   "cell_type": "code",
   "execution_count": null,
   "metadata": {},
   "outputs": [],
   "source": [
    "# Compare population standard deviation (sigma) to the standard devation of the sampling distribution (SE)\n",
    "sd_delay, np.std(means_400)"
   ]
  },
  {
   "cell_type": "markdown",
   "metadata": {},
   "source": [
    "## Variability of the Sample Average ##"
   ]
  },
  {
   "cell_type": "code",
   "execution_count": null,
   "metadata": {},
   "outputs": [],
   "source": [
    "# Let's examine a distribution of sample means, where each mean comes from a larger sample size (n = 900)\n",
    "\n",
    "sample_size = 900\n",
    "\n",
    "means_900 = make_array()\n",
    "\n",
    "for i in np.arange(10000):\n",
    "    sampled_flights = united.sample(sample_size)\n",
    "    sample_mean = np.mean(sampled_flights.column('Delay'))\n",
    "    means_900 = np.append(means_900, sample_mean)"
   ]
  },
  {
   "cell_type": "code",
   "execution_count": null,
   "metadata": {},
   "outputs": [],
   "source": [
    "# compare the sampling distributions for sample sizes of n = 400, and n = 900\n",
    "means_tbl = Table().with_columns(\n",
    "    '400', means_400,\n",
    "    '900', means_900\n",
    ")"
   ]
  },
  {
   "cell_type": "code",
   "execution_count": null,
   "metadata": {},
   "outputs": [],
   "source": [
    "means_tbl.hist(bins = np.arange(5, 31, 0.5))\n",
    "plots.title('Distribution of Sample Average');"
   ]
  },
  {
   "cell_type": "markdown",
   "metadata": {},
   "source": [
    "### Exploring the relationship between sample size (n) and the spread of the sampling distribution (SE)"
   ]
  },
  {
   "cell_type": "code",
   "execution_count": null,
   "metadata": {},
   "outputs": [],
   "source": [
    "# a function that computes the sampling distribution of sample means for the United flight delays\n",
    "\n",
    "def sample_means(sample_size):\n",
    "    \"\"\"Empirical distribution of random sample means\"\"\"\n",
    "    \n",
    "    repetitions = 10000\n",
    "    means = make_array()\n",
    "\n",
    "    for i in range(repetitions):\n",
    "        sampled_flights = united.sample(sample_size)\n",
    "        sample_mean = np.mean(sampled_flights.column('Delay'))\n",
    "        means = np.append(means, sample_mean)\n",
    "\n",
    "    sample_means = Table().with_column('Sample Means', means)\n",
    "    \n",
    "    # Display empirical histogram and print all relevant quantities\n",
    "    sample_means.hist(bins=np.arange(5, 36, 1))\n",
    "    plots.xlabel('Sample Means')\n",
    "    plots.title('Sample Size ' + str(sample_size))\n",
    "    print(\"Sample size: \", sample_size)\n",
    "    print(\"\\nPopulation mean (mu):\", np.mean(united.column('Delay')))\n",
    "    print(\"Average of sample means: \", np.mean(means))\n",
    "    print(\"\\nPopulation SD (sigma):\", np.std(united.column('Delay')))\n",
    "    print(\"SD of sample means (SE):\", np.std(means))\n",
    "    print(\"Population SD divided by sqrt of the sample size (sigma/sqr(n)):\", np.std(united.column('Delay'))/np.sqrt(sample_size))"
   ]
  },
  {
   "cell_type": "code",
   "execution_count": null,
   "metadata": {},
   "outputs": [],
   "source": [
    "# run the function for a sample size of n = 100\n",
    "sample_means(100)"
   ]
  },
  {
   "cell_type": "code",
   "execution_count": null,
   "metadata": {},
   "outputs": [],
   "source": [
    "# run the function for a sample size of n = 400\n",
    "sample_means(400)"
   ]
  },
  {
   "cell_type": "code",
   "execution_count": null,
   "metadata": {},
   "outputs": [],
   "source": [
    "# run the function for a sample size of n = 625\n",
    "sample_means(625)"
   ]
  },
  {
   "cell_type": "code",
   "execution_count": null,
   "metadata": {},
   "outputs": [],
   "source": [
    "# compare standard error estimates for a sequence of sample sizes\n",
    "sample_sizes = np.arange(50, 401, 50)\n",
    "\n",
    "sd_of_sample_means = make_array()\n",
    "\n",
    "for n in sample_sizes:\n",
    "    means = make_array()\n",
    "    for i in np.arange(10000):\n",
    "        means = np.append(means, np.mean(united.sample(n).column('Delay')))\n",
    "    sd_of_sample_means = np.append(sd_of_sample_means, np.std(means))"
   ]
  },
  {
   "cell_type": "code",
   "execution_count": null,
   "metadata": {},
   "outputs": [],
   "source": [
    "# display the results in a table\n",
    "sd_comparison = Table().with_columns(\n",
    "    'Sample Size n', sample_sizes,\n",
    "    'SD of 10,000 Sample Means', sd_of_sample_means,\n",
    "    'Population_SD/sqrt(n)', sd_delay/np.sqrt(sample_sizes)\n",
    ")"
   ]
  },
  {
   "cell_type": "code",
   "execution_count": null,
   "metadata": {},
   "outputs": [],
   "source": [
    "sd_comparison"
   ]
  },
  {
   "cell_type": "code",
   "execution_count": null,
   "metadata": {},
   "outputs": [],
   "source": [
    "# visualize the comparison of theoretical SEs and empirical SEs\n",
    "sd_comparison.scatter('Sample Size n')"
   ]
  },
  {
   "cell_type": "markdown",
   "metadata": {},
   "source": [
    "## Confidence interval using the SE formula"
   ]
  },
  {
   "cell_type": "code",
   "execution_count": null,
   "metadata": {},
   "outputs": [],
   "source": [
    "# Get a random sample size n = 100 of flight delays\n",
    "sample_size = 100\n",
    "my_sample = united.sample(sample_size, with_replacement = False).column(\"Delay\")\n",
    "my_sample"
   ]
  },
  {
   "cell_type": "code",
   "execution_count": null,
   "metadata": {},
   "outputs": [],
   "source": [
    "# calculate the sample mean and sample SD\n",
    "my_mean = np.mean(my_sample)\n",
    "my_sd = np.std(my_sample)"
   ]
  },
  {
   "cell_type": "code",
   "execution_count": null,
   "metadata": {},
   "outputs": [],
   "source": [
    "# calculate an approximate standard error (really we need to use a t-distribution)\n",
    "approx_SE = my_sd/np.sqrt(sample_size)\n"
   ]
  },
  {
   "cell_type": "code",
   "execution_count": null,
   "metadata": {},
   "outputs": [],
   "source": [
    "# calculate an approximate confidence interval using:  mean +/- 2 * SE\n",
    "(my_mean - 2 * approx_SE, my_mean + 2 * approx_SE)\n"
   ]
  },
  {
   "cell_type": "code",
   "execution_count": null,
   "metadata": {},
   "outputs": [],
   "source": [
    "# Did it capture the population mean mu? \n",
    "np.mean(delays)"
   ]
  },
  {
   "cell_type": "markdown",
   "metadata": {},
   "source": [
    "## Confidence interval for a proportion"
   ]
  },
  {
   "cell_type": "code",
   "execution_count": null,
   "metadata": {},
   "outputs": [],
   "source": [
    "# Let's look at the flights flying to JFK airport\n",
    "united.group(\"Destination\").where(\"Destination\", \"JFK\")\n"
   ]
  },
  {
   "cell_type": "code",
   "execution_count": null,
   "metadata": {},
   "outputs": [],
   "source": [
    "# calculate the population proportion (pi)\n",
    "pop_proportion = np.mean(united.column('Destination') == \"JFK\")\n",
    "pop_proportion"
   ]
  },
  {
   "cell_type": "code",
   "execution_count": null,
   "metadata": {},
   "outputs": [],
   "source": [
    "sample_size = 900\n",
    "\n",
    "proportions_900 = make_array()\n",
    "\n",
    "for i in np.arange(10000):\n",
    "    sampled_flights = united.sample(sample_size)\n",
    "    sample_proportion = np.mean(sampled_flights.column('Destination') == \"JFK\")\n",
    "    proportions_900 = np.append(proportions_900, sample_proportion)"
   ]
  },
  {
   "cell_type": "code",
   "execution_count": null,
   "metadata": {},
   "outputs": [],
   "source": [
    "Table().with_column('Sample Proportions', proportions_900).hist()"
   ]
  },
  {
   "cell_type": "code",
   "execution_count": null,
   "metadata": {},
   "outputs": [],
   "source": [
    "# calculate a confidence interval\n",
    "# only valid when n * proportion and (n - 1) * proportion are greater than 10\n",
    "\n",
    "sample_size = 900\n",
    "\n",
    "one_sample = united.sample(sample_size)\n",
    "sample_proportion = np.mean(one_sample.column('Destination') == \"JFK\")\n",
    "\n",
    "SE_prop = .5/np.sqrt(sample_size)\n",
    "\n",
    "(sample_proportion - 2 * SE_prop, sample_proportion + 2 * SE_prop)\n"
   ]
  },
  {
   "cell_type": "code",
   "execution_count": null,
   "metadata": {},
   "outputs": [],
   "source": [
    "# does the confidence interval capture the population proportion of flights going to JFK? \n",
    "pop_proportion"
   ]
  }
 ],
 "metadata": {
  "anaconda-cloud": {},
  "kernelspec": {
   "display_name": "Python 3",
   "language": "python",
   "name": "python3"
  },
  "language_info": {
   "codemirror_mode": {
    "name": "ipython",
    "version": 3
   },
   "file_extension": ".py",
   "mimetype": "text/x-python",
   "name": "python",
   "nbconvert_exporter": "python",
   "pygments_lexer": "ipython3",
   "version": "3.7.3"
  }
 },
 "nbformat": 4,
 "nbformat_minor": 1
}
