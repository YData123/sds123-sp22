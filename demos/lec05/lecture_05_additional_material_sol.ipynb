{
 "cells": [
  {
   "cell_type": "code",
   "execution_count": 1,
   "metadata": {},
   "outputs": [],
   "source": [
    "from datascience import *\n",
    "import numpy as np\n",
    "\n",
    "%matplotlib inline\n",
    "import matplotlib.pyplot as plots\n",
    "plots.style.use('fivethirtyeight')"
   ]
  },
  {
   "cell_type": "markdown",
   "metadata": {},
   "source": [
    "## Reading a Table from a File  ##\n",
    "\n",
    "More commonly, we create tables by reading data file (usually a comma separated value (.csv) file).\n",
    "\n",
    "Let's explore this by looking at data on the number of troops in Napoleon's army as they tried to invade Russia in 1812. This data was the data that was used by [Charles Joseph Minard](https://en.wikipedia.org/wiki/Charles_Joseph_Minard) to create his famous visualization of these events. Please see [Chapter 6](https://inferentialthinking.com/chapters/06/Tables.html) of the class texbook for more on this topic.  "
   ]
  },
  {
   "cell_type": "code",
   "execution_count": 2,
   "metadata": {},
   "outputs": [],
   "source": [
    "minard = Table.read_table('minard.csv')"
   ]
  },
  {
   "cell_type": "code",
   "execution_count": 3,
   "metadata": {},
   "outputs": [
    {
     "data": {
      "text/html": [
       "<table border=\"1\" class=\"dataframe\">\n",
       "    <thead>\n",
       "        <tr>\n",
       "            <th>Longitude</th> <th>Latitude</th> <th>City</th> <th>Direction</th> <th>Survivors</th>\n",
       "        </tr>\n",
       "    </thead>\n",
       "    <tbody>\n",
       "        <tr>\n",
       "            <td>32       </td> <td>54.8    </td> <td>Smolensk   </td> <td>Advance  </td> <td>145000   </td>\n",
       "        </tr>\n",
       "        <tr>\n",
       "            <td>33.2     </td> <td>54.9    </td> <td>Dorogobouge</td> <td>Advance  </td> <td>140000   </td>\n",
       "        </tr>\n",
       "        <tr>\n",
       "            <td>34.4     </td> <td>55.5    </td> <td>Chjat      </td> <td>Advance  </td> <td>127100   </td>\n",
       "        </tr>\n",
       "        <tr>\n",
       "            <td>37.6     </td> <td>55.8    </td> <td>Moscou     </td> <td>Advance  </td> <td>100000   </td>\n",
       "        </tr>\n",
       "        <tr>\n",
       "            <td>34.3     </td> <td>55.2    </td> <td>Wixma      </td> <td>Retreat  </td> <td>55000    </td>\n",
       "        </tr>\n",
       "        <tr>\n",
       "            <td>32       </td> <td>54.6    </td> <td>Smolensk   </td> <td>Retreat  </td> <td>24000    </td>\n",
       "        </tr>\n",
       "        <tr>\n",
       "            <td>30.4     </td> <td>54.4    </td> <td>Orscha     </td> <td>Retreat  </td> <td>20000    </td>\n",
       "        </tr>\n",
       "        <tr>\n",
       "            <td>26.8     </td> <td>54.3    </td> <td>Moiodexno  </td> <td>Retreat  </td> <td>12000    </td>\n",
       "        </tr>\n",
       "    </tbody>\n",
       "</table>"
      ],
      "text/plain": [
       "Longitude | Latitude | City        | Direction | Survivors\n",
       "32        | 54.8     | Smolensk    | Advance   | 145000\n",
       "33.2      | 54.9     | Dorogobouge | Advance   | 140000\n",
       "34.4      | 55.5     | Chjat       | Advance   | 127100\n",
       "37.6      | 55.8     | Moscou      | Advance   | 100000\n",
       "34.3      | 55.2     | Wixma       | Retreat   | 55000\n",
       "32        | 54.6     | Smolensk    | Retreat   | 24000\n",
       "30.4      | 54.4     | Orscha      | Retreat   | 20000\n",
       "26.8      | 54.3     | Moiodexno   | Retreat   | 12000"
      ]
     },
     "execution_count": 3,
     "metadata": {},
     "output_type": "execute_result"
    }
   ],
   "source": [
    "minard"
   ]
  },
  {
   "cell_type": "markdown",
   "metadata": {},
   "source": [
    "## Selecting data in a column ##"
   ]
  },
  {
   "cell_type": "code",
   "execution_count": 4,
   "metadata": {},
   "outputs": [
    {
     "data": {
      "text/html": [
       "<table border=\"1\" class=\"dataframe\">\n",
       "    <thead>\n",
       "        <tr>\n",
       "            <th>Survivors</th>\n",
       "        </tr>\n",
       "    </thead>\n",
       "    <tbody>\n",
       "        <tr>\n",
       "            <td>145000   </td>\n",
       "        </tr>\n",
       "        <tr>\n",
       "            <td>140000   </td>\n",
       "        </tr>\n",
       "        <tr>\n",
       "            <td>127100   </td>\n",
       "        </tr>\n",
       "        <tr>\n",
       "            <td>100000   </td>\n",
       "        </tr>\n",
       "        <tr>\n",
       "            <td>55000    </td>\n",
       "        </tr>\n",
       "        <tr>\n",
       "            <td>24000    </td>\n",
       "        </tr>\n",
       "        <tr>\n",
       "            <td>20000    </td>\n",
       "        </tr>\n",
       "        <tr>\n",
       "            <td>12000    </td>\n",
       "        </tr>\n",
       "    </tbody>\n",
       "</table>"
      ],
      "text/plain": [
       "Survivors\n",
       "145000\n",
       "140000\n",
       "127100\n",
       "100000\n",
       "55000\n",
       "24000\n",
       "20000\n",
       "12000"
      ]
     },
     "execution_count": 4,
     "metadata": {},
     "output_type": "execute_result"
    }
   ],
   "source": [
    "minard.select('Survivors')"
   ]
  },
  {
   "cell_type": "code",
   "execution_count": 5,
   "metadata": {},
   "outputs": [
    {
     "data": {
      "text/plain": [
       "array([145000, 140000, 127100, 100000,  55000,  24000,  20000,  12000])"
      ]
     },
     "execution_count": 5,
     "metadata": {},
     "output_type": "execute_result"
    }
   ],
   "source": [
    "minard.column('Survivors')"
   ]
  },
  {
   "cell_type": "code",
   "execution_count": 6,
   "metadata": {},
   "outputs": [
    {
     "data": {
      "text/plain": [
       "145000"
      ]
     },
     "execution_count": 6,
     "metadata": {},
     "output_type": "execute_result"
    }
   ],
   "source": [
    "minard.column('Survivors').item(0)"
   ]
  },
  {
   "cell_type": "markdown",
   "metadata": {},
   "source": [
    "## Extending a table with a new column ##"
   ]
  },
  {
   "cell_type": "code",
   "execution_count": 7,
   "metadata": {},
   "outputs": [
    {
     "data": {
      "text/plain": [
       "145000"
      ]
     },
     "execution_count": 7,
     "metadata": {},
     "output_type": "execute_result"
    }
   ],
   "source": [
    "initial_count = minard.column('Survivors').item(0)\n",
    "initial_count"
   ]
  },
  {
   "cell_type": "code",
   "execution_count": 8,
   "metadata": {},
   "outputs": [
    {
     "data": {
      "text/plain": [
       "array([1.        , 0.96551724, 0.87655172, 0.68965517, 0.37931034,\n",
       "       0.16551724, 0.13793103, 0.08275862])"
      ]
     },
     "execution_count": 8,
     "metadata": {},
     "output_type": "execute_result"
    }
   ],
   "source": [
    "proportion_surviving = minard.column('Survivors')/initial_count\n",
    "proportion_surviving"
   ]
  },
  {
   "cell_type": "code",
   "execution_count": 9,
   "metadata": {},
   "outputs": [],
   "source": [
    "minard = minard.with_column('Percent surviving', proportion_surviving)"
   ]
  },
  {
   "cell_type": "code",
   "execution_count": 10,
   "metadata": {},
   "outputs": [
    {
     "data": {
      "text/html": [
       "<table border=\"1\" class=\"dataframe\">\n",
       "    <thead>\n",
       "        <tr>\n",
       "            <th>Longitude</th> <th>Latitude</th> <th>City</th> <th>Direction</th> <th>Survivors</th> <th>Percent surviving</th>\n",
       "        </tr>\n",
       "    </thead>\n",
       "    <tbody>\n",
       "        <tr>\n",
       "            <td>32       </td> <td>54.8    </td> <td>Smolensk   </td> <td>Advance  </td> <td>145000   </td> <td>1                </td>\n",
       "        </tr>\n",
       "        <tr>\n",
       "            <td>33.2     </td> <td>54.9    </td> <td>Dorogobouge</td> <td>Advance  </td> <td>140000   </td> <td>0.965517         </td>\n",
       "        </tr>\n",
       "        <tr>\n",
       "            <td>34.4     </td> <td>55.5    </td> <td>Chjat      </td> <td>Advance  </td> <td>127100   </td> <td>0.876552         </td>\n",
       "        </tr>\n",
       "        <tr>\n",
       "            <td>37.6     </td> <td>55.8    </td> <td>Moscou     </td> <td>Advance  </td> <td>100000   </td> <td>0.689655         </td>\n",
       "        </tr>\n",
       "        <tr>\n",
       "            <td>34.3     </td> <td>55.2    </td> <td>Wixma      </td> <td>Retreat  </td> <td>55000    </td> <td>0.37931          </td>\n",
       "        </tr>\n",
       "        <tr>\n",
       "            <td>32       </td> <td>54.6    </td> <td>Smolensk   </td> <td>Retreat  </td> <td>24000    </td> <td>0.165517         </td>\n",
       "        </tr>\n",
       "        <tr>\n",
       "            <td>30.4     </td> <td>54.4    </td> <td>Orscha     </td> <td>Retreat  </td> <td>20000    </td> <td>0.137931         </td>\n",
       "        </tr>\n",
       "        <tr>\n",
       "            <td>26.8     </td> <td>54.3    </td> <td>Moiodexno  </td> <td>Retreat  </td> <td>12000    </td> <td>0.0827586        </td>\n",
       "        </tr>\n",
       "    </tbody>\n",
       "</table>"
      ],
      "text/plain": [
       "Longitude | Latitude | City        | Direction | Survivors | Percent surviving\n",
       "32        | 54.8     | Smolensk    | Advance   | 145000    | 1\n",
       "33.2      | 54.9     | Dorogobouge | Advance   | 140000    | 0.965517\n",
       "34.4      | 55.5     | Chjat       | Advance   | 127100    | 0.876552\n",
       "37.6      | 55.8     | Moscou      | Advance   | 100000    | 0.689655\n",
       "34.3      | 55.2     | Wixma       | Retreat   | 55000     | 0.37931\n",
       "32        | 54.6     | Smolensk    | Retreat   | 24000     | 0.165517\n",
       "30.4      | 54.4     | Orscha      | Retreat   | 20000     | 0.137931\n",
       "26.8      | 54.3     | Moiodexno   | Retreat   | 12000     | 0.0827586"
      ]
     },
     "execution_count": 10,
     "metadata": {},
     "output_type": "execute_result"
    }
   ],
   "source": [
    "minard"
   ]
  },
  {
   "cell_type": "code",
   "execution_count": 11,
   "metadata": {},
   "outputs": [
    {
     "data": {
      "text/html": [
       "<table border=\"1\" class=\"dataframe\">\n",
       "    <thead>\n",
       "        <tr>\n",
       "            <th>Longitude</th> <th>Latitude</th> <th>City</th> <th>Direction</th> <th>Survivors</th> <th>Percent surviving</th>\n",
       "        </tr>\n",
       "    </thead>\n",
       "    <tbody>\n",
       "        <tr>\n",
       "            <td>32       </td> <td>54.8    </td> <td>Smolensk   </td> <td>Advance  </td> <td>145000   </td> <td>100.00%          </td>\n",
       "        </tr>\n",
       "        <tr>\n",
       "            <td>33.2     </td> <td>54.9    </td> <td>Dorogobouge</td> <td>Advance  </td> <td>140000   </td> <td>96.55%           </td>\n",
       "        </tr>\n",
       "        <tr>\n",
       "            <td>34.4     </td> <td>55.5    </td> <td>Chjat      </td> <td>Advance  </td> <td>127100   </td> <td>87.66%           </td>\n",
       "        </tr>\n",
       "        <tr>\n",
       "            <td>37.6     </td> <td>55.8    </td> <td>Moscou     </td> <td>Advance  </td> <td>100000   </td> <td>68.97%           </td>\n",
       "        </tr>\n",
       "        <tr>\n",
       "            <td>34.3     </td> <td>55.2    </td> <td>Wixma      </td> <td>Retreat  </td> <td>55000    </td> <td>37.93%           </td>\n",
       "        </tr>\n",
       "        <tr>\n",
       "            <td>32       </td> <td>54.6    </td> <td>Smolensk   </td> <td>Retreat  </td> <td>24000    </td> <td>16.55%           </td>\n",
       "        </tr>\n",
       "        <tr>\n",
       "            <td>30.4     </td> <td>54.4    </td> <td>Orscha     </td> <td>Retreat  </td> <td>20000    </td> <td>13.79%           </td>\n",
       "        </tr>\n",
       "        <tr>\n",
       "            <td>26.8     </td> <td>54.3    </td> <td>Moiodexno  </td> <td>Retreat  </td> <td>12000    </td> <td>8.28%            </td>\n",
       "        </tr>\n",
       "    </tbody>\n",
       "</table>"
      ],
      "text/plain": [
       "Longitude | Latitude | City        | Direction | Survivors | Percent surviving\n",
       "32        | 54.8     | Smolensk    | Advance   | 145000    | 100.00%\n",
       "33.2      | 54.9     | Dorogobouge | Advance   | 140000    | 96.55%\n",
       "34.4      | 55.5     | Chjat       | Advance   | 127100    | 87.66%\n",
       "37.6      | 55.8     | Moscou      | Advance   | 100000    | 68.97%\n",
       "34.3      | 55.2     | Wixma       | Retreat   | 55000     | 37.93%\n",
       "32        | 54.6     | Smolensk    | Retreat   | 24000     | 16.55%\n",
       "30.4      | 54.4     | Orscha      | Retreat   | 20000     | 13.79%\n",
       "26.8      | 54.3     | Moiodexno   | Retreat   | 12000     | 8.28%"
      ]
     },
     "execution_count": 11,
     "metadata": {},
     "output_type": "execute_result"
    }
   ],
   "source": [
    "minard.set_format('Percent surviving', PercentFormatter)"
   ]
  },
  {
   "cell_type": "markdown",
   "metadata": {},
   "source": [
    "## Working with Columns ##"
   ]
  },
  {
   "cell_type": "code",
   "execution_count": 12,
   "metadata": {},
   "outputs": [],
   "source": [
    "movies = Table.read_table('movies_by_year_with_ticket_price.csv')"
   ]
  },
  {
   "cell_type": "code",
   "execution_count": 13,
   "metadata": {},
   "outputs": [
    {
     "data": {
      "text/html": [
       "<table border=\"1\" class=\"dataframe\">\n",
       "    <thead>\n",
       "        <tr>\n",
       "            <th>Year</th> <th>Average Ticket Price</th> <th>Total Gross</th> <th>Number of Movies</th> <th>#1 Movie</th>\n",
       "        </tr>\n",
       "    </thead>\n",
       "    <tbody>\n",
       "        <tr>\n",
       "            <td>2015</td> <td>8.43                </td> <td>11128.5    </td> <td>702             </td> <td>Star Wars: The Force Awakens       </td>\n",
       "        </tr>\n",
       "        <tr>\n",
       "            <td>2014</td> <td>8.17                </td> <td>10360.8    </td> <td>702             </td> <td>American Sniper                    </td>\n",
       "        </tr>\n",
       "        <tr>\n",
       "            <td>2013</td> <td>8.13                </td> <td>10923.6    </td> <td>688             </td> <td>Catching Fire                      </td>\n",
       "        </tr>\n",
       "        <tr>\n",
       "            <td>2012</td> <td>7.96                </td> <td>10837.4    </td> <td>667             </td> <td>The Avengers                       </td>\n",
       "        </tr>\n",
       "        <tr>\n",
       "            <td>2011</td> <td>7.93                </td> <td>10174.3    </td> <td>602             </td> <td>Harry Potter / Deathly Hallows (P2)</td>\n",
       "        </tr>\n",
       "        <tr>\n",
       "            <td>2010</td> <td>7.89                </td> <td>10565.6    </td> <td>536             </td> <td>Toy Story 3                        </td>\n",
       "        </tr>\n",
       "        <tr>\n",
       "            <td>2009</td> <td>7.5                 </td> <td>10595.5    </td> <td>521             </td> <td>Avatar                             </td>\n",
       "        </tr>\n",
       "        <tr>\n",
       "            <td>2008</td> <td>7.18                </td> <td>9630.7     </td> <td>608             </td> <td>The Dark Knight                    </td>\n",
       "        </tr>\n",
       "        <tr>\n",
       "            <td>2007</td> <td>6.88                </td> <td>9663.8     </td> <td>631             </td> <td>Spider-Man 3                       </td>\n",
       "        </tr>\n",
       "        <tr>\n",
       "            <td>2006</td> <td>6.55                </td> <td>9209.5     </td> <td>608             </td> <td>Dead Man's Chest                   </td>\n",
       "        </tr>\n",
       "        <tr>\n",
       "            <td>2005</td> <td>6.41                </td> <td>8840.5     </td> <td>547             </td> <td>Revenge of the Sith                </td>\n",
       "        </tr>\n",
       "        <tr>\n",
       "            <td>2004</td> <td>6.21                </td> <td>9380.5     </td> <td>551             </td> <td>Shrek 2                            </td>\n",
       "        </tr>\n",
       "        <tr>\n",
       "            <td>2003</td> <td>6.03                </td> <td>9239.7     </td> <td>506             </td> <td>Return of the King                 </td>\n",
       "        </tr>\n",
       "        <tr>\n",
       "            <td>2002</td> <td>5.8                 </td> <td>9155       </td> <td>479             </td> <td>Spider-Man                         </td>\n",
       "        </tr>\n",
       "        <tr>\n",
       "            <td>2001</td> <td>5.65                </td> <td>8412.5     </td> <td>482             </td> <td>Harry Potter / Sorcerer's Stone    </td>\n",
       "        </tr>\n",
       "        <tr>\n",
       "            <td>2000</td> <td>5.39                </td> <td>7661       </td> <td>478             </td> <td>The Grinch                         </td>\n",
       "        </tr>\n",
       "        <tr>\n",
       "            <td>1999</td> <td>5.06                </td> <td>7448       </td> <td>461             </td> <td>The Phantom Menace                 </td>\n",
       "        </tr>\n",
       "        <tr>\n",
       "            <td>1998</td> <td>4.69                </td> <td>6949       </td> <td>509             </td> <td>Saving Private Ryan                </td>\n",
       "        </tr>\n",
       "        <tr>\n",
       "            <td>1997</td> <td>4.59                </td> <td>6365.9     </td> <td>510             </td> <td>Titanic                            </td>\n",
       "        </tr>\n",
       "        <tr>\n",
       "            <td>1996</td> <td>4.42                </td> <td>5911.5     </td> <td>471             </td> <td>Independence Day                   </td>\n",
       "        </tr>\n",
       "        <tr>\n",
       "            <td>1995</td> <td>4.35                </td> <td>5493.5     </td> <td>411             </td> <td>Toy Story                          </td>\n",
       "        </tr>\n",
       "        <tr>\n",
       "            <td>1994</td> <td>4.08                </td> <td>5396.2     </td> <td>453             </td> <td>Forrest Gump                       </td>\n",
       "        </tr>\n",
       "        <tr>\n",
       "            <td>1993</td> <td>4.14                </td> <td>5154.2     </td> <td>462             </td> <td>Jurassic Park                      </td>\n",
       "        </tr>\n",
       "        <tr>\n",
       "            <td>1992</td> <td>4.15                </td> <td>4871       </td> <td>480             </td> <td>Aladdin                            </td>\n",
       "        </tr>\n",
       "        <tr>\n",
       "            <td>1991</td> <td>4.21                </td> <td>4803.2     </td> <td>458             </td> <td>Terminator 2                       </td>\n",
       "        </tr>\n",
       "        <tr>\n",
       "            <td>1990</td> <td>4.22                </td> <td>5021.8     </td> <td>410             </td> <td>Home Alone                         </td>\n",
       "        </tr>\n",
       "        <tr>\n",
       "            <td>1989</td> <td>3.99                </td> <td>5033.4     </td> <td>502             </td> <td>Batman                             </td>\n",
       "        </tr>\n",
       "        <tr>\n",
       "            <td>1988</td> <td>4.11                </td> <td>4458.4     </td> <td>510             </td> <td>Rain Man                           </td>\n",
       "        </tr>\n",
       "        <tr>\n",
       "            <td>1987</td> <td>3.91                </td> <td>4252.9     </td> <td>509             </td> <td>Three Men and a Baby               </td>\n",
       "        </tr>\n",
       "        <tr>\n",
       "            <td>1986</td> <td>3.71                </td> <td>3778       </td> <td>451             </td> <td>Top Gun                            </td>\n",
       "        </tr>\n",
       "        <tr>\n",
       "            <td>1985</td> <td>3.55                </td> <td>3749.2     </td> <td>470             </td> <td>Back to the Future                 </td>\n",
       "        </tr>\n",
       "        <tr>\n",
       "            <td>1984</td> <td>3.36                </td> <td>4031       </td> <td>536             </td> <td>Beverly Hills Cop                  </td>\n",
       "        </tr>\n",
       "        <tr>\n",
       "            <td>1983</td> <td>3.15                </td> <td>3766       </td> <td>495             </td> <td>Return of the Jedi                 </td>\n",
       "        </tr>\n",
       "        <tr>\n",
       "            <td>1982</td> <td>2.94                </td> <td>3453       </td> <td>428             </td> <td>E.T.                               </td>\n",
       "        </tr>\n",
       "        <tr>\n",
       "            <td>1981</td> <td>2.78                </td> <td>2966       </td> <td>173             </td> <td>Raiders / Lost Ark                 </td>\n",
       "        </tr>\n",
       "        <tr>\n",
       "            <td>1980</td> <td>2.69                </td> <td>2749       </td> <td>161             </td> <td>The Empire Strikes Back            </td>\n",
       "        </tr>\n",
       "    </tbody>\n",
       "</table>"
      ],
      "text/plain": [
       "<IPython.core.display.HTML object>"
      ]
     },
     "metadata": {},
     "output_type": "display_data"
    }
   ],
   "source": [
    "movies.show()"
   ]
  },
  {
   "cell_type": "code",
   "execution_count": 14,
   "metadata": {},
   "outputs": [
    {
     "data": {
      "text/plain": [
       "('Year', 'Average Ticket Price', 'Total Gross', 'Number of Movies', '#1 Movie')"
      ]
     },
     "execution_count": 14,
     "metadata": {},
     "output_type": "execute_result"
    }
   ],
   "source": [
    "movies.labels"
   ]
  },
  {
   "cell_type": "code",
   "execution_count": 15,
   "metadata": {},
   "outputs": [
    {
     "data": {
      "text/plain": [
       "36"
      ]
     },
     "execution_count": 15,
     "metadata": {},
     "output_type": "execute_result"
    }
   ],
   "source": [
    "movies.num_rows"
   ]
  },
  {
   "cell_type": "code",
   "execution_count": 16,
   "metadata": {},
   "outputs": [],
   "source": [
    "number_of_tix = movies.column('Total Gross') * (10 ** 6) / movies.column('Average Ticket Price')"
   ]
  },
  {
   "cell_type": "code",
   "execution_count": 17,
   "metadata": {},
   "outputs": [],
   "source": [
    "movies = movies.with_column('Number of tickets', number_of_tix)"
   ]
  },
  {
   "cell_type": "code",
   "execution_count": 18,
   "metadata": {},
   "outputs": [
    {
     "data": {
      "text/html": [
       "<table border=\"1\" class=\"dataframe\">\n",
       "    <thead>\n",
       "        <tr>\n",
       "            <th>Year</th> <th>Average Ticket Price</th> <th>Total Gross</th> <th>Number of Movies</th> <th>#1 Movie</th> <th>Number of tickets</th>\n",
       "        </tr>\n",
       "    </thead>\n",
       "    <tbody>\n",
       "        <tr>\n",
       "            <td>2015</td> <td>8.43                </td> <td>11128.5    </td> <td>702             </td> <td>Star Wars: The Force Awakens       </td> <td>1.32011e+09      </td>\n",
       "        </tr>\n",
       "        <tr>\n",
       "            <td>2014</td> <td>8.17                </td> <td>10360.8    </td> <td>702             </td> <td>American Sniper                    </td> <td>1.26815e+09      </td>\n",
       "        </tr>\n",
       "        <tr>\n",
       "            <td>2013</td> <td>8.13                </td> <td>10923.6    </td> <td>688             </td> <td>Catching Fire                      </td> <td>1.34362e+09      </td>\n",
       "        </tr>\n",
       "        <tr>\n",
       "            <td>2012</td> <td>7.96                </td> <td>10837.4    </td> <td>667             </td> <td>The Avengers                       </td> <td>1.36148e+09      </td>\n",
       "        </tr>\n",
       "        <tr>\n",
       "            <td>2011</td> <td>7.93                </td> <td>10174.3    </td> <td>602             </td> <td>Harry Potter / Deathly Hallows (P2)</td> <td>1.28301e+09      </td>\n",
       "        </tr>\n",
       "        <tr>\n",
       "            <td>2010</td> <td>7.89                </td> <td>10565.6    </td> <td>536             </td> <td>Toy Story 3                        </td> <td>1.33911e+09      </td>\n",
       "        </tr>\n",
       "        <tr>\n",
       "            <td>2009</td> <td>7.5                 </td> <td>10595.5    </td> <td>521             </td> <td>Avatar                             </td> <td>1.41273e+09      </td>\n",
       "        </tr>\n",
       "        <tr>\n",
       "            <td>2008</td> <td>7.18                </td> <td>9630.7     </td> <td>608             </td> <td>The Dark Knight                    </td> <td>1.34132e+09      </td>\n",
       "        </tr>\n",
       "        <tr>\n",
       "            <td>2007</td> <td>6.88                </td> <td>9663.8     </td> <td>631             </td> <td>Spider-Man 3                       </td> <td>1.40462e+09      </td>\n",
       "        </tr>\n",
       "        <tr>\n",
       "            <td>2006</td> <td>6.55                </td> <td>9209.5     </td> <td>608             </td> <td>Dead Man's Chest                   </td> <td>1.40603e+09      </td>\n",
       "        </tr>\n",
       "    </tbody>\n",
       "</table>\n",
       "<p>... (26 rows omitted)</p>"
      ],
      "text/plain": [
       "Year | Average Ticket Price | Total Gross | Number of Movies | #1 Movie                            | Number of tickets\n",
       "2015 | 8.43                 | 11128.5     | 702              | Star Wars: The Force Awakens        | 1.32011e+09\n",
       "2014 | 8.17                 | 10360.8     | 702              | American Sniper                     | 1.26815e+09\n",
       "2013 | 8.13                 | 10923.6     | 688              | Catching Fire                       | 1.34362e+09\n",
       "2012 | 7.96                 | 10837.4     | 667              | The Avengers                        | 1.36148e+09\n",
       "2011 | 7.93                 | 10174.3     | 602              | Harry Potter / Deathly Hallows (P2) | 1.28301e+09\n",
       "2010 | 7.89                 | 10565.6     | 536              | Toy Story 3                         | 1.33911e+09\n",
       "2009 | 7.5                  | 10595.5     | 521              | Avatar                              | 1.41273e+09\n",
       "2008 | 7.18                 | 9630.7      | 608              | The Dark Knight                     | 1.34132e+09\n",
       "2007 | 6.88                 | 9663.8      | 631              | Spider-Man 3                        | 1.40462e+09\n",
       "2006 | 6.55                 | 9209.5      | 608              | Dead Man's Chest                    | 1.40603e+09\n",
       "... (26 rows omitted)"
      ]
     },
     "execution_count": 18,
     "metadata": {},
     "output_type": "execute_result"
    }
   ],
   "source": [
    "movies"
   ]
  },
  {
   "cell_type": "code",
   "execution_count": 19,
   "metadata": {},
   "outputs": [
    {
     "data": {
      "text/html": [
       "<table border=\"1\" class=\"dataframe\">\n",
       "    <thead>\n",
       "        <tr>\n",
       "            <th>Year</th> <th>Average Ticket Price</th> <th>Total Gross</th> <th>Number of Movies</th> <th>#1 Movie</th> <th>Number of tickets</th>\n",
       "        </tr>\n",
       "    </thead>\n",
       "    <tbody>\n",
       "        <tr>\n",
       "            <td>2015</td> <td>8.43                </td> <td>11128.5    </td> <td>702             </td> <td>Star Wars: The Force Awakens       </td> <td>1,320,106,761.57 </td>\n",
       "        </tr>\n",
       "        <tr>\n",
       "            <td>2014</td> <td>8.17                </td> <td>10360.8    </td> <td>702             </td> <td>American Sniper                    </td> <td>1,268,151,774.79 </td>\n",
       "        </tr>\n",
       "        <tr>\n",
       "            <td>2013</td> <td>8.13                </td> <td>10923.6    </td> <td>688             </td> <td>Catching Fire                      </td> <td>1,343,616,236.16 </td>\n",
       "        </tr>\n",
       "        <tr>\n",
       "            <td>2012</td> <td>7.96                </td> <td>10837.4    </td> <td>667             </td> <td>The Avengers                       </td> <td>1,361,482,412.06 </td>\n",
       "        </tr>\n",
       "        <tr>\n",
       "            <td>2011</td> <td>7.93                </td> <td>10174.3    </td> <td>602             </td> <td>Harry Potter / Deathly Hallows (P2)</td> <td>1,283,013,871.37 </td>\n",
       "        </tr>\n",
       "        <tr>\n",
       "            <td>2010</td> <td>7.89                </td> <td>10565.6    </td> <td>536             </td> <td>Toy Story 3                        </td> <td>1,339,112,801.01 </td>\n",
       "        </tr>\n",
       "        <tr>\n",
       "            <td>2009</td> <td>7.5                 </td> <td>10595.5    </td> <td>521             </td> <td>Avatar                             </td> <td>1,412,733,333.33 </td>\n",
       "        </tr>\n",
       "        <tr>\n",
       "            <td>2008</td> <td>7.18                </td> <td>9630.7     </td> <td>608             </td> <td>The Dark Knight                    </td> <td>1,341,323,119.78 </td>\n",
       "        </tr>\n",
       "        <tr>\n",
       "            <td>2007</td> <td>6.88                </td> <td>9663.8     </td> <td>631             </td> <td>Spider-Man 3                       </td> <td>1,404,622,093.02 </td>\n",
       "        </tr>\n",
       "        <tr>\n",
       "            <td>2006</td> <td>6.55                </td> <td>9209.5     </td> <td>608             </td> <td>Dead Man's Chest                   </td> <td>1,406,030,534.35 </td>\n",
       "        </tr>\n",
       "    </tbody>\n",
       "</table>\n",
       "<p>... (26 rows omitted)</p>"
      ],
      "text/plain": [
       "Year | Average Ticket Price | Total Gross | Number of Movies | #1 Movie                            | Number of tickets\n",
       "2015 | 8.43                 | 11128.5     | 702              | Star Wars: The Force Awakens        | 1,320,106,761.57\n",
       "2014 | 8.17                 | 10360.8     | 702              | American Sniper                     | 1,268,151,774.79\n",
       "2013 | 8.13                 | 10923.6     | 688              | Catching Fire                       | 1,343,616,236.16\n",
       "2012 | 7.96                 | 10837.4     | 667              | The Avengers                        | 1,361,482,412.06\n",
       "2011 | 7.93                 | 10174.3     | 602              | Harry Potter / Deathly Hallows (P2) | 1,283,013,871.37\n",
       "2010 | 7.89                 | 10565.6     | 536              | Toy Story 3                         | 1,339,112,801.01\n",
       "2009 | 7.5                  | 10595.5     | 521              | Avatar                              | 1,412,733,333.33\n",
       "2008 | 7.18                 | 9630.7      | 608              | The Dark Knight                     | 1,341,323,119.78\n",
       "2007 | 6.88                 | 9663.8      | 631              | Spider-Man 3                        | 1,404,622,093.02\n",
       "2006 | 6.55                 | 9209.5      | 608              | Dead Man's Chest                    | 1,406,030,534.35\n",
       "... (26 rows omitted)"
      ]
     },
     "execution_count": 19,
     "metadata": {},
     "output_type": "execute_result"
    }
   ],
   "source": [
    "movies.set_format(5, NumberFormatter)"
   ]
  },
  {
   "cell_type": "code",
   "execution_count": 20,
   "metadata": {},
   "outputs": [
    {
     "data": {
      "image/png": "[encoded data removed]",
      "text/plain": [
       "<Figure size 432x288 with 1 Axes>"
      ]
     },
     "metadata": {},
     "output_type": "display_data"
    }
   ],
   "source": [
    "movies.plot('Year', 'Number of tickets')"
   ]
  },
  {
   "cell_type": "markdown",
   "metadata": {},
   "source": [
    "## Rows ##"
   ]
  },
  {
   "cell_type": "code",
   "execution_count": 21,
   "metadata": {},
   "outputs": [
    {
     "data": {
      "text/html": [
       "<table border=\"1\" class=\"dataframe\">\n",
       "    <thead>\n",
       "        <tr>\n",
       "            <th>Year</th> <th>Average Ticket Price</th> <th>Total Gross</th> <th>Number of Movies</th> <th>#1 Movie</th> <th>Number of tickets</th>\n",
       "        </tr>\n",
       "    </thead>\n",
       "    <tbody>\n",
       "        <tr>\n",
       "            <td>2004</td> <td>6.21                </td> <td>9380.5     </td> <td>551             </td> <td>Shrek 2                        </td> <td>1,510,547,504.03 </td>\n",
       "        </tr>\n",
       "        <tr>\n",
       "            <td>2003</td> <td>6.03                </td> <td>9239.7     </td> <td>506             </td> <td>Return of the King             </td> <td>1,532,288,557.21 </td>\n",
       "        </tr>\n",
       "        <tr>\n",
       "            <td>2002</td> <td>5.8                 </td> <td>9155       </td> <td>479             </td> <td>Spider-Man                     </td> <td>1,578,448,275.86 </td>\n",
       "        </tr>\n",
       "        <tr>\n",
       "            <td>2001</td> <td>5.65                </td> <td>8412.5     </td> <td>482             </td> <td>Harry Potter / Sorcerer's Stone</td> <td>1,488,938,053.10 </td>\n",
       "        </tr>\n",
       "        <tr>\n",
       "            <td>2000</td> <td>5.39                </td> <td>7661       </td> <td>478             </td> <td>The Grinch                     </td> <td>1,421,335,807.05 </td>\n",
       "        </tr>\n",
       "    </tbody>\n",
       "</table>"
      ],
      "text/plain": [
       "Year | Average Ticket Price | Total Gross | Number of Movies | #1 Movie                        | Number of tickets\n",
       "2004 | 6.21                 | 9380.5      | 551              | Shrek 2                         | 1,510,547,504.03\n",
       "2003 | 6.03                 | 9239.7      | 506              | Return of the King              | 1,532,288,557.21\n",
       "2002 | 5.8                  | 9155        | 479              | Spider-Man                      | 1,578,448,275.86\n",
       "2001 | 5.65                 | 8412.5      | 482              | Harry Potter / Sorcerer's Stone | 1,488,938,053.10\n",
       "2000 | 5.39                 | 7661        | 478              | The Grinch                      | 1,421,335,807.05"
      ]
     },
     "execution_count": 21,
     "metadata": {},
     "output_type": "execute_result"
    }
   ],
   "source": [
    "movies.where('Year', are.between(2000, 2005))"
   ]
  },
  {
   "cell_type": "code",
   "execution_count": 22,
   "metadata": {},
   "outputs": [
    {
     "data": {
      "text/html": [
       "<table border=\"1\" class=\"dataframe\">\n",
       "    <thead>\n",
       "        <tr>\n",
       "            <th>Year</th> <th>Average Ticket Price</th> <th>Total Gross</th> <th>Number of Movies</th> <th>#1 Movie</th> <th>Number of tickets</th>\n",
       "        </tr>\n",
       "    </thead>\n",
       "    <tbody>\n",
       "        <tr>\n",
       "            <td>2009</td> <td>7.5                 </td> <td>10595.5    </td> <td>521             </td> <td>Avatar  </td> <td>1,412,733,333.33 </td>\n",
       "        </tr>\n",
       "    </tbody>\n",
       "</table>"
      ],
      "text/plain": [
       "Year | Average Ticket Price | Total Gross | Number of Movies | #1 Movie | Number of tickets\n",
       "2009 | 7.5                  | 10595.5     | 521              | Avatar   | 1,412,733,333.33"
      ]
     },
     "execution_count": 22,
     "metadata": {},
     "output_type": "execute_result"
    }
   ],
   "source": [
    "movies.where('#1 Movie', are.equal_to('Avatar'))"
   ]
  },
  {
   "cell_type": "code",
   "execution_count": 23,
   "metadata": {},
   "outputs": [
    {
     "data": {
      "text/html": [
       "<table border=\"1\" class=\"dataframe\">\n",
       "    <thead>\n",
       "        <tr>\n",
       "            <th>Year</th> <th>Average Ticket Price</th> <th>Total Gross</th> <th>Number of Movies</th> <th>#1 Movie</th> <th>Number of tickets</th>\n",
       "        </tr>\n",
       "    </thead>\n",
       "    <tbody>\n",
       "        <tr>\n",
       "            <td>2009</td> <td>7.5                 </td> <td>10595.5    </td> <td>521             </td> <td>Avatar  </td> <td>1,412,733,333.33 </td>\n",
       "        </tr>\n",
       "    </tbody>\n",
       "</table>"
      ],
      "text/plain": [
       "Year | Average Ticket Price | Total Gross | Number of Movies | #1 Movie | Number of tickets\n",
       "2009 | 7.5                  | 10595.5     | 521              | Avatar   | 1,412,733,333.33"
      ]
     },
     "execution_count": 23,
     "metadata": {},
     "output_type": "execute_result"
    }
   ],
   "source": [
    "movies.where('#1 Movie', 'Avatar')"
   ]
  },
  {
   "cell_type": "code",
   "execution_count": 24,
   "metadata": {},
   "outputs": [
    {
     "data": {
      "text/html": [
       "<table border=\"1\" class=\"dataframe\">\n",
       "    <thead>\n",
       "        <tr>\n",
       "            <th>Year</th> <th>Average Ticket Price</th> <th>Total Gross</th> <th>Number of Movies</th> <th>#1 Movie</th> <th>Number of tickets</th>\n",
       "        </tr>\n",
       "    </thead>\n",
       "    <tbody>\n",
       "        <tr>\n",
       "            <td>2011</td> <td>7.93                </td> <td>10174.3    </td> <td>602             </td> <td>Harry Potter / Deathly Hallows (P2)</td> <td>1,283,013,871.37 </td>\n",
       "        </tr>\n",
       "        <tr>\n",
       "            <td>2001</td> <td>5.65                </td> <td>8412.5     </td> <td>482             </td> <td>Harry Potter / Sorcerer's Stone    </td> <td>1,488,938,053.10 </td>\n",
       "        </tr>\n",
       "    </tbody>\n",
       "</table>"
      ],
      "text/plain": [
       "Year | Average Ticket Price | Total Gross | Number of Movies | #1 Movie                            | Number of tickets\n",
       "2011 | 7.93                 | 10174.3     | 602              | Harry Potter / Deathly Hallows (P2) | 1,283,013,871.37\n",
       "2001 | 5.65                 | 8412.5      | 482              | Harry Potter / Sorcerer's Stone     | 1,488,938,053.10"
      ]
     },
     "execution_count": 24,
     "metadata": {},
     "output_type": "execute_result"
    }
   ],
   "source": [
    "movies.where('#1 Movie', are.containing('Harry Potter'))"
   ]
  },
  {
   "cell_type": "code",
   "execution_count": 25,
   "metadata": {},
   "outputs": [
    {
     "data": {
      "text/html": [
       "<table border=\"1\" class=\"dataframe\">\n",
       "    <thead>\n",
       "        <tr>\n",
       "            <th>Year</th> <th>Average Ticket Price</th> <th>Total Gross</th> <th>Number of Movies</th> <th>#1 Movie</th> <th>Number of tickets</th>\n",
       "        </tr>\n",
       "    </thead>\n",
       "    <tbody>\n",
       "        <tr>\n",
       "            <td>1995</td> <td>4.35                </td> <td>5493.5     </td> <td>411             </td> <td>Toy Story              </td> <td>1,262,873,563.22 </td>\n",
       "        </tr>\n",
       "        <tr>\n",
       "            <td>1990</td> <td>4.22                </td> <td>5021.8     </td> <td>410             </td> <td>Home Alone             </td> <td>1,190,000,000.00 </td>\n",
       "        </tr>\n",
       "        <tr>\n",
       "            <td>1982</td> <td>2.94                </td> <td>3453       </td> <td>428             </td> <td>E.T.                   </td> <td>1,174,489,795.92 </td>\n",
       "        </tr>\n",
       "        <tr>\n",
       "            <td>1981</td> <td>2.78                </td> <td>2966       </td> <td>173             </td> <td>Raiders / Lost Ark     </td> <td>1,066,906,474.82 </td>\n",
       "        </tr>\n",
       "        <tr>\n",
       "            <td>1980</td> <td>2.69                </td> <td>2749       </td> <td>161             </td> <td>The Empire Strikes Back</td> <td>1,021,933,085.50 </td>\n",
       "        </tr>\n",
       "    </tbody>\n",
       "</table>"
      ],
      "text/plain": [
       "Year | Average Ticket Price | Total Gross | Number of Movies | #1 Movie                | Number of tickets\n",
       "1995 | 4.35                 | 5493.5      | 411              | Toy Story               | 1,262,873,563.22\n",
       "1990 | 4.22                 | 5021.8      | 410              | Home Alone              | 1,190,000,000.00\n",
       "1982 | 2.94                 | 3453        | 428              | E.T.                    | 1,174,489,795.92\n",
       "1981 | 2.78                 | 2966        | 173              | Raiders / Lost Ark      | 1,066,906,474.82\n",
       "1980 | 2.69                 | 2749        | 161              | The Empire Strikes Back | 1,021,933,085.50"
      ]
     },
     "execution_count": 25,
     "metadata": {},
     "output_type": "execute_result"
    }
   ],
   "source": [
    "movies.where('Number of Movies', are.below(450))"
   ]
  },
  {
   "cell_type": "code",
   "execution_count": 26,
   "metadata": {},
   "outputs": [
    {
     "data": {
      "text/html": [
       "<table border=\"1\" class=\"dataframe\">\n",
       "    <thead>\n",
       "        <tr>\n",
       "            <th>Year</th> <th>Average Ticket Price</th> <th>Total Gross</th> <th>Number of Movies</th> <th>#1 Movie</th> <th>Number of tickets</th>\n",
       "        </tr>\n",
       "    </thead>\n",
       "    <tbody>\n",
       "        <tr>\n",
       "            <td>2015</td> <td>8.43                </td> <td>11128.5    </td> <td>702             </td> <td>Star Wars: The Force Awakens       </td> <td>1,320,106,761.57 </td>\n",
       "        </tr>\n",
       "        <tr>\n",
       "            <td>2014</td> <td>8.17                </td> <td>10360.8    </td> <td>702             </td> <td>American Sniper                    </td> <td>1,268,151,774.79 </td>\n",
       "        </tr>\n",
       "        <tr>\n",
       "            <td>2013</td> <td>8.13                </td> <td>10923.6    </td> <td>688             </td> <td>Catching Fire                      </td> <td>1,343,616,236.16 </td>\n",
       "        </tr>\n",
       "        <tr>\n",
       "            <td>2012</td> <td>7.96                </td> <td>10837.4    </td> <td>667             </td> <td>The Avengers                       </td> <td>1,361,482,412.06 </td>\n",
       "        </tr>\n",
       "        <tr>\n",
       "            <td>2011</td> <td>7.93                </td> <td>10174.3    </td> <td>602             </td> <td>Harry Potter / Deathly Hallows (P2)</td> <td>1,283,013,871.37 </td>\n",
       "        </tr>\n",
       "    </tbody>\n",
       "</table>"
      ],
      "text/plain": [
       "Year | Average Ticket Price | Total Gross | Number of Movies | #1 Movie                            | Number of tickets\n",
       "2015 | 8.43                 | 11128.5     | 702              | Star Wars: The Force Awakens        | 1,320,106,761.57\n",
       "2014 | 8.17                 | 10360.8     | 702              | American Sniper                     | 1,268,151,774.79\n",
       "2013 | 8.13                 | 10923.6     | 688              | Catching Fire                       | 1,343,616,236.16\n",
       "2012 | 7.96                 | 10837.4     | 667              | The Avengers                        | 1,361,482,412.06\n",
       "2011 | 7.93                 | 10174.3     | 602              | Harry Potter / Deathly Hallows (P2) | 1,283,013,871.37"
      ]
     },
     "execution_count": 26,
     "metadata": {},
     "output_type": "execute_result"
    }
   ],
   "source": [
    "movies.where('Year', are.above(2010))"
   ]
  },
  {
   "cell_type": "code",
   "execution_count": 27,
   "metadata": {},
   "outputs": [
    {
     "data": {
      "text/html": [
       "<table border=\"1\" class=\"dataframe\">\n",
       "    <thead>\n",
       "        <tr>\n",
       "            <th>Year</th> <th>Average Ticket Price</th> <th>Total Gross</th> <th>Number of Movies</th> <th>#1 Movie</th> <th>Number of tickets</th>\n",
       "        </tr>\n",
       "    </thead>\n",
       "    <tbody>\n",
       "        <tr>\n",
       "            <td>2012</td> <td>7.96                </td> <td>10837.4    </td> <td>667             </td> <td>The Avengers</td> <td>1,361,482,412.06 </td>\n",
       "        </tr>\n",
       "    </tbody>\n",
       "</table>"
      ],
      "text/plain": [
       "Year | Average Ticket Price | Total Gross | Number of Movies | #1 Movie     | Number of tickets\n",
       "2012 | 7.96                 | 10837.4     | 667              | The Avengers | 1,361,482,412.06"
      ]
     },
     "execution_count": 27,
     "metadata": {},
     "output_type": "execute_result"
    }
   ],
   "source": [
    "movies.take(3)"
   ]
  },
  {
   "cell_type": "code",
   "execution_count": 28,
   "metadata": {},
   "outputs": [
    {
     "data": {
      "text/html": [
       "<table border=\"1\" class=\"dataframe\">\n",
       "    <thead>\n",
       "        <tr>\n",
       "            <th>Year</th> <th>Average Ticket Price</th> <th>Total Gross</th> <th>Number of Movies</th> <th>#1 Movie</th> <th>Number of tickets</th>\n",
       "        </tr>\n",
       "    </thead>\n",
       "    <tbody>\n",
       "        <tr>\n",
       "            <td>2015</td> <td>8.43                </td> <td>11128.5    </td> <td>702             </td> <td>Star Wars: The Force Awakens</td> <td>1,320,106,761.57 </td>\n",
       "        </tr>\n",
       "        <tr>\n",
       "            <td>2014</td> <td>8.17                </td> <td>10360.8    </td> <td>702             </td> <td>American Sniper             </td> <td>1,268,151,774.79 </td>\n",
       "        </tr>\n",
       "        <tr>\n",
       "            <td>2013</td> <td>8.13                </td> <td>10923.6    </td> <td>688             </td> <td>Catching Fire               </td> <td>1,343,616,236.16 </td>\n",
       "        </tr>\n",
       "        <tr>\n",
       "            <td>2012</td> <td>7.96                </td> <td>10837.4    </td> <td>667             </td> <td>The Avengers                </td> <td>1,361,482,412.06 </td>\n",
       "        </tr>\n",
       "    </tbody>\n",
       "</table>"
      ],
      "text/plain": [
       "Year | Average Ticket Price | Total Gross | Number of Movies | #1 Movie                     | Number of tickets\n",
       "2015 | 8.43                 | 11128.5     | 702              | Star Wars: The Force Awakens | 1,320,106,761.57\n",
       "2014 | 8.17                 | 10360.8     | 702              | American Sniper              | 1,268,151,774.79\n",
       "2013 | 8.13                 | 10923.6     | 688              | Catching Fire                | 1,343,616,236.16\n",
       "2012 | 7.96                 | 10837.4     | 667              | The Avengers                 | 1,361,482,412.06"
      ]
     },
     "execution_count": 28,
     "metadata": {},
     "output_type": "execute_result"
    }
   ],
   "source": [
    "movies.take(np.arange(4))"
   ]
  }
 ],
 "metadata": {
  "kernelspec": {
   "display_name": "Python 3",
   "language": "python",
   "name": "python3"
  },
  "language_info": {
   "codemirror_mode": {
    "name": "ipython",
    "version": 3
   },
   "file_extension": ".py",
   "mimetype": "text/x-python",
   "name": "python",
   "nbconvert_exporter": "python",
   "pygments_lexer": "ipython3",
   "version": "3.7.3"
  }
 },
 "nbformat": 4,
 "nbformat_minor": 2
}
