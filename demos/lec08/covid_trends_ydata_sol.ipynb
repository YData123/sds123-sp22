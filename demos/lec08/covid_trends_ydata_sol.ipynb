{
 "cells": [
  {
   "cell_type": "markdown",
   "metadata": {},
   "source": [
    "## The New York Times Covid-19 Database\n",
    "\n",
    "The New York Times Covid-19 Database is \n",
    "a county-level database of confirmed cases and deaths, \n",
    "compiled from state and local governments and health departments across the United States.\n",
    "The initial release of the database was on Thursday, March 26, 2020, and it is updated daily. \n",
    "\n",
    "These data have fueled many articles and graphics by The Times; these are updated regularly at\n",
    "[https://www.nytimes.com/interactive/2020/us/coronavirus-us-cases.html](https://www.nytimes.com/interactive/2020/us/coronavirus-us-cases.html). \n",
    "The Times has created many visualizations that are effective communications of important information about the pandemic. \n",
    "\n",
    "The data are publically available via GitHub: [https://github.com/nytimes/covid-19-data](https://www.nytimes.com/interactive/2020/us/coronavirus-us-cases.html).  In this illustration we will only use\n",
    "the data aggregated at the state level. "
   ]
  },
  {
   "cell_type": "code",
   "execution_count": 1,
   "metadata": {},
   "outputs": [],
   "source": [
    "from datascience import *\n",
    "import numpy as np\n",
    "\n",
    "%matplotlib inline\n",
    "import matplotlib.pyplot as plots\n",
    "plots.style.use('fivethirtyeight')"
   ]
  },
  {
   "cell_type": "code",
   "execution_count": 2,
   "metadata": {},
   "outputs": [
    {
     "data": {
      "text/html": [
       "<table border=\"1\" class=\"dataframe\">\n",
       "    <thead>\n",
       "        <tr>\n",
       "            <th>date</th> <th>state</th> <th>cases</th> <th>deaths</th>\n",
       "        </tr>\n",
       "    </thead>\n",
       "    <tbody>\n",
       "        <tr>\n",
       "            <td>2020-01-21</td> <td>Washington</td> <td>1    </td> <td>0     </td>\n",
       "        </tr>\n",
       "        <tr>\n",
       "            <td>2020-01-22</td> <td>Washington</td> <td>1    </td> <td>0     </td>\n",
       "        </tr>\n",
       "        <tr>\n",
       "            <td>2020-01-23</td> <td>Washington</td> <td>1    </td> <td>0     </td>\n",
       "        </tr>\n",
       "        <tr>\n",
       "            <td>2020-01-24</td> <td>Illinois  </td> <td>1    </td> <td>0     </td>\n",
       "        </tr>\n",
       "        <tr>\n",
       "            <td>2020-01-24</td> <td>Washington</td> <td>1    </td> <td>0     </td>\n",
       "        </tr>\n",
       "        <tr>\n",
       "            <td>2020-01-25</td> <td>California</td> <td>1    </td> <td>0     </td>\n",
       "        </tr>\n",
       "        <tr>\n",
       "            <td>2020-01-25</td> <td>Illinois  </td> <td>1    </td> <td>0     </td>\n",
       "        </tr>\n",
       "        <tr>\n",
       "            <td>2020-01-25</td> <td>Washington</td> <td>1    </td> <td>0     </td>\n",
       "        </tr>\n",
       "        <tr>\n",
       "            <td>2020-01-26</td> <td>Arizona   </td> <td>1    </td> <td>0     </td>\n",
       "        </tr>\n",
       "        <tr>\n",
       "            <td>2020-01-26</td> <td>California</td> <td>2    </td> <td>0     </td>\n",
       "        </tr>\n",
       "    </tbody>\n",
       "</table>\n",
       "<p>... (39140 rows omitted)</p>"
      ],
      "text/plain": [
       "date       | state      | cases | deaths\n",
       "2020-01-21 | Washington | 1     | 0\n",
       "2020-01-22 | Washington | 1     | 0\n",
       "2020-01-23 | Washington | 1     | 0\n",
       "2020-01-24 | Illinois   | 1     | 0\n",
       "2020-01-24 | Washington | 1     | 0\n",
       "2020-01-25 | California | 1     | 0\n",
       "2020-01-25 | Illinois   | 1     | 0\n",
       "2020-01-25 | Washington | 1     | 0\n",
       "2020-01-26 | Arizona    | 1     | 0\n",
       "2020-01-26 | California | 2     | 0\n",
       "... (39140 rows omitted)"
      ]
     },
     "execution_count": 2,
     "metadata": {},
     "output_type": "execute_result"
    }
   ],
   "source": [
    "covid_table = Table.read_table(\"https://raw.githubusercontent.com/nytimes/covid-19-data/master/us-states.csv\")\n",
    "covid_table = covid_table.drop('fips')\n",
    "covid_table"
   ]
  },
  {
   "cell_type": "markdown",
   "metadata": {},
   "source": [
    "### Process the recent data\n",
    "\n",
    "Let's plot Covid-19 statistics for Connecticut. We could also only use data after a particular date. "
   ]
  },
  {
   "cell_type": "code",
   "execution_count": 3,
   "metadata": {},
   "outputs": [
    {
     "data": {
      "image/png": "[encoded data removed]",
      "text/plain": [
       "<Figure size 432x288 with 1 Axes>"
      ]
     },
     "metadata": {},
     "output_type": "display_data"
    }
   ],
   "source": [
    "state = 'Connecticut'\n",
    "start_date = '2020-03-08'   # computations can be made faseter if we look at only more recent dates '2021-10-01'\n",
    "state_data = covid_table.where('state', state)\n",
    "state_data = state_data.where('date', are.above(start_date))\n",
    "state_data.plot(\"date\", \"cases\")"
   ]
  },
  {
   "cell_type": "code",
   "execution_count": 4,
   "metadata": {},
   "outputs": [
    {
     "data": {
      "text/plain": [
       "array([    0,     1,     3,     5,     9,     6,    15,    27,    28,\n",
       "          63,    35,    29,   104,    88,   203,   257,   137,   279,\n",
       "         233,   469,   578,   557,   429,   267,  1091,   361,   399,\n",
       "        1231,   875,  1000,  1003,   754,   972,   525,  1346,   608,\n",
       "         766,  1129,   925,   741,   412,  1853,   545,  2109,   631,\n",
       "         821,   661,   687,   728,   315,   455,   933,  1064,   523,\n",
       "           0,   686,   648,   374,   789,   627,   573,   570,   211,\n",
       "         568,   522,   609,   621,   618,   716,   697,   314,   587,\n",
       "         191,   432,   382,   446,   405,   430,   -15,   271,   203,\n",
       "         260,   179,   539,   239,   112,   148,   221,   358,   150,\n",
       "         124,    87,   168,   114,   228,   305,    94,   147,   114,\n",
       "          80,    11,   117,   158,    40,    27,   117,    14,    81,\n",
       "          65,   147,    97,    59,   152,    58,    74,    71,     0,\n",
       "           0,   259,    57,    75,   101,    78,     0,     0,   223,\n",
       "          20,   106,   114,   143,     0,     0,   162,    41,   127,\n",
       "           9,   544,     0,     0,   207,    94,   463,   130,   140,\n",
       "           0,     0,   252,    48,   115,    20,    75,     0,     0,\n",
       "         247,   117,    22,    76,   115,     0,     0,   370,   -12,\n",
       "          59,   118,    87,     0,     0,   492,    29,   180,   130,\n",
       "         145,     0,     0,   384,   127,   102,   101,   156,     0,\n",
       "           0,     0,   417,    89,   222,   233,     0,     0,   569,\n",
       "         136,   135,   220,   141,     0,     0,   497,   136,   155,\n",
       "         157,   115,     0,     0,   560,   182,   221,   192,   555,\n",
       "           0,     0,   823,   121,   123,   384,   290,     0,     0,\n",
       "        1339,   320,   164,   167,   802,     0,     0,  1191,   434,\n",
       "         416,   502,   679,     0,     0,  2047,   538,   490,  1319,\n",
       "         761,     0,     0,  2651,   985,   530,  1687,  1065,     0,\n",
       "           0,  3338,  1524,  1754,  1158,  2746,     0,     0,  4639,\n",
       "        1702,  2042,  2353,  2088,     0,     0,  5271,   540,  1872,\n",
       "           0,  3429,     0,     0,  4714,  1459,  2672,  4751,  1538,\n",
       "           0,     0,  8129,  2414,  2290,  2431,  3782,     0,     0,\n",
       "        7231,  1470,  2319,  2321,  2680,     0,     0,  4595,  1583,\n",
       "        1745,  2038,     0,     0,     0,  8457,   767,  1696,  2045,\n",
       "           0,  4412,     0,  4516,  2332,  2486,  3304,  3236,     0,\n",
       "           0,  7364,  3689,  3529,   968,  1878,     0,     0,  6703,\n",
       "        2094,  1915,  1662,  2019,     0,     0,  5817,  1267,  2440,\n",
       "        1426,  1258,     0,     0,  3931,  2568,   482,   937,  1431,\n",
       "           0,     0,  4367,   869,   888,  1003,   838,     0,     0,\n",
       "        2905,   580,   534,   547,  1198,     0,     0,  2233,  1357,\n",
       "        1493,   975,   787,     0,     0,  2680,   502,   494,   878,\n",
       "         830,     0,     0,  2066,   749,   512,   735,  1185,     0,\n",
       "           0,  2525,   853,   373,  1156,  1207,     0,     0,  2976,\n",
       "         898,  1457,  1488,  1700,     0,     0,  3229,  1617,   832,\n",
       "        1580,  1488,     0,     0,  2699,  1074,  1038,  1012,  1807,\n",
       "           0,     0,  2985,  1118,  1609,   702,  1062,     0,     0,\n",
       "        2339,   738,   856,   737,  1034,     0,     0,  2167,   407,\n",
       "         621,   486,   786,     0,     0,  1312,   417,   609,   711,\n",
       "         436,     0,     0,   827,   409,   187,   471,   365,     0,\n",
       "           0,   662,    81,   228,   206,   171,     0,     0,   386,\n",
       "         181,    88,   157,   204,     0,     0,     0,   222,   115,\n",
       "          70,   143,     0,     0,   197,    66,   108,    57,    31,\n",
       "           0,     0,   115,    56,    39,    35,    70,     0,     0,\n",
       "          92,    45,    38,   153,   127,     0,     0,   141,    40,\n",
       "          51,    35,    89,     0,     0,     0,   175,    92,    55,\n",
       "         171,     0,     0,    70,   206,   141,   150,   139,     0,\n",
       "           0,   409,   218,   228,   295,   212,     0,     0,   589,\n",
       "         488,   391,   339,   491,     0,     0,  1245,   584,   537,\n",
       "         644,   731,     0,     0,  1287,   275,   914,   742,   542,\n",
       "           0,     0,  1581,   881,   593,   534,   431,     0,     0,\n",
       "        1554,  1071,   651,   788,   788,     0,     0,  1361,  1003,\n",
       "         712,   686,   665,     0,     0,     0,  1612,   935,   626,\n",
       "         625,     0,     0,  1348,  1050,   401,  1066,  1544,     0,\n",
       "           0,  1446,   394,   490,   591,   470,     0,     0,  1444,\n",
       "         553,   450,   165,   721,     0,     0,  1097,   411,   377,\n",
       "         548,   509,     0,     0,     0,  1473,   240,   908,   494,\n",
       "           0,     0,  1147,   709,   384,   410,   453,     0,     0,\n",
       "         899,   254,   337,   443,   424,     0,     0,   832,   412,\n",
       "         391,   431,   320,     0,     0,   941,   309,   533,   540,\n",
       "         458,     0,     0,  2179,   544,   838,   747,   860,     0,\n",
       "           0,  2060,   754,   841,     0,  1900,     0,     0,  2312,\n",
       "         907,  1093,  1627,   863,     0,     0,  5481,  1919,   789,\n",
       "        2679,  3280,     0,     0,  7893,  2999,  1723,  2085,  1443,\n",
       "           0,     0,  6209,  6000,  3366,  3416,     0,     0,     0,\n",
       "       14654,  5753,  7520,  7704,     0,     0,     0, 23678, 10602,\n",
       "       10344,  8823, 10076,     0,     0, 31405,  6751,  7318,  9604,\n",
       "        8783,     0,     0, 15844,  4264,  4745,  4805,  4444,     0,\n",
       "           0, 12057,  3824,  2795,  3036,  2684,     0,     0,  3330,\n",
       "        1240,  1786,  2445,  1269,     0,     0,  2138,  1343,  1048])"
      ]
     },
     "execution_count": 4,
     "metadata": {},
     "output_type": "execute_result"
    }
   ],
   "source": [
    "# Let's look at new cases rather than the cumulative number of cases\n",
    "# we can use the np.diff() function to get the number of new cases each day\n",
    "\n",
    "num_new_cases = np.diff(state_data.column('cases'))\n",
    "num_new_cases\n"
   ]
  },
  {
   "cell_type": "code",
   "execution_count": 5,
   "metadata": {},
   "outputs": [],
   "source": [
    "### Can we add new cases to our state_data Table? \n",
    "# state_data.with_column(\"new cases\", num_new_cases)\n"
   ]
  },
  {
   "cell_type": "code",
   "execution_count": 6,
   "metadata": {},
   "outputs": [
    {
     "name": "stdout",
     "output_type": "stream",
     "text": [
      "702\n"
     ]
    },
    {
     "data": {
      "text/plain": [
       "703"
      ]
     },
     "execution_count": 6,
     "metadata": {},
     "output_type": "execute_result"
    }
   ],
   "source": [
    "# let's examine now many entries there are in new cases vs. the number of rows in the state_data table\n",
    "print(len(num_new_cases))\n",
    "\n",
    "state_data.num_rows"
   ]
  },
  {
   "cell_type": "code",
   "execution_count": 7,
   "metadata": {},
   "outputs": [
    {
     "data": {
      "text/plain": [
       "703"
      ]
     },
     "execution_count": 7,
     "metadata": {},
     "output_type": "execute_result"
    }
   ],
   "source": [
    "# let's add an extra 0 to make num_new_cases vector the same length as the number of rows in the state_data Table \n",
    "\n",
    "num_new_cases2 = np.insert(num_new_cases, 0, 0)\n",
    "\n",
    "len(num_new_cases2)"
   ]
  },
  {
   "cell_type": "code",
   "execution_count": 8,
   "metadata": {},
   "outputs": [
    {
     "data": {
      "text/html": [
       "<table border=\"1\" class=\"dataframe\">\n",
       "    <thead>\n",
       "        <tr>\n",
       "            <th>date</th> <th>state</th> <th>cases</th> <th>deaths</th> <th>new cases</th>\n",
       "        </tr>\n",
       "    </thead>\n",
       "    <tbody>\n",
       "        <tr>\n",
       "            <td>2020-03-09</td> <td>Connecticut</td> <td>2    </td> <td>0     </td> <td>0        </td>\n",
       "        </tr>\n",
       "        <tr>\n",
       "            <td>2020-03-10</td> <td>Connecticut</td> <td>2    </td> <td>0     </td> <td>0        </td>\n",
       "        </tr>\n",
       "        <tr>\n",
       "            <td>2020-03-11</td> <td>Connecticut</td> <td>3    </td> <td>0     </td> <td>1        </td>\n",
       "        </tr>\n",
       "        <tr>\n",
       "            <td>2020-03-12</td> <td>Connecticut</td> <td>6    </td> <td>0     </td> <td>3        </td>\n",
       "        </tr>\n",
       "        <tr>\n",
       "            <td>2020-03-13</td> <td>Connecticut</td> <td>11   </td> <td>0     </td> <td>5        </td>\n",
       "        </tr>\n",
       "        <tr>\n",
       "            <td>2020-03-14</td> <td>Connecticut</td> <td>20   </td> <td>0     </td> <td>9        </td>\n",
       "        </tr>\n",
       "        <tr>\n",
       "            <td>2020-03-15</td> <td>Connecticut</td> <td>26   </td> <td>0     </td> <td>6        </td>\n",
       "        </tr>\n",
       "        <tr>\n",
       "            <td>2020-03-16</td> <td>Connecticut</td> <td>41   </td> <td>0     </td> <td>15       </td>\n",
       "        </tr>\n",
       "        <tr>\n",
       "            <td>2020-03-17</td> <td>Connecticut</td> <td>68   </td> <td>0     </td> <td>27       </td>\n",
       "        </tr>\n",
       "        <tr>\n",
       "            <td>2020-03-18</td> <td>Connecticut</td> <td>96   </td> <td>1     </td> <td>28       </td>\n",
       "        </tr>\n",
       "    </tbody>\n",
       "</table>\n",
       "<p>... (693 rows omitted)</p>"
      ],
      "text/plain": [
       "date       | state       | cases | deaths | new cases\n",
       "2020-03-09 | Connecticut | 2     | 0      | 0\n",
       "2020-03-10 | Connecticut | 2     | 0      | 0\n",
       "2020-03-11 | Connecticut | 3     | 0      | 1\n",
       "2020-03-12 | Connecticut | 6     | 0      | 3\n",
       "2020-03-13 | Connecticut | 11    | 0      | 5\n",
       "2020-03-14 | Connecticut | 20    | 0      | 9\n",
       "2020-03-15 | Connecticut | 26    | 0      | 6\n",
       "2020-03-16 | Connecticut | 41    | 0      | 15\n",
       "2020-03-17 | Connecticut | 68    | 0      | 27\n",
       "2020-03-18 | Connecticut | 96    | 1      | 28\n",
       "... (693 rows omitted)"
      ]
     },
     "execution_count": 8,
     "metadata": {},
     "output_type": "execute_result"
    }
   ],
   "source": [
    "state_data_with_new_cases = state_data.with_column(\"new cases\", num_new_cases2)\n",
    "state_data_with_new_cases"
   ]
  },
  {
   "cell_type": "code",
   "execution_count": 9,
   "metadata": {},
   "outputs": [
    {
     "data": {
      "image/png": "[encoded data removed]",
      "text/plain": [
       "<Figure size 432x288 with 1 Axes>"
      ]
     },
     "metadata": {},
     "output_type": "display_data"
    }
   ],
   "source": [
    "# create line plot treating date \n",
    "state_data_with_new_cases.plot(\"date\", \"new cases\")\n",
    "# state_data_with_new_cases.scatter('date', 'new cases')"
   ]
  },
  {
   "cell_type": "code",
   "execution_count": 10,
   "metadata": {},
   "outputs": [
    {
     "data": {
      "image/png": "[encoded data removed]",
      "text/plain": [
       "<Figure size 432x288 with 1 Axes>"
      ]
     },
     "metadata": {},
     "output_type": "display_data"
    }
   ],
   "source": [
    "# visualizating data treating date as a categorical variable\n",
    "state_data_with_new_cases.bar('date', 'new cases')\n",
    "plots.xticks(rotation=90) \n",
    "plots.xlabel('');"
   ]
  },
  {
   "cell_type": "markdown",
   "metadata": {},
   "source": [
    "Compare this to the graph here: [https://github.com/nytimes/covid-19-data](https://www.nytimes.com/interactive/2020/us/coronavirus-us-cases.html).\n",
    "\n",
    "Now, your task is to modify the above code in order to display a plot of the new *deaths* each day. (Hint: You only need to change one word!) What stands out to you upon comparing the plots of new cases and new deaths? \n"
   ]
  },
  {
   "cell_type": "markdown",
   "metadata": {},
   "source": [
    "## Recent cases\n",
    "\n",
    "Let's also look a recent cases using a scatter plot.\n"
   ]
  },
  {
   "cell_type": "code",
   "execution_count": 25,
   "metadata": {},
   "outputs": [
    {
     "data": {
      "text/html": [
       "<table border=\"1\" class=\"dataframe\">\n",
       "    <thead>\n",
       "        <tr>\n",
       "            <th>date</th> <th>state</th> <th>cases</th> <th>deaths</th> <th>new cases</th> <th>days back</th>\n",
       "        </tr>\n",
       "    </thead>\n",
       "    <tbody>\n",
       "        <tr>\n",
       "            <td>2020-03-09</td> <td>Connecticut</td> <td>2    </td> <td>0     </td> <td>0        </td> <td>-703     </td>\n",
       "        </tr>\n",
       "        <tr>\n",
       "            <td>2020-03-10</td> <td>Connecticut</td> <td>2    </td> <td>0     </td> <td>0        </td> <td>-702     </td>\n",
       "        </tr>\n",
       "        <tr>\n",
       "            <td>2020-03-11</td> <td>Connecticut</td> <td>3    </td> <td>0     </td> <td>1        </td> <td>-701     </td>\n",
       "        </tr>\n",
       "        <tr>\n",
       "            <td>2020-03-12</td> <td>Connecticut</td> <td>6    </td> <td>0     </td> <td>3        </td> <td>-700     </td>\n",
       "        </tr>\n",
       "        <tr>\n",
       "            <td>2020-03-13</td> <td>Connecticut</td> <td>11   </td> <td>0     </td> <td>5        </td> <td>-699     </td>\n",
       "        </tr>\n",
       "        <tr>\n",
       "            <td>2020-03-14</td> <td>Connecticut</td> <td>20   </td> <td>0     </td> <td>9        </td> <td>-698     </td>\n",
       "        </tr>\n",
       "        <tr>\n",
       "            <td>2020-03-15</td> <td>Connecticut</td> <td>26   </td> <td>0     </td> <td>6        </td> <td>-697     </td>\n",
       "        </tr>\n",
       "        <tr>\n",
       "            <td>2020-03-16</td> <td>Connecticut</td> <td>41   </td> <td>0     </td> <td>15       </td> <td>-696     </td>\n",
       "        </tr>\n",
       "        <tr>\n",
       "            <td>2020-03-17</td> <td>Connecticut</td> <td>68   </td> <td>0     </td> <td>27       </td> <td>-695     </td>\n",
       "        </tr>\n",
       "        <tr>\n",
       "            <td>2020-03-18</td> <td>Connecticut</td> <td>96   </td> <td>1     </td> <td>28       </td> <td>-694     </td>\n",
       "        </tr>\n",
       "    </tbody>\n",
       "</table>\n",
       "<p>... (693 rows omitted)</p>"
      ],
      "text/plain": [
       "date       | state       | cases | deaths | new cases | days back\n",
       "2020-03-09 | Connecticut | 2     | 0      | 0         | -703\n",
       "2020-03-10 | Connecticut | 2     | 0      | 0         | -702\n",
       "2020-03-11 | Connecticut | 3     | 0      | 1         | -701\n",
       "2020-03-12 | Connecticut | 6     | 0      | 3         | -700\n",
       "2020-03-13 | Connecticut | 11    | 0      | 5         | -699\n",
       "2020-03-14 | Connecticut | 20    | 0      | 9         | -698\n",
       "2020-03-15 | Connecticut | 26    | 0      | 6         | -697\n",
       "2020-03-16 | Connecticut | 41    | 0      | 15        | -696\n",
       "2020-03-17 | Connecticut | 68    | 0      | 27        | -695\n",
       "2020-03-18 | Connecticut | 96    | 1      | 28        | -694\n",
       "... (693 rows omitted)"
      ]
     },
     "execution_count": 25,
     "metadata": {},
     "output_type": "execute_result"
    }
   ],
   "source": [
    "# let's add a variable \"days back\" which has the number of days ago each date is from today\n",
    "state_data_days_back = state_data_with_new_cases.with_column('days back', np.arange(-1*len(state_data_with_new_cases['date']), 0))\n",
    "state_data_days_back"
   ]
  },
  {
   "cell_type": "code",
   "execution_count": 28,
   "metadata": {},
   "outputs": [
    {
     "data": {
      "text/html": [
       "<table border=\"1\" class=\"dataframe\">\n",
       "    <thead>\n",
       "        <tr>\n",
       "            <th>date</th> <th>state</th> <th>cases</th> <th>deaths</th> <th>new cases</th> <th>days back</th>\n",
       "        </tr>\n",
       "    </thead>\n",
       "    <tbody>\n",
       "        <tr>\n",
       "            <td>2022-02-09</td> <td>Connecticut</td> <td>710669</td> <td>10214 </td> <td>1048     </td> <td>-1       </td>\n",
       "        </tr>\n",
       "        <tr>\n",
       "            <td>2022-02-08</td> <td>Connecticut</td> <td>709621</td> <td>10158 </td> <td>1343     </td> <td>-2       </td>\n",
       "        </tr>\n",
       "        <tr>\n",
       "            <td>2022-02-07</td> <td>Connecticut</td> <td>708278</td> <td>10159 </td> <td>2138     </td> <td>-3       </td>\n",
       "        </tr>\n",
       "        <tr>\n",
       "            <td>2022-02-06</td> <td>Connecticut</td> <td>706140</td> <td>10159 </td> <td>0        </td> <td>-4       </td>\n",
       "        </tr>\n",
       "        <tr>\n",
       "            <td>2022-02-05</td> <td>Connecticut</td> <td>706140</td> <td>10159 </td> <td>0        </td> <td>-5       </td>\n",
       "        </tr>\n",
       "        <tr>\n",
       "            <td>2022-02-04</td> <td>Connecticut</td> <td>706140</td> <td>10159 </td> <td>1269     </td> <td>-6       </td>\n",
       "        </tr>\n",
       "        <tr>\n",
       "            <td>2022-02-03</td> <td>Connecticut</td> <td>704871</td> <td>10083 </td> <td>2445     </td> <td>-7       </td>\n",
       "        </tr>\n",
       "        <tr>\n",
       "            <td>2022-02-02</td> <td>Connecticut</td> <td>702426</td> <td>10083 </td> <td>1786     </td> <td>-8       </td>\n",
       "        </tr>\n",
       "        <tr>\n",
       "            <td>2022-02-01</td> <td>Connecticut</td> <td>700640</td> <td>10076 </td> <td>1240     </td> <td>-9       </td>\n",
       "        </tr>\n",
       "        <tr>\n",
       "            <td>2022-01-31</td> <td>Connecticut</td> <td>699400</td> <td>10010 </td> <td>3330     </td> <td>-10      </td>\n",
       "        </tr>\n",
       "    </tbody>\n",
       "</table>\n",
       "<p>... (20 rows omitted)</p>"
      ],
      "text/plain": [
       "date       | state       | cases  | deaths | new cases | days back\n",
       "2022-02-09 | Connecticut | 710669 | 10214  | 1048      | -1\n",
       "2022-02-08 | Connecticut | 709621 | 10158  | 1343      | -2\n",
       "2022-02-07 | Connecticut | 708278 | 10159  | 2138      | -3\n",
       "2022-02-06 | Connecticut | 706140 | 10159  | 0         | -4\n",
       "2022-02-05 | Connecticut | 706140 | 10159  | 0         | -5\n",
       "2022-02-04 | Connecticut | 706140 | 10159  | 1269      | -6\n",
       "2022-02-03 | Connecticut | 704871 | 10083  | 2445      | -7\n",
       "2022-02-02 | Connecticut | 702426 | 10083  | 1786      | -8\n",
       "2022-02-01 | Connecticut | 700640 | 10076  | 1240      | -9\n",
       "2022-01-31 | Connecticut | 699400 | 10010  | 3330      | -10\n",
       "... (20 rows omitted)"
      ]
     },
     "execution_count": 28,
     "metadata": {},
     "output_type": "execute_result"
    }
   ],
   "source": [
    "# let's only look at recent data\n",
    "recent_state_data = state_data_days_back.sort(\"days back\", descending = True).take(np.arange(0, 30))\n",
    "recent_state_data"
   ]
  },
  {
   "cell_type": "code",
   "execution_count": 29,
   "metadata": {},
   "outputs": [
    {
     "data": {
      "image/png": "[encoded data removed]",
      "text/plain": [
       "<Figure size 360x360 with 1 Axes>"
      ]
     },
     "metadata": {},
     "output_type": "display_data"
    }
   ],
   "source": [
    "# let's create a scatter plot. Why are some values zero and some very large?  \n",
    "recent_state_data.scatter(\"days back\", \"new cases\")"
   ]
  }
 ],
 "metadata": {
  "kernelspec": {
   "display_name": "Python 3",
   "language": "python",
   "name": "python3"
  },
  "language_info": {
   "codemirror_mode": {
    "name": "ipython",
    "version": 3
   },
   "file_extension": ".py",
   "mimetype": "text/x-python",
   "name": "python",
   "nbconvert_exporter": "python",
   "pygments_lexer": "ipython3",
   "version": "3.7.3"
  }
 },
 "nbformat": 4,
 "nbformat_minor": 4
}
