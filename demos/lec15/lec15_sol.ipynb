{
 "cells": [
  {
   "cell_type": "code",
   "execution_count": 44,
   "metadata": {},
   "outputs": [],
   "source": [
    "from datascience import *\n",
    "import numpy as np\n",
    "\n",
    "%matplotlib inline\n",
    "import matplotlib.pyplot as plots\n",
    "plots.style.use('fivethirtyeight')"
   ]
  },
  {
   "cell_type": "markdown",
   "metadata": {},
   "source": [
    "## Probability\n",
    "\n",
    "Let's calculate the probability of getting at least one head out of k coin flips, where k goes from 1 to 50."
   ]
  },
  {
   "cell_type": "code",
   "execution_count": null,
   "metadata": {},
   "outputs": [],
   "source": [
    "toss = np.arange(1, 51, 1)\n",
    "results = Table().with_columns(\n",
    "    \"Toss\", toss,\n",
    "    \"Chance of at least one Head\", 1 - (1/2)**toss)\n",
    "results"
   ]
  },
  {
   "cell_type": "code",
   "execution_count": null,
   "metadata": {},
   "outputs": [],
   "source": [
    "# let's visualize the results with a scatter plot\n",
    "results.scatter(\"Toss\")"
   ]
  },
  {
   "cell_type": "markdown",
   "metadata": {},
   "source": [
    "## Random Sampling ##\n",
    "\n",
    "Let's suppose our population is United Airlines domestic flights departing from San Francisco in the summer of 2015; i.e., United Airlines flights departing from San Francisco from 6/1/15 to 8/9/15.\n",
    "\n",
    "Below we load this population of data and then sample from it using different methods. \n"
   ]
  },
  {
   "cell_type": "code",
   "execution_count": 58,
   "metadata": {},
   "outputs": [],
   "source": [
    "# United Airlines domestic flights departing from San Francisco in the summer of 2015\n",
    "united = Table.read_table('united_summer2015.csv')\n",
    "united = united.with_column('Row', np.arange(united.num_rows)).move_to_start('Row')"
   ]
  },
  {
   "cell_type": "code",
   "execution_count": 53,
   "metadata": {},
   "outputs": [
    {
     "data": {
      "text/html": [
       "<table border=\"1\" class=\"dataframe\">\n",
       "    <thead>\n",
       "        <tr>\n",
       "            <th>Row</th> <th>Date</th> <th>Flight Number</th> <th>Destination</th> <th>Delay</th>\n",
       "        </tr>\n",
       "    </thead>\n",
       "    <tbody>\n",
       "        <tr>\n",
       "            <td>0   </td> <td>6/1/15</td> <td>73           </td> <td>HNL        </td> <td>257  </td>\n",
       "        </tr>\n",
       "        <tr>\n",
       "            <td>1   </td> <td>6/1/15</td> <td>217          </td> <td>EWR        </td> <td>28   </td>\n",
       "        </tr>\n",
       "        <tr>\n",
       "            <td>2   </td> <td>6/1/15</td> <td>237          </td> <td>STL        </td> <td>-3   </td>\n",
       "        </tr>\n",
       "        <tr>\n",
       "            <td>3   </td> <td>6/1/15</td> <td>250          </td> <td>SAN        </td> <td>0    </td>\n",
       "        </tr>\n",
       "        <tr>\n",
       "            <td>4   </td> <td>6/1/15</td> <td>267          </td> <td>PHL        </td> <td>64   </td>\n",
       "        </tr>\n",
       "        <tr>\n",
       "            <td>5   </td> <td>6/1/15</td> <td>273          </td> <td>SEA        </td> <td>-6   </td>\n",
       "        </tr>\n",
       "        <tr>\n",
       "            <td>6   </td> <td>6/1/15</td> <td>278          </td> <td>SEA        </td> <td>-8   </td>\n",
       "        </tr>\n",
       "        <tr>\n",
       "            <td>7   </td> <td>6/1/15</td> <td>292          </td> <td>EWR        </td> <td>12   </td>\n",
       "        </tr>\n",
       "        <tr>\n",
       "            <td>8   </td> <td>6/1/15</td> <td>300          </td> <td>HNL        </td> <td>20   </td>\n",
       "        </tr>\n",
       "        <tr>\n",
       "            <td>9   </td> <td>6/1/15</td> <td>317          </td> <td>IND        </td> <td>-10  </td>\n",
       "        </tr>\n",
       "    </tbody>\n",
       "</table>\n",
       "<p>... (13815 rows omitted)</p>"
      ],
      "text/plain": [
       "Row  | Date   | Flight Number | Destination | Delay\n",
       "0    | 6/1/15 | 73            | HNL         | 257\n",
       "1    | 6/1/15 | 217           | EWR         | 28\n",
       "2    | 6/1/15 | 237           | STL         | -3\n",
       "3    | 6/1/15 | 250           | SAN         | 0\n",
       "4    | 6/1/15 | 267           | PHL         | 64\n",
       "5    | 6/1/15 | 273           | SEA         | -6\n",
       "6    | 6/1/15 | 278           | SEA         | -8\n",
       "7    | 6/1/15 | 292           | EWR         | 12\n",
       "8    | 6/1/15 | 300           | HNL         | 20\n",
       "9    | 6/1/15 | 317           | IND         | -10\n",
       "... (13815 rows omitted)"
      ]
     },
     "execution_count": 53,
     "metadata": {},
     "output_type": "execute_result"
    }
   ],
   "source": [
    "united"
   ]
  },
  {
   "cell_type": "code",
   "execution_count": 10,
   "metadata": {},
   "outputs": [
    {
     "data": {
      "text/html": [
       "<table border=\"1\" class=\"dataframe\">\n",
       "    <thead>\n",
       "        <tr>\n",
       "            <th>Row</th> <th>Date</th> <th>Flight Number</th> <th>Destination</th> <th>Delay</th>\n",
       "        </tr>\n",
       "    </thead>\n",
       "    <tbody>\n",
       "        <tr>\n",
       "            <td>999 </td> <td>6/7/15</td> <td>1684         </td> <td>LIH        </td> <td>-3   </td>\n",
       "        </tr>\n",
       "        <tr>\n",
       "            <td>1000</td> <td>6/7/15</td> <td>1692         </td> <td>EWR        </td> <td>7    </td>\n",
       "        </tr>\n",
       "        <tr>\n",
       "            <td>1001</td> <td>6/7/15</td> <td>1699         </td> <td>ATL        </td> <td>6    </td>\n",
       "        </tr>\n",
       "    </tbody>\n",
       "</table>"
      ],
      "text/plain": [
       "Row  | Date   | Flight Number | Destination | Delay\n",
       "999  | 6/7/15 | 1684          | LIH         | -3\n",
       "1000 | 6/7/15 | 1692          | EWR         | 7\n",
       "1001 | 6/7/15 | 1699          | ATL         | 6"
      ]
     },
     "execution_count": 10,
     "metadata": {},
     "output_type": "execute_result"
    }
   ],
   "source": [
    "# Deterministic sample\n",
    "united.take(make_array(999, 1000, 1001))"
   ]
  },
  {
   "cell_type": "code",
   "execution_count": 11,
   "metadata": {},
   "outputs": [
    {
     "data": {
      "text/html": [
       "<table border=\"1\" class=\"dataframe\">\n",
       "    <thead>\n",
       "        <tr>\n",
       "            <th>Row</th> <th>Date</th> <th>Flight Number</th> <th>Destination</th> <th>Delay</th>\n",
       "        </tr>\n",
       "    </thead>\n",
       "    <tbody>\n",
       "        <tr>\n",
       "            <td>969  </td> <td>6/7/15 </td> <td>1247         </td> <td>SAN        </td> <td>0    </td>\n",
       "        </tr>\n",
       "        <tr>\n",
       "            <td>1969 </td> <td>6/14/15</td> <td>408          </td> <td>IAD        </td> <td>-1   </td>\n",
       "        </tr>\n",
       "        <tr>\n",
       "            <td>2969 </td> <td>6/20/15</td> <td>1709         </td> <td>ORD        </td> <td>2    </td>\n",
       "        </tr>\n",
       "        <tr>\n",
       "            <td>3969 </td> <td>6/27/15</td> <td>653          </td> <td>LAX        </td> <td>-5   </td>\n",
       "        </tr>\n",
       "        <tr>\n",
       "            <td>4969 </td> <td>7/4/15 </td> <td>734          </td> <td>ORD        </td> <td>11   </td>\n",
       "        </tr>\n",
       "        <tr>\n",
       "            <td>5969 </td> <td>7/10/15</td> <td>1957         </td> <td>MCO        </td> <td>122  </td>\n",
       "        </tr>\n",
       "        <tr>\n",
       "            <td>6969 </td> <td>7/17/15</td> <td>1216         </td> <td>LAS        </td> <td>5    </td>\n",
       "        </tr>\n",
       "        <tr>\n",
       "            <td>7969 </td> <td>7/24/15</td> <td>322          </td> <td>IAH        </td> <td>89   </td>\n",
       "        </tr>\n",
       "        <tr>\n",
       "            <td>8969 </td> <td>7/30/15</td> <td>1526         </td> <td>SEA        </td> <td>-2   </td>\n",
       "        </tr>\n",
       "        <tr>\n",
       "            <td>9969 </td> <td>8/6/15 </td> <td>294          </td> <td>DFW        </td> <td>41   </td>\n",
       "        </tr>\n",
       "        <tr>\n",
       "            <td>10969</td> <td>8/12/15</td> <td>1149         </td> <td>EWR        </td> <td>-2   </td>\n",
       "        </tr>\n",
       "        <tr>\n",
       "            <td>11969</td> <td>8/19/15</td> <td>331          </td> <td>SEA        </td> <td>0    </td>\n",
       "        </tr>\n",
       "        <tr>\n",
       "            <td>12969</td> <td>8/26/15</td> <td>256          </td> <td>AUS        </td> <td>9    </td>\n",
       "        </tr>\n",
       "    </tbody>\n",
       "</table>"
      ],
      "text/plain": [
       "<IPython.core.display.HTML object>"
      ]
     },
     "metadata": {},
     "output_type": "display_data"
    }
   ],
   "source": [
    "# Systematic sample \n",
    "start = np.random.choice(np.arange(1000))\n",
    "systematic_sample = united.take(np.arange(start, united.num_rows, 1000))\n",
    "systematic_sample.show()"
   ]
  },
  {
   "cell_type": "code",
   "execution_count": 73,
   "metadata": {},
   "outputs": [
    {
     "data": {
      "text/html": [
       "<table border=\"1\" class=\"dataframe\">\n",
       "    <thead>\n",
       "        <tr>\n",
       "            <th>Row</th> <th>Date</th> <th>Flight Number</th> <th>Destination</th> <th>Delay</th>\n",
       "        </tr>\n",
       "    </thead>\n",
       "    <tbody>\n",
       "        <tr>\n",
       "            <td>4904 </td> <td>7/3/15 </td> <td>1723         </td> <td>KOA        </td> <td>-7   </td>\n",
       "        </tr>\n",
       "        <tr>\n",
       "            <td>13420</td> <td>8/28/15</td> <td>2000         </td> <td>PHX        </td> <td>-9   </td>\n",
       "        </tr>\n",
       "        <tr>\n",
       "            <td>4743 </td> <td>7/2/15 </td> <td>1263         </td> <td>MCO        </td> <td>8    </td>\n",
       "        </tr>\n",
       "        <tr>\n",
       "            <td>5354 </td> <td>7/7/15 </td> <td>394          </td> <td>LAS        </td> <td>-8   </td>\n",
       "        </tr>\n",
       "        <tr>\n",
       "            <td>3416 </td> <td>6/23/15</td> <td>1637         </td> <td>SEA        </td> <td>-4   </td>\n",
       "        </tr>\n",
       "        <tr>\n",
       "            <td>2323 </td> <td>6/16/15</td> <td>1122         </td> <td>HNL        </td> <td>12   </td>\n",
       "        </tr>\n",
       "        <tr>\n",
       "            <td>6529 </td> <td>7/14/15</td> <td>1671         </td> <td>SAN        </td> <td>175  </td>\n",
       "        </tr>\n",
       "        <tr>\n",
       "            <td>8134 </td> <td>7/25/15</td> <td>331          </td> <td>DEN        </td> <td>0    </td>\n",
       "        </tr>\n",
       "        <tr>\n",
       "            <td>2009 </td> <td>6/14/15</td> <td>1118         </td> <td>EWR        </td> <td>5    </td>\n",
       "        </tr>\n",
       "        <tr>\n",
       "            <td>2171 </td> <td>6/15/15</td> <td>1197         </td> <td>IAH        </td> <td>112  </td>\n",
       "        </tr>\n",
       "    </tbody>\n",
       "</table>"
      ],
      "text/plain": [
       "Row   | Date    | Flight Number | Destination | Delay\n",
       "4904  | 7/3/15  | 1723          | KOA         | -7\n",
       "13420 | 8/28/15 | 2000          | PHX         | -9\n",
       "4743  | 7/2/15  | 1263          | MCO         | 8\n",
       "5354  | 7/7/15  | 394           | LAS         | -8\n",
       "3416  | 6/23/15 | 1637          | SEA         | -4\n",
       "2323  | 6/16/15 | 1122          | HNL         | 12\n",
       "6529  | 7/14/15 | 1671          | SAN         | 175\n",
       "8134  | 7/25/15 | 331           | DEN         | 0\n",
       "2009  | 6/14/15 | 1118          | EWR         | 5\n",
       "2171  | 6/15/15 | 1197          | IAH         | 112"
      ]
     },
     "execution_count": 73,
     "metadata": {},
     "output_type": "execute_result"
    }
   ],
   "source": [
    "# simple random sample\n",
    "random_row_nums = np.random.choice(np.arange(united.num_rows), 10, replace = False)\n",
    "random_row_nums\n",
    "\n",
    "united.take(random_row_nums)\n"
   ]
  },
  {
   "cell_type": "markdown",
   "metadata": {},
   "source": [
    "## Probability distributions ##\n",
    "\n",
    "Let's look at the probability distribution for rolling a fair six-sided die and how the empirical distribution is a good approximation when the sample size gets large. \n"
   ]
  },
  {
   "cell_type": "code",
   "execution_count": 12,
   "metadata": {},
   "outputs": [
    {
     "data": {
      "text/html": [
       "<table border=\"1\" class=\"dataframe\">\n",
       "    <thead>\n",
       "        <tr>\n",
       "            <th>Face</th>\n",
       "        </tr>\n",
       "    </thead>\n",
       "    <tbody>\n",
       "        <tr>\n",
       "            <td>1   </td>\n",
       "        </tr>\n",
       "        <tr>\n",
       "            <td>2   </td>\n",
       "        </tr>\n",
       "        <tr>\n",
       "            <td>3   </td>\n",
       "        </tr>\n",
       "        <tr>\n",
       "            <td>4   </td>\n",
       "        </tr>\n",
       "        <tr>\n",
       "            <td>5   </td>\n",
       "        </tr>\n",
       "        <tr>\n",
       "            <td>6   </td>\n",
       "        </tr>\n",
       "    </tbody>\n",
       "</table>"
      ],
      "text/plain": [
       "Face\n",
       "1\n",
       "2\n",
       "3\n",
       "4\n",
       "5\n",
       "6"
      ]
     },
     "execution_count": 12,
     "metadata": {},
     "output_type": "execute_result"
    }
   ],
   "source": [
    "# Options for a six-side die\n",
    "die = Table().with_column('Face', np.arange(1, 7))\n",
    "die"
   ]
  },
  {
   "cell_type": "code",
   "execution_count": 13,
   "metadata": {},
   "outputs": [
    {
     "data": {
      "text/html": [
       "<table border=\"1\" class=\"dataframe\">\n",
       "    <thead>\n",
       "        <tr>\n",
       "            <th>Face</th>\n",
       "        </tr>\n",
       "    </thead>\n",
       "    <tbody>\n",
       "        <tr>\n",
       "            <td>6   </td>\n",
       "        </tr>\n",
       "        <tr>\n",
       "            <td>1   </td>\n",
       "        </tr>\n",
       "        <tr>\n",
       "            <td>6   </td>\n",
       "        </tr>\n",
       "        <tr>\n",
       "            <td>4   </td>\n",
       "        </tr>\n",
       "        <tr>\n",
       "            <td>2   </td>\n",
       "        </tr>\n",
       "        <tr>\n",
       "            <td>5   </td>\n",
       "        </tr>\n",
       "        <tr>\n",
       "            <td>4   </td>\n",
       "        </tr>\n",
       "        <tr>\n",
       "            <td>3   </td>\n",
       "        </tr>\n",
       "        <tr>\n",
       "            <td>6   </td>\n",
       "        </tr>\n",
       "        <tr>\n",
       "            <td>5   </td>\n",
       "        </tr>\n",
       "    </tbody>\n",
       "</table>"
      ],
      "text/plain": [
       "Face\n",
       "6\n",
       "1\n",
       "6\n",
       "4\n",
       "2\n",
       "5\n",
       "4\n",
       "3\n",
       "6\n",
       "5"
      ]
     },
     "execution_count": 13,
     "metadata": {},
     "output_type": "execute_result"
    }
   ],
   "source": [
    "# Table method .sample() draws at random with replacement \n",
    "# from the rows of a table (optional argument: with_replacement=False)\n",
    "die.sample(10)"
   ]
  },
  {
   "cell_type": "code",
   "execution_count": 14,
   "metadata": {},
   "outputs": [
    {
     "data": {
      "text/plain": [
       "array([0.5, 1.5, 2.5, 3.5, 4.5, 5.5, 6.5])"
      ]
     },
     "execution_count": 14,
     "metadata": {},
     "output_type": "execute_result"
    }
   ],
   "source": [
    "# Setup bins for the die options (middle of bin are integers)\n",
    "roll_bins = np.arange(0.5, 6.6, 1)\n",
    "roll_bins"
   ]
  },
  {
   "cell_type": "code",
   "execution_count": 15,
   "metadata": {},
   "outputs": [
    {
     "data": {
      "image/png": "[encoded data removed]",
      "text/plain": [
       "<Figure size 432x288 with 1 Axes>"
      ]
     },
     "metadata": {},
     "output_type": "display_data"
    }
   ],
   "source": [
    "# Theoretical distribution (equal chance for each outcome)\n",
    "die.hist(bins = roll_bins)"
   ]
  },
  {
   "cell_type": "code",
   "execution_count": 16,
   "metadata": {},
   "outputs": [
    {
     "data": {
      "image/png": "[encoded data removed]",
      "text/plain": [
       "<Figure size 432x288 with 1 Axes>"
      ]
     },
     "metadata": {},
     "output_type": "display_data"
    }
   ],
   "source": [
    "# Empirical distribution based on sample of size 10\n",
    "die.sample(10).hist(bins = roll_bins)"
   ]
  },
  {
   "cell_type": "markdown",
   "metadata": {},
   "source": [
    "## Large Random Samples ##"
   ]
  },
  {
   "cell_type": "code",
   "execution_count": 17,
   "metadata": {},
   "outputs": [
    {
     "data": {
      "image/png": "[encoded data removed]",
      "text/plain": [
       "<Figure size 432x288 with 1 Axes>"
      ]
     },
     "metadata": {},
     "output_type": "display_data"
    }
   ],
   "source": [
    "# Another empirical distribution based on sample of size 10\n",
    "die.sample(10).hist(bins = roll_bins)"
   ]
  },
  {
   "cell_type": "code",
   "execution_count": 18,
   "metadata": {},
   "outputs": [
    {
     "data": {
      "image/png": "[encoded data removed]",
      "text/plain": [
       "<Figure size 432x288 with 1 Axes>"
      ]
     },
     "metadata": {},
     "output_type": "display_data"
    }
   ],
   "source": [
    "# And another (distributions change quite a bit)\n",
    "die.sample(10).hist(bins = roll_bins)"
   ]
  },
  {
   "cell_type": "code",
   "execution_count": 19,
   "metadata": {},
   "outputs": [
    {
     "data": {
      "image/png": "[encoded data removed]",
      "text/plain": [
       "<Figure size 432x288 with 1 Axes>"
      ]
     },
     "metadata": {},
     "output_type": "display_data"
    }
   ],
   "source": [
    "# Increase sample size to 100\n",
    "die.sample(100).hist(bins = roll_bins)"
   ]
  },
  {
   "cell_type": "code",
   "execution_count": 20,
   "metadata": {},
   "outputs": [
    {
     "data": {
      "image/png": "[encoded data removed]",
      "text/plain": [
       "<Figure size 432x288 with 1 Axes>"
      ]
     },
     "metadata": {},
     "output_type": "display_data"
    }
   ],
   "source": [
    "# Another empirical  distribution with a sample size of 100\n",
    "# These appear more stable than with a sample size of 10\n",
    "die.sample(100).hist(bins = roll_bins)"
   ]
  },
  {
   "cell_type": "code",
   "execution_count": 21,
   "metadata": {},
   "outputs": [
    {
     "data": {
      "image/png": "[encoded data removed]",
      "text/plain": [
       "<Figure size 432x288 with 1 Axes>"
      ]
     },
     "metadata": {},
     "output_type": "display_data"
    }
   ],
   "source": [
    "# Sample size of 1000\n",
    "die.sample(1000).hist(bins = roll_bins)"
   ]
  },
  {
   "cell_type": "code",
   "execution_count": 22,
   "metadata": {},
   "outputs": [
    {
     "data": {
      "image/png": "[encoded data removed]",
      "text/plain": [
       "<Figure size 432x288 with 1 Axes>"
      ]
     },
     "metadata": {},
     "output_type": "display_data"
    }
   ],
   "source": [
    "# Another with a sample size of 1000\n",
    "# More stable than those with a sample size of 10 or 100\n",
    "# Closer to the theoretical distribution (equal probabilities)\n",
    "die.sample(1000).hist(bins = roll_bins)"
   ]
  },
  {
   "cell_type": "markdown",
   "metadata": {},
   "source": [
    "## Sampling from the population of United flight delays\n",
    "\n",
    "If we view the flight delays of United Airline flights from San Francisco as a population, we can plot the distribution of this population as a histogram. \n",
    "\n",
    "If we take large enough samples from this population, the histogram of these samples (empirical distributions) will resemble the population of all flight delays. \n"
   ]
  },
  {
   "cell_type": "code",
   "execution_count": 24,
   "metadata": {},
   "outputs": [
    {
     "data": {
      "text/html": [
       "<table border=\"1\" class=\"dataframe\">\n",
       "    <thead>\n",
       "        <tr>\n",
       "            <th>Row</th> <th>Date</th> <th>Flight Number</th> <th>Destination</th> <th>Delay</th>\n",
       "        </tr>\n",
       "    </thead>\n",
       "    <tbody>\n",
       "        <tr>\n",
       "            <td>0   </td> <td>6/1/15</td> <td>73           </td> <td>HNL        </td> <td>257  </td>\n",
       "        </tr>\n",
       "        <tr>\n",
       "            <td>1   </td> <td>6/1/15</td> <td>217          </td> <td>EWR        </td> <td>28   </td>\n",
       "        </tr>\n",
       "        <tr>\n",
       "            <td>2   </td> <td>6/1/15</td> <td>237          </td> <td>STL        </td> <td>-3   </td>\n",
       "        </tr>\n",
       "        <tr>\n",
       "            <td>3   </td> <td>6/1/15</td> <td>250          </td> <td>SAN        </td> <td>0    </td>\n",
       "        </tr>\n",
       "        <tr>\n",
       "            <td>4   </td> <td>6/1/15</td> <td>267          </td> <td>PHL        </td> <td>64   </td>\n",
       "        </tr>\n",
       "    </tbody>\n",
       "</table>\n",
       "<p>... (13820 rows omitted)</p>"
      ],
      "text/plain": [
       "<IPython.core.display.HTML object>"
      ]
     },
     "metadata": {},
     "output_type": "display_data"
    }
   ],
   "source": [
    "# Let's get back to the United flight delay data. Recall the column headers:\n",
    "united.show(5)"
   ]
  },
  {
   "cell_type": "code",
   "execution_count": 25,
   "metadata": {},
   "outputs": [
    {
     "data": {
      "image/png": "[encoded data removed]",
      "text/plain": [
       "<Figure size 432x288 with 1 Axes>"
      ]
     },
     "metadata": {},
     "output_type": "display_data"
    }
   ],
   "source": [
    "# Plot a histogram of the delays. Since we are viewing the delays in the data set as a population, \n",
    "# this is the probability distribution of the delays \n",
    "\n",
    "# (side note: we will be the data using bins at: np.arange(-20, 201, 10)\n",
    "# This binning scheme does not display about 0.8% of the data with extreme delays, \n",
    "# but makes it easier to see the majority of \"shape\" of the probability distribution)\n",
    "\n",
    "united.hist('Delay', bins = np.arange(-20, 201, 10))"
   ]
  },
  {
   "cell_type": "code",
   "execution_count": 29,
   "metadata": {},
   "outputs": [
    {
     "data": {
      "image/png": "[encoded data removed]",
      "text/plain": [
       "<Figure size 432x288 with 1 Axes>"
      ]
     },
     "metadata": {},
     "output_type": "display_data"
    }
   ],
   "source": [
    "# let's draw a sample of size 10 from the population of flight delays and view the corresponding empirical distributions\n",
    "united.sample(10).hist('Delay', bins = np.arange(-20, 201, 10))"
   ]
  },
  {
   "cell_type": "code",
   "execution_count": 32,
   "metadata": {},
   "outputs": [
    {
     "data": {
      "image/png": "[encoded data removed]",
      "text/plain": [
       "<Figure size 432x288 with 1 Axes>"
      ]
     },
     "metadata": {},
     "output_type": "display_data"
    }
   ],
   "source": [
    "# Another empirical distribution with a sample size of 100\n",
    "united.sample(100).hist('Delay', bins = np.arange(-20, 201, 10))"
   ]
  },
  {
   "cell_type": "markdown",
   "metadata": {},
   "source": [
    "## Simulating Statistics ##"
   ]
  },
  {
   "cell_type": "code",
   "execution_count": 33,
   "metadata": {},
   "outputs": [
    {
     "data": {
      "text/plain": [
       "2.0"
      ]
     },
     "execution_count": 33,
     "metadata": {},
     "output_type": "execute_result"
    }
   ],
   "source": [
    "# Considering united as a population\n",
    "# The population median delay is:\n",
    "np.median(united.column('Delay'))"
   ]
  },
  {
   "cell_type": "code",
   "execution_count": 34,
   "metadata": {},
   "outputs": [
    {
     "data": {
      "text/plain": [
       "0.5018444846292948"
      ]
     },
     "execution_count": 34,
     "metadata": {},
     "output_type": "execute_result"
    }
   ],
   "source": [
    "# Percentage of data less than or equal to the median\n",
    "united.where('Delay', are.below_or_equal_to(2)).num_rows / united.num_rows"
   ]
  },
  {
   "cell_type": "code",
   "execution_count": 70,
   "metadata": {},
   "outputs": [
    {
     "data": {
      "text/plain": [
       "4.5"
      ]
     },
     "execution_count": 70,
     "metadata": {},
     "output_type": "execute_result"
    }
   ],
   "source": [
    "# What if we take a random sample of size 30 - what's the estimated median?\n",
    "np.median(united.sample(30).column('Delay'))"
   ]
  },
  {
   "cell_type": "code",
   "execution_count": 71,
   "metadata": {},
   "outputs": [],
   "source": [
    "# Simulate the empirical distribution of the median (statistic) using a sample size of 30\n",
    "# We generate 10000 samples of size 30 (there will be 10000 estimates of the median)\n",
    "# This cell takes a few seconds to run\n",
    "medians = make_array()\n",
    "\n",
    "for i in np.arange(10000):\n",
    "    new_median = np.median(united.sample(30).column('Delay'))\n",
    "    medians = np.append(medians, new_median)"
   ]
  },
  {
   "cell_type": "code",
   "execution_count": 72,
   "metadata": {},
   "outputs": [
    {
     "data": {
      "image/png": "[encoded data removed]",
      "text/plain": [
       "<Figure size 432x288 with 1 Axes>"
      ]
     },
     "metadata": {},
     "output_type": "display_data"
    }
   ],
   "source": [
    "# Display the empirical distribution of the median as a histogram\n",
    "Table().with_column('Sample Median', medians).hist(bins = np.arange(-0.5, 5.6, 1))"
   ]
  }
 ],
 "metadata": {
  "anaconda-cloud": {},
  "kernelspec": {
   "display_name": "Python 3",
   "language": "python",
   "name": "python3"
  },
  "language_info": {
   "codemirror_mode": {
    "name": "ipython",
    "version": 3
   },
   "file_extension": ".py",
   "mimetype": "text/x-python",
   "name": "python",
   "nbconvert_exporter": "python",
   "pygments_lexer": "ipython3",
   "version": "3.7.3"
  }
 },
 "nbformat": 4,
 "nbformat_minor": 1
}
