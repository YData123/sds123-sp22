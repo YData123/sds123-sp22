{
 "cells": [
  {
   "cell_type": "markdown",
   "metadata": {},
   "source": [
    "## The New York Times Covid-19 Database\n",
    "\n",
    "The New York Times Covid-19 Database is \n",
    "a county-level database of confirmed cases and deaths, \n",
    "compiled from state and local governments and health departments across the United States.\n",
    "The initial release of the database was on Thursday, March 26, 2020, and it is updated daily. \n",
    "\n",
    "These data have fueled many articles and graphics by The Times; these are updated regularly at\n",
    "[https://www.nytimes.com/interactive/2020/us/coronavirus-us-cases.html](https://www.nytimes.com/interactive/2020/us/coronavirus-us-cases.html). \n",
    "The Times has created many visualizations that are effective communications of important information about the pandemic. \n",
    "\n",
    "The data are publically available via GitHub: [https://github.com/nytimes/covid-19-data](https://www.nytimes.com/interactive/2020/us/coronavirus-us-cases.html).  In this illustration we will only use\n",
    "the data aggregated at the state level. "
   ]
  },
  {
   "cell_type": "code",
   "execution_count": 1,
   "metadata": {},
   "outputs": [
    {
     "data": {
      "text/html": [
       "<table border=\"1\" class=\"dataframe\">\n",
       "    <thead>\n",
       "        <tr>\n",
       "            <th>date</th> <th>state</th> <th>cases</th> <th>deaths</th>\n",
       "        </tr>\n",
       "    </thead>\n",
       "    <tbody>\n",
       "        <tr>\n",
       "            <td>2020-01-21</td> <td>Washington</td> <td>1    </td> <td>0     </td>\n",
       "        </tr>\n",
       "        <tr>\n",
       "            <td>2020-01-22</td> <td>Washington</td> <td>1    </td> <td>0     </td>\n",
       "        </tr>\n",
       "        <tr>\n",
       "            <td>2020-01-23</td> <td>Washington</td> <td>1    </td> <td>0     </td>\n",
       "        </tr>\n",
       "        <tr>\n",
       "            <td>2020-01-24</td> <td>Illinois  </td> <td>1    </td> <td>0     </td>\n",
       "        </tr>\n",
       "        <tr>\n",
       "            <td>2020-01-24</td> <td>Washington</td> <td>1    </td> <td>0     </td>\n",
       "        </tr>\n",
       "        <tr>\n",
       "            <td>2020-01-25</td> <td>California</td> <td>1    </td> <td>0     </td>\n",
       "        </tr>\n",
       "        <tr>\n",
       "            <td>2020-01-25</td> <td>Illinois  </td> <td>1    </td> <td>0     </td>\n",
       "        </tr>\n",
       "        <tr>\n",
       "            <td>2020-01-25</td> <td>Washington</td> <td>1    </td> <td>0     </td>\n",
       "        </tr>\n",
       "        <tr>\n",
       "            <td>2020-01-26</td> <td>Arizona   </td> <td>1    </td> <td>0     </td>\n",
       "        </tr>\n",
       "        <tr>\n",
       "            <td>2020-01-26</td> <td>California</td> <td>2    </td> <td>0     </td>\n",
       "        </tr>\n",
       "    </tbody>\n",
       "</table>\n",
       "<p>... (19089 rows omitted)</p>"
      ],
      "text/plain": [
       "date       | state      | cases | deaths\n",
       "2020-01-21 | Washington | 1     | 0\n",
       "2020-01-22 | Washington | 1     | 0\n",
       "2020-01-23 | Washington | 1     | 0\n",
       "2020-01-24 | Illinois   | 1     | 0\n",
       "2020-01-24 | Washington | 1     | 0\n",
       "2020-01-25 | California | 1     | 0\n",
       "2020-01-25 | Illinois   | 1     | 0\n",
       "2020-01-25 | Washington | 1     | 0\n",
       "2020-01-26 | Arizona    | 1     | 0\n",
       "2020-01-26 | California | 2     | 0\n",
       "... (19089 rows omitted)"
      ]
     },
     "execution_count": 1,
     "metadata": {},
     "output_type": "execute_result"
    }
   ],
   "source": [
    "import matplotlib.pyplot as plt\n",
    "import numpy as np\n",
    "%matplotlib inline\n",
    "from datascience import *\n",
    "\n",
    "covid_table = Table.read_table(\"https://raw.githubusercontent.com/nytimes/covid-19-data/master/us-states.csv\")\n",
    "covid_table = covid_table.drop('fips')\n",
    "covid_table"
   ]
  },
  {
   "cell_type": "markdown",
   "metadata": {},
   "source": [
    "### Process the recent data\n",
    "\n",
    "Here is a function that creates a Table with the recent Covid-19 statistics for a given state. Just pass in the name of the state as a string.\n"
   ]
  },
  {
   "cell_type": "code",
   "execution_count": 7,
   "metadata": {},
   "outputs": [],
   "source": [
    "def process_recent_state_data(state):\n",
    "    first_date = '2021-01-11'\n",
    "    next_date = '2021-01-12'\n",
    "    recent_data = covid_table.where('date', are.above(first_date))\n",
    "    recent_state_data = recent_data.where('state', state)\n",
    "    new_cases = np.diff(recent_state_data['cases'])\n",
    "    recent_state_data = recent_state_data.where('date', are.above(next_date))\n",
    "    recent_state_data = recent_state_data.with_column('new cases', new_cases)\n",
    "    recent_state_data = recent_state_data.with_column('days back', np.arange(-1*len(recent_state_data['date']), 0))\n",
    "    return recent_state_data\n"
   ]
  },
  {
   "cell_type": "code",
   "execution_count": 8,
   "metadata": {
    "scrolled": false
   },
   "outputs": [
    {
     "data": {
      "text/html": [
       "<table border=\"1\" class=\"dataframe\">\n",
       "    <thead>\n",
       "        <tr>\n",
       "            <th>date</th> <th>state</th> <th>cases</th> <th>deaths</th> <th>new cases</th> <th>days back</th>\n",
       "        </tr>\n",
       "    </thead>\n",
       "    <tbody>\n",
       "        <tr>\n",
       "            <td>2021-01-13</td> <td>Illinois</td> <td>1048784</td> <td>19619 </td> <td>5743     </td> <td>-31      </td>\n",
       "        </tr>\n",
       "        <tr>\n",
       "            <td>2021-01-14</td> <td>Illinois</td> <td>1055550</td> <td>19728 </td> <td>6766     </td> <td>-30      </td>\n",
       "        </tr>\n",
       "        <tr>\n",
       "            <td>2021-01-15</td> <td>Illinois</td> <td>1062121</td> <td>19876 </td> <td>6571     </td> <td>-29      </td>\n",
       "        </tr>\n",
       "        <tr>\n",
       "            <td>2021-01-16</td> <td>Illinois</td> <td>1067230</td> <td>20021 </td> <td>5109     </td> <td>-28      </td>\n",
       "        </tr>\n",
       "        <tr>\n",
       "            <td>2021-01-17</td> <td>Illinois</td> <td>1071307</td> <td>20052 </td> <td>4077     </td> <td>-27      </td>\n",
       "        </tr>\n",
       "        <tr>\n",
       "            <td>2021-01-18</td> <td>Illinois</td> <td>1074719</td> <td>20119 </td> <td>3412     </td> <td>-26      </td>\n",
       "        </tr>\n",
       "        <tr>\n",
       "            <td>2021-01-19</td> <td>Illinois</td> <td>1079307</td> <td>20154 </td> <td>4588     </td> <td>-25      </td>\n",
       "        </tr>\n",
       "        <tr>\n",
       "            <td>2021-01-20</td> <td>Illinois</td> <td>1084134</td> <td>20285 </td> <td>4827     </td> <td>-24      </td>\n",
       "        </tr>\n",
       "        <tr>\n",
       "            <td>2021-01-21</td> <td>Illinois</td> <td>1089010</td> <td>20423 </td> <td>4876     </td> <td>-23      </td>\n",
       "        </tr>\n",
       "        <tr>\n",
       "            <td>2021-01-22</td> <td>Illinois</td> <td>1095917</td> <td>20535 </td> <td>6907     </td> <td>-22      </td>\n",
       "        </tr>\n",
       "    </tbody>\n",
       "</table>\n",
       "<p>... (21 rows omitted)</p>"
      ],
      "text/plain": [
       "<IPython.core.display.HTML object>"
      ]
     },
     "metadata": {},
     "output_type": "display_data"
    },
    {
     "data": {
      "image/png": "[encoded data removed]",
      "text/plain": [
       "<Figure size 432x288 with 1 Axes>"
      ]
     },
     "metadata": {
      "needs_background": "light"
     },
     "output_type": "display_data"
    },
    {
     "data": {
      "image/png": "[encoded data removed]",
      "text/plain": [
       "<Figure size 360x360 with 1 Axes>"
      ]
     },
     "metadata": {
      "needs_background": "light"
     },
     "output_type": "display_data"
    }
   ],
   "source": [
    "state_data = process_recent_state_data('Illinois')\n",
    "state_data.show(10)\n",
    "state_data.bar('days back', 'new cases')\n",
    "state_data.scatter('days back', 'new cases')\n"
   ]
  },
  {
   "cell_type": "code",
   "execution_count": 43,
   "metadata": {},
   "outputs": [
    {
     "data": {
      "text/html": [
       "<table border=\"1\" class=\"dataframe\">\n",
       "    <thead>\n",
       "        <tr>\n",
       "            <th>date</th> <th>cases sum</th> <th>deaths sum</th>\n",
       "        </tr>\n",
       "    </thead>\n",
       "    <tbody>\n",
       "        <tr>\n",
       "            <td>2020-01-21</td> <td>1        </td> <td>0         </td>\n",
       "        </tr>\n",
       "        <tr>\n",
       "            <td>2020-01-22</td> <td>1        </td> <td>0         </td>\n",
       "        </tr>\n",
       "        <tr>\n",
       "            <td>2020-01-23</td> <td>1        </td> <td>0         </td>\n",
       "        </tr>\n",
       "        <tr>\n",
       "            <td>2020-01-24</td> <td>2        </td> <td>0         </td>\n",
       "        </tr>\n",
       "        <tr>\n",
       "            <td>2020-01-25</td> <td>3        </td> <td>0         </td>\n",
       "        </tr>\n",
       "        <tr>\n",
       "            <td>2020-01-26</td> <td>5        </td> <td>0         </td>\n",
       "        </tr>\n",
       "        <tr>\n",
       "            <td>2020-01-27</td> <td>5        </td> <td>0         </td>\n",
       "        </tr>\n",
       "        <tr>\n",
       "            <td>2020-01-28</td> <td>5        </td> <td>0         </td>\n",
       "        </tr>\n",
       "        <tr>\n",
       "            <td>2020-01-29</td> <td>5        </td> <td>0         </td>\n",
       "        </tr>\n",
       "        <tr>\n",
       "            <td>2020-01-30</td> <td>6        </td> <td>0         </td>\n",
       "        </tr>\n",
       "    </tbody>\n",
       "</table>\n",
       "<p>... (379 rows omitted)</p>"
      ],
      "text/plain": [
       "date       | cases sum | deaths sum\n",
       "2020-01-21 | 1         | 0\n",
       "2020-01-22 | 1         | 0\n",
       "2020-01-23 | 1         | 0\n",
       "2020-01-24 | 2         | 0\n",
       "2020-01-25 | 3         | 0\n",
       "2020-01-26 | 5         | 0\n",
       "2020-01-27 | 5         | 0\n",
       "2020-01-28 | 5         | 0\n",
       "2020-01-29 | 5         | 0\n",
       "2020-01-30 | 6         | 0\n",
       "... (379 rows omitted)"
      ]
     },
     "execution_count": 43,
     "metadata": {},
     "output_type": "execute_result"
    }
   ],
   "source": [
    "table = covid_table.drop('state')\n",
    "table = table.group('date', sum)\n",
    "table"
   ]
  },
  {
   "cell_type": "code",
   "execution_count": 44,
   "metadata": {},
   "outputs": [
    {
     "data": {
      "image/png": "[encoded data removed]",
      "text/plain": [
       "<Figure size 432x288 with 1 Axes>"
      ]
     },
     "metadata": {
      "needs_background": "light"
     },
     "output_type": "display_data"
    }
   ],
   "source": [
    "new_cases = np.diff(table['cases sum'])\n",
    "us_cases_by_day = Table().with_columns('date', table['date'][1:], 'new cases', new_cases)\n",
    "us_cases_by_day.bar('date', 'new cases')\n",
    "plt.xlabel('')\n",
    "_ = plt.xticks(rotation=90)"
   ]
  },
  {
   "cell_type": "code",
   "execution_count": 42,
   "metadata": {},
   "outputs": [
    {
     "data": {
      "image/png": "[encoded data removed]",
      "text/plain": [
       "<Figure size 432x288 with 1 Axes>"
      ]
     },
     "metadata": {
      "needs_background": "light"
     },
     "output_type": "display_data"
    }
   ],
   "source": [
    "new_deaths = np.diff(table['deaths sum'])\n",
    "us_deaths_by_day = Table().with_columns('date', table['date'][1:], 'new deaths', new_deaths)\n",
    "us_deaths_by_day.bar('date', 'new deaths')\n",
    "plt.xlabel('')\n",
    "_ = plt.xticks(rotation=90)"
   ]
  }
 ],
 "metadata": {
  "kernelspec": {
   "display_name": "Python 3",
   "language": "python",
   "name": "python3"
  },
  "language_info": {
   "codemirror_mode": {
    "name": "ipython",
    "version": 3
   },
   "file_extension": ".py",
   "mimetype": "text/x-python",
   "name": "python",
   "nbconvert_exporter": "python",
   "pygments_lexer": "ipython3",
   "version": "3.7.3"
  }
 },
 "nbformat": 4,
 "nbformat_minor": 4
}
