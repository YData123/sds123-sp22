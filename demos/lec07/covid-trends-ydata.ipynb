{
 "cells": [
  {
   "cell_type": "markdown",
   "metadata": {},
   "source": [
    "## The New York Times Covid-19 Database\n",
    "\n",
    "The New York Times Covid-19 Database is \n",
    "a county-level database of confirmed cases and deaths, \n",
    "compiled from state and local governments and health departments across the United States.\n",
    "The initial release of the database was on Thursday, March 26, 2020, and it is updated daily. \n",
    "\n",
    "These data have fueled many articles and graphics by The Times; these are updated regularly at\n",
    "[https://www.nytimes.com/interactive/2020/us/coronavirus-us-cases.html](https://www.nytimes.com/interactive/2020/us/coronavirus-us-cases.html). \n",
    "The Times has created many visualizations that are effective communications of important information about the pandemic. \n",
    "\n",
    "The data are publically available via GitHub: [https://github.com/nytimes/covid-19-data](https://www.nytimes.com/interactive/2020/us/coronavirus-us-cases.html).  In this illustration we will only use\n",
    "the data aggregated at the state level. "
   ]
  },
  {
   "cell_type": "code",
   "execution_count": 1,
   "metadata": {},
   "outputs": [],
   "source": [
    "from datascience import *\n",
    "import numpy as np\n",
    "\n",
    "%matplotlib inline\n",
    "import matplotlib.pyplot as plots\n",
    "plots.style.use('fivethirtyeight')"
   ]
  },
  {
   "cell_type": "code",
   "execution_count": 3,
   "metadata": {},
   "outputs": [
    {
     "data": {
      "text/html": [
       "<table border=\"1\" class=\"dataframe\">\n",
       "    <thead>\n",
       "        <tr>\n",
       "            <th>date</th> <th>state</th> <th>cases</th> <th>deaths</th>\n",
       "        </tr>\n",
       "    </thead>\n",
       "    <tbody>\n",
       "        <tr>\n",
       "            <td>2020-01-21</td> <td>Washington</td> <td>1    </td> <td>0     </td>\n",
       "        </tr>\n",
       "        <tr>\n",
       "            <td>2020-01-22</td> <td>Washington</td> <td>1    </td> <td>0     </td>\n",
       "        </tr>\n",
       "        <tr>\n",
       "            <td>2020-01-23</td> <td>Washington</td> <td>1    </td> <td>0     </td>\n",
       "        </tr>\n",
       "        <tr>\n",
       "            <td>2020-01-24</td> <td>Illinois  </td> <td>1    </td> <td>0     </td>\n",
       "        </tr>\n",
       "        <tr>\n",
       "            <td>2020-01-24</td> <td>Washington</td> <td>1    </td> <td>0     </td>\n",
       "        </tr>\n",
       "        <tr>\n",
       "            <td>2020-01-25</td> <td>California</td> <td>1    </td> <td>0     </td>\n",
       "        </tr>\n",
       "        <tr>\n",
       "            <td>2020-01-25</td> <td>Illinois  </td> <td>1    </td> <td>0     </td>\n",
       "        </tr>\n",
       "        <tr>\n",
       "            <td>2020-01-25</td> <td>Washington</td> <td>1    </td> <td>0     </td>\n",
       "        </tr>\n",
       "        <tr>\n",
       "            <td>2020-01-26</td> <td>Arizona   </td> <td>1    </td> <td>0     </td>\n",
       "        </tr>\n",
       "        <tr>\n",
       "            <td>2020-01-26</td> <td>California</td> <td>2    </td> <td>0     </td>\n",
       "        </tr>\n",
       "    </tbody>\n",
       "</table>\n",
       "<p>... (19199 rows omitted)</p>"
      ],
      "text/plain": [
       "date       | state      | cases | deaths\n",
       "2020-01-21 | Washington | 1     | 0\n",
       "2020-01-22 | Washington | 1     | 0\n",
       "2020-01-23 | Washington | 1     | 0\n",
       "2020-01-24 | Illinois   | 1     | 0\n",
       "2020-01-24 | Washington | 1     | 0\n",
       "2020-01-25 | California | 1     | 0\n",
       "2020-01-25 | Illinois   | 1     | 0\n",
       "2020-01-25 | Washington | 1     | 0\n",
       "2020-01-26 | Arizona    | 1     | 0\n",
       "2020-01-26 | California | 2     | 0\n",
       "... (19199 rows omitted)"
      ]
     },
     "execution_count": 3,
     "metadata": {},
     "output_type": "execute_result"
    }
   ],
   "source": [
    "covid_table = Table.read_table(\"https://raw.githubusercontent.com/nytimes/covid-19-data/master/us-states.csv\")\n",
    "covid_table = covid_table.drop('fips')\n",
    "covid_table"
   ]
  },
  {
   "cell_type": "markdown",
   "metadata": {},
   "source": [
    "### Process the recent data\n",
    "\n",
    "Here is some code that creates a Table with the recent Covid-19 statistics for a given state. Just pass in the name of the state as a string.\n"
   ]
  },
  {
   "cell_type": "code",
   "execution_count": 6,
   "metadata": {},
   "outputs": [],
   "source": [
    "state = 'California'\n",
    "first_date = '2021-01-11'\n",
    "next_date = '2021-01-12'\n",
    "recent_data = covid_table.where('date', are.above(first_date))\n",
    "recent_state_data = recent_data.where('state', state)\n",
    "new_cases = np.diff(recent_state_data['cases'])\n",
    "recent_state_data = recent_state_data.where('date', are.above(next_date))\n",
    "recent_state_data = recent_state_data.with_column('new cases', new_cases)\n",
    "recent_state_data = recent_state_data.with_column('days back', np.arange(-1*len(recent_state_data['date']), 0))\n"
   ]
  },
  {
   "cell_type": "code",
   "execution_count": 7,
   "metadata": {
    "scrolled": false
   },
   "outputs": [
    {
     "data": {
      "text/html": [
       "<table border=\"1\" class=\"dataframe\">\n",
       "    <thead>\n",
       "        <tr>\n",
       "            <th>date</th> <th>state</th> <th>cases</th> <th>deaths</th> <th>new cases</th> <th>days back</th>\n",
       "        </tr>\n",
       "    </thead>\n",
       "    <tbody>\n",
       "        <tr>\n",
       "            <td>2021-01-13</td> <td>California</td> <td>2857587</td> <td>31653 </td> <td>41654    </td> <td>-33      </td>\n",
       "        </tr>\n",
       "        <tr>\n",
       "            <td>2021-01-14</td> <td>California</td> <td>2898271</td> <td>32246 </td> <td>40684    </td> <td>-32      </td>\n",
       "        </tr>\n",
       "        <tr>\n",
       "            <td>2021-01-15</td> <td>California</td> <td>2937376</td> <td>32947 </td> <td>39105    </td> <td>-31      </td>\n",
       "        </tr>\n",
       "        <tr>\n",
       "            <td>2021-01-16</td> <td>California</td> <td>2974966</td> <td>33393 </td> <td>37590    </td> <td>-30      </td>\n",
       "        </tr>\n",
       "        <tr>\n",
       "            <td>2021-01-17</td> <td>California</td> <td>3006583</td> <td>33593 </td> <td>31617    </td> <td>-29      </td>\n",
       "        </tr>\n",
       "        <tr>\n",
       "            <td>2021-01-18</td> <td>California</td> <td>3032007</td> <td>33742 </td> <td>25424    </td> <td>-28      </td>\n",
       "        </tr>\n",
       "        <tr>\n",
       "            <td>2021-01-19</td> <td>California</td> <td>3071119</td> <td>34390 </td> <td>39112    </td> <td>-27      </td>\n",
       "        </tr>\n",
       "        <tr>\n",
       "            <td>2021-01-20</td> <td>California</td> <td>3090339</td> <td>35001 </td> <td>19220    </td> <td>-26      </td>\n",
       "        </tr>\n",
       "        <tr>\n",
       "            <td>2021-01-21</td> <td>California</td> <td>3115911</td> <td>35704 </td> <td>25572    </td> <td>-25      </td>\n",
       "        </tr>\n",
       "        <tr>\n",
       "            <td>2021-01-22</td> <td>California</td> <td>3140928</td> <td>36326 </td> <td>25017    </td> <td>-24      </td>\n",
       "        </tr>\n",
       "    </tbody>\n",
       "</table>\n",
       "<p>... (23 rows omitted)</p>"
      ],
      "text/plain": [
       "<IPython.core.display.HTML object>"
      ]
     },
     "metadata": {},
     "output_type": "display_data"
    },
    {
     "data": {
      "image/png": "[encoded data removed]",
      "text/plain": [
       "<Figure size 432x288 with 1 Axes>"
      ]
     },
     "metadata": {},
     "output_type": "display_data"
    },
    {
     "data": {
      "image/png": "[encoded data removed]",
      "text/plain": [
       "<Figure size 360x360 with 1 Axes>"
      ]
     },
     "metadata": {},
     "output_type": "display_data"
    }
   ],
   "source": [
    "recent_state_data.show(10)\n",
    "recent_state_data.bar('days back', 'new cases')\n",
    "recent_state_data.scatter('days back', 'new cases')\n"
   ]
  },
  {
   "cell_type": "code",
   "execution_count": 9,
   "metadata": {},
   "outputs": [
    {
     "data": {
      "text/html": [
       "<table border=\"1\" class=\"dataframe\">\n",
       "    <thead>\n",
       "        <tr>\n",
       "            <th>date</th> <th>state</th> <th>cases</th> <th>deaths</th> <th>new cases</th> <th>days back</th>\n",
       "        </tr>\n",
       "    </thead>\n",
       "    <tbody>\n",
       "        <tr>\n",
       "            <td>2021-01-13</td> <td>California</td> <td>2857587</td> <td>31653 </td> <td>41654    </td> <td>-33      </td>\n",
       "        </tr>\n",
       "        <tr>\n",
       "            <td>2021-01-14</td> <td>California</td> <td>2898271</td> <td>32246 </td> <td>40684    </td> <td>-32      </td>\n",
       "        </tr>\n",
       "        <tr>\n",
       "            <td>2021-01-15</td> <td>California</td> <td>2937376</td> <td>32947 </td> <td>39105    </td> <td>-31      </td>\n",
       "        </tr>\n",
       "        <tr>\n",
       "            <td>2021-01-16</td> <td>California</td> <td>2974966</td> <td>33393 </td> <td>37590    </td> <td>-30      </td>\n",
       "        </tr>\n",
       "        <tr>\n",
       "            <td>2021-01-17</td> <td>California</td> <td>3006583</td> <td>33593 </td> <td>31617    </td> <td>-29      </td>\n",
       "        </tr>\n",
       "        <tr>\n",
       "            <td>2021-01-18</td> <td>California</td> <td>3032007</td> <td>33742 </td> <td>25424    </td> <td>-28      </td>\n",
       "        </tr>\n",
       "        <tr>\n",
       "            <td>2021-01-19</td> <td>California</td> <td>3071119</td> <td>34390 </td> <td>39112    </td> <td>-27      </td>\n",
       "        </tr>\n",
       "        <tr>\n",
       "            <td>2021-01-20</td> <td>California</td> <td>3090339</td> <td>35001 </td> <td>19220    </td> <td>-26      </td>\n",
       "        </tr>\n",
       "        <tr>\n",
       "            <td>2021-01-21</td> <td>California</td> <td>3115911</td> <td>35704 </td> <td>25572    </td> <td>-25      </td>\n",
       "        </tr>\n",
       "        <tr>\n",
       "            <td>2021-01-22</td> <td>California</td> <td>3140928</td> <td>36326 </td> <td>25017    </td> <td>-24      </td>\n",
       "        </tr>\n",
       "        <tr>\n",
       "            <td>2021-01-23</td> <td>California</td> <td>3163932</td> <td>36818 </td> <td>23004    </td> <td>-23      </td>\n",
       "        </tr>\n",
       "        <tr>\n",
       "            <td>2021-01-24</td> <td>California</td> <td>3185612</td> <td>37118 </td> <td>21680    </td> <td>-22      </td>\n",
       "        </tr>\n",
       "        <tr>\n",
       "            <td>2021-01-25</td> <td>California</td> <td>3212488</td> <td>37499 </td> <td>26876    </td> <td>-21      </td>\n",
       "        </tr>\n",
       "        <tr>\n",
       "            <td>2021-01-26</td> <td>California</td> <td>3234088</td> <td>38221 </td> <td>21600    </td> <td>-20      </td>\n",
       "        </tr>\n",
       "        <tr>\n",
       "            <td>2021-01-27</td> <td>California</td> <td>3252716</td> <td>38927 </td> <td>18628    </td> <td>-19      </td>\n",
       "        </tr>\n",
       "        <tr>\n",
       "            <td>2021-01-28</td> <td>California</td> <td>3272349</td> <td>39527 </td> <td>19633    </td> <td>-18      </td>\n",
       "        </tr>\n",
       "        <tr>\n",
       "            <td>2021-01-29</td> <td>California</td> <td>3292084</td> <td>40192 </td> <td>19735    </td> <td>-17      </td>\n",
       "        </tr>\n",
       "        <tr>\n",
       "            <td>2021-01-30</td> <td>California</td> <td>3309630</td> <td>40694 </td> <td>17546    </td> <td>-16      </td>\n",
       "        </tr>\n",
       "        <tr>\n",
       "            <td>2021-01-31</td> <td>California</td> <td>3323613</td> <td>40928 </td> <td>13983    </td> <td>-15      </td>\n",
       "        </tr>\n",
       "        <tr>\n",
       "            <td>2021-02-01</td> <td>California</td> <td>3341197</td> <td>41284 </td> <td>17584    </td> <td>-14      </td>\n",
       "        </tr>\n",
       "        <tr>\n",
       "            <td>2021-02-02</td> <td>California</td> <td>3354039</td> <td>41858 </td> <td>12842    </td> <td>-13      </td>\n",
       "        </tr>\n",
       "        <tr>\n",
       "            <td>2021-02-03</td> <td>California</td> <td>3366597</td> <td>42434 </td> <td>12558    </td> <td>-12      </td>\n",
       "        </tr>\n",
       "        <tr>\n",
       "            <td>2021-02-04</td> <td>California</td> <td>3381278</td> <td>43062 </td> <td>14681    </td> <td>-11      </td>\n",
       "        </tr>\n",
       "        <tr>\n",
       "            <td>2021-02-05</td> <td>California</td> <td>3395295</td> <td>43631 </td> <td>14017    </td> <td>-10      </td>\n",
       "        </tr>\n",
       "        <tr>\n",
       "            <td>2021-02-06</td> <td>California</td> <td>3406890</td> <td>43987 </td> <td>11595    </td> <td>-9       </td>\n",
       "        </tr>\n",
       "        <tr>\n",
       "            <td>2021-02-07</td> <td>California</td> <td>3417099</td> <td>44152 </td> <td>10209    </td> <td>-8       </td>\n",
       "        </tr>\n",
       "        <tr>\n",
       "            <td>2021-02-08</td> <td>California</td> <td>3430685</td> <td>44440 </td> <td>13586    </td> <td>-7       </td>\n",
       "        </tr>\n",
       "        <tr>\n",
       "            <td>2021-02-09</td> <td>California</td> <td>3441177</td> <td>44973 </td> <td>10492    </td> <td>-6       </td>\n",
       "        </tr>\n",
       "        <tr>\n",
       "            <td>2021-02-10</td> <td>California</td> <td>3449774</td> <td>45436 </td> <td>8597     </td> <td>-5       </td>\n",
       "        </tr>\n",
       "        <tr>\n",
       "            <td>2021-02-11</td> <td>California</td> <td>3460320</td> <td>45976 </td> <td>10546    </td> <td>-4       </td>\n",
       "        </tr>\n",
       "        <tr>\n",
       "            <td>2021-02-12</td> <td>California</td> <td>3469853</td> <td>46435 </td> <td>9533     </td> <td>-3       </td>\n",
       "        </tr>\n",
       "        <tr>\n",
       "            <td>2021-02-13</td> <td>California</td> <td>3479029</td> <td>46865 </td> <td>9176     </td> <td>-2       </td>\n",
       "        </tr>\n",
       "        <tr>\n",
       "            <td>2021-02-14</td> <td>California</td> <td>3484984</td> <td>47055 </td> <td>5955     </td> <td>-1       </td>\n",
       "        </tr>\n",
       "    </tbody>\n",
       "</table>"
      ],
      "text/plain": [
       "<IPython.core.display.HTML object>"
      ]
     },
     "metadata": {},
     "output_type": "display_data"
    }
   ],
   "source": [
    "recent_state_data.show(50)"
   ]
  },
  {
   "cell_type": "code",
   "execution_count": 10,
   "metadata": {},
   "outputs": [
    {
     "data": {
      "text/html": [
       "<table border=\"1\" class=\"dataframe\">\n",
       "    <thead>\n",
       "        <tr>\n",
       "            <th>date</th> <th>cases sum</th> <th>deaths sum</th>\n",
       "        </tr>\n",
       "    </thead>\n",
       "    <tbody>\n",
       "        <tr>\n",
       "            <td>2020-03-02</td> <td>104      </td> <td>6         </td>\n",
       "        </tr>\n",
       "        <tr>\n",
       "            <td>2020-03-03</td> <td>125      </td> <td>10        </td>\n",
       "        </tr>\n",
       "        <tr>\n",
       "            <td>2020-03-04</td> <td>161      </td> <td>12        </td>\n",
       "        </tr>\n",
       "        <tr>\n",
       "            <td>2020-03-05</td> <td>228      </td> <td>12        </td>\n",
       "        </tr>\n",
       "        <tr>\n",
       "            <td>2020-03-06</td> <td>311      </td> <td>15        </td>\n",
       "        </tr>\n",
       "        <tr>\n",
       "            <td>2020-03-07</td> <td>428      </td> <td>19        </td>\n",
       "        </tr>\n",
       "        <tr>\n",
       "            <td>2020-03-08</td> <td>547      </td> <td>22        </td>\n",
       "        </tr>\n",
       "        <tr>\n",
       "            <td>2020-03-09</td> <td>748      </td> <td>26        </td>\n",
       "        </tr>\n",
       "        <tr>\n",
       "            <td>2020-03-10</td> <td>1018     </td> <td>31        </td>\n",
       "        </tr>\n",
       "        <tr>\n",
       "            <td>2020-03-11</td> <td>1263     </td> <td>37        </td>\n",
       "        </tr>\n",
       "    </tbody>\n",
       "</table>\n",
       "<p>... (340 rows omitted)</p>"
      ],
      "text/plain": [
       "date       | cases sum | deaths sum\n",
       "2020-03-02 | 104       | 6\n",
       "2020-03-03 | 125       | 10\n",
       "2020-03-04 | 161       | 12\n",
       "2020-03-05 | 228       | 12\n",
       "2020-03-06 | 311       | 15\n",
       "2020-03-07 | 428       | 19\n",
       "2020-03-08 | 547       | 22\n",
       "2020-03-09 | 748       | 26\n",
       "2020-03-10 | 1018      | 31\n",
       "2020-03-11 | 1263      | 37\n",
       "... (340 rows omitted)"
      ]
     },
     "execution_count": 10,
     "metadata": {},
     "output_type": "execute_result"
    }
   ],
   "source": [
    "merged_data = covid_table.drop('state')\n",
    "merged_data = merged_data.group('date', sum)\n",
    "merged_data = merged_data.where('date', are.above('2020-03-01'))\n",
    "merged_data"
   ]
  },
  {
   "cell_type": "code",
   "execution_count": 11,
   "metadata": {},
   "outputs": [
    {
     "data": {
      "image/png": "[encoded data removed]",
      "text/plain": [
       "<Figure size 432x288 with 1 Axes>"
      ]
     },
     "metadata": {},
     "output_type": "display_data"
    }
   ],
   "source": [
    "new_cases = np.diff(merged_data['cases sum'])\n",
    "us_cases_by_day = Table().with_columns('date', merged_data['date'][1:], 'new cases', new_cases)\n",
    "us_cases_by_day.bar('date', 'new cases')\n",
    "plots.xlabel('')\n",
    "_ = plots.xticks(rotation=90)"
   ]
  },
  {
   "cell_type": "markdown",
   "metadata": {},
   "source": [
    "Compare this to the graph here: [https://github.com/nytimes/covid-19-data](https://www.nytimes.com/interactive/2020/us/coronavirus-us-cases.html).\n",
    "\n",
    "Now, your task is to modify the above code in order to display a plot of the new *deaths* each day. (Hint: You only need to change one word!) What stands out to you upon comparing the plots of new cases and new deaths? \n"
   ]
  }
 ],
 "metadata": {
  "kernelspec": {
   "display_name": "Python 3",
   "language": "python",
   "name": "python3"
  },
  "language_info": {
   "codemirror_mode": {
    "name": "ipython",
    "version": 3
   },
   "file_extension": ".py",
   "mimetype": "text/x-python",
   "name": "python",
   "nbconvert_exporter": "python",
   "pygments_lexer": "ipython3",
   "version": "3.7.3"
  }
 },
 "nbformat": 4,
 "nbformat_minor": 4
}
