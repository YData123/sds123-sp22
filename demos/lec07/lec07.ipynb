{
 "cells": [
  {
   "cell_type": "code",
   "execution_count": 2,
   "metadata": {},
   "outputs": [],
   "source": [
    "from datascience import *\n",
    "import numpy as np\n",
    "\n",
    "%matplotlib inline\n",
    "import matplotlib.pyplot as plots\n",
    "plots.style.use('fivethirtyeight')"
   ]
  },
  {
   "cell_type": "markdown",
   "metadata": {},
   "source": [
    "##### Lecture 7"
   ]
  },
  {
   "cell_type": "markdown",
   "metadata": {},
   "source": [
    "## Census ##"
   ]
  },
  {
   "cell_type": "code",
   "execution_count": 5,
   "metadata": {},
   "outputs": [
    {
     "data": {
      "text/html": [
       "<table border=\"1\" class=\"dataframe\">\n",
       "    <thead>\n",
       "        <tr>\n",
       "            <th>SEX</th> <th>AGE</th> <th>CENSUS2010POP</th> <th>ESTIMATESBASE2010</th> <th>POPESTIMATE2010</th> <th>POPESTIMATE2011</th> <th>POPESTIMATE2012</th> <th>POPESTIMATE2013</th> <th>POPESTIMATE2014</th>\n",
       "        </tr>\n",
       "    </thead>\n",
       "    <tbody>\n",
       "        <tr>\n",
       "            <td>0   </td> <td>0   </td> <td>3944153      </td> <td>3944160          </td> <td>3951330        </td> <td>3963071        </td> <td>3926665        </td> <td>3945610        </td> <td>3948350        </td>\n",
       "        </tr>\n",
       "        <tr>\n",
       "            <td>0   </td> <td>1   </td> <td>3978070      </td> <td>3978090          </td> <td>3957888        </td> <td>3966510        </td> <td>3978006        </td> <td>3943077        </td> <td>3962123        </td>\n",
       "        </tr>\n",
       "        <tr>\n",
       "            <td>0   </td> <td>2   </td> <td>4096929      </td> <td>4096939          </td> <td>4090862        </td> <td>3971573        </td> <td>3979952        </td> <td>3992690        </td> <td>3957772        </td>\n",
       "        </tr>\n",
       "        <tr>\n",
       "            <td>0   </td> <td>3   </td> <td>4119040      </td> <td>4119051          </td> <td>4111920        </td> <td>4102501        </td> <td>3983049        </td> <td>3992425        </td> <td>4005190        </td>\n",
       "        </tr>\n",
       "        <tr>\n",
       "            <td>0   </td> <td>4   </td> <td>4063170      </td> <td>4063186          </td> <td>4077552        </td> <td>4122303        </td> <td>4112638        </td> <td>3994047        </td> <td>4003448        </td>\n",
       "        </tr>\n",
       "        <tr>\n",
       "            <td>0   </td> <td>5   </td> <td>4056858      </td> <td>4056872          </td> <td>4064653        </td> <td>4087713        </td> <td>4132210        </td> <td>4123408        </td> <td>4004858        </td>\n",
       "        </tr>\n",
       "        <tr>\n",
       "            <td>0   </td> <td>6   </td> <td>4066381      </td> <td>4066412          </td> <td>4073013        </td> <td>4074979        </td> <td>4097780        </td> <td>4143094        </td> <td>4134352        </td>\n",
       "        </tr>\n",
       "        <tr>\n",
       "            <td>0   </td> <td>7   </td> <td>4030579      </td> <td>4030594          </td> <td>4043047        </td> <td>4083240        </td> <td>4084964        </td> <td>4108615        </td> <td>4154000        </td>\n",
       "        </tr>\n",
       "        <tr>\n",
       "            <td>0   </td> <td>8   </td> <td>4046486      </td> <td>4046497          </td> <td>4025604        </td> <td>4053206        </td> <td>4093213        </td> <td>4095827        </td> <td>4119524        </td>\n",
       "        </tr>\n",
       "        <tr>\n",
       "            <td>0   </td> <td>9   </td> <td>4148353      </td> <td>4148369          </td> <td>4125415        </td> <td>4035769        </td> <td>4063193        </td> <td>4104133        </td> <td>4106832        </td>\n",
       "        </tr>\n",
       "        <tr>\n",
       "            <td>0   </td> <td>10  </td> <td>4172541      </td> <td>4172559          </td> <td>4187063        </td> <td>4135617        </td> <td>4045840        </td> <td>4074206        </td> <td>4115254        </td>\n",
       "        </tr>\n",
       "        <tr>\n",
       "            <td>0   </td> <td>11  </td> <td>4114415      </td> <td>4114443          </td> <td>4115511        </td> <td>4197472        </td> <td>4145919        </td> <td>4057128        </td> <td>4085636        </td>\n",
       "        </tr>\n",
       "        <tr>\n",
       "            <td>0   </td> <td>12  </td> <td>4106243      </td> <td>4106261          </td> <td>4113280        </td> <td>4126168        </td> <td>4208013        </td> <td>4157449        </td> <td>4068790        </td>\n",
       "        </tr>\n",
       "        <tr>\n",
       "            <td>0   </td> <td>13  </td> <td>4118013      </td> <td>4118055          </td> <td>4119666        </td> <td>4124244        </td> <td>4136951        </td> <td>4219776        </td> <td>4169346        </td>\n",
       "        </tr>\n",
       "        <tr>\n",
       "            <td>0   </td> <td>14  </td> <td>4165982      </td> <td>4166059          </td> <td>4145614        </td> <td>4131487        </td> <td>4135749        </td> <td>4149559        </td> <td>4232480        </td>\n",
       "        </tr>\n",
       "        <tr>\n",
       "            <td>0   </td> <td>15  </td> <td>4242820      </td> <td>4242946          </td> <td>4231003        </td> <td>4158977        </td> <td>4144326        </td> <td>4149781        </td> <td>4163723        </td>\n",
       "        </tr>\n",
       "        <tr>\n",
       "            <td>0   </td> <td>16  </td> <td>4316139      </td> <td>4316311          </td> <td>4313252        </td> <td>4247472        </td> <td>4174855        </td> <td>4161624        </td> <td>4167234        </td>\n",
       "        </tr>\n",
       "        <tr>\n",
       "            <td>0   </td> <td>17  </td> <td>4395295      </td> <td>4395475          </td> <td>4376368        </td> <td>4334957        </td> <td>4268503        </td> <td>4197758        </td> <td>4184706        </td>\n",
       "        </tr>\n",
       "        <tr>\n",
       "            <td>0   </td> <td>18  </td> <td>4500855      </td> <td>4501114          </td> <td>4491005        </td> <td>4402634        </td> <td>4360345        </td> <td>4296134        </td> <td>4225590        </td>\n",
       "        </tr>\n",
       "        <tr>\n",
       "            <td>0   </td> <td>19  </td> <td>4585234      </td> <td>4585665          </td> <td>4571385        </td> <td>4520683        </td> <td>4430960        </td> <td>4390087        </td> <td>4326394        </td>\n",
       "        </tr>\n",
       "        <tr>\n",
       "            <td>0   </td> <td>20  </td> <td>4519129      </td> <td>4519500          </td> <td>4568470        </td> <td>4600421        </td> <td>4550552        </td> <td>4459958        </td> <td>4418887        </td>\n",
       "        </tr>\n",
       "        <tr>\n",
       "            <td>0   </td> <td>21  </td> <td>4354294      </td> <td>4354571          </td> <td>4387914        </td> <td>4596145        </td> <td>4633178        </td> <td>4580949        </td> <td>4489746        </td>\n",
       "        </tr>\n",
       "        <tr>\n",
       "            <td>0   </td> <td>22  </td> <td>4264642      </td> <td>4264928          </td> <td>4286987        </td> <td>4415297        </td> <td>4628678        </td> <td>4666392        </td> <td>4612322        </td>\n",
       "        </tr>\n",
       "        <tr>\n",
       "            <td>0   </td> <td>23  </td> <td>4198571      </td> <td>4198852          </td> <td>4217221        </td> <td>4314751        </td> <td>4447266        </td> <td>4661403        </td> <td>4698584        </td>\n",
       "        </tr>\n",
       "        <tr>\n",
       "            <td>0   </td> <td>24  </td> <td>4249363      </td> <td>4249602          </td> <td>4243589        </td> <td>4244542        </td> <td>4346226        </td> <td>4479243        </td> <td>4692635        </td>\n",
       "        </tr>\n",
       "        <tr>\n",
       "            <td>0   </td> <td>25  </td> <td>4262350      </td> <td>4262575          </td> <td>4289424        </td> <td>4269956        </td> <td>4275655        </td> <td>4377385        </td> <td>4509594        </td>\n",
       "        </tr>\n",
       "        <tr>\n",
       "            <td>0   </td> <td>26  </td> <td>4152305      </td> <td>4152593          </td> <td>4160810        </td> <td>4313805        </td> <td>4299059        </td> <td>4305217        </td> <td>4406472        </td>\n",
       "        </tr>\n",
       "        <tr>\n",
       "            <td>0   </td> <td>27  </td> <td>4248869      </td> <td>4249120          </td> <td>4237010        </td> <td>4183474        </td> <td>4340038        </td> <td>4326704        </td> <td>4332545        </td>\n",
       "        </tr>\n",
       "        <tr>\n",
       "            <td>0   </td> <td>28  </td> <td>4215249      </td> <td>4215497          </td> <td>4247540        </td> <td>4258146        </td> <td>4207330        </td> <td>4364812        </td> <td>4351851        </td>\n",
       "        </tr>\n",
       "        <tr>\n",
       "            <td>0   </td> <td>29  </td> <td>4223076      </td> <td>4223293          </td> <td>4210285        </td> <td>4266588        </td> <td>4280142        </td> <td>4230048        </td> <td>4387476        </td>\n",
       "        </tr>\n",
       "    </tbody>\n",
       "</table>\n",
       "<p>... (276 rows omitted)</p>"
      ],
      "text/plain": [
       "<IPython.core.display.HTML object>"
      ]
     },
     "metadata": {},
     "output_type": "display_data"
    }
   ],
   "source": [
    "full = Table.read_table('nc-est2014-agesex-res.csv')\n",
    "full.show(30)"
   ]
  },
  {
   "cell_type": "code",
   "execution_count": 6,
   "metadata": {},
   "outputs": [
    {
     "data": {
      "text/html": [
       "<table border=\"1\" class=\"dataframe\">\n",
       "    <thead>\n",
       "        <tr>\n",
       "            <th>SEX</th> <th>AGE</th> <th>POPESTIMATE2010</th> <th>POPESTIMATE2014</th>\n",
       "        </tr>\n",
       "    </thead>\n",
       "    <tbody>\n",
       "        <tr>\n",
       "            <td>0   </td> <td>0   </td> <td>3951330        </td> <td>3948350        </td>\n",
       "        </tr>\n",
       "        <tr>\n",
       "            <td>0   </td> <td>1   </td> <td>3957888        </td> <td>3962123        </td>\n",
       "        </tr>\n",
       "        <tr>\n",
       "            <td>0   </td> <td>2   </td> <td>4090862        </td> <td>3957772        </td>\n",
       "        </tr>\n",
       "        <tr>\n",
       "            <td>0   </td> <td>3   </td> <td>4111920        </td> <td>4005190        </td>\n",
       "        </tr>\n",
       "        <tr>\n",
       "            <td>0   </td> <td>4   </td> <td>4077552        </td> <td>4003448        </td>\n",
       "        </tr>\n",
       "        <tr>\n",
       "            <td>0   </td> <td>5   </td> <td>4064653        </td> <td>4004858        </td>\n",
       "        </tr>\n",
       "        <tr>\n",
       "            <td>0   </td> <td>6   </td> <td>4073013        </td> <td>4134352        </td>\n",
       "        </tr>\n",
       "        <tr>\n",
       "            <td>0   </td> <td>7   </td> <td>4043047        </td> <td>4154000        </td>\n",
       "        </tr>\n",
       "        <tr>\n",
       "            <td>0   </td> <td>8   </td> <td>4025604        </td> <td>4119524        </td>\n",
       "        </tr>\n",
       "        <tr>\n",
       "            <td>0   </td> <td>9   </td> <td>4125415        </td> <td>4106832        </td>\n",
       "        </tr>\n",
       "    </tbody>\n",
       "</table>\n",
       "<p>... (296 rows omitted)</p>"
      ],
      "text/plain": [
       "SEX  | AGE  | POPESTIMATE2010 | POPESTIMATE2014\n",
       "0    | 0    | 3951330         | 3948350\n",
       "0    | 1    | 3957888         | 3962123\n",
       "0    | 2    | 4090862         | 3957772\n",
       "0    | 3    | 4111920         | 4005190\n",
       "0    | 4    | 4077552         | 4003448\n",
       "0    | 5    | 4064653         | 4004858\n",
       "0    | 6    | 4073013         | 4134352\n",
       "0    | 7    | 4043047         | 4154000\n",
       "0    | 8    | 4025604         | 4119524\n",
       "0    | 9    | 4125415         | 4106832\n",
       "... (296 rows omitted)"
      ]
     },
     "execution_count": 6,
     "metadata": {},
     "output_type": "execute_result"
    }
   ],
   "source": [
    "partial = full.select('SEX', 'AGE', 'POPESTIMATE2010', 'POPESTIMATE2014')\n",
    "partial"
   ]
  },
  {
   "cell_type": "code",
   "execution_count": 12,
   "metadata": {},
   "outputs": [
    {
     "data": {
      "text/html": [
       "<table border=\"1\" class=\"dataframe\">\n",
       "    <thead>\n",
       "        <tr>\n",
       "            <th>SEX</th> <th>AGE</th> <th>2010</th> <th>2014</th>\n",
       "        </tr>\n",
       "    </thead>\n",
       "    <tbody>\n",
       "        <tr>\n",
       "            <td>0   </td> <td>0   </td> <td>3951330</td> <td>3948350</td>\n",
       "        </tr>\n",
       "        <tr>\n",
       "            <td>0   </td> <td>1   </td> <td>3957888</td> <td>3962123</td>\n",
       "        </tr>\n",
       "        <tr>\n",
       "            <td>0   </td> <td>2   </td> <td>4090862</td> <td>3957772</td>\n",
       "        </tr>\n",
       "        <tr>\n",
       "            <td>0   </td> <td>3   </td> <td>4111920</td> <td>4005190</td>\n",
       "        </tr>\n",
       "        <tr>\n",
       "            <td>0   </td> <td>4   </td> <td>4077552</td> <td>4003448</td>\n",
       "        </tr>\n",
       "        <tr>\n",
       "            <td>0   </td> <td>5   </td> <td>4064653</td> <td>4004858</td>\n",
       "        </tr>\n",
       "        <tr>\n",
       "            <td>0   </td> <td>6   </td> <td>4073013</td> <td>4134352</td>\n",
       "        </tr>\n",
       "        <tr>\n",
       "            <td>0   </td> <td>7   </td> <td>4043047</td> <td>4154000</td>\n",
       "        </tr>\n",
       "        <tr>\n",
       "            <td>0   </td> <td>8   </td> <td>4025604</td> <td>4119524</td>\n",
       "        </tr>\n",
       "        <tr>\n",
       "            <td>0   </td> <td>9   </td> <td>4125415</td> <td>4106832</td>\n",
       "        </tr>\n",
       "    </tbody>\n",
       "</table>\n",
       "<p>... (296 rows omitted)</p>"
      ],
      "text/plain": [
       "SEX  | AGE  | 2010    | 2014\n",
       "0    | 0    | 3951330 | 3948350\n",
       "0    | 1    | 3957888 | 3962123\n",
       "0    | 2    | 4090862 | 3957772\n",
       "0    | 3    | 4111920 | 4005190\n",
       "0    | 4    | 4077552 | 4003448\n",
       "0    | 5    | 4064653 | 4004858\n",
       "0    | 6    | 4073013 | 4134352\n",
       "0    | 7    | 4043047 | 4154000\n",
       "0    | 8    | 4025604 | 4119524\n",
       "0    | 9    | 4125415 | 4106832\n",
       "... (296 rows omitted)"
      ]
     },
     "execution_count": 12,
     "metadata": {},
     "output_type": "execute_result"
    }
   ],
   "source": [
    "simple = partial.relabeled('POPESTIMATE2010', '2010').relabeled('POPESTIMATE2014', '2014')\n",
    "simple"
   ]
  },
  {
   "cell_type": "code",
   "execution_count": 13,
   "metadata": {},
   "outputs": [
    {
     "data": {
      "text/html": [
       "<table border=\"1\" class=\"dataframe\">\n",
       "    <thead>\n",
       "        <tr>\n",
       "            <th>SEX</th> <th>AGE</th> <th>2010</th> <th>2014</th>\n",
       "        </tr>\n",
       "    </thead>\n",
       "    <tbody>\n",
       "        <tr>\n",
       "            <td>2   </td> <td>999 </td> <td>157257573</td> <td>161920569</td>\n",
       "        </tr>\n",
       "        <tr>\n",
       "            <td>1   </td> <td>999 </td> <td>152089484</td> <td>156936487</td>\n",
       "        </tr>\n",
       "        <tr>\n",
       "            <td>0   </td> <td>999 </td> <td>309347057</td> <td>318857056</td>\n",
       "        </tr>\n",
       "        <tr>\n",
       "            <td>2   </td> <td>100 </td> <td>45058    </td> <td>58468    </td>\n",
       "        </tr>\n",
       "        <tr>\n",
       "            <td>1   </td> <td>100 </td> <td>9351     </td> <td>13729    </td>\n",
       "        </tr>\n",
       "        <tr>\n",
       "            <td>0   </td> <td>100 </td> <td>54409    </td> <td>72197    </td>\n",
       "        </tr>\n",
       "        <tr>\n",
       "            <td>2   </td> <td>99  </td> <td>26074    </td> <td>32791    </td>\n",
       "        </tr>\n",
       "        <tr>\n",
       "            <td>1   </td> <td>99  </td> <td>6104     </td> <td>9037     </td>\n",
       "        </tr>\n",
       "        <tr>\n",
       "            <td>0   </td> <td>99  </td> <td>32178    </td> <td>41828    </td>\n",
       "        </tr>\n",
       "        <tr>\n",
       "            <td>2   </td> <td>98  </td> <td>37533    </td> <td>46536    </td>\n",
       "        </tr>\n",
       "    </tbody>\n",
       "</table>\n",
       "<p>... (296 rows omitted)</p>"
      ],
      "text/plain": [
       "SEX  | AGE  | 2010      | 2014\n",
       "2    | 999  | 157257573 | 161920569\n",
       "1    | 999  | 152089484 | 156936487\n",
       "0    | 999  | 309347057 | 318857056\n",
       "2    | 100  | 45058     | 58468\n",
       "1    | 100  | 9351      | 13729\n",
       "0    | 100  | 54409     | 72197\n",
       "2    | 99   | 26074     | 32791\n",
       "1    | 99   | 6104      | 9037\n",
       "0    | 99   | 32178     | 41828\n",
       "2    | 98   | 37533     | 46536\n",
       "... (296 rows omitted)"
      ]
     },
     "execution_count": 13,
     "metadata": {},
     "output_type": "execute_result"
    }
   ],
   "source": [
    "simple.sort('AGE', descending=True)"
   ]
  },
  {
   "cell_type": "code",
   "execution_count": 16,
   "metadata": {},
   "outputs": [
    {
     "data": {
      "text/html": [
       "<table border=\"1\" class=\"dataframe\">\n",
       "    <thead>\n",
       "        <tr>\n",
       "            <th>SEX</th> <th>AGE</th> <th>2010</th> <th>2014</th>\n",
       "        </tr>\n",
       "    </thead>\n",
       "    <tbody>\n",
       "        <tr>\n",
       "            <td>0   </td> <td>0   </td> <td>3951330</td> <td>3948350</td>\n",
       "        </tr>\n",
       "        <tr>\n",
       "            <td>0   </td> <td>1   </td> <td>3957888</td> <td>3962123</td>\n",
       "        </tr>\n",
       "        <tr>\n",
       "            <td>0   </td> <td>2   </td> <td>4090862</td> <td>3957772</td>\n",
       "        </tr>\n",
       "        <tr>\n",
       "            <td>0   </td> <td>3   </td> <td>4111920</td> <td>4005190</td>\n",
       "        </tr>\n",
       "        <tr>\n",
       "            <td>0   </td> <td>4   </td> <td>4077552</td> <td>4003448</td>\n",
       "        </tr>\n",
       "        <tr>\n",
       "            <td>0   </td> <td>5   </td> <td>4064653</td> <td>4004858</td>\n",
       "        </tr>\n",
       "        <tr>\n",
       "            <td>0   </td> <td>6   </td> <td>4073013</td> <td>4134352</td>\n",
       "        </tr>\n",
       "        <tr>\n",
       "            <td>0   </td> <td>7   </td> <td>4043047</td> <td>4154000</td>\n",
       "        </tr>\n",
       "        <tr>\n",
       "            <td>0   </td> <td>8   </td> <td>4025604</td> <td>4119524</td>\n",
       "        </tr>\n",
       "        <tr>\n",
       "            <td>0   </td> <td>9   </td> <td>4125415</td> <td>4106832</td>\n",
       "        </tr>\n",
       "    </tbody>\n",
       "</table>\n",
       "<p>... (293 rows omitted)</p>"
      ],
      "text/plain": [
       "SEX  | AGE  | 2010    | 2014\n",
       "0    | 0    | 3951330 | 3948350\n",
       "0    | 1    | 3957888 | 3962123\n",
       "0    | 2    | 4090862 | 3957772\n",
       "0    | 3    | 4111920 | 4005190\n",
       "0    | 4    | 4077552 | 4003448\n",
       "0    | 5    | 4064653 | 4004858\n",
       "0    | 6    | 4073013 | 4134352\n",
       "0    | 7    | 4043047 | 4154000\n",
       "0    | 8    | 4025604 | 4119524\n",
       "0    | 9    | 4125415 | 4106832\n",
       "... (293 rows omitted)"
      ]
     },
     "execution_count": 16,
     "metadata": {},
     "output_type": "execute_result"
    }
   ],
   "source": [
    "no_999 = simple.where('AGE', are.below(999))\n",
    "no_999"
   ]
  },
  {
   "cell_type": "code",
   "execution_count": 17,
   "metadata": {},
   "outputs": [],
   "source": [
    "everyone = no_999.where('SEX', 0).drop('SEX')\n",
    "males = no_999.where('SEX', 1).drop('SEX')\n",
    "females = no_999.where('SEX', 2).drop('SEX')"
   ]
  },
  {
   "cell_type": "code",
   "execution_count": 18,
   "metadata": {},
   "outputs": [
    {
     "data": {
      "text/html": [
       "<table border=\"1\" class=\"dataframe\">\n",
       "    <thead>\n",
       "        <tr>\n",
       "            <th>AGE</th> <th>2010</th> <th>2014</th>\n",
       "        </tr>\n",
       "    </thead>\n",
       "    <tbody>\n",
       "        <tr>\n",
       "            <td>0   </td> <td>1932910</td> <td>1930493</td>\n",
       "        </tr>\n",
       "        <tr>\n",
       "            <td>1   </td> <td>1937556</td> <td>1938870</td>\n",
       "        </tr>\n",
       "        <tr>\n",
       "            <td>2   </td> <td>2002177</td> <td>1935270</td>\n",
       "        </tr>\n",
       "        <tr>\n",
       "            <td>3   </td> <td>2010648</td> <td>1956572</td>\n",
       "        </tr>\n",
       "        <tr>\n",
       "            <td>4   </td> <td>1993240</td> <td>1959950</td>\n",
       "        </tr>\n",
       "        <tr>\n",
       "            <td>5   </td> <td>1988080</td> <td>1961391</td>\n",
       "        </tr>\n",
       "        <tr>\n",
       "            <td>6   </td> <td>1993603</td> <td>2024024</td>\n",
       "        </tr>\n",
       "        <tr>\n",
       "            <td>7   </td> <td>1979908</td> <td>2031760</td>\n",
       "        </tr>\n",
       "        <tr>\n",
       "            <td>8   </td> <td>1971142</td> <td>2014402</td>\n",
       "        </tr>\n",
       "        <tr>\n",
       "            <td>9   </td> <td>2018378</td> <td>2009560</td>\n",
       "        </tr>\n",
       "    </tbody>\n",
       "</table>\n",
       "<p>... (91 rows omitted)</p>"
      ],
      "text/plain": [
       "AGE  | 2010    | 2014\n",
       "0    | 1932910 | 1930493\n",
       "1    | 1937556 | 1938870\n",
       "2    | 2002177 | 1935270\n",
       "3    | 2010648 | 1956572\n",
       "4    | 1993240 | 1959950\n",
       "5    | 1988080 | 1961391\n",
       "6    | 1993603 | 2024024\n",
       "7    | 1979908 | 2031760\n",
       "8    | 1971142 | 2014402\n",
       "9    | 2018378 | 2009560\n",
       "... (91 rows omitted)"
      ]
     },
     "execution_count": 18,
     "metadata": {},
     "output_type": "execute_result"
    }
   ],
   "source": [
    "females"
   ]
  },
  {
   "cell_type": "code",
   "execution_count": 20,
   "metadata": {},
   "outputs": [
    {
     "data": {
      "text/html": [
       "<table border=\"1\" class=\"dataframe\">\n",
       "    <thead>\n",
       "        <tr>\n",
       "            <th>AGE</th> <th>2010</th> <th>2014</th>\n",
       "        </tr>\n",
       "    </thead>\n",
       "    <tbody>\n",
       "        <tr>\n",
       "            <td>54  </td> <td>2196798</td> <td>2331961</td>\n",
       "        </tr>\n",
       "        <tr>\n",
       "            <td>53  </td> <td>2268457</td> <td>2316131</td>\n",
       "        </tr>\n",
       "        <tr>\n",
       "            <td>24  </td> <td>2082209</td> <td>2301237</td>\n",
       "        </tr>\n",
       "        <tr>\n",
       "            <td>23  </td> <td>2066126</td> <td>2298701</td>\n",
       "        </tr>\n",
       "        <tr>\n",
       "            <td>51  </td> <td>2289164</td> <td>2283261</td>\n",
       "        </tr>\n",
       "        <tr>\n",
       "            <td>52  </td> <td>2283408</td> <td>2282051</td>\n",
       "        </tr>\n",
       "        <tr>\n",
       "            <td>50  </td> <td>2355349</td> <td>2279824</td>\n",
       "        </tr>\n",
       "        <tr>\n",
       "            <td>55  </td> <td>2183762</td> <td>2263367</td>\n",
       "        </tr>\n",
       "        <tr>\n",
       "            <td>56  </td> <td>2108681</td> <td>2254749</td>\n",
       "        </tr>\n",
       "        <tr>\n",
       "            <td>22  </td> <td>2098759</td> <td>2244480</td>\n",
       "        </tr>\n",
       "    </tbody>\n",
       "</table>\n",
       "<p>... (91 rows omitted)</p>"
      ],
      "text/plain": [
       "AGE  | 2010    | 2014\n",
       "54   | 2196798 | 2331961\n",
       "53   | 2268457 | 2316131\n",
       "24   | 2082209 | 2301237\n",
       "23   | 2066126 | 2298701\n",
       "51   | 2289164 | 2283261\n",
       "52   | 2283408 | 2282051\n",
       "50   | 2355349 | 2279824\n",
       "55   | 2183762 | 2263367\n",
       "56   | 2108681 | 2254749\n",
       "22   | 2098759 | 2244480\n",
       "... (91 rows omitted)"
      ]
     },
     "execution_count": 20,
     "metadata": {},
     "output_type": "execute_result"
    }
   ],
   "source": [
    "females.sort('2014', descending=True)"
   ]
  },
  {
   "cell_type": "code",
   "execution_count": 21,
   "metadata": {},
   "outputs": [
    {
     "data": {
      "text/html": [
       "<table border=\"1\" class=\"dataframe\">\n",
       "    <thead>\n",
       "        <tr>\n",
       "            <th>AGE</th> <th>2010</th> <th>2014</th>\n",
       "        </tr>\n",
       "    </thead>\n",
       "    <tbody>\n",
       "        <tr>\n",
       "            <td>23  </td> <td>2151095</td> <td>2399883</td>\n",
       "        </tr>\n",
       "        <tr>\n",
       "            <td>24  </td> <td>2161380</td> <td>2391398</td>\n",
       "        </tr>\n",
       "        <tr>\n",
       "            <td>22  </td> <td>2188228</td> <td>2367842</td>\n",
       "        </tr>\n",
       "        <tr>\n",
       "            <td>21  </td> <td>2241095</td> <td>2310734</td>\n",
       "        </tr>\n",
       "        <tr>\n",
       "            <td>25  </td> <td>2177171</td> <td>2295836</td>\n",
       "        </tr>\n",
       "        <tr>\n",
       "            <td>20  </td> <td>2331846</td> <td>2269570</td>\n",
       "        </tr>\n",
       "        <tr>\n",
       "            <td>54  </td> <td>2091677</td> <td>2242828</td>\n",
       "        </tr>\n",
       "        <tr>\n",
       "            <td>26  </td> <td>2102375</td> <td>2240026</td>\n",
       "        </tr>\n",
       "        <tr>\n",
       "            <td>19  </td> <td>2334906</td> <td>2220790</td>\n",
       "        </tr>\n",
       "        <tr>\n",
       "            <td>53  </td> <td>2170965</td> <td>2219617</td>\n",
       "        </tr>\n",
       "    </tbody>\n",
       "</table>\n",
       "<p>... (91 rows omitted)</p>"
      ],
      "text/plain": [
       "AGE  | 2010    | 2014\n",
       "23   | 2151095 | 2399883\n",
       "24   | 2161380 | 2391398\n",
       "22   | 2188228 | 2367842\n",
       "21   | 2241095 | 2310734\n",
       "25   | 2177171 | 2295836\n",
       "20   | 2331846 | 2269570\n",
       "54   | 2091677 | 2242828\n",
       "26   | 2102375 | 2240026\n",
       "19   | 2334906 | 2220790\n",
       "53   | 2170965 | 2219617\n",
       "... (91 rows omitted)"
      ]
     },
     "execution_count": 21,
     "metadata": {},
     "output_type": "execute_result"
    }
   ],
   "source": [
    "males.sort('2014', descending=True)"
   ]
  },
  {
   "cell_type": "code",
   "execution_count": 31,
   "metadata": {},
   "outputs": [],
   "source": [
    "pop_2014 = Table().with_columns(\n",
    "    'Age', males['AGE'],\n",
    "    'Males', males['2014'],\n",
    "    'Females', females['2014']\n",
    ")"
   ]
  },
  {
   "cell_type": "code",
   "execution_count": 32,
   "metadata": {},
   "outputs": [
    {
     "data": {
      "text/html": [
       "<table border=\"1\" class=\"dataframe\">\n",
       "    <thead>\n",
       "        <tr>\n",
       "            <th>Age</th> <th>Males</th> <th>Females</th>\n",
       "        </tr>\n",
       "    </thead>\n",
       "    <tbody>\n",
       "        <tr>\n",
       "            <td>0   </td> <td>2017857</td> <td>1930493</td>\n",
       "        </tr>\n",
       "        <tr>\n",
       "            <td>1   </td> <td>2023253</td> <td>1938870</td>\n",
       "        </tr>\n",
       "        <tr>\n",
       "            <td>2   </td> <td>2022502</td> <td>1935270</td>\n",
       "        </tr>\n",
       "        <tr>\n",
       "            <td>3   </td> <td>2048618</td> <td>1956572</td>\n",
       "        </tr>\n",
       "        <tr>\n",
       "            <td>4   </td> <td>2043498</td> <td>1959950</td>\n",
       "        </tr>\n",
       "        <tr>\n",
       "            <td>5   </td> <td>2043467</td> <td>1961391</td>\n",
       "        </tr>\n",
       "        <tr>\n",
       "            <td>6   </td> <td>2110328</td> <td>2024024</td>\n",
       "        </tr>\n",
       "        <tr>\n",
       "            <td>7   </td> <td>2122240</td> <td>2031760</td>\n",
       "        </tr>\n",
       "        <tr>\n",
       "            <td>8   </td> <td>2105122</td> <td>2014402</td>\n",
       "        </tr>\n",
       "        <tr>\n",
       "            <td>9   </td> <td>2097272</td> <td>2009560</td>\n",
       "        </tr>\n",
       "    </tbody>\n",
       "</table>\n",
       "<p>... (91 rows omitted)</p>"
      ],
      "text/plain": [
       "Age  | Males   | Females\n",
       "0    | 2017857 | 1930493\n",
       "1    | 2023253 | 1938870\n",
       "2    | 2022502 | 1935270\n",
       "3    | 2048618 | 1956572\n",
       "4    | 2043498 | 1959950\n",
       "5    | 2043467 | 1961391\n",
       "6    | 2110328 | 2024024\n",
       "7    | 2122240 | 2031760\n",
       "8    | 2105122 | 2014402\n",
       "9    | 2097272 | 2009560\n",
       "... (91 rows omitted)"
      ]
     },
     "execution_count": 32,
     "metadata": {},
     "output_type": "execute_result"
    }
   ],
   "source": [
    "pop_2014"
   ]
  },
  {
   "cell_type": "code",
   "execution_count": 35,
   "metadata": {},
   "outputs": [],
   "source": [
    "percent_females = 100*pop_2014['Females']/(pop_2014.column('Males') + pop_2014.column('Females'))\n",
    "counts_and_percents = pop_2014.with_column('Percent Female', percent_females)"
   ]
  },
  {
   "cell_type": "code",
   "execution_count": 36,
   "metadata": {},
   "outputs": [
    {
     "data": {
      "text/html": [
       "<table border=\"1\" class=\"dataframe\">\n",
       "    <thead>\n",
       "        <tr>\n",
       "            <th>Age</th> <th>Males</th> <th>Females</th> <th>Percent Female</th>\n",
       "        </tr>\n",
       "    </thead>\n",
       "    <tbody>\n",
       "        <tr>\n",
       "            <td>0   </td> <td>2017857</td> <td>1930493</td> <td>48.8937       </td>\n",
       "        </tr>\n",
       "        <tr>\n",
       "            <td>1   </td> <td>2023253</td> <td>1938870</td> <td>48.9351       </td>\n",
       "        </tr>\n",
       "        <tr>\n",
       "            <td>2   </td> <td>2022502</td> <td>1935270</td> <td>48.898        </td>\n",
       "        </tr>\n",
       "        <tr>\n",
       "            <td>3   </td> <td>2048618</td> <td>1956572</td> <td>48.8509       </td>\n",
       "        </tr>\n",
       "        <tr>\n",
       "            <td>4   </td> <td>2043498</td> <td>1959950</td> <td>48.9565       </td>\n",
       "        </tr>\n",
       "        <tr>\n",
       "            <td>5   </td> <td>2043467</td> <td>1961391</td> <td>48.9753       </td>\n",
       "        </tr>\n",
       "        <tr>\n",
       "            <td>6   </td> <td>2110328</td> <td>2024024</td> <td>48.9563       </td>\n",
       "        </tr>\n",
       "        <tr>\n",
       "            <td>7   </td> <td>2122240</td> <td>2031760</td> <td>48.9109       </td>\n",
       "        </tr>\n",
       "        <tr>\n",
       "            <td>8   </td> <td>2105122</td> <td>2014402</td> <td>48.8989       </td>\n",
       "        </tr>\n",
       "        <tr>\n",
       "            <td>9   </td> <td>2097272</td> <td>2009560</td> <td>48.9321       </td>\n",
       "        </tr>\n",
       "    </tbody>\n",
       "</table>\n",
       "<p>... (91 rows omitted)</p>"
      ],
      "text/plain": [
       "Age  | Males   | Females | Percent Female\n",
       "0    | 2017857 | 1930493 | 48.8937\n",
       "1    | 2023253 | 1938870 | 48.9351\n",
       "2    | 2022502 | 1935270 | 48.898\n",
       "3    | 2048618 | 1956572 | 48.8509\n",
       "4    | 2043498 | 1959950 | 48.9565\n",
       "5    | 2043467 | 1961391 | 48.9753\n",
       "6    | 2110328 | 2024024 | 48.9563\n",
       "7    | 2122240 | 2031760 | 48.9109\n",
       "8    | 2105122 | 2014402 | 48.8989\n",
       "9    | 2097272 | 2009560 | 48.9321\n",
       "... (91 rows omitted)"
      ]
     },
     "execution_count": 36,
     "metadata": {},
     "output_type": "execute_result"
    }
   ],
   "source": [
    "counts_and_percents"
   ]
  },
  {
   "cell_type": "code",
   "execution_count": null,
   "metadata": {},
   "outputs": [],
   "source": []
  },
  {
   "cell_type": "markdown",
   "metadata": {},
   "source": [
    "## Line Graphs ##"
   ]
  },
  {
   "cell_type": "code",
   "execution_count": 37,
   "metadata": {},
   "outputs": [
    {
     "data": {
      "image/png": "[encoded data removed]",
      "text/plain": [
       "<Figure size 432x288 with 1 Axes>"
      ]
     },
     "metadata": {},
     "output_type": "display_data"
    }
   ],
   "source": [
    "counts_and_percents.plot('Age', 'Percent Female')"
   ]
  },
  {
   "cell_type": "code",
   "execution_count": 38,
   "metadata": {},
   "outputs": [
    {
     "data": {
      "text/html": [
       "<table border=\"1\" class=\"dataframe\">\n",
       "    <thead>\n",
       "        <tr>\n",
       "            <th>Age</th> <th>Males</th> <th>Females</th>\n",
       "        </tr>\n",
       "    </thead>\n",
       "    <tbody>\n",
       "        <tr>\n",
       "            <td>0   </td> <td>2017857</td> <td>1930493</td>\n",
       "        </tr>\n",
       "        <tr>\n",
       "            <td>1   </td> <td>2023253</td> <td>1938870</td>\n",
       "        </tr>\n",
       "        <tr>\n",
       "            <td>2   </td> <td>2022502</td> <td>1935270</td>\n",
       "        </tr>\n",
       "        <tr>\n",
       "            <td>3   </td> <td>2048618</td> <td>1956572</td>\n",
       "        </tr>\n",
       "        <tr>\n",
       "            <td>4   </td> <td>2043498</td> <td>1959950</td>\n",
       "        </tr>\n",
       "        <tr>\n",
       "            <td>5   </td> <td>2043467</td> <td>1961391</td>\n",
       "        </tr>\n",
       "        <tr>\n",
       "            <td>6   </td> <td>2110328</td> <td>2024024</td>\n",
       "        </tr>\n",
       "        <tr>\n",
       "            <td>7   </td> <td>2122240</td> <td>2031760</td>\n",
       "        </tr>\n",
       "        <tr>\n",
       "            <td>8   </td> <td>2105122</td> <td>2014402</td>\n",
       "        </tr>\n",
       "        <tr>\n",
       "            <td>9   </td> <td>2097272</td> <td>2009560</td>\n",
       "        </tr>\n",
       "    </tbody>\n",
       "</table>\n",
       "<p>... (91 rows omitted)</p>"
      ],
      "text/plain": [
       "Age  | Males   | Females\n",
       "0    | 2017857 | 1930493\n",
       "1    | 2023253 | 1938870\n",
       "2    | 2022502 | 1935270\n",
       "3    | 2048618 | 1956572\n",
       "4    | 2043498 | 1959950\n",
       "5    | 2043467 | 1961391\n",
       "6    | 2110328 | 2024024\n",
       "7    | 2122240 | 2031760\n",
       "8    | 2105122 | 2014402\n",
       "9    | 2097272 | 2009560\n",
       "... (91 rows omitted)"
      ]
     },
     "execution_count": 38,
     "metadata": {},
     "output_type": "execute_result"
    }
   ],
   "source": [
    "pop_2014"
   ]
  },
  {
   "cell_type": "code",
   "execution_count": 39,
   "metadata": {},
   "outputs": [
    {
     "data": {
      "image/png": "[encoded data removed]",
      "text/plain": [
       "<Figure size 432x288 with 1 Axes>"
      ]
     },
     "metadata": {},
     "output_type": "display_data"
    }
   ],
   "source": [
    "pop_2014.plot('Age')"
   ]
  },
  {
   "cell_type": "code",
   "execution_count": 40,
   "metadata": {},
   "outputs": [
    {
     "data": {
      "text/html": [
       "<table border=\"1\" class=\"dataframe\">\n",
       "    <thead>\n",
       "        <tr>\n",
       "            <th>Age</th> <th>Males</th> <th>Females</th>\n",
       "        </tr>\n",
       "    </thead>\n",
       "    <tbody>\n",
       "        <tr>\n",
       "            <td>65  </td> <td>1607688</td> <td>1776761</td>\n",
       "        </tr>\n",
       "        <tr>\n",
       "            <td>66  </td> <td>1589127</td> <td>1758649</td>\n",
       "        </tr>\n",
       "        <tr>\n",
       "            <td>67  </td> <td>1653257</td> <td>1832245</td>\n",
       "        </tr>\n",
       "        <tr>\n",
       "            <td>68  </td> <td>1211480</td> <td>1361047</td>\n",
       "        </tr>\n",
       "        <tr>\n",
       "            <td>69  </td> <td>1187554</td> <td>1347458</td>\n",
       "        </tr>\n",
       "        <tr>\n",
       "            <td>70  </td> <td>1149247</td> <td>1317238</td>\n",
       "        </tr>\n",
       "        <tr>\n",
       "            <td>71  </td> <td>1169356</td> <td>1350392</td>\n",
       "        </tr>\n",
       "        <tr>\n",
       "            <td>72  </td> <td>1010896</td> <td>1183338</td>\n",
       "        </tr>\n",
       "        <tr>\n",
       "            <td>73  </td> <td>913008 </td> <td>1089183</td>\n",
       "        </tr>\n",
       "        <tr>\n",
       "            <td>74  </td> <td>857432 </td> <td>1032934</td>\n",
       "        </tr>\n",
       "    </tbody>\n",
       "</table>"
      ],
      "text/plain": [
       "Age  | Males   | Females\n",
       "65   | 1607688 | 1776761\n",
       "66   | 1589127 | 1758649\n",
       "67   | 1653257 | 1832245\n",
       "68   | 1211480 | 1361047\n",
       "69   | 1187554 | 1347458\n",
       "70   | 1149247 | 1317238\n",
       "71   | 1169356 | 1350392\n",
       "72   | 1010896 | 1183338\n",
       "73   | 913008  | 1089183\n",
       "74   | 857432  | 1032934"
      ]
     },
     "execution_count": 40,
     "metadata": {},
     "output_type": "execute_result"
    }
   ],
   "source": [
    "pop_2014.where('Age', are.between(65, 75))"
   ]
  },
  {
   "cell_type": "code",
   "execution_count": 41,
   "metadata": {},
   "outputs": [
    {
     "data": {
      "text/plain": [
       "array([1947, 1946, 1945, 1944, 1943, 1942])"
      ]
     },
     "execution_count": 41,
     "metadata": {},
     "output_type": "execute_result"
    }
   ],
   "source": [
    "2014 - np.arange(67, 73)"
   ]
  },
  {
   "cell_type": "code",
   "execution_count": 42,
   "metadata": {},
   "outputs": [
    {
     "data": {
      "text/html": [
       "<table border=\"1\" class=\"dataframe\">\n",
       "    <thead>\n",
       "        <tr>\n",
       "            <th>AGE</th> <th>2010</th> <th>2014</th>\n",
       "        </tr>\n",
       "    </thead>\n",
       "    <tbody>\n",
       "        <tr>\n",
       "            <td>0   </td> <td>3951330</td> <td>3948350</td>\n",
       "        </tr>\n",
       "        <tr>\n",
       "            <td>1   </td> <td>3957888</td> <td>3962123</td>\n",
       "        </tr>\n",
       "        <tr>\n",
       "            <td>2   </td> <td>4090862</td> <td>3957772</td>\n",
       "        </tr>\n",
       "        <tr>\n",
       "            <td>3   </td> <td>4111920</td> <td>4005190</td>\n",
       "        </tr>\n",
       "        <tr>\n",
       "            <td>4   </td> <td>4077552</td> <td>4003448</td>\n",
       "        </tr>\n",
       "        <tr>\n",
       "            <td>5   </td> <td>4064653</td> <td>4004858</td>\n",
       "        </tr>\n",
       "        <tr>\n",
       "            <td>6   </td> <td>4073013</td> <td>4134352</td>\n",
       "        </tr>\n",
       "        <tr>\n",
       "            <td>7   </td> <td>4043047</td> <td>4154000</td>\n",
       "        </tr>\n",
       "        <tr>\n",
       "            <td>8   </td> <td>4025604</td> <td>4119524</td>\n",
       "        </tr>\n",
       "        <tr>\n",
       "            <td>9   </td> <td>4125415</td> <td>4106832</td>\n",
       "        </tr>\n",
       "    </tbody>\n",
       "</table>\n",
       "<p>... (91 rows omitted)</p>"
      ],
      "text/plain": [
       "AGE  | 2010    | 2014\n",
       "0    | 3951330 | 3948350\n",
       "1    | 3957888 | 3962123\n",
       "2    | 4090862 | 3957772\n",
       "3    | 4111920 | 4005190\n",
       "4    | 4077552 | 4003448\n",
       "5    | 4064653 | 4004858\n",
       "6    | 4073013 | 4134352\n",
       "7    | 4043047 | 4154000\n",
       "8    | 4025604 | 4119524\n",
       "9    | 4125415 | 4106832\n",
       "... (91 rows omitted)"
      ]
     },
     "execution_count": 42,
     "metadata": {},
     "output_type": "execute_result"
    }
   ],
   "source": [
    "everyone"
   ]
  },
  {
   "cell_type": "code",
   "execution_count": 44,
   "metadata": {},
   "outputs": [],
   "source": [
    "everyone = everyone.with_columns(\n",
    "    'Change', everyone.column('2014') - everyone.column('2010')\n",
    ")"
   ]
  },
  {
   "cell_type": "code",
   "execution_count": 45,
   "metadata": {},
   "outputs": [
    {
     "data": {
      "text/html": [
       "<table border=\"1\" class=\"dataframe\">\n",
       "    <thead>\n",
       "        <tr>\n",
       "            <th>AGE</th> <th>2010</th> <th>2014</th> <th>Change</th>\n",
       "        </tr>\n",
       "    </thead>\n",
       "    <tbody>\n",
       "        <tr>\n",
       "            <td>67  </td> <td>2693709</td> <td>3485502</td> <td>791793</td>\n",
       "        </tr>\n",
       "        <tr>\n",
       "            <td>64  </td> <td>2706063</td> <td>3488136</td> <td>782073</td>\n",
       "        </tr>\n",
       "        <tr>\n",
       "            <td>66  </td> <td>2621346</td> <td>3347776</td> <td>726430</td>\n",
       "        </tr>\n",
       "        <tr>\n",
       "            <td>65  </td> <td>2678532</td> <td>3384449</td> <td>705917</td>\n",
       "        </tr>\n",
       "        <tr>\n",
       "            <td>71  </td> <td>1953614</td> <td>2519748</td> <td>566134</td>\n",
       "        </tr>\n",
       "        <tr>\n",
       "            <td>34  </td> <td>3822188</td> <td>4362895</td> <td>540707</td>\n",
       "        </tr>\n",
       "        <tr>\n",
       "            <td>23  </td> <td>4217221</td> <td>4698584</td> <td>481363</td>\n",
       "        </tr>\n",
       "        <tr>\n",
       "            <td>59  </td> <td>3694276</td> <td>4155417</td> <td>461141</td>\n",
       "        </tr>\n",
       "        <tr>\n",
       "            <td>24  </td> <td>4243589</td> <td>4692635</td> <td>449046</td>\n",
       "        </tr>\n",
       "        <tr>\n",
       "            <td>70  </td> <td>2062581</td> <td>2466485</td> <td>403904</td>\n",
       "        </tr>\n",
       "    </tbody>\n",
       "</table>\n",
       "<p>... (91 rows omitted)</p>"
      ],
      "text/plain": [
       "AGE  | 2010    | 2014    | Change\n",
       "67   | 2693709 | 3485502 | 791793\n",
       "64   | 2706063 | 3488136 | 782073\n",
       "66   | 2621346 | 3347776 | 726430\n",
       "65   | 2678532 | 3384449 | 705917\n",
       "71   | 1953614 | 2519748 | 566134\n",
       "34   | 3822188 | 4362895 | 540707\n",
       "23   | 4217221 | 4698584 | 481363\n",
       "59   | 3694276 | 4155417 | 461141\n",
       "24   | 4243589 | 4692635 | 449046\n",
       "70   | 2062581 | 2466485 | 403904\n",
       "... (91 rows omitted)"
      ]
     },
     "execution_count": 45,
     "metadata": {},
     "output_type": "execute_result"
    }
   ],
   "source": [
    "everyone.sort('Change', descending=True)"
   ]
  },
  {
   "cell_type": "code",
   "execution_count": 46,
   "metadata": {},
   "outputs": [
    {
     "data": {
      "text/html": [
       "<table border=\"1\" class=\"dataframe\">\n",
       "    <thead>\n",
       "        <tr>\n",
       "            <th>AGE</th> <th>2010</th> <th>2014</th> <th>Change</th> <th>Growth Rate</th>\n",
       "        </tr>\n",
       "    </thead>\n",
       "    <tbody>\n",
       "        <tr>\n",
       "            <td>100 </td> <td>54409  </td> <td>72197  </td> <td>17788 </td> <td>0.0732777  </td>\n",
       "        </tr>\n",
       "        <tr>\n",
       "            <td>93  </td> <td>219063 </td> <td>286333 </td> <td>67270 </td> <td>0.069241   </td>\n",
       "        </tr>\n",
       "        <tr>\n",
       "            <td>99  </td> <td>32178  </td> <td>41828  </td> <td>9650  </td> <td>0.0677683  </td>\n",
       "        </tr>\n",
       "        <tr>\n",
       "            <td>67  </td> <td>2693709</td> <td>3485502</td> <td>791793</td> <td>0.0665437  </td>\n",
       "        </tr>\n",
       "        <tr>\n",
       "            <td>71  </td> <td>1953614</td> <td>2519748</td> <td>566134</td> <td>0.0656868  </td>\n",
       "        </tr>\n",
       "        <tr>\n",
       "            <td>64  </td> <td>2706063</td> <td>3488136</td> <td>782073</td> <td>0.0655256  </td>\n",
       "        </tr>\n",
       "        <tr>\n",
       "            <td>94  </td> <td>170775 </td> <td>218655 </td> <td>47880 </td> <td>0.0637358  </td>\n",
       "        </tr>\n",
       "        <tr>\n",
       "            <td>98  </td> <td>47037  </td> <td>60185  </td> <td>13148 </td> <td>0.0635604  </td>\n",
       "        </tr>\n",
       "        <tr>\n",
       "            <td>66  </td> <td>2621346</td> <td>3347776</td> <td>726430</td> <td>0.0630606  </td>\n",
       "        </tr>\n",
       "        <tr>\n",
       "            <td>65  </td> <td>2678532</td> <td>3384449</td> <td>705917</td> <td>0.0602244  </td>\n",
       "        </tr>\n",
       "    </tbody>\n",
       "</table>\n",
       "<p>... (91 rows omitted)</p>"
      ],
      "text/plain": [
       "AGE  | 2010    | 2014    | Change | Growth Rate\n",
       "100  | 54409   | 72197   | 17788  | 0.0732777\n",
       "93   | 219063  | 286333  | 67270  | 0.069241\n",
       "99   | 32178   | 41828   | 9650   | 0.0677683\n",
       "67   | 2693709 | 3485502 | 791793 | 0.0665437\n",
       "71   | 1953614 | 2519748 | 566134 | 0.0656868\n",
       "64   | 2706063 | 3488136 | 782073 | 0.0655256\n",
       "94   | 170775  | 218655  | 47880  | 0.0637358\n",
       "98   | 47037   | 60185   | 13148  | 0.0635604\n",
       "66   | 2621346 | 3347776 | 726430 | 0.0630606\n",
       "65   | 2678532 | 3384449 | 705917 | 0.0602244\n",
       "... (91 rows omitted)"
      ]
     },
     "execution_count": 46,
     "metadata": {},
     "output_type": "execute_result"
    }
   ],
   "source": [
    "everyone.with_columns(\n",
    "    'Growth Rate', (everyone.column('2014')/everyone.column('2010')) ** (1/4) - 1\n",
    ").sort('Growth Rate', descending=True)"
   ]
  },
  {
   "cell_type": "markdown",
   "metadata": {},
   "source": [
    "## Scatter Plots ##"
   ]
  },
  {
   "cell_type": "code",
   "execution_count": 47,
   "metadata": {},
   "outputs": [],
   "source": [
    "actors = Table.read_table('actors.csv')"
   ]
  },
  {
   "cell_type": "code",
   "execution_count": 48,
   "metadata": {},
   "outputs": [
    {
     "data": {
      "text/html": [
       "<table border=\"1\" class=\"dataframe\">\n",
       "    <thead>\n",
       "        <tr>\n",
       "            <th>Actor</th> <th>Total Gross</th> <th>Number of Movies</th> <th>Average per Movie</th> <th>#1 Movie</th> <th>Gross</th>\n",
       "        </tr>\n",
       "    </thead>\n",
       "    <tbody>\n",
       "        <tr>\n",
       "            <td>Harrison Ford     </td> <td>4871.7     </td> <td>41              </td> <td>118.8            </td> <td>Star Wars: The Force Awakens</td> <td>936.7</td>\n",
       "        </tr>\n",
       "        <tr>\n",
       "            <td>Samuel L. Jackson </td> <td>4772.8     </td> <td>69              </td> <td>69.2             </td> <td>The Avengers                </td> <td>623.4</td>\n",
       "        </tr>\n",
       "        <tr>\n",
       "            <td>Morgan Freeman    </td> <td>4468.3     </td> <td>61              </td> <td>73.3             </td> <td>The Dark Knight             </td> <td>534.9</td>\n",
       "        </tr>\n",
       "        <tr>\n",
       "            <td>Tom Hanks         </td> <td>4340.8     </td> <td>44              </td> <td>98.7             </td> <td>Toy Story 3                 </td> <td>415  </td>\n",
       "        </tr>\n",
       "        <tr>\n",
       "            <td>Robert Downey, Jr.</td> <td>3947.3     </td> <td>53              </td> <td>74.5             </td> <td>The Avengers                </td> <td>623.4</td>\n",
       "        </tr>\n",
       "        <tr>\n",
       "            <td>Eddie Murphy      </td> <td>3810.4     </td> <td>38              </td> <td>100.3            </td> <td>Shrek 2                     </td> <td>441.2</td>\n",
       "        </tr>\n",
       "        <tr>\n",
       "            <td>Tom Cruise        </td> <td>3587.2     </td> <td>36              </td> <td>99.6             </td> <td>War of the Worlds           </td> <td>234.3</td>\n",
       "        </tr>\n",
       "        <tr>\n",
       "            <td>Johnny Depp       </td> <td>3368.6     </td> <td>45              </td> <td>74.9             </td> <td>Dead Man's Chest            </td> <td>423.3</td>\n",
       "        </tr>\n",
       "        <tr>\n",
       "            <td>Michael Caine     </td> <td>3351.5     </td> <td>58              </td> <td>57.8             </td> <td>The Dark Knight             </td> <td>534.9</td>\n",
       "        </tr>\n",
       "        <tr>\n",
       "            <td>Scarlett Johansson</td> <td>3341.2     </td> <td>37              </td> <td>90.3             </td> <td>The Avengers                </td> <td>623.4</td>\n",
       "        </tr>\n",
       "    </tbody>\n",
       "</table>\n",
       "<p>... (40 rows omitted)</p>"
      ],
      "text/plain": [
       "Actor              | Total Gross | Number of Movies | Average per Movie | #1 Movie                     | Gross\n",
       "Harrison Ford      | 4871.7      | 41               | 118.8             | Star Wars: The Force Awakens | 936.7\n",
       "Samuel L. Jackson  | 4772.8      | 69               | 69.2              | The Avengers                 | 623.4\n",
       "Morgan Freeman     | 4468.3      | 61               | 73.3              | The Dark Knight              | 534.9\n",
       "Tom Hanks          | 4340.8      | 44               | 98.7              | Toy Story 3                  | 415\n",
       "Robert Downey, Jr. | 3947.3      | 53               | 74.5              | The Avengers                 | 623.4\n",
       "Eddie Murphy       | 3810.4      | 38               | 100.3             | Shrek 2                      | 441.2\n",
       "Tom Cruise         | 3587.2      | 36               | 99.6              | War of the Worlds            | 234.3\n",
       "Johnny Depp        | 3368.6      | 45               | 74.9              | Dead Man's Chest             | 423.3\n",
       "Michael Caine      | 3351.5      | 58               | 57.8              | The Dark Knight              | 534.9\n",
       "Scarlett Johansson | 3341.2      | 37               | 90.3              | The Avengers                 | 623.4\n",
       "... (40 rows omitted)"
      ]
     },
     "execution_count": 48,
     "metadata": {},
     "output_type": "execute_result"
    }
   ],
   "source": [
    "actors"
   ]
  },
  {
   "cell_type": "code",
   "execution_count": 49,
   "metadata": {},
   "outputs": [
    {
     "data": {
      "image/png": "[encoded data removed]",
      "text/plain": [
       "<Figure size 360x360 with 1 Axes>"
      ]
     },
     "metadata": {},
     "output_type": "display_data"
    }
   ],
   "source": [
    "actors.scatter('Number of Movies', 'Total Gross')"
   ]
  },
  {
   "cell_type": "code",
   "execution_count": 50,
   "metadata": {},
   "outputs": [
    {
     "data": {
      "image/png": "[encoded data removed]",
      "text/plain": [
       "<Figure size 360x360 with 1 Axes>"
      ]
     },
     "metadata": {},
     "output_type": "display_data"
    }
   ],
   "source": [
    "actors.scatter('Number of Movies', 'Average per Movie')"
   ]
  },
  {
   "cell_type": "code",
   "execution_count": 51,
   "metadata": {},
   "outputs": [
    {
     "data": {
      "text/html": [
       "<table border=\"1\" class=\"dataframe\">\n",
       "    <thead>\n",
       "        <tr>\n",
       "            <th>Actor</th> <th>Total Gross</th> <th>Number of Movies</th> <th>Average per Movie</th> <th>#1 Movie</th> <th>Gross</th>\n",
       "        </tr>\n",
       "    </thead>\n",
       "    <tbody>\n",
       "        <tr>\n",
       "            <td>Anthony Daniels </td> <td>3162.9     </td> <td>7               </td> <td>451.8            </td> <td>Star Wars: The Force Awakens       </td> <td>936.7</td>\n",
       "        </tr>\n",
       "        <tr>\n",
       "            <td>Orlando Bloom   </td> <td>2815.8     </td> <td>17              </td> <td>165.6            </td> <td>Dead Man's Chest                   </td> <td>423.3</td>\n",
       "        </tr>\n",
       "        <tr>\n",
       "            <td>Emma Watson     </td> <td>2681.9     </td> <td>17              </td> <td>157.8            </td> <td>Harry Potter / Deathly Hallows (P2)</td> <td>381  </td>\n",
       "        </tr>\n",
       "        <tr>\n",
       "            <td>Daniel Radcliffe</td> <td>2634.4     </td> <td>17              </td> <td>155              </td> <td>Harry Potter / Deathly Hallows (P2)</td> <td>381  </td>\n",
       "        </tr>\n",
       "    </tbody>\n",
       "</table>"
      ],
      "text/plain": [
       "Actor            | Total Gross | Number of Movies | Average per Movie | #1 Movie                            | Gross\n",
       "Anthony Daniels  | 3162.9      | 7                | 451.8             | Star Wars: The Force Awakens        | 936.7\n",
       "Orlando Bloom    | 2815.8      | 17               | 165.6             | Dead Man's Chest                    | 423.3\n",
       "Emma Watson      | 2681.9      | 17               | 157.8             | Harry Potter / Deathly Hallows (P2) | 381\n",
       "Daniel Radcliffe | 2634.4      | 17               | 155               | Harry Potter / Deathly Hallows (P2) | 381"
      ]
     },
     "execution_count": 51,
     "metadata": {},
     "output_type": "execute_result"
    }
   ],
   "source": [
    "actors.where('Average per Movie', are.above(150))"
   ]
  },
  {
   "cell_type": "code",
   "execution_count": null,
   "metadata": {},
   "outputs": [],
   "source": []
  }
 ],
 "metadata": {
  "anaconda-cloud": {},
  "kernelspec": {
   "display_name": "Python 3",
   "language": "python",
   "name": "python3"
  },
  "language_info": {
   "codemirror_mode": {
    "name": "ipython",
    "version": 3
   },
   "file_extension": ".py",
   "mimetype": "text/x-python",
   "name": "python",
   "nbconvert_exporter": "python",
   "pygments_lexer": "ipython3",
   "version": "3.7.3"
  }
 },
 "nbformat": 4,
 "nbformat_minor": 1
}
