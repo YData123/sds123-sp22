{
 "cells": [
  {
   "cell_type": "code",
   "execution_count": 1,
   "metadata": {},
   "outputs": [],
   "source": [
    "from datascience import *\n",
    "import numpy as np"
   ]
  },
  {
   "cell_type": "markdown",
   "metadata": {},
   "source": [
    "## 1.Toy data\n",
    "\n",
    "For the very first example we are going to create a small toy dataset. In general, until you get a good handle on the functions discussed in this notebook, it is advised that you try your code on a small example like the one bellow. This way you can verify that your code is working correctly! For bigger data sets it might be difficult to evaluate the code's behaviour based on just a handful of rows that Python outputs. "
   ]
  },
  {
   "cell_type": "code",
   "execution_count": 2,
   "metadata": {},
   "outputs": [
    {
     "data": {
      "text/html": [
       "<table border=\"1\" class=\"dataframe\">\n",
       "    <thead>\n",
       "        <tr>\n",
       "            <th>id</th> <th>group</th> <th>val_1</th> <th>val_2</th>\n",
       "        </tr>\n",
       "    </thead>\n",
       "    <tbody>\n",
       "        <tr>\n",
       "            <td>1   </td> <td>A    </td> <td>1    </td> <td>-0.535532</td>\n",
       "        </tr>\n",
       "        <tr>\n",
       "            <td>1   </td> <td>B    </td> <td>2    </td> <td>-0.347885</td>\n",
       "        </tr>\n",
       "        <tr>\n",
       "            <td>1   </td> <td>C    </td> <td>3    </td> <td>0.345067 </td>\n",
       "        </tr>\n",
       "        <tr>\n",
       "            <td>2   </td> <td>B    </td> <td>4    </td> <td>-0.911886</td>\n",
       "        </tr>\n",
       "        <tr>\n",
       "            <td>2   </td> <td>B    </td> <td>5    </td> <td>1.34077  </td>\n",
       "        </tr>\n",
       "        <tr>\n",
       "            <td>2   </td> <td>B    </td> <td>6    </td> <td>0.0547437</td>\n",
       "        </tr>\n",
       "        <tr>\n",
       "            <td>3   </td> <td>A    </td> <td>7    </td> <td>-0.659394</td>\n",
       "        </tr>\n",
       "        <tr>\n",
       "            <td>3   </td> <td>A    </td> <td>8    </td> <td>-2.7284  </td>\n",
       "        </tr>\n",
       "        <tr>\n",
       "            <td>3   </td> <td>C    </td> <td>9    </td> <td>-1.34297 </td>\n",
       "        </tr>\n",
       "    </tbody>\n",
       "</table>"
      ],
      "text/plain": [
       "id   | group | val_1 | val_2\n",
       "1    | A     | 1     | -0.535532\n",
       "1    | B     | 2     | -0.347885\n",
       "1    | C     | 3     | 0.345067\n",
       "2    | B     | 4     | -0.911886\n",
       "2    | B     | 5     | 1.34077\n",
       "2    | B     | 6     | 0.0547437\n",
       "3    | A     | 7     | -0.659394\n",
       "3    | A     | 8     | -2.7284\n",
       "3    | C     | 9     | -1.34297"
      ]
     },
     "execution_count": 2,
     "metadata": {},
     "output_type": "execute_result"
    }
   ],
   "source": [
    "toy = Table().with_columns(\"id\", np.repeat([1,2,3], 3),\n",
    "                           \"group\", make_array(\"A\",\"B\",\"C\",\"B\",\"B\",\"B\",\"A\", \"A\", \"C\"),\n",
    "                           \"val_1\", np.arange(1,10),\n",
    "                           \"val_2\", np.random.normal(0, 1, 9))\n",
    "toy"
   ]
  },
  {
   "cell_type": "markdown",
   "metadata": {},
   "source": [
    "**Question 1.1.** How many of each 'id' do we have? *Hint: use .group()*"
   ]
  },
  {
   "cell_type": "code",
   "execution_count": 3,
   "metadata": {},
   "outputs": [
    {
     "data": {
      "text/html": [
       "<table border=\"1\" class=\"dataframe\">\n",
       "    <thead>\n",
       "        <tr>\n",
       "            <th>id</th> <th>count</th>\n",
       "        </tr>\n",
       "    </thead>\n",
       "    <tbody>\n",
       "        <tr>\n",
       "            <td>1   </td> <td>3    </td>\n",
       "        </tr>\n",
       "        <tr>\n",
       "            <td>2   </td> <td>3    </td>\n",
       "        </tr>\n",
       "        <tr>\n",
       "            <td>3   </td> <td>3    </td>\n",
       "        </tr>\n",
       "    </tbody>\n",
       "</table>"
      ],
      "text/plain": [
       "id   | count\n",
       "1    | 3\n",
       "2    | 3\n",
       "3    | 3"
      ]
     },
     "execution_count": 3,
     "metadata": {},
     "output_type": "execute_result"
    }
   ],
   "source": [
    "toy.group(\"id\")"
   ]
  },
  {
   "cell_type": "markdown",
   "metadata": {},
   "source": [
    "**Question 1.2.** How many of each group do we have?"
   ]
  },
  {
   "cell_type": "code",
   "execution_count": 4,
   "metadata": {},
   "outputs": [
    {
     "data": {
      "text/html": [
       "<table border=\"1\" class=\"dataframe\">\n",
       "    <thead>\n",
       "        <tr>\n",
       "            <th>group</th> <th>count</th>\n",
       "        </tr>\n",
       "    </thead>\n",
       "    <tbody>\n",
       "        <tr>\n",
       "            <td>A    </td> <td>3    </td>\n",
       "        </tr>\n",
       "        <tr>\n",
       "            <td>B    </td> <td>4    </td>\n",
       "        </tr>\n",
       "        <tr>\n",
       "            <td>C    </td> <td>2    </td>\n",
       "        </tr>\n",
       "    </tbody>\n",
       "</table>"
      ],
      "text/plain": [
       "group | count\n",
       "A     | 3\n",
       "B     | 4\n",
       "C     | 2"
      ]
     },
     "execution_count": 4,
     "metadata": {},
     "output_type": "execute_result"
    }
   ],
   "source": [
    "toy.group(\"group\")"
   ]
  },
  {
   "cell_type": "markdown",
   "metadata": {},
   "source": [
    "**Question 1.3.** How many observations do we have for each pair id--group?"
   ]
  },
  {
   "cell_type": "code",
   "execution_count": 5,
   "metadata": {},
   "outputs": [
    {
     "data": {
      "text/html": [
       "<table border=\"1\" class=\"dataframe\">\n",
       "    <thead>\n",
       "        <tr>\n",
       "            <th>id</th> <th>group</th> <th>count</th>\n",
       "        </tr>\n",
       "    </thead>\n",
       "    <tbody>\n",
       "        <tr>\n",
       "            <td>1   </td> <td>A    </td> <td>1    </td>\n",
       "        </tr>\n",
       "        <tr>\n",
       "            <td>1   </td> <td>B    </td> <td>1    </td>\n",
       "        </tr>\n",
       "        <tr>\n",
       "            <td>1   </td> <td>C    </td> <td>1    </td>\n",
       "        </tr>\n",
       "        <tr>\n",
       "            <td>2   </td> <td>B    </td> <td>3    </td>\n",
       "        </tr>\n",
       "        <tr>\n",
       "            <td>3   </td> <td>A    </td> <td>2    </td>\n",
       "        </tr>\n",
       "        <tr>\n",
       "            <td>3   </td> <td>C    </td> <td>1    </td>\n",
       "        </tr>\n",
       "    </tbody>\n",
       "</table>"
      ],
      "text/plain": [
       "id   | group | count\n",
       "1    | A     | 1\n",
       "1    | B     | 1\n",
       "1    | C     | 1\n",
       "2    | B     | 3\n",
       "3    | A     | 2\n",
       "3    | C     | 1"
      ]
     },
     "execution_count": 5,
     "metadata": {},
     "output_type": "execute_result"
    }
   ],
   "source": [
    "toy.group([\"id\", \"group\"]) # Note the square brackets!"
   ]
  },
  {
   "cell_type": "markdown",
   "metadata": {},
   "source": [
    "Note that in the example above the combinations id--group that don't have any observations in them (for example 2--A) are omitted."
   ]
  },
  {
   "cell_type": "markdown",
   "metadata": {},
   "source": [
    "**Question 1.4.** What is the minimum value of val_2 for each pair id--group?"
   ]
  },
  {
   "cell_type": "code",
   "execution_count": 6,
   "metadata": {},
   "outputs": [
    {
     "data": {
      "text/html": [
       "<table border=\"1\" class=\"dataframe\">\n",
       "    <thead>\n",
       "        <tr>\n",
       "            <th>id</th> <th>group</th> <th>val_2 min</th>\n",
       "        </tr>\n",
       "    </thead>\n",
       "    <tbody>\n",
       "        <tr>\n",
       "            <td>1   </td> <td>A    </td> <td>-0.535532</td>\n",
       "        </tr>\n",
       "        <tr>\n",
       "            <td>1   </td> <td>B    </td> <td>-0.347885</td>\n",
       "        </tr>\n",
       "        <tr>\n",
       "            <td>1   </td> <td>C    </td> <td>0.345067 </td>\n",
       "        </tr>\n",
       "        <tr>\n",
       "            <td>2   </td> <td>B    </td> <td>-0.911886</td>\n",
       "        </tr>\n",
       "        <tr>\n",
       "            <td>3   </td> <td>A    </td> <td>-2.7284  </td>\n",
       "        </tr>\n",
       "        <tr>\n",
       "            <td>3   </td> <td>C    </td> <td>-1.34297 </td>\n",
       "        </tr>\n",
       "    </tbody>\n",
       "</table>"
      ],
      "text/plain": [
       "id   | group | val_2 min\n",
       "1    | A     | -0.535532\n",
       "1    | B     | -0.347885\n",
       "1    | C     | 0.345067\n",
       "2    | B     | -0.911886\n",
       "3    | A     | -2.7284\n",
       "3    | C     | -1.34297"
      ]
     },
     "execution_count": 6,
     "metadata": {},
     "output_type": "execute_result"
    }
   ],
   "source": [
    "toy.drop(\"val_1\").group([\"id\", \"group\"], min)"
   ]
  },
  {
   "cell_type": "markdown",
   "metadata": {},
   "source": [
    "**Question 1.5.** How many observations do we have for each pair id--group? *Hint: use .pivot()*"
   ]
  },
  {
   "cell_type": "code",
   "execution_count": 17,
   "metadata": {},
   "outputs": [
    {
     "data": {
      "text/html": [
       "<table border=\"1\" class=\"dataframe\">\n",
       "    <thead>\n",
       "        <tr>\n",
       "            <th>group</th> <th>1</th> <th>2</th> <th>3</th>\n",
       "        </tr>\n",
       "    </thead>\n",
       "    <tbody>\n",
       "        <tr>\n",
       "            <td>A    </td> <td>1   </td> <td>0   </td> <td>2   </td>\n",
       "        </tr>\n",
       "        <tr>\n",
       "            <td>B    </td> <td>1   </td> <td>3   </td> <td>0   </td>\n",
       "        </tr>\n",
       "        <tr>\n",
       "            <td>C    </td> <td>1   </td> <td>0   </td> <td>1   </td>\n",
       "        </tr>\n",
       "    </tbody>\n",
       "</table>"
      ],
      "text/plain": [
       "group | 1    | 2    | 3\n",
       "A     | 1    | 0    | 2\n",
       "B     | 1    | 3    | 0\n",
       "C     | 1    | 0    | 1"
      ]
     },
     "execution_count": 17,
     "metadata": {},
     "output_type": "execute_result"
    }
   ],
   "source": [
    "toy.pivot(\"id\", \"group\") # Somewhat similar to .group with two columns, but now zeros are not omitted! "
   ]
  },
  {
   "cell_type": "markdown",
   "metadata": {},
   "source": [
    "Now, let's say another researcher gave us a new piece of information about the data:"
   ]
  },
  {
   "cell_type": "code",
   "execution_count": 8,
   "metadata": {},
   "outputs": [
    {
     "data": {
      "text/html": [
       "<table border=\"1\" class=\"dataframe\">\n",
       "    <thead>\n",
       "        <tr>\n",
       "            <th>group</th> <th>info</th>\n",
       "        </tr>\n",
       "    </thead>\n",
       "    <tbody>\n",
       "        <tr>\n",
       "            <td>A    </td> <td>control  </td>\n",
       "        </tr>\n",
       "        <tr>\n",
       "            <td>B    </td> <td>treatment</td>\n",
       "        </tr>\n",
       "        <tr>\n",
       "            <td>C    </td> <td>placebo  </td>\n",
       "        </tr>\n",
       "    </tbody>\n",
       "</table>"
      ],
      "text/plain": [
       "group | info\n",
       "A     | control\n",
       "B     | treatment\n",
       "C     | placebo"
      ]
     },
     "execution_count": 8,
     "metadata": {},
     "output_type": "execute_result"
    }
   ],
   "source": [
    "toy_add = Table().with_columns(\"group\", make_array(\"A\",\"B\",\"C\"),\n",
    "                               \"info\", make_array(\"control\",\"treatment\",\"placebo\"))\n",
    "toy_add"
   ]
  },
  {
   "cell_type": "markdown",
   "metadata": {},
   "source": [
    "We don't want to store this additional information separately and want to just add it to the 'toy' data frame.\n",
    "\n",
    "**Quesion 1.6.** How can we merge the two data tables?"
   ]
  },
  {
   "cell_type": "code",
   "execution_count": 9,
   "metadata": {},
   "outputs": [
    {
     "data": {
      "text/html": [
       "<table border=\"1\" class=\"dataframe\">\n",
       "    <thead>\n",
       "        <tr>\n",
       "            <th>group</th> <th>id</th> <th>val_1</th> <th>val_2</th> <th>info</th>\n",
       "        </tr>\n",
       "    </thead>\n",
       "    <tbody>\n",
       "        <tr>\n",
       "            <td>A    </td> <td>1   </td> <td>1    </td> <td>-0.535532</td> <td>control  </td>\n",
       "        </tr>\n",
       "        <tr>\n",
       "            <td>A    </td> <td>3   </td> <td>7    </td> <td>-0.659394</td> <td>control  </td>\n",
       "        </tr>\n",
       "        <tr>\n",
       "            <td>A    </td> <td>3   </td> <td>8    </td> <td>-2.7284  </td> <td>control  </td>\n",
       "        </tr>\n",
       "        <tr>\n",
       "            <td>B    </td> <td>1   </td> <td>2    </td> <td>-0.347885</td> <td>treatment</td>\n",
       "        </tr>\n",
       "        <tr>\n",
       "            <td>B    </td> <td>2   </td> <td>4    </td> <td>-0.911886</td> <td>treatment</td>\n",
       "        </tr>\n",
       "        <tr>\n",
       "            <td>B    </td> <td>2   </td> <td>5    </td> <td>1.34077  </td> <td>treatment</td>\n",
       "        </tr>\n",
       "        <tr>\n",
       "            <td>B    </td> <td>2   </td> <td>6    </td> <td>0.0547437</td> <td>treatment</td>\n",
       "        </tr>\n",
       "        <tr>\n",
       "            <td>C    </td> <td>1   </td> <td>3    </td> <td>0.345067 </td> <td>placebo  </td>\n",
       "        </tr>\n",
       "        <tr>\n",
       "            <td>C    </td> <td>3   </td> <td>9    </td> <td>-1.34297 </td> <td>placebo  </td>\n",
       "        </tr>\n",
       "    </tbody>\n",
       "</table>"
      ],
      "text/plain": [
       "group | id   | val_1 | val_2     | info\n",
       "A     | 1    | 1     | -0.535532 | control\n",
       "A     | 3    | 7     | -0.659394 | control\n",
       "A     | 3    | 8     | -2.7284   | control\n",
       "B     | 1    | 2     | -0.347885 | treatment\n",
       "B     | 2    | 4     | -0.911886 | treatment\n",
       "B     | 2    | 5     | 1.34077   | treatment\n",
       "B     | 2    | 6     | 0.0547437 | treatment\n",
       "C     | 1    | 3     | 0.345067  | placebo\n",
       "C     | 3    | 9     | -1.34297  | placebo"
      ]
     },
     "execution_count": 9,
     "metadata": {},
     "output_type": "execute_result"
    }
   ],
   "source": [
    "toy = toy.join(\"group\", toy_add)\n",
    "toy"
   ]
  },
  {
   "cell_type": "markdown",
   "metadata": {},
   "source": [
    "**Advice:** When you are changing the data you are working with (like in the cell above) it might be better to first assign the result to a new variable and then inspect it. Then if it looks right you can change the actual data set, otherwise you can debug your code. This approach will prevent you from needing to rerun all of the cells before the current one in case something goes wrong.  "
   ]
  },
  {
   "cell_type": "markdown",
   "metadata": {},
   "source": [
    "## 2.Titanic data\n",
    "\n",
    "The next example uses the Titanic data, located in the \"data\" folder."
   ]
  },
  {
   "cell_type": "code",
   "execution_count": 10,
   "metadata": {},
   "outputs": [
    {
     "data": {
      "text/html": [
       "<table border=\"1\" class=\"dataframe\">\n",
       "    <thead>\n",
       "        <tr>\n",
       "            <th>Class</th> <th>Sex</th> <th>Age</th> <th>Survived</th> <th>Freq</th>\n",
       "        </tr>\n",
       "    </thead>\n",
       "    <tbody>\n",
       "        <tr>\n",
       "            <td>1st  </td> <td>Male  </td> <td>Child</td> <td>No      </td> <td>0   </td>\n",
       "        </tr>\n",
       "        <tr>\n",
       "            <td>2nd  </td> <td>Male  </td> <td>Child</td> <td>No      </td> <td>0   </td>\n",
       "        </tr>\n",
       "        <tr>\n",
       "            <td>3rd  </td> <td>Male  </td> <td>Child</td> <td>No      </td> <td>35  </td>\n",
       "        </tr>\n",
       "        <tr>\n",
       "            <td>Crew </td> <td>Male  </td> <td>Child</td> <td>No      </td> <td>0   </td>\n",
       "        </tr>\n",
       "        <tr>\n",
       "            <td>1st  </td> <td>Female</td> <td>Child</td> <td>No      </td> <td>0   </td>\n",
       "        </tr>\n",
       "        <tr>\n",
       "            <td>2nd  </td> <td>Female</td> <td>Child</td> <td>No      </td> <td>0   </td>\n",
       "        </tr>\n",
       "        <tr>\n",
       "            <td>3rd  </td> <td>Female</td> <td>Child</td> <td>No      </td> <td>17  </td>\n",
       "        </tr>\n",
       "        <tr>\n",
       "            <td>Crew </td> <td>Female</td> <td>Child</td> <td>No      </td> <td>0   </td>\n",
       "        </tr>\n",
       "        <tr>\n",
       "            <td>1st  </td> <td>Male  </td> <td>Adult</td> <td>No      </td> <td>118 </td>\n",
       "        </tr>\n",
       "        <tr>\n",
       "            <td>2nd  </td> <td>Male  </td> <td>Adult</td> <td>No      </td> <td>154 </td>\n",
       "        </tr>\n",
       "        <tr>\n",
       "            <td>3rd  </td> <td>Male  </td> <td>Adult</td> <td>No      </td> <td>387 </td>\n",
       "        </tr>\n",
       "        <tr>\n",
       "            <td>Crew </td> <td>Male  </td> <td>Adult</td> <td>No      </td> <td>670 </td>\n",
       "        </tr>\n",
       "        <tr>\n",
       "            <td>1st  </td> <td>Female</td> <td>Adult</td> <td>No      </td> <td>4   </td>\n",
       "        </tr>\n",
       "        <tr>\n",
       "            <td>2nd  </td> <td>Female</td> <td>Adult</td> <td>No      </td> <td>13  </td>\n",
       "        </tr>\n",
       "        <tr>\n",
       "            <td>3rd  </td> <td>Female</td> <td>Adult</td> <td>No      </td> <td>89  </td>\n",
       "        </tr>\n",
       "        <tr>\n",
       "            <td>Crew </td> <td>Female</td> <td>Adult</td> <td>No      </td> <td>3   </td>\n",
       "        </tr>\n",
       "        <tr>\n",
       "            <td>1st  </td> <td>Male  </td> <td>Child</td> <td>Yes     </td> <td>5   </td>\n",
       "        </tr>\n",
       "        <tr>\n",
       "            <td>2nd  </td> <td>Male  </td> <td>Child</td> <td>Yes     </td> <td>11  </td>\n",
       "        </tr>\n",
       "        <tr>\n",
       "            <td>3rd  </td> <td>Male  </td> <td>Child</td> <td>Yes     </td> <td>13  </td>\n",
       "        </tr>\n",
       "        <tr>\n",
       "            <td>Crew </td> <td>Male  </td> <td>Child</td> <td>Yes     </td> <td>0   </td>\n",
       "        </tr>\n",
       "        <tr>\n",
       "            <td>1st  </td> <td>Female</td> <td>Child</td> <td>Yes     </td> <td>1   </td>\n",
       "        </tr>\n",
       "        <tr>\n",
       "            <td>2nd  </td> <td>Female</td> <td>Child</td> <td>Yes     </td> <td>13  </td>\n",
       "        </tr>\n",
       "        <tr>\n",
       "            <td>3rd  </td> <td>Female</td> <td>Child</td> <td>Yes     </td> <td>14  </td>\n",
       "        </tr>\n",
       "        <tr>\n",
       "            <td>Crew </td> <td>Female</td> <td>Child</td> <td>Yes     </td> <td>0   </td>\n",
       "        </tr>\n",
       "        <tr>\n",
       "            <td>1st  </td> <td>Male  </td> <td>Adult</td> <td>Yes     </td> <td>57  </td>\n",
       "        </tr>\n",
       "        <tr>\n",
       "            <td>2nd  </td> <td>Male  </td> <td>Adult</td> <td>Yes     </td> <td>14  </td>\n",
       "        </tr>\n",
       "        <tr>\n",
       "            <td>3rd  </td> <td>Male  </td> <td>Adult</td> <td>Yes     </td> <td>75  </td>\n",
       "        </tr>\n",
       "        <tr>\n",
       "            <td>Crew </td> <td>Male  </td> <td>Adult</td> <td>Yes     </td> <td>192 </td>\n",
       "        </tr>\n",
       "        <tr>\n",
       "            <td>1st  </td> <td>Female</td> <td>Adult</td> <td>Yes     </td> <td>140 </td>\n",
       "        </tr>\n",
       "        <tr>\n",
       "            <td>2nd  </td> <td>Female</td> <td>Adult</td> <td>Yes     </td> <td>80  </td>\n",
       "        </tr>\n",
       "        <tr>\n",
       "            <td>3rd  </td> <td>Female</td> <td>Adult</td> <td>Yes     </td> <td>76  </td>\n",
       "        </tr>\n",
       "        <tr>\n",
       "            <td>Crew </td> <td>Female</td> <td>Adult</td> <td>Yes     </td> <td>20  </td>\n",
       "        </tr>\n",
       "    </tbody>\n",
       "</table>"
      ],
      "text/plain": [
       "<IPython.core.display.HTML object>"
      ]
     },
     "metadata": {},
     "output_type": "display_data"
    }
   ],
   "source": [
    "titanic = Table.read_table(\"data/titanic.csv\")\n",
    "titanic.show(32)"
   ]
  },
  {
   "cell_type": "markdown",
   "metadata": {},
   "source": [
    "**Question 2.1.** Create a 2x2 table with 'Sex' as rows, 'Survived' as columns and containing the information about how many man and women survived and died."
   ]
  },
  {
   "cell_type": "markdown",
   "metadata": {},
   "source": [
    "The intuitive thing to do might be the following:"
   ]
  },
  {
   "cell_type": "code",
   "execution_count": 11,
   "metadata": {},
   "outputs": [
    {
     "data": {
      "text/html": [
       "<table border=\"1\" class=\"dataframe\">\n",
       "    <thead>\n",
       "        <tr>\n",
       "            <th>Sex</th> <th>No</th> <th>Yes</th>\n",
       "        </tr>\n",
       "    </thead>\n",
       "    <tbody>\n",
       "        <tr>\n",
       "            <td>Female</td> <td>8   </td> <td>8   </td>\n",
       "        </tr>\n",
       "        <tr>\n",
       "            <td>Male  </td> <td>8   </td> <td>8   </td>\n",
       "        </tr>\n",
       "    </tbody>\n",
       "</table>"
      ],
      "text/plain": [
       "Sex    | No   | Yes\n",
       "Female | 8    | 8\n",
       "Male   | 8    | 8"
      ]
     },
     "execution_count": 11,
     "metadata": {},
     "output_type": "execute_result"
    }
   ],
   "source": [
    "titanic.pivot(\"Survived\", \"Sex\")"
   ]
  },
  {
   "cell_type": "markdown",
   "metadata": {},
   "source": [
    "But note that this way we only count the number of rows in Titanic data that contain the corresponding information. Instead we need to sum the 'Freq' values as well. "
   ]
  },
  {
   "cell_type": "code",
   "execution_count": 12,
   "metadata": {},
   "outputs": [
    {
     "data": {
      "text/html": [
       "<table border=\"1\" class=\"dataframe\">\n",
       "    <thead>\n",
       "        <tr>\n",
       "            <th>Sex</th> <th>No</th> <th>Yes</th>\n",
       "        </tr>\n",
       "    </thead>\n",
       "    <tbody>\n",
       "        <tr>\n",
       "            <td>Female</td> <td>126 </td> <td>344 </td>\n",
       "        </tr>\n",
       "        <tr>\n",
       "            <td>Male  </td> <td>1364</td> <td>367 </td>\n",
       "        </tr>\n",
       "    </tbody>\n",
       "</table>"
      ],
      "text/plain": [
       "Sex    | No   | Yes\n",
       "Female | 126  | 344\n",
       "Male   | 1364 | 367"
      ]
     },
     "execution_count": 12,
     "metadata": {},
     "output_type": "execute_result"
    }
   ],
   "source": [
    "tb1 = titanic.pivot(\"Survived\", \"Sex\", values=\"Freq\", collect=sum)\n",
    "tb1"
   ]
  },
  {
   "cell_type": "markdown",
   "metadata": {},
   "source": [
    "**Question 2.2.** To the table you created in the previous question add a column of total counts of male/female passengers. *Hint: use .apply()*"
   ]
  },
  {
   "cell_type": "code",
   "execution_count": 13,
   "metadata": {},
   "outputs": [
    {
     "data": {
      "text/html": [
       "<table border=\"1\" class=\"dataframe\">\n",
       "    <thead>\n",
       "        <tr>\n",
       "            <th>Sex</th> <th>No</th> <th>Yes</th> <th>Total</th>\n",
       "        </tr>\n",
       "    </thead>\n",
       "    <tbody>\n",
       "        <tr>\n",
       "            <td>Female</td> <td>126 </td> <td>344 </td> <td>470  </td>\n",
       "        </tr>\n",
       "        <tr>\n",
       "            <td>Male  </td> <td>1364</td> <td>367 </td> <td>1731 </td>\n",
       "        </tr>\n",
       "    </tbody>\n",
       "</table>"
      ],
      "text/plain": [
       "Sex    | No   | Yes  | Total\n",
       "Female | 126  | 344  | 470\n",
       "Male   | 1364 | 367  | 1731"
      ]
     },
     "execution_count": 13,
     "metadata": {},
     "output_type": "execute_result"
    }
   ],
   "source": [
    "tb2 = tb1.with_columns(\"Total\", tb1.drop('Sex').apply(sum))\n",
    "tb2"
   ]
  },
  {
   "cell_type": "markdown",
   "metadata": {},
   "source": [
    "**Question 2.3.** Now do the same table for Adult vs Child instead of Male vs Female."
   ]
  },
  {
   "cell_type": "code",
   "execution_count": 14,
   "metadata": {},
   "outputs": [
    {
     "data": {
      "text/html": [
       "<table border=\"1\" class=\"dataframe\">\n",
       "    <thead>\n",
       "        <tr>\n",
       "            <th>Age</th> <th>No</th> <th>Yes</th> <th>Total</th>\n",
       "        </tr>\n",
       "    </thead>\n",
       "    <tbody>\n",
       "        <tr>\n",
       "            <td>Adult</td> <td>1438</td> <td>654 </td> <td>2092 </td>\n",
       "        </tr>\n",
       "        <tr>\n",
       "            <td>Child</td> <td>52  </td> <td>57  </td> <td>109  </td>\n",
       "        </tr>\n",
       "    </tbody>\n",
       "</table>"
      ],
      "text/plain": [
       "Age   | No   | Yes  | Total\n",
       "Adult | 1438 | 654  | 2092\n",
       "Child | 52   | 57   | 109"
      ]
     },
     "execution_count": 14,
     "metadata": {},
     "output_type": "execute_result"
    }
   ],
   "source": [
    "tb3 = titanic.pivot(\"Survived\", \"Age\", values=\"Freq\", collect=sum)\n",
    "tb3 = tb3.with_columns(\"Total\", tb3.drop('Age').apply(sum))\n",
    "tb3"
   ]
  },
  {
   "cell_type": "markdown",
   "metadata": {},
   "source": [
    "**Question 2.4.** Can you think of a way to create a table like in Question 2.2 but with only adult male and female passengers?"
   ]
  },
  {
   "cell_type": "code",
   "execution_count": 15,
   "metadata": {},
   "outputs": [
    {
     "data": {
      "text/html": [
       "<table border=\"1\" class=\"dataframe\">\n",
       "    <thead>\n",
       "        <tr>\n",
       "            <th>Sex</th> <th>No</th> <th>Yes</th> <th>Total</th>\n",
       "        </tr>\n",
       "    </thead>\n",
       "    <tbody>\n",
       "        <tr>\n",
       "            <td>Female</td> <td>109 </td> <td>316 </td> <td>425  </td>\n",
       "        </tr>\n",
       "        <tr>\n",
       "            <td>Male  </td> <td>1329</td> <td>338 </td> <td>1667 </td>\n",
       "        </tr>\n",
       "    </tbody>\n",
       "</table>"
      ],
      "text/plain": [
       "Sex    | No   | Yes  | Total\n",
       "Female | 109  | 316  | 425\n",
       "Male   | 1329 | 338  | 1667"
      ]
     },
     "execution_count": 15,
     "metadata": {},
     "output_type": "execute_result"
    }
   ],
   "source": [
    "tb4 = titanic.where('Age', 'Adult')\n",
    "tb4 = tb4.pivot(\"Survived\", \"Sex\", values=\"Freq\", collect=sum)\n",
    "tb4 = tb4.with_columns(\"Total\", tb4.drop('Sex').apply(sum))\n",
    "tb4"
   ]
  },
  {
   "cell_type": "markdown",
   "metadata": {},
   "source": [
    "Note that in the solution above we did each step separately, but we could also combine some of them together:"
   ]
  },
  {
   "cell_type": "code",
   "execution_count": 16,
   "metadata": {},
   "outputs": [
    {
     "data": {
      "text/html": [
       "<table border=\"1\" class=\"dataframe\">\n",
       "    <thead>\n",
       "        <tr>\n",
       "            <th>Sex</th> <th>No</th> <th>Yes</th> <th>Total</th>\n",
       "        </tr>\n",
       "    </thead>\n",
       "    <tbody>\n",
       "        <tr>\n",
       "            <td>Female</td> <td>109 </td> <td>316 </td> <td>425  </td>\n",
       "        </tr>\n",
       "        <tr>\n",
       "            <td>Male  </td> <td>1329</td> <td>338 </td> <td>1667 </td>\n",
       "        </tr>\n",
       "    </tbody>\n",
       "</table>"
      ],
      "text/plain": [
       "Sex    | No   | Yes  | Total\n",
       "Female | 109  | 316  | 425\n",
       "Male   | 1329 | 338  | 1667"
      ]
     },
     "execution_count": 16,
     "metadata": {},
     "output_type": "execute_result"
    }
   ],
   "source": [
    "tb4 = titanic.where('Age', 'Adult').pivot(\"Survived\", \"Sex\", values=\"Freq\", collect=sum)\n",
    "tb4 = tb4.with_columns(\"Total\", tb4.drop('Sex').apply(sum))\n",
    "tb4"
   ]
  }
 ],
 "metadata": {
  "kernelspec": {
   "display_name": "Python 3",
   "language": "python",
   "name": "python3"
  },
  "language_info": {
   "codemirror_mode": {
    "name": "ipython",
    "version": 3
   },
   "file_extension": ".py",
   "mimetype": "text/x-python",
   "name": "python",
   "nbconvert_exporter": "python",
   "pygments_lexer": "ipython3",
   "version": "3.7.3"
  }
 },
 "nbformat": 4,
 "nbformat_minor": 2
}
