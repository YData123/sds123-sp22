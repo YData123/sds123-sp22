{
 "cells": [
  {
   "cell_type": "code",
   "execution_count": null,
   "metadata": {},
   "outputs": [],
   "source": [
    "from datascience import *\n",
    "import numpy as np"
   ]
  },
  {
   "cell_type": "markdown",
   "metadata": {},
   "source": [
    "## 1.Toy data\n",
    "\n",
    "For the very first example we are going to create a small toy dataset. In general, until you get a good handle on the functions discussed in this notebook, it is advised that you try your code on a small example like the one bellow. This way you can verify that your code is working correctly! For bigger data sets it might be difficult to evaluate the code's behaviour based on just a handful of rows that Python outputs. "
   ]
  },
  {
   "cell_type": "code",
   "execution_count": null,
   "metadata": {},
   "outputs": [],
   "source": [
    "toy = Table().with_columns(\"id\", np.repeat([1,2,3], 3),\n",
    "                           \"group\", make_array(\"A\",\"B\",\"C\",\"B\",\"B\",\"B\",\"A\", \"A\", \"C\"),\n",
    "                           \"val_1\", np.arange(1,10),\n",
    "                           \"val_2\", np.random.normal(0, 1, 9))\n",
    "toy"
   ]
  },
  {
   "cell_type": "markdown",
   "metadata": {},
   "source": [
    "**Question 1.1.** How many of each 'id' do we have? *Hint: use .group()*"
   ]
  },
  {
   "cell_type": "markdown",
   "metadata": {},
   "source": [
    "**Question 1.2.** How many of each group do we have?"
   ]
  },
  {
   "cell_type": "markdown",
   "metadata": {},
   "source": [
    "**Question 1.3.** How many observations do we have for each pair id--group?"
   ]
  },
  {
   "cell_type": "markdown",
   "metadata": {},
   "source": [
    "**Question 1.4.** What is the minimum value of val_2 for each pair id--group?"
   ]
  },
  {
   "cell_type": "markdown",
   "metadata": {},
   "source": [
    "**Question 1.5.** How many observations do we have for each pair id--group? *Hint: use .pivot()*"
   ]
  },
  {
   "cell_type": "markdown",
   "metadata": {},
   "source": [
    "Now, let's say another researcher gave us a new piece of information about the data:"
   ]
  },
  {
   "cell_type": "code",
   "execution_count": null,
   "metadata": {},
   "outputs": [],
   "source": [
    "toy_add = Table().with_columns(\"group\", make_array(\"A\",\"B\",\"C\"),\n",
    "                               \"info\", make_array(\"control\",\"treatment\",\"placebo\"))\n",
    "toy_add"
   ]
  },
  {
   "cell_type": "markdown",
   "metadata": {},
   "source": [
    "We don't want to store this additional information separately and want to just add it to the 'toy' data frame.\n",
    "\n",
    "**Quesion 1.6.** How can we merge the two data tables?"
   ]
  },
  {
   "cell_type": "markdown",
   "metadata": {},
   "source": [
    "## 2.Titanic data\n",
    "\n",
    "The next example uses the Titanic data, located in the \"data\" folder."
   ]
  },
  {
   "cell_type": "code",
   "execution_count": null,
   "metadata": {},
   "outputs": [],
   "source": [
    "titanic = Table.read_table(\"data/titanic.csv\")\n",
    "titanic.show(32)"
   ]
  },
  {
   "cell_type": "markdown",
   "metadata": {},
   "source": [
    "**Question 2.1.** Create a 2x2 table with 'Sex' as rows, 'Survived' as columns and containing the information about how many man and women survived and died."
   ]
  },
  {
   "cell_type": "markdown",
   "metadata": {},
   "source": [
    "**Question 2.2.** To the table you created in the previous question add a column of total counts of male/female passengers. *Hint: use .apply()*"
   ]
  },
  {
   "cell_type": "markdown",
   "metadata": {},
   "source": [
    "**Question 2.3.** Now do the same table for Adult vs Child instead of Male vs Female."
   ]
  },
  {
   "cell_type": "markdown",
   "metadata": {},
   "source": [
    "**Question 2.4.** Can you think of a way to create a table like in Question 2.2 but with only adult male and female passengers?"
   ]
  }
 ],
 "metadata": {
  "kernelspec": {
   "display_name": "Python 3",
   "language": "python",
   "name": "python3"
  },
  "language_info": {
   "codemirror_mode": {
    "name": "ipython",
    "version": 3
   },
   "file_extension": ".py",
   "mimetype": "text/x-python",
   "name": "python",
   "nbconvert_exporter": "python",
   "pygments_lexer": "ipython3",
   "version": "3.7.3"
  }
 },
 "nbformat": 4,
 "nbformat_minor": 2
}
