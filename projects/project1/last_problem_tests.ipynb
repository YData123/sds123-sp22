{
 "cells": [
  {
   "cell_type": "code",
   "execution_count": null,
   "metadata": {},
   "outputs": [],
   "source": [
    "def poverty_timeline_old_solution(country):\n",
    "    \"\"\"Draw a timeline of people living in extreme poverty in a country.\"\"\"\n",
    "    geo = countries.where('name', country).column('country').item(0) \n",
    "    country_poverty = poverty.where('geo', geo) \n",
    "    return Table().with_columns('Year', country_poverty.column(1), 'Number in poverty',country_poverty.column(2) / 100 * country_poverty.apply(population_for_country_in_year))                   \n",
    "\n",
    "def poverty_timeline_new_solution(country):\n",
    "    \"\"\"Draw a timeline of people living in extreme poverty in a country.\"\"\"\n",
    "    geo = countries.where(\"name\", country).column(\"country\").item(0)\n",
    "    country_poverty = poverty.where(\"geo\", geo)\n",
    "    country_poverty_pop = country_poverty.join(\"time\", population.where(\"geo\", geo))\n",
    "    tot_poverty = country_poverty_pop.column(\"extreme_poverty_percent_people_below_125_a_day\")/100 * country_poverty_pop.column(\"population_total\")\n",
    "    country_poverty_pop = country_poverty_pop.with_column(\"tot_poverty\", tot_poverty).relabeled(\"tot_poverty\", \"Number in poverty\").relabeled(\"time\", \"Year\")\n",
    "    return country_poverty_pop(\"Year\", \"Number in poverty\")\n"
   ]
  },
  {
   "cell_type": "code",
   "execution_count": null,
   "metadata": {},
   "outputs": [],
   "source": [
    "test_country = 'United States' #'China' #'Nigeria' #\"India\"\n",
    "\n",
    "old_numbers_in_poverty = poverty_timeline_old_solution(test_country).column(\"Number in poverty\")\n",
    "old_numbers_in_poverty\n",
    "\n",
    "new_numbers_in_poverty = poverty_timeline_new_solution(test_country).column(\"Number in poverty\")\n",
    "new_numbers_in_poverty\n",
    "\n",
    "old_numbers_in_poverty == new_numbers_in_poverty"
   ]
  }
 ],
 "metadata": {
  "kernelspec": {
   "display_name": "Python 3",
   "language": "python",
   "name": "python3"
  },
  "language_info": {
   "codemirror_mode": {
    "name": "ipython",
    "version": 3
   },
   "file_extension": ".py",
   "mimetype": "text/x-python",
   "name": "python",
   "nbconvert_exporter": "python",
   "pygments_lexer": "ipython3",
   "version": "3.7.3"
  }
 },
 "nbformat": 4,
 "nbformat_minor": 2
}
